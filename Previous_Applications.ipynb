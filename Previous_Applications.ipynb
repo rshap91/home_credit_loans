{
 "cells": [
  {
   "cell_type": "code",
   "execution_count": 2,
   "metadata": {
    "collapsed": true
   },
   "outputs": [],
   "source": [
    "import numpy as np\n",
    "import pandas as pd\n",
    "from dstk.utils.data_cleaning import clean_columns\n",
    "\n",
    "import matplotlib.pyplot as plt\n",
    "import seaborn as sns\n",
    "\n",
    "%matplotlib inline\n",
    "\n",
    "sns.set_style('dark')\n",
    "plt.rcParams['figure.figsize'] = (9,6)\n",
    "np.set_printoptions(suppress=True)\n",
    "pd.options.display.max_columns = 150"
   ]
  },
  {
   "cell_type": "code",
   "execution_count": 3,
   "metadata": {
    "collapsed": true
   },
   "outputs": [],
   "source": [
    "def col_descrip(table, col):\n",
    "    \"Looks up column description for given table\"\n",
    "    print(table)\n",
    "    print(col)\n",
    "    return col_des.loc[(col_des.Table==table) & (col_des.Row==col.upper()),\n",
    "            'Description'].values[0]\n",
    "\n",
    "def anom_eval(df, col, filename):\n",
    "    print(col_descrip(filename, col))\n",
    "    print()\n",
    "\n",
    "    max_diff_idx = df[col].sort_values().diff().nlargest(3).index\n",
    "    max_diffs = df.loc[max_diff_idx, col]\n",
    "    nlargest = df[col].nlargest()\n",
    "    nsmallest = df[col].nsmallest()\n",
    "\n",
    "    print('Max Diffs')\n",
    "    print(max_diffs)\n",
    "    print()\n",
    "    print(\"Largest Vals\")\n",
    "    print(nlargest)\n",
    "    print()\n",
    "    print(\"Smallest Vals\")\n",
    "    print(nsmallest)\n",
    "    df[col].hist()\n",
    "    df[col].value_counts().sort_index()\n",
    "\n",
    "    return max_diffs, nlargest\n",
    "\n",
    "def pct_null(df):\n",
    "    null_counts = df.isnull().sum()[df.isnull().sum()>0].sort_values(ascending=False).to_frame()\n",
    "    if null_counts.empty:\n",
    "        return None\n",
    "    null_counts['pct_null'] = null_counts/df.shape[0]\n",
    "    null_counts.columns = ['n_null', 'pct_null']\n",
    "    return null_counts"
   ]
  },
  {
   "cell_type": "code",
   "execution_count": 4,
   "metadata": {},
   "outputs": [
    {
     "data": {
      "text/plain": [
       "(219, 5)"
      ]
     },
     "execution_count": 4,
     "metadata": {},
     "output_type": "execute_result"
    }
   ],
   "source": [
    "col_des = pd.read_csv('HomeCredit_columns_description.csv', encoding='latin-1')\n",
    "col_des.shape"
   ]
  },
  {
   "cell_type": "code",
   "execution_count": 5,
   "metadata": {},
   "outputs": [
    {
     "data": {
      "text/plain": [
       "(1670214, 37)"
      ]
     },
     "execution_count": 5,
     "metadata": {},
     "output_type": "execute_result"
    }
   ],
   "source": [
    "prev_apps = pd.read_csv(\"previous_application.csv.zip\", dtype= {'SK_ID_CURR':str, 'SK_ID_BUREAU':str, 'SK_ID_PREV':str})\n",
    "prev_apps.shape"
   ]
  },
  {
   "cell_type": "code",
   "execution_count": 6,
   "metadata": {},
   "outputs": [
    {
     "data": {
      "text/html": [
       "<div>\n",
       "<style scoped>\n",
       "    .dataframe tbody tr th:only-of-type {\n",
       "        vertical-align: middle;\n",
       "    }\n",
       "\n",
       "    .dataframe tbody tr th {\n",
       "        vertical-align: top;\n",
       "    }\n",
       "\n",
       "    .dataframe thead th {\n",
       "        text-align: right;\n",
       "    }\n",
       "</style>\n",
       "<table border=\"1\" class=\"dataframe\">\n",
       "  <thead>\n",
       "    <tr style=\"text-align: right;\">\n",
       "      <th></th>\n",
       "      <th>SK_ID_PREV</th>\n",
       "      <th>SK_ID_CURR</th>\n",
       "      <th>NAME_CONTRACT_TYPE</th>\n",
       "      <th>AMT_ANNUITY</th>\n",
       "      <th>AMT_APPLICATION</th>\n",
       "      <th>AMT_CREDIT</th>\n",
       "      <th>AMT_DOWN_PAYMENT</th>\n",
       "      <th>AMT_GOODS_PRICE</th>\n",
       "      <th>WEEKDAY_APPR_PROCESS_START</th>\n",
       "      <th>HOUR_APPR_PROCESS_START</th>\n",
       "      <th>FLAG_LAST_APPL_PER_CONTRACT</th>\n",
       "      <th>NFLAG_LAST_APPL_IN_DAY</th>\n",
       "      <th>RATE_DOWN_PAYMENT</th>\n",
       "      <th>RATE_INTEREST_PRIMARY</th>\n",
       "      <th>RATE_INTEREST_PRIVILEGED</th>\n",
       "      <th>NAME_CASH_LOAN_PURPOSE</th>\n",
       "      <th>NAME_CONTRACT_STATUS</th>\n",
       "      <th>DAYS_DECISION</th>\n",
       "      <th>NAME_PAYMENT_TYPE</th>\n",
       "      <th>CODE_REJECT_REASON</th>\n",
       "      <th>NAME_TYPE_SUITE</th>\n",
       "      <th>NAME_CLIENT_TYPE</th>\n",
       "      <th>NAME_GOODS_CATEGORY</th>\n",
       "      <th>NAME_PORTFOLIO</th>\n",
       "      <th>NAME_PRODUCT_TYPE</th>\n",
       "      <th>CHANNEL_TYPE</th>\n",
       "      <th>SELLERPLACE_AREA</th>\n",
       "      <th>NAME_SELLER_INDUSTRY</th>\n",
       "      <th>CNT_PAYMENT</th>\n",
       "      <th>NAME_YIELD_GROUP</th>\n",
       "      <th>PRODUCT_COMBINATION</th>\n",
       "      <th>DAYS_FIRST_DRAWING</th>\n",
       "      <th>DAYS_FIRST_DUE</th>\n",
       "      <th>DAYS_LAST_DUE_1ST_VERSION</th>\n",
       "      <th>DAYS_LAST_DUE</th>\n",
       "      <th>DAYS_TERMINATION</th>\n",
       "      <th>NFLAG_INSURED_ON_APPROVAL</th>\n",
       "    </tr>\n",
       "  </thead>\n",
       "  <tbody>\n",
       "    <tr>\n",
       "      <th>0</th>\n",
       "      <td>2030495</td>\n",
       "      <td>271877</td>\n",
       "      <td>Consumer loans</td>\n",
       "      <td>1730.430</td>\n",
       "      <td>17145.0</td>\n",
       "      <td>17145.0</td>\n",
       "      <td>0.0</td>\n",
       "      <td>17145.0</td>\n",
       "      <td>SATURDAY</td>\n",
       "      <td>15</td>\n",
       "      <td>Y</td>\n",
       "      <td>1</td>\n",
       "      <td>0.0</td>\n",
       "      <td>0.182832</td>\n",
       "      <td>0.867336</td>\n",
       "      <td>XAP</td>\n",
       "      <td>Approved</td>\n",
       "      <td>-73</td>\n",
       "      <td>Cash through the bank</td>\n",
       "      <td>XAP</td>\n",
       "      <td>NaN</td>\n",
       "      <td>Repeater</td>\n",
       "      <td>Mobile</td>\n",
       "      <td>POS</td>\n",
       "      <td>XNA</td>\n",
       "      <td>Country-wide</td>\n",
       "      <td>35</td>\n",
       "      <td>Connectivity</td>\n",
       "      <td>12.0</td>\n",
       "      <td>middle</td>\n",
       "      <td>POS mobile with interest</td>\n",
       "      <td>365243.0</td>\n",
       "      <td>-42.0</td>\n",
       "      <td>300.0</td>\n",
       "      <td>-42.0</td>\n",
       "      <td>-37.0</td>\n",
       "      <td>0.0</td>\n",
       "    </tr>\n",
       "    <tr>\n",
       "      <th>1</th>\n",
       "      <td>2802425</td>\n",
       "      <td>108129</td>\n",
       "      <td>Cash loans</td>\n",
       "      <td>25188.615</td>\n",
       "      <td>607500.0</td>\n",
       "      <td>679671.0</td>\n",
       "      <td>NaN</td>\n",
       "      <td>607500.0</td>\n",
       "      <td>THURSDAY</td>\n",
       "      <td>11</td>\n",
       "      <td>Y</td>\n",
       "      <td>1</td>\n",
       "      <td>NaN</td>\n",
       "      <td>NaN</td>\n",
       "      <td>NaN</td>\n",
       "      <td>XNA</td>\n",
       "      <td>Approved</td>\n",
       "      <td>-164</td>\n",
       "      <td>XNA</td>\n",
       "      <td>XAP</td>\n",
       "      <td>Unaccompanied</td>\n",
       "      <td>Repeater</td>\n",
       "      <td>XNA</td>\n",
       "      <td>Cash</td>\n",
       "      <td>x-sell</td>\n",
       "      <td>Contact center</td>\n",
       "      <td>-1</td>\n",
       "      <td>XNA</td>\n",
       "      <td>36.0</td>\n",
       "      <td>low_action</td>\n",
       "      <td>Cash X-Sell: low</td>\n",
       "      <td>365243.0</td>\n",
       "      <td>-134.0</td>\n",
       "      <td>916.0</td>\n",
       "      <td>365243.0</td>\n",
       "      <td>365243.0</td>\n",
       "      <td>1.0</td>\n",
       "    </tr>\n",
       "    <tr>\n",
       "      <th>2</th>\n",
       "      <td>2523466</td>\n",
       "      <td>122040</td>\n",
       "      <td>Cash loans</td>\n",
       "      <td>15060.735</td>\n",
       "      <td>112500.0</td>\n",
       "      <td>136444.5</td>\n",
       "      <td>NaN</td>\n",
       "      <td>112500.0</td>\n",
       "      <td>TUESDAY</td>\n",
       "      <td>11</td>\n",
       "      <td>Y</td>\n",
       "      <td>1</td>\n",
       "      <td>NaN</td>\n",
       "      <td>NaN</td>\n",
       "      <td>NaN</td>\n",
       "      <td>XNA</td>\n",
       "      <td>Approved</td>\n",
       "      <td>-301</td>\n",
       "      <td>Cash through the bank</td>\n",
       "      <td>XAP</td>\n",
       "      <td>Spouse, partner</td>\n",
       "      <td>Repeater</td>\n",
       "      <td>XNA</td>\n",
       "      <td>Cash</td>\n",
       "      <td>x-sell</td>\n",
       "      <td>Credit and cash offices</td>\n",
       "      <td>-1</td>\n",
       "      <td>XNA</td>\n",
       "      <td>12.0</td>\n",
       "      <td>high</td>\n",
       "      <td>Cash X-Sell: high</td>\n",
       "      <td>365243.0</td>\n",
       "      <td>-271.0</td>\n",
       "      <td>59.0</td>\n",
       "      <td>365243.0</td>\n",
       "      <td>365243.0</td>\n",
       "      <td>1.0</td>\n",
       "    </tr>\n",
       "    <tr>\n",
       "      <th>3</th>\n",
       "      <td>2819243</td>\n",
       "      <td>176158</td>\n",
       "      <td>Cash loans</td>\n",
       "      <td>47041.335</td>\n",
       "      <td>450000.0</td>\n",
       "      <td>470790.0</td>\n",
       "      <td>NaN</td>\n",
       "      <td>450000.0</td>\n",
       "      <td>MONDAY</td>\n",
       "      <td>7</td>\n",
       "      <td>Y</td>\n",
       "      <td>1</td>\n",
       "      <td>NaN</td>\n",
       "      <td>NaN</td>\n",
       "      <td>NaN</td>\n",
       "      <td>XNA</td>\n",
       "      <td>Approved</td>\n",
       "      <td>-512</td>\n",
       "      <td>Cash through the bank</td>\n",
       "      <td>XAP</td>\n",
       "      <td>NaN</td>\n",
       "      <td>Repeater</td>\n",
       "      <td>XNA</td>\n",
       "      <td>Cash</td>\n",
       "      <td>x-sell</td>\n",
       "      <td>Credit and cash offices</td>\n",
       "      <td>-1</td>\n",
       "      <td>XNA</td>\n",
       "      <td>12.0</td>\n",
       "      <td>middle</td>\n",
       "      <td>Cash X-Sell: middle</td>\n",
       "      <td>365243.0</td>\n",
       "      <td>-482.0</td>\n",
       "      <td>-152.0</td>\n",
       "      <td>-182.0</td>\n",
       "      <td>-177.0</td>\n",
       "      <td>1.0</td>\n",
       "    </tr>\n",
       "    <tr>\n",
       "      <th>4</th>\n",
       "      <td>1784265</td>\n",
       "      <td>202054</td>\n",
       "      <td>Cash loans</td>\n",
       "      <td>31924.395</td>\n",
       "      <td>337500.0</td>\n",
       "      <td>404055.0</td>\n",
       "      <td>NaN</td>\n",
       "      <td>337500.0</td>\n",
       "      <td>THURSDAY</td>\n",
       "      <td>9</td>\n",
       "      <td>Y</td>\n",
       "      <td>1</td>\n",
       "      <td>NaN</td>\n",
       "      <td>NaN</td>\n",
       "      <td>NaN</td>\n",
       "      <td>Repairs</td>\n",
       "      <td>Refused</td>\n",
       "      <td>-781</td>\n",
       "      <td>Cash through the bank</td>\n",
       "      <td>HC</td>\n",
       "      <td>NaN</td>\n",
       "      <td>Repeater</td>\n",
       "      <td>XNA</td>\n",
       "      <td>Cash</td>\n",
       "      <td>walk-in</td>\n",
       "      <td>Credit and cash offices</td>\n",
       "      <td>-1</td>\n",
       "      <td>XNA</td>\n",
       "      <td>24.0</td>\n",
       "      <td>high</td>\n",
       "      <td>Cash Street: high</td>\n",
       "      <td>NaN</td>\n",
       "      <td>NaN</td>\n",
       "      <td>NaN</td>\n",
       "      <td>NaN</td>\n",
       "      <td>NaN</td>\n",
       "      <td>NaN</td>\n",
       "    </tr>\n",
       "  </tbody>\n",
       "</table>\n",
       "</div>"
      ],
      "text/plain": [
       "  SK_ID_PREV SK_ID_CURR NAME_CONTRACT_TYPE  AMT_ANNUITY  AMT_APPLICATION  \\\n",
       "0    2030495     271877     Consumer loans     1730.430          17145.0   \n",
       "1    2802425     108129         Cash loans    25188.615         607500.0   \n",
       "2    2523466     122040         Cash loans    15060.735         112500.0   \n",
       "3    2819243     176158         Cash loans    47041.335         450000.0   \n",
       "4    1784265     202054         Cash loans    31924.395         337500.0   \n",
       "\n",
       "   AMT_CREDIT  AMT_DOWN_PAYMENT  AMT_GOODS_PRICE WEEKDAY_APPR_PROCESS_START  \\\n",
       "0     17145.0               0.0          17145.0                   SATURDAY   \n",
       "1    679671.0               NaN         607500.0                   THURSDAY   \n",
       "2    136444.5               NaN         112500.0                    TUESDAY   \n",
       "3    470790.0               NaN         450000.0                     MONDAY   \n",
       "4    404055.0               NaN         337500.0                   THURSDAY   \n",
       "\n",
       "   HOUR_APPR_PROCESS_START FLAG_LAST_APPL_PER_CONTRACT  \\\n",
       "0                       15                           Y   \n",
       "1                       11                           Y   \n",
       "2                       11                           Y   \n",
       "3                        7                           Y   \n",
       "4                        9                           Y   \n",
       "\n",
       "   NFLAG_LAST_APPL_IN_DAY  RATE_DOWN_PAYMENT  RATE_INTEREST_PRIMARY  \\\n",
       "0                       1                0.0               0.182832   \n",
       "1                       1                NaN                    NaN   \n",
       "2                       1                NaN                    NaN   \n",
       "3                       1                NaN                    NaN   \n",
       "4                       1                NaN                    NaN   \n",
       "\n",
       "   RATE_INTEREST_PRIVILEGED NAME_CASH_LOAN_PURPOSE NAME_CONTRACT_STATUS  \\\n",
       "0                  0.867336                    XAP             Approved   \n",
       "1                       NaN                    XNA             Approved   \n",
       "2                       NaN                    XNA             Approved   \n",
       "3                       NaN                    XNA             Approved   \n",
       "4                       NaN                Repairs              Refused   \n",
       "\n",
       "   DAYS_DECISION      NAME_PAYMENT_TYPE CODE_REJECT_REASON  NAME_TYPE_SUITE  \\\n",
       "0            -73  Cash through the bank                XAP              NaN   \n",
       "1           -164                    XNA                XAP    Unaccompanied   \n",
       "2           -301  Cash through the bank                XAP  Spouse, partner   \n",
       "3           -512  Cash through the bank                XAP              NaN   \n",
       "4           -781  Cash through the bank                 HC              NaN   \n",
       "\n",
       "  NAME_CLIENT_TYPE NAME_GOODS_CATEGORY NAME_PORTFOLIO NAME_PRODUCT_TYPE  \\\n",
       "0         Repeater              Mobile            POS               XNA   \n",
       "1         Repeater                 XNA           Cash            x-sell   \n",
       "2         Repeater                 XNA           Cash            x-sell   \n",
       "3         Repeater                 XNA           Cash            x-sell   \n",
       "4         Repeater                 XNA           Cash           walk-in   \n",
       "\n",
       "              CHANNEL_TYPE  SELLERPLACE_AREA NAME_SELLER_INDUSTRY  \\\n",
       "0             Country-wide                35         Connectivity   \n",
       "1           Contact center                -1                  XNA   \n",
       "2  Credit and cash offices                -1                  XNA   \n",
       "3  Credit and cash offices                -1                  XNA   \n",
       "4  Credit and cash offices                -1                  XNA   \n",
       "\n",
       "   CNT_PAYMENT NAME_YIELD_GROUP       PRODUCT_COMBINATION  DAYS_FIRST_DRAWING  \\\n",
       "0         12.0           middle  POS mobile with interest            365243.0   \n",
       "1         36.0       low_action          Cash X-Sell: low            365243.0   \n",
       "2         12.0             high         Cash X-Sell: high            365243.0   \n",
       "3         12.0           middle       Cash X-Sell: middle            365243.0   \n",
       "4         24.0             high         Cash Street: high                 NaN   \n",
       "\n",
       "   DAYS_FIRST_DUE  DAYS_LAST_DUE_1ST_VERSION  DAYS_LAST_DUE  DAYS_TERMINATION  \\\n",
       "0           -42.0                      300.0          -42.0             -37.0   \n",
       "1          -134.0                      916.0       365243.0          365243.0   \n",
       "2          -271.0                       59.0       365243.0          365243.0   \n",
       "3          -482.0                     -152.0         -182.0            -177.0   \n",
       "4             NaN                        NaN            NaN               NaN   \n",
       "\n",
       "   NFLAG_INSURED_ON_APPROVAL  \n",
       "0                        0.0  \n",
       "1                        1.0  \n",
       "2                        1.0  \n",
       "3                        1.0  \n",
       "4                        NaN  "
      ]
     },
     "execution_count": 6,
     "metadata": {},
     "output_type": "execute_result"
    }
   ],
   "source": [
    "prev_apps.head()"
   ]
  },
  {
   "cell_type": "code",
   "execution_count": 7,
   "metadata": {},
   "outputs": [
    {
     "data": {
      "text/plain": [
       "[('SK_ID_PREV ',\n",
       "  'ID of previous credit in Home credit related to loan in our sample. (One loan in our sample can have 0,1,2 or more previous loan applications in Home Credit, previous application could, but not necessarily have to lead to credit) '),\n",
       " ('SK_ID_CURR', 'ID of loan in our sample'),\n",
       " ('NAME_CONTRACT_TYPE',\n",
       "  'Contract product type (Cash loan, consumer loan [POS] ,...) of the previous application'),\n",
       " ('AMT_ANNUITY', 'Annuity of previous application'),\n",
       " ('AMT_APPLICATION',\n",
       "  'For how much credit did client ask on the previous application'),\n",
       " ('AMT_CREDIT',\n",
       "  'Final credit amount on the previous application. This differs from AMT_APPLICATION in a way that the AMT_APPLICATION is the amount for which the client initially applied for, but during our approval process he could have received different amount - AMT_CREDIT'),\n",
       " ('AMT_DOWN_PAYMENT', 'Down payment on the previous application'),\n",
       " ('AMT_GOODS_PRICE',\n",
       "  'Goods price of good that client asked for (if applicable) on the previous application'),\n",
       " ('WEEKDAY_APPR_PROCESS_START',\n",
       "  'On which day of the week did the client apply for previous application'),\n",
       " ('HOUR_APPR_PROCESS_START',\n",
       "  'Approximately at what day hour did the client apply for the previous application'),\n",
       " ('FLAG_LAST_APPL_PER_CONTRACT',\n",
       "  'Flag if it was last application for the previous contract. Sometimes by mistake of client or our clerk there could be more applications for one single contract'),\n",
       " ('NFLAG_LAST_APPL_IN_DAY',\n",
       "  'Flag if the application was the last application per day of the client. Sometimes clients apply for more applications a day. Rarely it could also be error in our system that one application is in the database twice'),\n",
       " ('NFLAG_MICRO_CASH', 'Flag Micro finance loan'),\n",
       " ('RATE_DOWN_PAYMENT', 'Down payment rate normalized on previous credit'),\n",
       " ('RATE_INTEREST_PRIMARY', 'Interest rate normalized on previous credit'),\n",
       " ('RATE_INTEREST_PRIVILEGED', 'Interest rate normalized on previous credit'),\n",
       " ('NAME_CASH_LOAN_PURPOSE', 'Purpose of the cash loan'),\n",
       " ('NAME_CONTRACT_STATUS',\n",
       "  'Contract status (approved, cancelled, ...) of previous application'),\n",
       " ('DAYS_DECISION',\n",
       "  'Relative to current application when was the decision about previous application made'),\n",
       " ('NAME_PAYMENT_TYPE',\n",
       "  'Payment method that client chose to pay for the previous application'),\n",
       " ('CODE_REJECT_REASON', 'Why was the previous application rejected'),\n",
       " ('NAME_TYPE_SUITE',\n",
       "  'Who accompanied client when applying for the previous application'),\n",
       " ('NAME_CLIENT_TYPE',\n",
       "  'Was the client old or new client when applying for the previous application'),\n",
       " ('NAME_GOODS_CATEGORY',\n",
       "  'What kind of goods did the client apply for in the previous application'),\n",
       " ('NAME_PORTFOLIO', 'Was the previous application for CASH, POS, CAR, \\x85'),\n",
       " ('NAME_PRODUCT_TYPE', 'Was the previous application x-sell o walk-in'),\n",
       " ('CHANNEL_TYPE',\n",
       "  'Through which channel we acquired the client on the previous application'),\n",
       " ('SELLERPLACE_AREA',\n",
       "  'Selling area of seller place of the previous application'),\n",
       " ('NAME_SELLER_INDUSTRY', 'The industry of the seller'),\n",
       " ('CNT_PAYMENT',\n",
       "  'Term of previous credit at application of the previous application'),\n",
       " ('NAME_YIELD_GROUP',\n",
       "  'Grouped interest rate into small medium and high of the previous application'),\n",
       " ('PRODUCT_COMBINATION',\n",
       "  'Detailed product combination of the previous application'),\n",
       " ('DAYS_FIRST_DRAWING',\n",
       "  'Relative to application date of current application when was the first disbursement of the previous application'),\n",
       " ('DAYS_FIRST_DUE',\n",
       "  'Relative to application date of current application when was the first due supposed to be of the previous application'),\n",
       " ('DAYS_LAST_DUE_1ST_VERSION',\n",
       "  'Relative to application date of current application when was the first due of the previous application'),\n",
       " ('DAYS_LAST_DUE',\n",
       "  'Relative to application date of current application when was the last due date of the previous application'),\n",
       " ('DAYS_TERMINATION',\n",
       "  'Relative to application date of current application when was the expected termination of the previous application'),\n",
       " ('NFLAG_INSURED_ON_APPROVAL',\n",
       "  'Did the client requested insurance during the previous application')]"
      ]
     },
     "execution_count": 7,
     "metadata": {},
     "output_type": "execute_result"
    }
   ],
   "source": [
    "list(\n",
    "    zip(col_des[col_des.Table=='previous_application.csv'].Row.tolist(),col_des[col_des.Table=='previous_application.csv'].Description.tolist())\n",
    ")"
   ]
  },
  {
   "cell_type": "markdown",
   "metadata": {},
   "source": [
    "### Column Types"
   ]
  },
  {
   "cell_type": "code",
   "execution_count": 8,
   "metadata": {
    "collapsed": true
   },
   "outputs": [],
   "source": [
    "prev_apps.columns = clean_columns(prev_apps)"
   ]
  },
  {
   "cell_type": "markdown",
   "metadata": {},
   "source": [
    "One problem with this is that some int cols will be float cols if there are nas. But not too worried about this."
   ]
  },
  {
   "cell_type": "code",
   "execution_count": 15,
   "metadata": {},
   "outputs": [
    {
     "name": "stdout",
     "output_type": "stream",
     "text": [
      "37 37\n"
     ]
    }
   ],
   "source": [
    "pks = ['sk_id_curr', 'sk_id_prev']\n",
    "\n",
    "# nunique excludes nan!\n",
    "indicator_cols = prev_apps.columns[prev_apps.nunique() == 2].tolist()\n",
    "\n",
    "obj_cols = prev_apps.select_dtypes('O').columns.drop(pks).tolist()\n",
    "obj_cols = [o for o in obj_cols if o not in indicator_cols]\n",
    "int_cols = prev_apps.select_dtypes('int').columns.tolist()\n",
    "int_cols = [i for i in int_cols if i not in indicator_cols]\n",
    "float_cols = prev_apps.select_dtypes('float').columns.tolist()\n",
    "float_cols = [f for f in float_cols if f not in indicator_cols]\n",
    "\n",
    "numeric_cols = int_cols + float_cols\n",
    "\n",
    "ordered_cols = sorted(pks) + sorted(obj_cols) + sorted(int_cols) + sorted(float_cols) + sorted(indicator_cols)\n",
    "print(len(prev_apps.columns), len(ordered_cols))\n",
    "\n",
    "prev_apps = prev_apps[ordered_cols]"
   ]
  },
  {
   "cell_type": "code",
   "execution_count": 16,
   "metadata": {},
   "outputs": [
    {
     "name": "stdout",
     "output_type": "stream",
     "text": [
      "flag_last_appl_per_contract\n",
      "['Y' 'N']\n",
      "\n",
      "nflag_last_appl_in_day\n",
      "[1 0]\n",
      "\n",
      "nflag_insured_on_approval\n",
      "[ 0.  1. nan]\n",
      "\n"
     ]
    }
   ],
   "source": [
    "for c in indicator_cols:\n",
    "    print(c)\n",
    "    print(prev_apps[c].unique())\n",
    "    print()"
   ]
  },
  {
   "cell_type": "code",
   "execution_count": 17,
   "metadata": {},
   "outputs": [
    {
     "data": {
      "text/plain": [
       "sk_id_curr                      object\n",
       "sk_id_prev                      object\n",
       "channel_type                    object\n",
       "code_reject_reason              object\n",
       "name_cash_loan_purpose          object\n",
       "name_client_type                object\n",
       "name_contract_status            object\n",
       "name_contract_type              object\n",
       "name_goods_category             object\n",
       "name_payment_type               object\n",
       "name_portfolio                  object\n",
       "name_product_type               object\n",
       "name_seller_industry            object\n",
       "name_type_suite                 object\n",
       "name_yield_group                object\n",
       "product_combination             object\n",
       "weekday_appr_process_start      object\n",
       "days_decision                    int64\n",
       "hour_appr_process_start          int64\n",
       "sellerplace_area                 int64\n",
       "amt_annuity                    float64\n",
       "amt_application                float64\n",
       "amt_credit                     float64\n",
       "amt_down_payment               float64\n",
       "amt_goods_price                float64\n",
       "cnt_payment                    float64\n",
       "days_first_drawing             float64\n",
       "days_first_due                 float64\n",
       "days_last_due                  float64\n",
       "days_last_due_1st_version      float64\n",
       "days_termination               float64\n",
       "rate_down_payment              float64\n",
       "rate_interest_primary          float64\n",
       "rate_interest_privileged       float64\n",
       "flag_last_appl_per_contract     object\n",
       "nflag_insured_on_approval      float64\n",
       "nflag_last_appl_in_day           int64\n",
       "dtype: object"
      ]
     },
     "execution_count": 17,
     "metadata": {},
     "output_type": "execute_result"
    }
   ],
   "source": [
    "prev_apps.dtypes"
   ]
  },
  {
   "cell_type": "code",
   "execution_count": 25,
   "metadata": {},
   "outputs": [
    {
     "data": {
      "text/plain": [
       "hour_appr_process_start      False\n",
       "days_decision                 True\n",
       "sellerplace_area              True\n",
       "amt_annuity                  False\n",
       "amt_application              False\n",
       "amt_credit                   False\n",
       "amt_down_payment              True\n",
       "amt_goods_price              False\n",
       "rate_down_payment             True\n",
       "rate_interest_primary        False\n",
       "rate_interest_privileged     False\n",
       "cnt_payment                  False\n",
       "days_first_drawing            True\n",
       "days_first_due                True\n",
       "days_last_due_1st_version     True\n",
       "days_last_due                 True\n",
       "days_termination              True\n",
       "dtype: bool"
      ]
     },
     "execution_count": 25,
     "metadata": {},
     "output_type": "execute_result"
    }
   ],
   "source": [
    "(prev_apps[numeric_cols]<0).any(0)"
   ]
  },
  {
   "cell_type": "code",
   "execution_count": 27,
   "metadata": {},
   "outputs": [
    {
     "data": {
      "text/plain": [
       "Index(['days_decision', 'sellerplace_area', 'amt_down_payment',\n",
       "       'rate_down_payment', 'days_first_drawing', 'days_first_due',\n",
       "       'days_last_due_1st_version', 'days_last_due', 'days_termination'],\n",
       "      dtype='object')"
      ]
     },
     "execution_count": 27,
     "metadata": {},
     "output_type": "execute_result"
    }
   ],
   "source": [
    "neg_cols = prev_apps[numeric_cols].columns[(prev_apps[numeric_cols]<0).any(0)]\n",
    "neg_cols"
   ]
  },
  {
   "cell_type": "code",
   "execution_count": null,
   "metadata": {
    "collapsed": true
   },
   "outputs": [],
   "source": [
    "# manually inspect\n",
    "neg_cols = [\n",
    "    'days_decision',  \n",
    "    'days_first_due',\n",
    "    'days_last_due_1st_version', \n",
    "    'days_last_due', \n",
    "    'days_termination'\n",
    "]"
   ]
  },
  {
   "cell_type": "code",
   "execution_count": 68,
   "metadata": {},
   "outputs": [
    {
     "name": "stdout",
     "output_type": "stream",
     "text": [
      "days_decision\n",
      "sellerplace_area\n",
      "amt_down_payment\n",
      "rate_down_payment\n",
      "days_first_drawing\n",
      "days_first_due\n",
      "days_last_due_1st_version\n",
      "days_last_due\n",
      "days_termination\n"
     ]
    }
   ],
   "source": [
    "for col in neg_cols:\n",
    "    print(col)\n",
    "    prev_apps.loc[prev_apps[col]<0, col] *= -1"
   ]
  },
  {
   "cell_type": "code",
   "execution_count": 69,
   "metadata": {
    "collapsed": true
   },
   "outputs": [],
   "source": [
    "# vals of -1 are assumed to be missing\n",
    "prev_apps['sellerplace_area'] = prev_apps.sellerplace_area.replace(-1, np.nan)"
   ]
  },
  {
   "cell_type": "code",
   "execution_count": 70,
   "metadata": {
    "collapsed": true
   },
   "outputs": [],
   "source": [
    "# negative values (there are 2) are assumed 0\n",
    "prev_apps.loc[prev_apps.amt_down_payment<0, 'amt_down_payment'] = 0"
   ]
  },
  {
   "cell_type": "code",
   "execution_count": 71,
   "metadata": {
    "collapsed": true
   },
   "outputs": [],
   "source": [
    "# negative values (there are 2) are assumed 0\n",
    "prev_apps.loc[prev_apps.rate_down_payment<0, 'rate_down_payment'] = 0"
   ]
  },
  {
   "cell_type": "code",
   "execution_count": 72,
   "metadata": {},
   "outputs": [
    {
     "data": {
      "image/png": "[encoded data removed]",
      "text/plain": [
       "<Figure size 648x432 with 1 Axes>"
      ]
     },
     "metadata": {},
     "output_type": "display_data"
    }
   ],
   "source": [
    "# droppping this\n",
    "prev_apps.days_first_drawing.hist(bins=100)\n",
    "prev_apps.drop('days_first_drawing', axis=1, inplace=True)\n",
    "float_cols.remove('days_first_drawing')\n",
    "numeric_cols.remove('days_first_drawing')"
   ]
  },
  {
   "cell_type": "code",
   "execution_count": 110,
   "metadata": {},
   "outputs": [
    {
     "data": {
      "text/plain": [
       "hour_appr_process_start      False\n",
       "days_decision                False\n",
       "sellerplace_area             False\n",
       "amt_annuity                  False\n",
       "amt_application              False\n",
       "amt_credit                   False\n",
       "amt_down_payment             False\n",
       "amt_goods_price              False\n",
       "rate_down_payment            False\n",
       "rate_interest_primary        False\n",
       "rate_interest_privileged     False\n",
       "cnt_payment                  False\n",
       "days_first_due               False\n",
       "days_last_due_1st_version    False\n",
       "days_last_due                False\n",
       "days_termination             False\n",
       "dtype: bool"
      ]
     },
     "execution_count": 110,
     "metadata": {},
     "output_type": "execute_result"
    }
   ],
   "source": [
    "(prev_apps[numeric_cols]<0).any()"
   ]
  },
  {
   "cell_type": "markdown",
   "metadata": {},
   "source": [
    "### Anomalies"
   ]
  },
  {
   "cell_type": "code",
   "execution_count": 75,
   "metadata": {},
   "outputs": [
    {
     "data": {
      "text/plain": [
       "sellerplace_area             387.519600\n",
       "amt_annuity                    3.233041\n",
       "amt_application                3.603938\n",
       "amt_credit                     7.519342\n",
       "amt_down_payment              27.963823\n",
       "amt_goods_price                3.345503\n",
       "rate_interest_primary          3.015751\n",
       "days_first_due                 5.032145\n",
       "days_last_due_1st_version      3.406219\n",
       "days_last_due                  2.434629\n",
       "days_termination               2.376433\n",
       "dtype: float64"
      ]
     },
     "execution_count": 75,
     "metadata": {},
     "output_type": "execute_result"
    }
   ],
   "source": [
    "gaps = prev_apps[numeric_cols].apply(lambda s: s.sort_values().diff().max()/s.std())\n",
    "gaps[gaps>2]\n"
   ]
  },
  {
   "cell_type": "code",
   "execution_count": 80,
   "metadata": {},
   "outputs": [
    {
     "data": {
      "text/plain": [
       "['sellerplace_area',\n",
       " 'amt_annuity',\n",
       " 'amt_application',\n",
       " 'amt_credit',\n",
       " 'amt_down_payment',\n",
       " 'amt_goods_price',\n",
       " 'rate_interest_primary',\n",
       " 'days_first_due',\n",
       " 'days_last_due_1st_version',\n",
       " 'days_last_due',\n",
       " 'days_termination']"
      ]
     },
     "execution_count": 80,
     "metadata": {},
     "output_type": "execute_result"
    }
   ],
   "source": [
    "gaps[gaps>2].index.tolist()"
   ]
  },
  {
   "cell_type": "code",
   "execution_count": 112,
   "metadata": {
    "collapsed": true
   },
   "outputs": [],
   "source": [
    "# manual exploration\n",
    "anom_cols = [\n",
    "    'sellerplace_area',\n",
    "    'amt_annuity',\n",
    "    'days_first_due',\n",
    "    'days_last_due_1st_version',\n",
    "    'days_last_due',\n",
    "    'days_termination'\n",
    "]\n"
   ]
  },
  {
   "cell_type": "markdown",
   "metadata": {},
   "source": [
    "Note should create feature of diff between amt applied for and amt granted"
   ]
  },
  {
   "cell_type": "code",
   "execution_count": 104,
   "metadata": {},
   "outputs": [
    {
     "name": "stdout",
     "output_type": "stream",
     "text": [
      "previous_application.csv\n",
      "days_last_due_1st_version\n",
      "Relative to application date of current application when was the first due of the previous application\n",
      "\n",
      "Max Diffs\n",
      "1075300    365243.0\n",
      "941733          1.0\n",
      "1181836         2.0\n",
      "Name: days_last_due_1st_version, dtype: float64\n",
      "\n",
      "Largest Vals\n",
      "17    365243.0\n",
      "34    365243.0\n",
      "49    365243.0\n",
      "82    365243.0\n",
      "93    365243.0\n",
      "Name: days_last_due_1st_version, dtype: float64\n",
      "\n",
      "Smallest Vals\n",
      "2078     0.0\n",
      "4429     0.0\n",
      "4698     0.0\n",
      "10077    0.0\n",
      "11789    0.0\n",
      "Name: days_last_due_1st_version, dtype: float64\n"
     ]
    },
    {
     "data": {
      "text/plain": [
       "(1075300    365243.0\n",
       " 941733          1.0\n",
       " 1181836         2.0\n",
       " Name: days_last_due_1st_version, dtype: float64, 17    365243.0\n",
       " 34    365243.0\n",
       " 49    365243.0\n",
       " 82    365243.0\n",
       " 93    365243.0\n",
       " Name: days_last_due_1st_version, dtype: float64)"
      ]
     },
     "execution_count": 104,
     "metadata": {},
     "output_type": "execute_result"
    },
    {
     "data": {
      "image/png": "[encoded data removed]",
      "text/plain": [
       "<Figure size 648x432 with 1 Axes>"
      ]
     },
     "metadata": {},
     "output_type": "display_data"
    }
   ],
   "source": [
    "anom_eval(prev_apps, 'days_last_due_1st_version', 'previous_application.csv')"
   ]
  },
  {
   "cell_type": "code",
   "execution_count": 113,
   "metadata": {},
   "outputs": [
    {
     "name": "stdout",
     "output_type": "stream",
     "text": [
      "sellerplace_area\n",
      "amt_annuity\n",
      "days_first_due\n",
      "days_last_due_1st_version\n",
      "days_last_due\n",
      "days_termination\n"
     ]
    }
   ],
   "source": [
    "for col in anom_cols:\n",
    "    print(col)\n",
    "    max_diff = prev_apps[col].sort_values().diff().max()\n",
    "    pwr = int(np.log10(max_diff))\n",
    "    if pwr <2:\n",
    "        cutoff = max_diff\n",
    "    else:\n",
    "        cutoff = int(max_diff/(10**pwr))*(10**pwr)\n",
    "    \n",
    "    anoms = prev_apps.loc[prev_apps[col]>=cutoff, col]\n",
    "    rest = prev_apps.loc[~prev_apps.index.isin(anoms.index), col]\n",
    "\n",
    "    # replace outliers with median from non-outlying data\n",
    "    prev_apps.loc[anoms.index, col] = rest.median()\n",
    "    prev_apps[col+'_anom'] = 0\n",
    "    \n",
    "    # indicator\n",
    "    prev_apps.loc[anoms.index, col+'_anom'] = 1\n",
    "    \n",
    "    indicator_cols.append(col+'_anom')"
   ]
  },
  {
   "cell_type": "markdown",
   "metadata": {},
   "source": [
    "### Fill NA"
   ]
  },
  {
   "cell_type": "code",
   "execution_count": 115,
   "metadata": {},
   "outputs": [
    {
     "data": {
      "text/html": [
       "<div>\n",
       "<style scoped>\n",
       "    .dataframe tbody tr th:only-of-type {\n",
       "        vertical-align: middle;\n",
       "    }\n",
       "\n",
       "    .dataframe tbody tr th {\n",
       "        vertical-align: top;\n",
       "    }\n",
       "\n",
       "    .dataframe thead th {\n",
       "        text-align: right;\n",
       "    }\n",
       "</style>\n",
       "<table border=\"1\" class=\"dataframe\">\n",
       "  <thead>\n",
       "    <tr style=\"text-align: right;\">\n",
       "      <th></th>\n",
       "      <th>n_null</th>\n",
       "      <th>pct_null</th>\n",
       "    </tr>\n",
       "  </thead>\n",
       "  <tbody>\n",
       "    <tr>\n",
       "      <th>name_type_suite</th>\n",
       "      <td>820405</td>\n",
       "      <td>0.491198</td>\n",
       "    </tr>\n",
       "    <tr>\n",
       "      <th>product_combination</th>\n",
       "      <td>346</td>\n",
       "      <td>0.000207</td>\n",
       "    </tr>\n",
       "  </tbody>\n",
       "</table>\n",
       "</div>"
      ],
      "text/plain": [
       "                     n_null  pct_null\n",
       "name_type_suite      820405  0.491198\n",
       "product_combination     346  0.000207"
      ]
     },
     "execution_count": 115,
     "metadata": {},
     "output_type": "execute_result"
    }
   ],
   "source": [
    "obj_nulls = pct_null(prev_apps[obj_cols])\n",
    "obj_nulls"
   ]
  },
  {
   "cell_type": "code",
   "execution_count": 116,
   "metadata": {},
   "outputs": [
    {
     "data": {
      "text/plain": [
       "array([nan, 'Unaccompanied', 'Spouse, partner', 'Family', 'Children',\n",
       "       'Other_B', 'Other_A', 'Group of people'], dtype=object)"
      ]
     },
     "execution_count": 116,
     "metadata": {},
     "output_type": "execute_result"
    }
   ],
   "source": [
    "prev_apps.name_type_suite.unique()"
   ]
  },
  {
   "cell_type": "code",
   "execution_count": 120,
   "metadata": {
    "collapsed": true
   },
   "outputs": [],
   "source": [
    "# Just marking name_type_suite as null\n",
    "prev_apps['name_type_suite'] = prev_apps.name_type_suite.astype(str)"
   ]
  },
  {
   "cell_type": "code",
   "execution_count": 123,
   "metadata": {
    "collapsed": true
   },
   "outputs": [],
   "source": [
    "# fill product_combination with mode\n",
    "prev_apps.fillna({'product_combination':prev_apps.product_combination.mode().squeeze()}, inplace=True)"
   ]
  },
  {
   "cell_type": "code",
   "execution_count": 124,
   "metadata": {
    "collapsed": true
   },
   "outputs": [],
   "source": [
    "# numeric nulls fill w median\n",
    "medians = prev_apps[numeric_cols].median().squeeze()\n",
    "prev_apps.fillna(medians, inplace=True)"
   ]
  },
  {
   "cell_type": "markdown",
   "metadata": {},
   "source": [
    "### Encode Cat Vars"
   ]
  },
  {
   "cell_type": "code",
   "execution_count": 126,
   "metadata": {},
   "outputs": [
    {
     "data": {
      "text/plain": [
       "Index([], dtype='object')"
      ]
     },
     "execution_count": 126,
     "metadata": {},
     "output_type": "execute_result"
    }
   ],
   "source": [
    "prev_apps.columns[prev_apps.nunique()<2]"
   ]
  },
  {
   "cell_type": "code",
   "execution_count": 127,
   "metadata": {},
   "outputs": [
    {
     "data": {
      "text/plain": [
       "Index([], dtype='object')"
      ]
     },
     "execution_count": 127,
     "metadata": {},
     "output_type": "execute_result"
    }
   ],
   "source": [
    "binary_cols = prev_apps[obj_cols].columns[prev_apps[obj_cols].nunique()==2]\n",
    "binary_cols"
   ]
  },
  {
   "cell_type": "code",
   "execution_count": 128,
   "metadata": {},
   "outputs": [
    {
     "data": {
      "text/plain": [
       "['name_contract_type',\n",
       " 'weekday_appr_process_start',\n",
       " 'name_cash_loan_purpose',\n",
       " 'name_contract_status',\n",
       " 'name_payment_type',\n",
       " 'code_reject_reason',\n",
       " 'name_type_suite',\n",
       " 'name_client_type',\n",
       " 'name_goods_category',\n",
       " 'name_portfolio',\n",
       " 'name_product_type',\n",
       " 'channel_type',\n",
       " 'name_seller_industry',\n",
       " 'name_yield_group',\n",
       " 'product_combination']"
      ]
     },
     "execution_count": 128,
     "metadata": {},
     "output_type": "execute_result"
    }
   ],
   "source": [
    "non_binary_cols = obj_cols.copy()\n",
    "non_binary_cols"
   ]
  },
  {
   "cell_type": "code",
   "execution_count": 131,
   "metadata": {},
   "outputs": [],
   "source": [
    "for col in non_binary_cols:\n",
    "    print(col)\n",
    "    ohe_col = pd.get_dummies(prev_apps[col], drop_first=True)\n",
    "    ohe_col.columns = col + '_' + ohe_col.columns\n",
    "    prev_apps = pd.concat([prev_apps, ohe_col], axis=1)\n",
    "    \n",
    "    indicator_cols.extend(ohe_col.columns.tolist())\n",
    "    del prev_apps[col]\n",
    "    obj_cols.remove(col)"
   ]
  },
  {
   "cell_type": "code",
   "execution_count": 132,
   "metadata": {
    "collapsed": true
   },
   "outputs": [],
   "source": [
    "prev_apps.to_csv('clean_data/prev_apps.csv', index=False)"
   ]
  },
  {
   "cell_type": "code",
   "execution_count": null,
   "metadata": {
    "collapsed": true
   },
   "outputs": [],
   "source": []
  }
 ],
 "metadata": {
  "kernelspec": {
   "display_name": "Python 3",
   "language": "python",
   "name": "python3"
  },
  "language_info": {
   "codemirror_mode": {
    "name": "ipython",
    "version": 3
   },
   "file_extension": ".py",
   "mimetype": "text/x-python",
   "name": "python",
   "nbconvert_exporter": "python",
   "pygments_lexer": "ipython3",
   "version": "3.6.1"
  }
 },
 "nbformat": 4,
 "nbformat_minor": 2
}
