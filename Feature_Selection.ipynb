{
 "cells": [
  {
   "cell_type": "code",
   "execution_count": 1,
   "metadata": {
    "collapsed": true
   },
   "outputs": [],
   "source": [
    "import os\n",
    "import datetime as dt\n",
    "import time\n",
    "\n",
    "import pandas as pd\n",
    "import numpy as np\n",
    "\n",
    "import matplotlib.pyplot as plt\n",
    "import seaborn as sns\n",
    "%matplotlib inline\n",
    "\n",
    "\n",
    "from sklearn.preprocessing import StandardScaler, MinMaxScaler, RobustScaler\n",
    "from sklearn.model_selection import cross_val_score\n",
    "from sklearn.feature_selection import SelectKBest, chi2, RFE\n",
    "\n",
    "from sklearn.linear_model import LogisticRegression\n",
    "from sklearn.tree import DecisionTreeClassifier\n",
    "\n",
    "from sklearn import metrics"
   ]
  },
  {
   "cell_type": "code",
   "execution_count": 2,
   "metadata": {
    "collapsed": true
   },
   "outputs": [],
   "source": [
    "today = dt.date.today()"
   ]
  },
  {
   "cell_type": "markdown",
   "metadata": {},
   "source": [
    "### Config Vars"
   ]
  },
  {
   "cell_type": "code",
   "execution_count": 24,
   "metadata": {
    "collapsed": true
   },
   "outputs": [],
   "source": [
    "PK = 'sk_id_curr'\n",
    "TARGET = 'target'\n",
    "N_FEATURES = 250\n",
    "DATA_DIR = 'clean_data/'\n",
    "\n",
    "TRAIN_FILE = os.path.join(DATA_DIR, 'mrgd_train.csv')\n",
    "TEST_FILE = os.path.join(DATA_DIR, 'mrgd_test.csv')\n",
    "SUBMISSION_OUTPUT_FILE = os.path.join(DATA_DIR, 'submission_out.csv')\n",
    "\n",
    "DTYPES = {'sk_id_curr':str, 'sk_id_bureau':str, 'sk_id_prev':str,'num_instalment_version':str}\n",
    "\n"
   ]
  },
  {
   "cell_type": "markdown",
   "metadata": {},
   "source": [
    "### Read Data"
   ]
  },
  {
   "cell_type": "code",
   "execution_count": 4,
   "metadata": {},
   "outputs": [
    {
     "data": {
      "text/plain": [
       "((307511, 527), (48744, 526))"
      ]
     },
     "execution_count": 4,
     "metadata": {},
     "output_type": "execute_result"
    }
   ],
   "source": [
    "train = pd.read_csv(TRAIN_FILE, dtype=DTYPES)\n",
    "test = pd.read_csv(TEST_FILE, dtype=DTYPES)\n",
    "train.shape, test.shape"
   ]
  },
  {
   "cell_type": "code",
   "execution_count": 5,
   "metadata": {},
   "outputs": [
    {
     "data": {
      "text/html": [
       "<div>\n",
       "<style>\n",
       "    .dataframe thead tr:only-child th {\n",
       "        text-align: right;\n",
       "    }\n",
       "\n",
       "    .dataframe thead th {\n",
       "        text-align: left;\n",
       "    }\n",
       "\n",
       "    .dataframe tbody tr th {\n",
       "        vertical-align: top;\n",
       "    }\n",
       "</style>\n",
       "<table border=\"1\" class=\"dataframe\">\n",
       "  <thead>\n",
       "    <tr style=\"text-align: right;\">\n",
       "      <th></th>\n",
       "      <th>sk_id_curr</th>\n",
       "      <th>flag_own_car</th>\n",
       "      <th>flag_own_realty</th>\n",
       "      <th>name_contract_type</th>\n",
       "      <th>flag_cont_mobile</th>\n",
       "      <th>flag_document_10</th>\n",
       "      <th>flag_document_11</th>\n",
       "      <th>flag_document_12</th>\n",
       "      <th>flag_document_13</th>\n",
       "      <th>flag_document_14</th>\n",
       "      <th>...</th>\n",
       "      <th>sk_dpd_pos</th>\n",
       "      <th>name_contract_status_Active</th>\n",
       "      <th>name_contract_status_Amortized debt</th>\n",
       "      <th>name_contract_status_Approved_pos</th>\n",
       "      <th>name_contract_status_Canceled_pos</th>\n",
       "      <th>name_contract_status_Completed_pos</th>\n",
       "      <th>name_contract_status_Demand_pos</th>\n",
       "      <th>name_contract_status_Returned to the store</th>\n",
       "      <th>name_contract_status_Signed_pos</th>\n",
       "      <th>target</th>\n",
       "    </tr>\n",
       "  </thead>\n",
       "  <tbody>\n",
       "    <tr>\n",
       "      <th>0</th>\n",
       "      <td>100002</td>\n",
       "      <td>0</td>\n",
       "      <td>1</td>\n",
       "      <td>0</td>\n",
       "      <td>1</td>\n",
       "      <td>0</td>\n",
       "      <td>0</td>\n",
       "      <td>0</td>\n",
       "      <td>0</td>\n",
       "      <td>0</td>\n",
       "      <td>...</td>\n",
       "      <td>0.0</td>\n",
       "      <td>19.0</td>\n",
       "      <td>0.0</td>\n",
       "      <td>0.0</td>\n",
       "      <td>0.0</td>\n",
       "      <td>0.0</td>\n",
       "      <td>0.0</td>\n",
       "      <td>0.0</td>\n",
       "      <td>0.0</td>\n",
       "      <td>1</td>\n",
       "    </tr>\n",
       "    <tr>\n",
       "      <th>1</th>\n",
       "      <td>100003</td>\n",
       "      <td>0</td>\n",
       "      <td>0</td>\n",
       "      <td>0</td>\n",
       "      <td>1</td>\n",
       "      <td>0</td>\n",
       "      <td>0</td>\n",
       "      <td>0</td>\n",
       "      <td>0</td>\n",
       "      <td>0</td>\n",
       "      <td>...</td>\n",
       "      <td>0.0</td>\n",
       "      <td>26.0</td>\n",
       "      <td>0.0</td>\n",
       "      <td>0.0</td>\n",
       "      <td>0.0</td>\n",
       "      <td>2.0</td>\n",
       "      <td>0.0</td>\n",
       "      <td>0.0</td>\n",
       "      <td>0.0</td>\n",
       "      <td>0</td>\n",
       "    </tr>\n",
       "    <tr>\n",
       "      <th>2</th>\n",
       "      <td>100004</td>\n",
       "      <td>1</td>\n",
       "      <td>1</td>\n",
       "      <td>1</td>\n",
       "      <td>1</td>\n",
       "      <td>0</td>\n",
       "      <td>0</td>\n",
       "      <td>0</td>\n",
       "      <td>0</td>\n",
       "      <td>0</td>\n",
       "      <td>...</td>\n",
       "      <td>0.0</td>\n",
       "      <td>3.0</td>\n",
       "      <td>0.0</td>\n",
       "      <td>0.0</td>\n",
       "      <td>0.0</td>\n",
       "      <td>1.0</td>\n",
       "      <td>0.0</td>\n",
       "      <td>0.0</td>\n",
       "      <td>0.0</td>\n",
       "      <td>0</td>\n",
       "    </tr>\n",
       "    <tr>\n",
       "      <th>3</th>\n",
       "      <td>100006</td>\n",
       "      <td>0</td>\n",
       "      <td>1</td>\n",
       "      <td>0</td>\n",
       "      <td>1</td>\n",
       "      <td>0</td>\n",
       "      <td>0</td>\n",
       "      <td>0</td>\n",
       "      <td>0</td>\n",
       "      <td>0</td>\n",
       "      <td>...</td>\n",
       "      <td>0.0</td>\n",
       "      <td>18.0</td>\n",
       "      <td>0.0</td>\n",
       "      <td>0.0</td>\n",
       "      <td>0.0</td>\n",
       "      <td>2.0</td>\n",
       "      <td>0.0</td>\n",
       "      <td>1.0</td>\n",
       "      <td>0.0</td>\n",
       "      <td>0</td>\n",
       "    </tr>\n",
       "    <tr>\n",
       "      <th>4</th>\n",
       "      <td>100007</td>\n",
       "      <td>0</td>\n",
       "      <td>1</td>\n",
       "      <td>0</td>\n",
       "      <td>1</td>\n",
       "      <td>0</td>\n",
       "      <td>0</td>\n",
       "      <td>0</td>\n",
       "      <td>0</td>\n",
       "      <td>0</td>\n",
       "      <td>...</td>\n",
       "      <td>0.0</td>\n",
       "      <td>62.0</td>\n",
       "      <td>0.0</td>\n",
       "      <td>0.0</td>\n",
       "      <td>0.0</td>\n",
       "      <td>3.0</td>\n",
       "      <td>0.0</td>\n",
       "      <td>0.0</td>\n",
       "      <td>1.0</td>\n",
       "      <td>0</td>\n",
       "    </tr>\n",
       "  </tbody>\n",
       "</table>\n",
       "<p>5 rows × 527 columns</p>\n",
       "</div>"
      ],
      "text/plain": [
       "  sk_id_curr  flag_own_car  flag_own_realty  name_contract_type  \\\n",
       "0     100002             0                1                   0   \n",
       "1     100003             0                0                   0   \n",
       "2     100004             1                1                   1   \n",
       "3     100006             0                1                   0   \n",
       "4     100007             0                1                   0   \n",
       "\n",
       "   flag_cont_mobile  flag_document_10  flag_document_11  flag_document_12  \\\n",
       "0                 1                 0                 0                 0   \n",
       "1                 1                 0                 0                 0   \n",
       "2                 1                 0                 0                 0   \n",
       "3                 1                 0                 0                 0   \n",
       "4                 1                 0                 0                 0   \n",
       "\n",
       "   flag_document_13  flag_document_14   ...    sk_dpd_pos  \\\n",
       "0                 0                 0   ...           0.0   \n",
       "1                 0                 0   ...           0.0   \n",
       "2                 0                 0   ...           0.0   \n",
       "3                 0                 0   ...           0.0   \n",
       "4                 0                 0   ...           0.0   \n",
       "\n",
       "   name_contract_status_Active  name_contract_status_Amortized debt  \\\n",
       "0                         19.0                                  0.0   \n",
       "1                         26.0                                  0.0   \n",
       "2                          3.0                                  0.0   \n",
       "3                         18.0                                  0.0   \n",
       "4                         62.0                                  0.0   \n",
       "\n",
       "   name_contract_status_Approved_pos  name_contract_status_Canceled_pos  \\\n",
       "0                                0.0                                0.0   \n",
       "1                                0.0                                0.0   \n",
       "2                                0.0                                0.0   \n",
       "3                                0.0                                0.0   \n",
       "4                                0.0                                0.0   \n",
       "\n",
       "   name_contract_status_Completed_pos  name_contract_status_Demand_pos  \\\n",
       "0                                 0.0                              0.0   \n",
       "1                                 2.0                              0.0   \n",
       "2                                 1.0                              0.0   \n",
       "3                                 2.0                              0.0   \n",
       "4                                 3.0                              0.0   \n",
       "\n",
       "   name_contract_status_Returned to the store  \\\n",
       "0                                         0.0   \n",
       "1                                         0.0   \n",
       "2                                         0.0   \n",
       "3                                         1.0   \n",
       "4                                         0.0   \n",
       "\n",
       "   name_contract_status_Signed_pos  target  \n",
       "0                              0.0       1  \n",
       "1                              0.0       0  \n",
       "2                              0.0       0  \n",
       "3                              0.0       0  \n",
       "4                              1.0       0  \n",
       "\n",
       "[5 rows x 527 columns]"
      ]
     },
     "execution_count": 5,
     "metadata": {},
     "output_type": "execute_result"
    }
   ],
   "source": [
    "train.head()"
   ]
  },
  {
   "cell_type": "code",
   "execution_count": 6,
   "metadata": {
    "collapsed": true
   },
   "outputs": [],
   "source": [
    "x_train_id = train[PK]\n",
    "y_train = train[TARGET]"
   ]
  },
  {
   "cell_type": "code",
   "execution_count": 11,
   "metadata": {
    "collapsed": true
   },
   "outputs": [],
   "source": [
    "x_test_id = test[PK]\n",
    "test.drop(PK, axis=1, inplace=True)"
   ]
  },
  {
   "cell_type": "code",
   "execution_count": 7,
   "metadata": {
    "collapsed": true
   },
   "outputs": [],
   "source": [
    "train.drop([PK, TARGET], axis=1, inplace=True)"
   ]
  },
  {
   "cell_type": "markdown",
   "metadata": {},
   "source": [
    "Also load engineered features"
   ]
  },
  {
   "cell_type": "code",
   "execution_count": 9,
   "metadata": {
    "collapsed": true
   },
   "outputs": [],
   "source": [
    "eng_ftr_train = pd.read_csv('clean_data/eng_ftrs_train.csv')\n",
    "eng_ftr_test = pd.read_csv('clean_data/eng_ftrs_test.csv')"
   ]
  },
  {
   "cell_type": "code",
   "execution_count": 12,
   "metadata": {},
   "outputs": [
    {
     "data": {
      "text/plain": [
       "((307511, 886), (48744, 886))"
      ]
     },
     "execution_count": 12,
     "metadata": {},
     "output_type": "execute_result"
    }
   ],
   "source": [
    "xtrain_all = pd.concat((train, eng_ftr_train), axis=1)\n",
    "xtest_all = pd.concat((test, eng_ftr_test), axis=1)\n",
    "\n",
    "xtrain_all.shape, xtest_all.shape"
   ]
  },
  {
   "cell_type": "code",
   "execution_count": 13,
   "metadata": {
    "collapsed": true
   },
   "outputs": [],
   "source": [
    "features = xtrain_all.columns.tolist()"
   ]
  },
  {
   "cell_type": "markdown",
   "metadata": {},
   "source": [
    "## Feature Selection\n",
    "\n",
    "    - Choose the top N_FEATURES most correlated features to target (UNIVARIATE)\n",
    "    - Chi2 test (UNIVARIATE)\n",
    "    - Recursive Feature Elimination (RFE)\n",
    "    - Lasso Regularization"
   ]
  },
  {
   "cell_type": "markdown",
   "metadata": {},
   "source": [
    "### Correlations"
   ]
  },
  {
   "cell_type": "code",
   "execution_count": 15,
   "metadata": {},
   "outputs": [
    {
     "data": {
      "text/plain": [
       "(886,\n",
       " ('ext_source_2', -0.16029475320996664),\n",
       " ('nb_probs', 0.10506295395184502))"
      ]
     },
     "execution_count": 15,
     "metadata": {},
     "output_type": "execute_result"
    }
   ],
   "source": [
    "corrs = []\n",
    "for f in features:\n",
    "    corr = xtrain_all[f].corr(y_train)\n",
    "    corrs.append((f,corr))\n",
    "\n",
    "len(corrs), min(corrs, key=lambda t: t[1]), max(corrs, key=lambda t: t[1])"
   ]
  },
  {
   "cell_type": "code",
   "execution_count": 25,
   "metadata": {
    "collapsed": true
   },
   "outputs": [],
   "source": [
    "top_n = sorted(corrs, key = lambda tup: abs(tup[1]), reverse=True)[:N_FEATURES]\n",
    "corr_ftrs = pd.DataFrame(top_n, columns = ['ftr', 'correlation'])"
   ]
  },
  {
   "cell_type": "code",
   "execution_count": 26,
   "metadata": {},
   "outputs": [
    {
     "data": {
      "text/html": [
       "<div>\n",
       "<style>\n",
       "    .dataframe thead tr:only-child th {\n",
       "        text-align: right;\n",
       "    }\n",
       "\n",
       "    .dataframe thead th {\n",
       "        text-align: left;\n",
       "    }\n",
       "\n",
       "    .dataframe tbody tr th {\n",
       "        vertical-align: top;\n",
       "    }\n",
       "</style>\n",
       "<table border=\"1\" class=\"dataframe\">\n",
       "  <thead>\n",
       "    <tr style=\"text-align: right;\">\n",
       "      <th></th>\n",
       "      <th>ftr</th>\n",
       "      <th>correlation</th>\n",
       "    </tr>\n",
       "  </thead>\n",
       "  <tbody>\n",
       "    <tr>\n",
       "      <th>0</th>\n",
       "      <td>ext_source_2</td>\n",
       "      <td>-0.160295</td>\n",
       "    </tr>\n",
       "    <tr>\n",
       "      <th>1</th>\n",
       "      <td>ext_source_3</td>\n",
       "      <td>-0.155892</td>\n",
       "    </tr>\n",
       "    <tr>\n",
       "      <th>2</th>\n",
       "      <td>nb_probs</td>\n",
       "      <td>0.105063</td>\n",
       "    </tr>\n",
       "    <tr>\n",
       "      <th>3</th>\n",
       "      <td>ext_source_1</td>\n",
       "      <td>-0.098887</td>\n",
       "    </tr>\n",
       "    <tr>\n",
       "      <th>4</th>\n",
       "      <td>days_credit</td>\n",
       "      <td>-0.082079</td>\n",
       "    </tr>\n",
       "  </tbody>\n",
       "</table>\n",
       "</div>"
      ],
      "text/plain": [
       "            ftr  correlation\n",
       "0  ext_source_2    -0.160295\n",
       "1  ext_source_3    -0.155892\n",
       "2      nb_probs     0.105063\n",
       "3  ext_source_1    -0.098887\n",
       "4   days_credit    -0.082079"
      ]
     },
     "execution_count": 26,
     "metadata": {},
     "output_type": "execute_result"
    }
   ],
   "source": [
    "corr_ftrs.head()"
   ]
  },
  {
   "cell_type": "markdown",
   "metadata": {},
   "source": [
    "### Chi2\n",
    "\n",
    "Not entirely sure the details here.\n",
    "\n",
    "Chi2 is a measure of dependence between counts of categorical variables. Not sure how we are using this on numerical variables.\n",
    "\n",
    "SelectKBest calculates chi2 statistics for each feature against the target and returns the N_Features most dependent.\n",
    "\n",
    "Data must be positive..."
   ]
  },
  {
   "cell_type": "code",
   "execution_count": 19,
   "metadata": {
    "collapsed": true
   },
   "outputs": [],
   "source": [
    "x_norm = MinMaxScaler().fit_transform(xtrain_all)"
   ]
  },
  {
   "cell_type": "code",
   "execution_count": 27,
   "metadata": {
    "collapsed": true
   },
   "outputs": [],
   "source": [
    "selector = SelectKBest(chi2, k = N_FEATURES)\n",
    "selector.fit(x_norm, y_train)\n",
    "# bool index on selected columns\n",
    "selected = selector.get_support()"
   ]
  },
  {
   "cell_type": "code",
   "execution_count": 28,
   "metadata": {
    "collapsed": true
   },
   "outputs": [],
   "source": [
    "chi2_scores = pd.DataFrame(list(zip(features, selector.scores_)), columns=['ftr', 'chi2_score'])\n",
    "chi2_ftrs = chi2_scores.loc[selected]"
   ]
  },
  {
   "cell_type": "code",
   "execution_count": 29,
   "metadata": {},
   "outputs": [
    {
     "data": {
      "text/html": [
       "<div>\n",
       "<style>\n",
       "    .dataframe thead tr:only-child th {\n",
       "        text-align: right;\n",
       "    }\n",
       "\n",
       "    .dataframe thead th {\n",
       "        text-align: left;\n",
       "    }\n",
       "\n",
       "    .dataframe tbody tr th {\n",
       "        vertical-align: top;\n",
       "    }\n",
       "</style>\n",
       "<table border=\"1\" class=\"dataframe\">\n",
       "  <thead>\n",
       "    <tr style=\"text-align: right;\">\n",
       "      <th></th>\n",
       "      <th>ftr</th>\n",
       "      <th>chi2_score</th>\n",
       "    </tr>\n",
       "  </thead>\n",
       "  <tbody>\n",
       "    <tr>\n",
       "      <th>73</th>\n",
       "      <td>ext_source_2</td>\n",
       "      <td>654.363170</td>\n",
       "    </tr>\n",
       "    <tr>\n",
       "      <th>32</th>\n",
       "      <td>reg_city_not_work_city</td>\n",
       "      <td>615.377434</td>\n",
       "    </tr>\n",
       "    <tr>\n",
       "      <th>31</th>\n",
       "      <td>reg_city_not_live_city</td>\n",
       "      <td>558.708941</td>\n",
       "    </tr>\n",
       "    <tr>\n",
       "      <th>121</th>\n",
       "      <td>name_income_type_Pensioner</td>\n",
       "      <td>538.416471</td>\n",
       "    </tr>\n",
       "    <tr>\n",
       "      <th>213</th>\n",
       "      <td>organization_type_XNA</td>\n",
       "      <td>533.222197</td>\n",
       "    </tr>\n",
       "  </tbody>\n",
       "</table>\n",
       "</div>"
      ],
      "text/plain": [
       "                            ftr  chi2_score\n",
       "73                 ext_source_2  654.363170\n",
       "32       reg_city_not_work_city  615.377434\n",
       "31       reg_city_not_live_city  558.708941\n",
       "121  name_income_type_Pensioner  538.416471\n",
       "213       organization_type_XNA  533.222197"
      ]
     },
     "execution_count": 29,
     "metadata": {},
     "output_type": "execute_result"
    }
   ],
   "source": [
    "chi2_ftrs.sort_values('chi2_score', ascending=False).head()"
   ]
  },
  {
   "cell_type": "markdown",
   "metadata": {},
   "source": [
    "### Recursive Feature Elimination (RFE)"
   ]
  },
  {
   "cell_type": "markdown",
   "metadata": {},
   "source": [
    "Using normalized x so coefs are in same units"
   ]
  },
  {
   "cell_type": "code",
   "execution_count": 30,
   "metadata": {},
   "outputs": [
    {
     "name": "stdout",
     "output_type": "stream",
     "text": [
      "Fitting estimator with 886 features.\n",
      "Fitting estimator with 842 features.\n",
      "Fitting estimator with 798 features.\n",
      "Fitting estimator with 754 features.\n",
      "Fitting estimator with 710 features.\n",
      "Fitting estimator with 666 features.\n",
      "Fitting estimator with 622 features.\n",
      "Fitting estimator with 578 features.\n",
      "Fitting estimator with 534 features.\n",
      "Fitting estimator with 490 features.\n",
      "Fitting estimator with 446 features.\n",
      "Fitting estimator with 402 features.\n",
      "Fitting estimator with 358 features.\n",
      "Fitting estimator with 314 features.\n",
      "Fitting estimator with 270 features.\n"
     ]
    }
   ],
   "source": [
    "selector = RFE(LogisticRegression(), N_FEATURES, 0.05, 1)\n",
    "selector.fit(x_norm, y_train)\n",
    "selected = selector.get_support()"
   ]
  },
  {
   "cell_type": "code",
   "execution_count": 31,
   "metadata": {},
   "outputs": [
    {
     "data": {
      "text/html": [
       "<div>\n",
       "<style>\n",
       "    .dataframe thead tr:only-child th {\n",
       "        text-align: right;\n",
       "    }\n",
       "\n",
       "    .dataframe thead th {\n",
       "        text-align: left;\n",
       "    }\n",
       "\n",
       "    .dataframe tbody tr th {\n",
       "        vertical-align: top;\n",
       "    }\n",
       "</style>\n",
       "<table border=\"1\" class=\"dataframe\">\n",
       "  <thead>\n",
       "    <tr style=\"text-align: right;\">\n",
       "      <th></th>\n",
       "      <th>ftr</th>\n",
       "      <th>rfe_placeholder</th>\n",
       "    </tr>\n",
       "  </thead>\n",
       "  <tbody>\n",
       "    <tr>\n",
       "      <th>0</th>\n",
       "      <td>flag_document_10</td>\n",
       "      <td>1</td>\n",
       "    </tr>\n",
       "    <tr>\n",
       "      <th>1</th>\n",
       "      <td>flag_document_13</td>\n",
       "      <td>1</td>\n",
       "    </tr>\n",
       "    <tr>\n",
       "      <th>2</th>\n",
       "      <td>flag_document_14</td>\n",
       "      <td>1</td>\n",
       "    </tr>\n",
       "    <tr>\n",
       "      <th>3</th>\n",
       "      <td>flag_document_15</td>\n",
       "      <td>1</td>\n",
       "    </tr>\n",
       "    <tr>\n",
       "      <th>4</th>\n",
       "      <td>flag_document_16</td>\n",
       "      <td>1</td>\n",
       "    </tr>\n",
       "  </tbody>\n",
       "</table>\n",
       "</div>"
      ],
      "text/plain": [
       "                ftr rfe_placeholder\n",
       "0  flag_document_10               1\n",
       "1  flag_document_13               1\n",
       "2  flag_document_14               1\n",
       "3  flag_document_15               1\n",
       "4  flag_document_16               1"
      ]
     },
     "execution_count": 31,
     "metadata": {},
     "output_type": "execute_result"
    }
   ],
   "source": [
    "rfe_logreg = np.asarray(features)[selected]\n",
    "rfe_logreg = pd.DataFrame({'ftr': rfe_logreg, 'rfe_placeholder': np.ones_like(rfe_logreg)})\n",
    "rfe_logreg.head()"
   ]
  },
  {
   "cell_type": "markdown",
   "metadata": {},
   "source": [
    "### Lasso (L1)"
   ]
  },
  {
   "cell_type": "code",
   "execution_count": 41,
   "metadata": {},
   "outputs": [
    {
     "data": {
      "text/plain": [
       "LogisticRegression(C=0.2, class_weight=None, dual=False, fit_intercept=True,\n",
       "          intercept_scaling=1, max_iter=100, multi_class='ovr', n_jobs=1,\n",
       "          penalty='l1', random_state=None, solver='liblinear', tol=0.0001,\n",
       "          verbose=0, warm_start=False)"
      ]
     },
     "execution_count": 41,
     "metadata": {},
     "output_type": "execute_result"
    }
   ],
   "source": [
    "\n",
    "l1 = LogisticRegression(penalty = 'l1', C =0.2)\n",
    "l1.fit(x_norm, y_train)\n"
   ]
  },
  {
   "cell_type": "code",
   "execution_count": 42,
   "metadata": {},
   "outputs": [
    {
     "data": {
      "text/plain": [
       "(244,)"
      ]
     },
     "execution_count": 42,
     "metadata": {},
     "output_type": "execute_result"
    }
   ],
   "source": [
    "l1.coef_[np.abs(l1.coef_)>0].shape"
   ]
  },
  {
   "cell_type": "code",
   "execution_count": 51,
   "metadata": {},
   "outputs": [],
   "source": [
    "l1_ftrs = pd.DataFrame(list(zip(features, l1.coef_.tolist()[0])), columns=['ftr', 'l1_coef'])\n",
    "l1_ftrs = l1_ftrs[l1_ftrs.l1_coef.abs()>0].sort_values('l1_coef', ascending=False)"
   ]
  },
  {
   "cell_type": "code",
   "execution_count": 52,
   "metadata": {},
   "outputs": [
    {
     "data": {
      "text/html": [
       "<div>\n",
       "<style>\n",
       "    .dataframe thead tr:only-child th {\n",
       "        text-align: right;\n",
       "    }\n",
       "\n",
       "    .dataframe thead th {\n",
       "        text-align: left;\n",
       "    }\n",
       "\n",
       "    .dataframe tbody tr th {\n",
       "        vertical-align: top;\n",
       "    }\n",
       "</style>\n",
       "<table border=\"1\" class=\"dataframe\">\n",
       "  <thead>\n",
       "    <tr style=\"text-align: right;\">\n",
       "      <th></th>\n",
       "      <th>ftr</th>\n",
       "      <th>l1_coef</th>\n",
       "    </tr>\n",
       "  </thead>\n",
       "  <tbody>\n",
       "    <tr>\n",
       "      <th>43</th>\n",
       "      <td>amt_credit_application</td>\n",
       "      <td>6.398791</td>\n",
       "    </tr>\n",
       "    <tr>\n",
       "      <th>352</th>\n",
       "      <td>name_contract_status_Refused_application</td>\n",
       "      <td>4.267294</td>\n",
       "    </tr>\n",
       "    <tr>\n",
       "      <th>42</th>\n",
       "      <td>amt_annuity_application</td>\n",
       "      <td>2.968831</td>\n",
       "    </tr>\n",
       "    <tr>\n",
       "      <th>451</th>\n",
       "      <td>num_instalment_version_1.0</td>\n",
       "      <td>1.994686</td>\n",
       "    </tr>\n",
       "    <tr>\n",
       "      <th>303</th>\n",
       "      <td>cnt_payment</td>\n",
       "      <td>1.833105</td>\n",
       "    </tr>\n",
       "  </tbody>\n",
       "</table>\n",
       "</div>"
      ],
      "text/plain": [
       "                                          ftr   l1_coef\n",
       "43                     amt_credit_application  6.398791\n",
       "352  name_contract_status_Refused_application  4.267294\n",
       "42                    amt_annuity_application  2.968831\n",
       "451                num_instalment_version_1.0  1.994686\n",
       "303                               cnt_payment  1.833105"
      ]
     },
     "execution_count": 52,
     "metadata": {},
     "output_type": "execute_result"
    }
   ],
   "source": [
    "l1_ftrs.head()"
   ]
  },
  {
   "cell_type": "markdown",
   "metadata": {},
   "source": [
    "## Combine All DFs Together"
   ]
  },
  {
   "cell_type": "code",
   "execution_count": 53,
   "metadata": {},
   "outputs": [],
   "source": [
    "mrgd = l1_ftrs.merge(rfe_logreg, 'outer', 'ftr').merge(chi2_ftrs, 'outer', 'ftr').merge(corr_ftrs, 'outer', 'ftr')"
   ]
  },
  {
   "cell_type": "code",
   "execution_count": 55,
   "metadata": {
    "collapsed": true
   },
   "outputs": [],
   "source": [
    "# we are going to sum the \"scores\"/ coefficients so make sure all are positive\n",
    "mrgd['correlation'] = mrgd.correlation.abs()\n",
    "mrgd['l1_coef'] = mrgd.l1_coef.abs()"
   ]
  },
  {
   "cell_type": "code",
   "execution_count": 56,
   "metadata": {
    "collapsed": true
   },
   "outputs": [],
   "source": [
    "mrgd.fillna(0,inplace=True)"
   ]
  },
  {
   "cell_type": "code",
   "execution_count": 57,
   "metadata": {
    "collapsed": true
   },
   "outputs": [],
   "source": [
    "# scale\n",
    "mrgd.loc[:, ['l1_coef', 'rfe_placeholder', 'chi2_score', 'correlation']] = MinMaxScaler().fit_transform(\n",
    "    mrgd.loc[:, ['l1_coef', 'rfe_placeholder', 'chi2_score', 'correlation']]\n",
    ")\n"
   ]
  },
  {
   "cell_type": "code",
   "execution_count": 58,
   "metadata": {
    "collapsed": true
   },
   "outputs": [],
   "source": [
    "all_selected_ftrs = mrgd.set_index('ftr').sum(1).sort_values(ascending=False)\n",
    "overall_topN = all_selected_ftrs.iloc[:100]"
   ]
  },
  {
   "cell_type": "code",
   "execution_count": 59,
   "metadata": {},
   "outputs": [
    {
     "data": {
      "text/plain": [
       "ftr\n",
       "ext_source_2                                    3.219939\n",
       "ext_source_3                                    2.989627\n",
       "amt_goods_price_application                     2.297600\n",
       "nb_probs                                        2.285854\n",
       "name_income_type_Pensioner                      2.122629\n",
       "name_contract_status_Refused_application        2.068912\n",
       "amt_credit_application                          2.046631\n",
       "occupation_type_Laborers                        2.009241\n",
       "ext_source_1                                    1.956521\n",
       "days_birth                                      1.874627\n",
       "days_employed                                   1.737794\n",
       "region_rating_client_w_city                     1.628708\n",
       "days_last_phone_change                          1.603677\n",
       "occupation_type_Low-skill Laborers              1.581340\n",
       "code_reject_reason_SCOFR                        1.479183\n",
       "flag_emp_phone                                  1.465822\n",
       "amt_annuity_application                         1.462963\n",
       "num_instalment_version_1.0                      1.436674\n",
       "name_contract_status_Active                     1.427829\n",
       "pca_ftr_59                                      1.417409\n",
       "def_30_cnt_social_circle                        1.410429\n",
       "elevators_medi                                  1.384054\n",
       "days_employed_anom                              1.374524\n",
       "days_instalment                                 1.368464\n",
       "code_reject_reason_HC                           1.365732\n",
       "elevators_mode                                  1.364553\n",
       "organization_type_Construction                  1.339329\n",
       "code_reject_reason_LIMIT                        1.337871\n",
       "credit_type_Mortgage                            1.321698\n",
       "organization_type_Transport: type 3             1.307736\n",
       "                                                  ...   \n",
       "name_income_type_Working                        1.119976\n",
       "commonarea_medi                                 1.109774\n",
       "pca_ftr_104                                     1.108117\n",
       "commonarea_mode                                 1.102535\n",
       "organization_type_XNA                           1.101763\n",
       "amt_annuity                                     1.101319\n",
       "flag_document_15                                1.097821\n",
       "amt_application                                 1.092235\n",
       "organization_type_Industry: type 12             1.090495\n",
       "num_instalment_version_5.0                      1.086970\n",
       "amt_instalment                                  1.086796\n",
       "balance_status_C_lt1yr                          1.086123\n",
       "organization_type_Realtor                       1.084899\n",
       "product_combination_Cash X-Sell: low            1.081003\n",
       "years_build_mode                                1.079964\n",
       "num_instalment_version_11.0                     1.077130\n",
       "landarea_medi                                   1.076541\n",
       "name_seller_industry_Clothing                   1.075568\n",
       "landarea_avg                                    1.075155\n",
       "balance_status_1_lt1yr                          1.075038\n",
       "pca_ftr_56                                      1.074354\n",
       "organization_type_Trade: type 6                 1.071797\n",
       "days_termination                                1.071732\n",
       "years_build_avg                                 1.070378\n",
       "name_contract_status_Returned to the store      1.065675\n",
       "days_last_due_anom                              1.065291\n",
       "svd_ftr_138                                     1.063563\n",
       "svd_ftr_139                                     1.061535\n",
       "cnt_fam_members                                 1.058379\n",
       "name_goods_category_Clothing and Accessories    1.057639\n",
       "Length: 100, dtype: float64"
      ]
     },
     "execution_count": 59,
     "metadata": {},
     "output_type": "execute_result"
    }
   ],
   "source": [
    "overall_topN"
   ]
  },
  {
   "cell_type": "markdown",
   "metadata": {},
   "source": [
    "Save Output"
   ]
  },
  {
   "cell_type": "code",
   "execution_count": 60,
   "metadata": {
    "collapsed": true
   },
   "outputs": [],
   "source": [
    "all_selected_ftrs.to_csv('extra/all_selected_ftrs.csv')"
   ]
  },
  {
   "cell_type": "code",
   "execution_count": null,
   "metadata": {
    "collapsed": true
   },
   "outputs": [],
   "source": []
  }
 ],
 "metadata": {
  "kernelspec": {
   "display_name": "Python 3",
   "language": "python",
   "name": "python3"
  },
  "language_info": {
   "codemirror_mode": {
    "name": "ipython",
    "version": 3
   },
   "file_extension": ".py",
   "mimetype": "text/x-python",
   "name": "python",
   "nbconvert_exporter": "python",
   "pygments_lexer": "ipython3",
   "version": "3.6.1"
  }
 },
 "nbformat": 4,
 "nbformat_minor": 2
}
