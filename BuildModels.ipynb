{
 "cells": [
  {
   "cell_type": "code",
   "execution_count": 1,
   "metadata": {
    "collapsed": true
   },
   "outputs": [],
   "source": [
    "import os\n",
    "import datetime as dt\n",
    "import time\n",
    "import json\n",
    "\n",
    "import pandas as pd\n",
    "import numpy as np\n",
    "\n",
    "from sklearn.preprocessing import StandardScaler, MinMaxScaler, RobustScaler\n",
    "from sklearn.model_selection import cross_val_score, StratifiedKFold\n",
    "from sklearn import metrics\n",
    "\n",
    "# https://stackoverflow.com/questions/14254203/mixing-categorial-and-continuous-data-in-naive-bayes-classifier-using-scikit-lea?rq=1\n",
    "from sklearn.naive_bayes import BernoulliNB, GaussianNB, MultinomialNB\n",
    "from sklearn.ensemble import ExtraTreesClassifier, RandomForestClassifier, GradientBoostingClassifier, AdaBoostClassifier\n",
    "\n",
    "import xgboost as xgb\n",
    "from xgboost import XGBClassifier\n",
    "import lightgbm as lgb\n",
    "from lightgbm import LGBMClassifier"
   ]
  },
  {
   "cell_type": "code",
   "execution_count": 2,
   "metadata": {
    "collapsed": true
   },
   "outputs": [],
   "source": [
    "today = dt.date.today()"
   ]
  },
  {
   "cell_type": "code",
   "execution_count": 3,
   "metadata": {
    "collapsed": true
   },
   "outputs": [],
   "source": [
    "# should've done this in cleaning\n",
    "# rscaler = RobustScaler()\n",
    "# rscaler.fit(x_train)\n",
    "\n",
    "# x_train_scaled = rscaler.transform(x_train)\n",
    "# x_test_scaled = rscaler.transform(x_train)"
   ]
  },
  {
   "cell_type": "markdown",
   "metadata": {},
   "source": [
    "## Overview\n",
    "\n",
    "This notebook is going to be used a few times to get parameters for models and test out different configurations or sets of features. \n",
    "\n",
    "The first time through I tried out a bunch of different algorthims (mainly tree algorithms) and parameters.\n",
    "I attempted to grid-search parameters, but doing so was to resource intensive and would take days to finish even for only a modest parameter search space. I ended up running bayesian optimizations on the model parameters and found that LightGBM was the best combination of fast and high auc (approximately the same as xgboost and a fraction of the time).\n",
    "\n",
    "For further explorations and iterations I stuck with LGBM."
   ]
  },
  {
   "cell_type": "markdown",
   "metadata": {},
   "source": [
    "### Config Vars"
   ]
  },
  {
   "cell_type": "code",
   "execution_count": 28,
   "metadata": {
    "collapsed": true
   },
   "outputs": [],
   "source": [
    "PK = 'sk_id_curr'\n",
    "TARGET = 'target'\n",
    "N_CV = 4\n",
    "SEED = 1111\n",
    "DATA_DIR = 'clean_data/'\n",
    "\n",
    "TRAIN_FILE = os.path.join(DATA_DIR, 'mrgd_train.csv')\n",
    "TEST_FILE = os.path.join(DATA_DIR, 'mrgd_test.csv')\n",
    "SUBMISSION_OUTPUT_FILE = os.path.join(DATA_DIR, 'submission_out.csv')\n",
    "\n",
    "DTYPES = {'sk_id_curr':str, 'sk_id_bureau':str, 'sk_id_prev':str,'num_instalment_version':str}\n",
    "\n"
   ]
  },
  {
   "cell_type": "markdown",
   "metadata": {},
   "source": [
    "### Load Data"
   ]
  },
  {
   "cell_type": "code",
   "execution_count": 5,
   "metadata": {},
   "outputs": [
    {
     "data": {
      "text/plain": [
       "((307511, 527), (48744, 526))"
      ]
     },
     "execution_count": 5,
     "metadata": {},
     "output_type": "execute_result"
    }
   ],
   "source": [
    "train = pd.read_csv(TRAIN_FILE, dtype=DTYPES)\n",
    "test = pd.read_csv(TEST_FILE, dtype=DTYPES)\n",
    "train.shape, test.shape"
   ]
  },
  {
   "cell_type": "code",
   "execution_count": 6,
   "metadata": {
    "scrolled": true
   },
   "outputs": [
    {
     "data": {
      "text/html": [
       "<div>\n",
       "<style>\n",
       "    .dataframe thead tr:only-child th {\n",
       "        text-align: right;\n",
       "    }\n",
       "\n",
       "    .dataframe thead th {\n",
       "        text-align: left;\n",
       "    }\n",
       "\n",
       "    .dataframe tbody tr th {\n",
       "        vertical-align: top;\n",
       "    }\n",
       "</style>\n",
       "<table border=\"1\" class=\"dataframe\">\n",
       "  <thead>\n",
       "    <tr style=\"text-align: right;\">\n",
       "      <th></th>\n",
       "      <th>sk_id_curr</th>\n",
       "      <th>flag_own_car</th>\n",
       "      <th>flag_own_realty</th>\n",
       "      <th>name_contract_type</th>\n",
       "      <th>flag_cont_mobile</th>\n",
       "      <th>flag_document_10</th>\n",
       "      <th>flag_document_11</th>\n",
       "      <th>flag_document_12</th>\n",
       "      <th>flag_document_13</th>\n",
       "      <th>flag_document_14</th>\n",
       "      <th>...</th>\n",
       "      <th>sk_dpd_pos</th>\n",
       "      <th>name_contract_status_Active</th>\n",
       "      <th>name_contract_status_Amortized debt</th>\n",
       "      <th>name_contract_status_Approved_pos</th>\n",
       "      <th>name_contract_status_Canceled_pos</th>\n",
       "      <th>name_contract_status_Completed_pos</th>\n",
       "      <th>name_contract_status_Demand_pos</th>\n",
       "      <th>name_contract_status_Returned to the store</th>\n",
       "      <th>name_contract_status_Signed_pos</th>\n",
       "      <th>target</th>\n",
       "    </tr>\n",
       "  </thead>\n",
       "  <tbody>\n",
       "    <tr>\n",
       "      <th>0</th>\n",
       "      <td>100002</td>\n",
       "      <td>0</td>\n",
       "      <td>1</td>\n",
       "      <td>0</td>\n",
       "      <td>1</td>\n",
       "      <td>0</td>\n",
       "      <td>0</td>\n",
       "      <td>0</td>\n",
       "      <td>0</td>\n",
       "      <td>0</td>\n",
       "      <td>...</td>\n",
       "      <td>0.0</td>\n",
       "      <td>19.0</td>\n",
       "      <td>0.0</td>\n",
       "      <td>0.0</td>\n",
       "      <td>0.0</td>\n",
       "      <td>0.0</td>\n",
       "      <td>0.0</td>\n",
       "      <td>0.0</td>\n",
       "      <td>0.0</td>\n",
       "      <td>1</td>\n",
       "    </tr>\n",
       "    <tr>\n",
       "      <th>1</th>\n",
       "      <td>100003</td>\n",
       "      <td>0</td>\n",
       "      <td>0</td>\n",
       "      <td>0</td>\n",
       "      <td>1</td>\n",
       "      <td>0</td>\n",
       "      <td>0</td>\n",
       "      <td>0</td>\n",
       "      <td>0</td>\n",
       "      <td>0</td>\n",
       "      <td>...</td>\n",
       "      <td>0.0</td>\n",
       "      <td>26.0</td>\n",
       "      <td>0.0</td>\n",
       "      <td>0.0</td>\n",
       "      <td>0.0</td>\n",
       "      <td>2.0</td>\n",
       "      <td>0.0</td>\n",
       "      <td>0.0</td>\n",
       "      <td>0.0</td>\n",
       "      <td>0</td>\n",
       "    </tr>\n",
       "    <tr>\n",
       "      <th>2</th>\n",
       "      <td>100004</td>\n",
       "      <td>1</td>\n",
       "      <td>1</td>\n",
       "      <td>1</td>\n",
       "      <td>1</td>\n",
       "      <td>0</td>\n",
       "      <td>0</td>\n",
       "      <td>0</td>\n",
       "      <td>0</td>\n",
       "      <td>0</td>\n",
       "      <td>...</td>\n",
       "      <td>0.0</td>\n",
       "      <td>3.0</td>\n",
       "      <td>0.0</td>\n",
       "      <td>0.0</td>\n",
       "      <td>0.0</td>\n",
       "      <td>1.0</td>\n",
       "      <td>0.0</td>\n",
       "      <td>0.0</td>\n",
       "      <td>0.0</td>\n",
       "      <td>0</td>\n",
       "    </tr>\n",
       "    <tr>\n",
       "      <th>3</th>\n",
       "      <td>100006</td>\n",
       "      <td>0</td>\n",
       "      <td>1</td>\n",
       "      <td>0</td>\n",
       "      <td>1</td>\n",
       "      <td>0</td>\n",
       "      <td>0</td>\n",
       "      <td>0</td>\n",
       "      <td>0</td>\n",
       "      <td>0</td>\n",
       "      <td>...</td>\n",
       "      <td>0.0</td>\n",
       "      <td>18.0</td>\n",
       "      <td>0.0</td>\n",
       "      <td>0.0</td>\n",
       "      <td>0.0</td>\n",
       "      <td>2.0</td>\n",
       "      <td>0.0</td>\n",
       "      <td>1.0</td>\n",
       "      <td>0.0</td>\n",
       "      <td>0</td>\n",
       "    </tr>\n",
       "    <tr>\n",
       "      <th>4</th>\n",
       "      <td>100007</td>\n",
       "      <td>0</td>\n",
       "      <td>1</td>\n",
       "      <td>0</td>\n",
       "      <td>1</td>\n",
       "      <td>0</td>\n",
       "      <td>0</td>\n",
       "      <td>0</td>\n",
       "      <td>0</td>\n",
       "      <td>0</td>\n",
       "      <td>...</td>\n",
       "      <td>0.0</td>\n",
       "      <td>62.0</td>\n",
       "      <td>0.0</td>\n",
       "      <td>0.0</td>\n",
       "      <td>0.0</td>\n",
       "      <td>3.0</td>\n",
       "      <td>0.0</td>\n",
       "      <td>0.0</td>\n",
       "      <td>1.0</td>\n",
       "      <td>0</td>\n",
       "    </tr>\n",
       "  </tbody>\n",
       "</table>\n",
       "<p>5 rows × 527 columns</p>\n",
       "</div>"
      ],
      "text/plain": [
       "  sk_id_curr  flag_own_car  flag_own_realty  name_contract_type  \\\n",
       "0     100002             0                1                   0   \n",
       "1     100003             0                0                   0   \n",
       "2     100004             1                1                   1   \n",
       "3     100006             0                1                   0   \n",
       "4     100007             0                1                   0   \n",
       "\n",
       "   flag_cont_mobile  flag_document_10  flag_document_11  flag_document_12  \\\n",
       "0                 1                 0                 0                 0   \n",
       "1                 1                 0                 0                 0   \n",
       "2                 1                 0                 0                 0   \n",
       "3                 1                 0                 0                 0   \n",
       "4                 1                 0                 0                 0   \n",
       "\n",
       "   flag_document_13  flag_document_14   ...    sk_dpd_pos  \\\n",
       "0                 0                 0   ...           0.0   \n",
       "1                 0                 0   ...           0.0   \n",
       "2                 0                 0   ...           0.0   \n",
       "3                 0                 0   ...           0.0   \n",
       "4                 0                 0   ...           0.0   \n",
       "\n",
       "   name_contract_status_Active  name_contract_status_Amortized debt  \\\n",
       "0                         19.0                                  0.0   \n",
       "1                         26.0                                  0.0   \n",
       "2                          3.0                                  0.0   \n",
       "3                         18.0                                  0.0   \n",
       "4                         62.0                                  0.0   \n",
       "\n",
       "   name_contract_status_Approved_pos  name_contract_status_Canceled_pos  \\\n",
       "0                                0.0                                0.0   \n",
       "1                                0.0                                0.0   \n",
       "2                                0.0                                0.0   \n",
       "3                                0.0                                0.0   \n",
       "4                                0.0                                0.0   \n",
       "\n",
       "   name_contract_status_Completed_pos  name_contract_status_Demand_pos  \\\n",
       "0                                 0.0                              0.0   \n",
       "1                                 2.0                              0.0   \n",
       "2                                 1.0                              0.0   \n",
       "3                                 2.0                              0.0   \n",
       "4                                 3.0                              0.0   \n",
       "\n",
       "   name_contract_status_Returned to the store  \\\n",
       "0                                         0.0   \n",
       "1                                         0.0   \n",
       "2                                         0.0   \n",
       "3                                         1.0   \n",
       "4                                         0.0   \n",
       "\n",
       "   name_contract_status_Signed_pos  target  \n",
       "0                              0.0       1  \n",
       "1                              0.0       0  \n",
       "2                              0.0       0  \n",
       "3                              0.0       0  \n",
       "4                              1.0       0  \n",
       "\n",
       "[5 rows x 527 columns]"
      ]
     },
     "execution_count": 6,
     "metadata": {},
     "output_type": "execute_result"
    }
   ],
   "source": [
    "train.head()"
   ]
  },
  {
   "cell_type": "markdown",
   "metadata": {},
   "source": [
    "Separate keys, target, train and test"
   ]
  },
  {
   "cell_type": "code",
   "execution_count": 8,
   "metadata": {
    "scrolled": true
   },
   "outputs": [
    {
     "data": {
      "text/plain": [
       "0    282686\n",
       "1     24825\n",
       "dtype: int64"
      ]
     },
     "execution_count": 8,
     "metadata": {},
     "output_type": "execute_result"
    }
   ],
   "source": [
    "# Target var\n",
    "y_train = train[TARGET].values\n",
    "pd.value_counts(y_train)"
   ]
  },
  {
   "cell_type": "code",
   "execution_count": 9,
   "metadata": {
    "collapsed": true
   },
   "outputs": [],
   "source": [
    "# sk ids\n",
    "train_id = train[PK]\n",
    "test_id = test[PK]"
   ]
  },
  {
   "cell_type": "code",
   "execution_count": 10,
   "metadata": {
    "collapsed": true
   },
   "outputs": [],
   "source": [
    "train.drop([PK, TARGET], axis=1, inplace=True)\n",
    "test.drop(PK, axis=1, inplace=True)"
   ]
  },
  {
   "cell_type": "code",
   "execution_count": 11,
   "metadata": {},
   "outputs": [
    {
     "name": "stdout",
     "output_type": "stream",
     "text": [
      "(307511, 525),(48744, 525)\n"
     ]
    }
   ],
   "source": [
    "print(\"{},{}\".format(train.shape, test.shape))"
   ]
  },
  {
   "cell_type": "code",
   "execution_count": 13,
   "metadata": {
    "collapsed": true
   },
   "outputs": [],
   "source": [
    "features = train.columns"
   ]
  },
  {
   "cell_type": "code",
   "execution_count": 14,
   "metadata": {
    "collapsed": true
   },
   "outputs": [],
   "source": [
    "# make arrays\n",
    "x_train = train[features].values\n",
    "x_test = test[features].values\n",
    "###\n",
    "x_train = train.values\n",
    "x_test = test.values"
   ]
  },
  {
   "cell_type": "markdown",
   "metadata": {},
   "source": [
    "### Grid Search Params"
   ]
  },
  {
   "cell_type": "code",
   "execution_count": 15,
   "metadata": {
    "collapsed": true
   },
   "outputs": [],
   "source": [
    "from sklearn.model_selection import GridSearchCV"
   ]
  },
  {
   "cell_type": "code",
   "execution_count": 16,
   "metadata": {
    "collapsed": true
   },
   "outputs": [],
   "source": [
    "et_default_params = {\n",
    "    'n_jobs': -1,\n",
    "    'verbose' : 1\n",
    "}\n",
    "\n",
    "rf_default_params = {\n",
    "    'n_jobs': -1,\n",
    "    'verbose' : 1\n",
    "}\n",
    "\n",
    "gb_default_params = {\n",
    "    'verbose' : 1\n",
    "}\n",
    "\n",
    "xgb_default_params = {\n",
    "    'silent': 0,\n",
    "    'n_jobs': -1,\n",
    "    'objective': 'binary:logistic',\n",
    "    'eval_metric': 'auc'\n",
    "}\n",
    "\n",
    "lgb_default_params = {\n",
    "    'silent': 0,\n",
    "    'n_jobs': -1,\n",
    "    'objective': 'binary',\n",
    "    'metric': 'auc',\n",
    "    #'is_unbalanced':True\n",
    "}"
   ]
  },
  {
   "cell_type": "code",
   "execution_count": 17,
   "metadata": {
    "collapsed": true
   },
   "outputs": [],
   "source": [
    "et_params = {\n",
    "    'n_estimators': list(range(25,201, 25)),\n",
    "    'max_features': [0.01, 0.05, 0.1, 0.3, 0.5, 0.75],\n",
    "    'max_depth': list(range(5,26, 5)),\n",
    "}\n",
    "\n",
    "rf_params = {\n",
    "    'n_estimators': list(range(25,201, 25)),\n",
    "    'max_features': [0.01, 0.1, 0.5, 0.8],\n",
    "    'max_depth': list(range(5,26, 5)),\n",
    "}\n",
    "\n",
    "\n",
    "gb_params = {\n",
    "    'n_estimators': range(20, 101, 20),\n",
    "    'learning_rate': [0.01, 0.1, 0.5, 0.8],\n",
    "    'max_features': [0.01, 0.1, 0.5, 0.8],\n",
    "    'max_depth': list(range(5,26, 5)),\n",
    "}\n",
    "\n",
    "\n",
    "xgb_params = {\n",
    "    'colsample_bytree': [0.01, 0.1, 0.5, 0.8],\n",
    "    'subsample': [0.01, 0.1, 0.5, 0.8],\n",
    "    'learning_rate': [0.01, 0.1, 0.5, 0.8],\n",
    "    'max_depth': list(range(5,26, 5)),\n",
    "    'scale_pos_weight': range(2, int(pd.value_counts(y_train)[0]/pd.value_counts(y_train)[1])*2, 4),\n",
    "    'nrounds': [2**n for n in range(5,9)]\n",
    "}\n",
    "\n",
    "lgb_params = {\n",
    "    'boosting': ['gbdt', 'dart'],\n",
    "    'num_iterations': [2**n for n in range(5,10)],\n",
    "    'learning_rate': [0.01, 0.1, 0.5, 0.8],\n",
    "    'max_depth': list(range(5,26, 5)),\n",
    "    'scale_pos_weight': range(2, int(pd.value_counts(y_train)[0]/pd.value_counts(y_train)[1])*2, 4),\n",
    "    'subsample': [0.01, 0.1, 0.5, 0.8],\n",
    "    'colsample_bytree': [0.01, 0.1, 0.5, 0.8],\n",
    "}\n",
    "\n",
    "# potential other params afterwords\n",
    "# 'lambda_l1': [0, 0.6,]\n",
    "# 'lambda_l2': [0, 0.6,]"
   ]
  },
  {
   "cell_type": "code",
   "execution_count": 18,
   "metadata": {},
   "outputs": [
    {
     "data": {
      "text/plain": [
       "6400"
      ]
     },
     "execution_count": 18,
     "metadata": {},
     "output_type": "execute_result"
    }
   ],
   "source": [
    "np.prod(list(map(len, xgb_params.values())))"
   ]
  },
  {
   "cell_type": "code",
   "execution_count": 19,
   "metadata": {
    "collapsed": true
   },
   "outputs": [],
   "source": [
    "# OVERSAMPLE\n",
    "def get_weights(ser):\n",
    "    vcs = ser.value_counts()\n",
    "    class_labels = vcs.index.tolist()\n",
    "    class_sizes = vcs.values\n",
    "    nclasses = len(class_labels)\n",
    "    class_weights = dict(zip(class_labels,(nclasses**-1/class_sizes)))\n",
    "    return class_weights\n",
    "\n",
    "def oversample(ser, size):\n",
    "    p = ser.map(get_weights(ser))\n",
    "    samp = np.random.choice(ser.index,size,p = p)\n",
    "    return samp\n",
    "\n",
    "\n",
    "def grid_search_params(algo, default_params, grid_params, cv=N_CV, \n",
    "                       x_train=x_train, y_train=y_train):\n",
    "    est = algo(**default_params)\n",
    "    grid = GridSearchCV(est, grid_params, scoring='roc_auc', cv=cv, n_jobs=-1, )\n",
    "    print('Grid Searching Params')\n",
    "    \n",
    "    start = time.time()\n",
    "    grid.fit(x_train, y_train)\n",
    "    print('Fitting Completed in {} minutes'.format((time.time()-start)/60))\n",
    "    print('Best Score', grid.best_score_)\n",
    "    \n",
    "    return grid.best_estimator, grid.best_params"
   ]
  },
  {
   "cell_type": "code",
   "execution_count": 18,
   "metadata": {
    "collapsed": true
   },
   "outputs": [],
   "source": [
    "# results={}"
   ]
  },
  {
   "cell_type": "code",
   "execution_count": 19,
   "metadata": {
    "collapsed": true
   },
   "outputs": [],
   "source": [
    "# names = ['et', 'rf', 'gb', 'xgb', 'lgb']\n",
    "# algos = [ExtraTreesClassifier, RandomForestClassifier, GradientBoostingClassifier, XGBClassifier, LGBMClassifier]\n",
    "# default_params = [et_default_params, rf_default_params, gb_default_params, xgb_default_params, lgb_default_params]\n",
    "# param_grids = [et_params, rf_params, gb_params, xgb_params, lgb_params]\n",
    "\n",
    "\n",
    "# for name, algo, dparams, gparams in zip(algos,default_params,param_grids):\n",
    "#     best_estimator, best_params = grid_search_params(algo, dparams, gparams)\n",
    "#     results[name] = (best_estimator, best_params)"
   ]
  },
  {
   "cell_type": "markdown",
   "metadata": {
    "collapsed": true
   },
   "source": [
    "### Bayesian Param Search"
   ]
  },
  {
   "cell_type": "markdown",
   "metadata": {},
   "source": [
    "New to this - exploring using bayes_opt python package for finding optimal parameters"
   ]
  },
  {
   "cell_type": "code",
   "execution_count": 20,
   "metadata": {
    "collapsed": true
   },
   "outputs": [],
   "source": [
    "from bayes_opt import BayesianOptimization"
   ]
  },
  {
   "cell_type": "code",
   "execution_count": 21,
   "metadata": {
    "collapsed": true
   },
   "outputs": [],
   "source": [
    "all_results = {}"
   ]
  },
  {
   "cell_type": "markdown",
   "metadata": {},
   "source": [
    "#### Random Forest"
   ]
  },
  {
   "cell_type": "code",
   "execution_count": 66,
   "metadata": {
    "collapsed": true
   },
   "outputs": [],
   "source": [
    "def rf_func(**params):\n",
    "    params['n_estimators'] = int(np.round(params['n_estimators']))\n",
    "    params['max_depth'] = int(np.round(params['max_depth']))\n",
    "    \n",
    "    \n",
    "    est = RandomForestClassifier(**rf_default_params, **params)\n",
    "    cv = StratifiedKFold(N_CV, True, SEED)\n",
    "    roc_auc = np.mean(cross_val_score(est, x_train, y_train, scoring='roc_auc', cv=cv, n_jobs=-1))\n",
    "    return roc_auc"
   ]
  },
  {
   "cell_type": "code",
   "execution_count": 23,
   "metadata": {},
   "outputs": [
    {
     "data": {
      "text/plain": [
       "{'max_depth': (5, 25), 'max_features': (0.01, 0.8), 'n_estimators': (25, 200)}"
      ]
     },
     "execution_count": 23,
     "metadata": {},
     "output_type": "execute_result"
    }
   ],
   "source": [
    "{p: (min(rf_params[p]), max(rf_params[p])) for p in rf_params}"
   ]
  },
  {
   "cell_type": "code",
   "execution_count": 24,
   "metadata": {},
   "outputs": [
    {
     "name": "stdout",
     "output_type": "stream",
     "text": [
      "\u001b[31mInitialization\u001b[0m\n",
      "\u001b[94m-----------------------------------------------------------------------------\u001b[0m\n",
      " Step |   Time |      Value |   max_depth |   max_features |   n_estimators | \n"
     ]
    },
    {
     "name": "stderr",
     "output_type": "stream",
     "text": [
      "[Parallel(n_jobs=-1)]: Done  22 out of  42 | elapsed:    7.9s remaining:    7.2s\n",
      "[Parallel(n_jobs=-1)]: Done  22 out of  42 | elapsed:   11.3s remaining:   10.3s\n",
      "[Parallel(n_jobs=-1)]: Done  22 out of  42 | elapsed:   11.0s remaining:   10.0s\n",
      "[Parallel(n_jobs=-1)]: Done  42 out of  42 | elapsed:   16.4s finished\n",
      "[Parallel(n_jobs=32)]: Done  22 out of  42 | elapsed:    0.1s remaining:    0.1s\n",
      "[Parallel(n_jobs=32)]: Done  42 out of  42 | elapsed:    0.1s finished\n",
      "[Parallel(n_jobs=-1)]: Done  42 out of  42 | elapsed:   15.8s finished\n",
      "[Parallel(n_jobs=32)]: Done  22 out of  42 | elapsed:    0.1s remaining:    0.0s\n",
      "[Parallel(n_jobs=32)]: Done  42 out of  42 | elapsed:    0.1s finished\n",
      "[Parallel(n_jobs=-1)]: Done  42 out of  42 | elapsed:   13.7s finished\n",
      "[Parallel(n_jobs=32)]: Done  22 out of  42 | elapsed:    0.0s remaining:    0.0s\n",
      "[Parallel(n_jobs=32)]: Done  42 out of  42 | elapsed:    0.0s finished\n"
     ]
    },
    {
     "name": "stdout",
     "output_type": "stream",
     "text": [
      "    1 | 00m24s | \u001b[35m   0.73414\u001b[0m | \u001b[32m     7.4374\u001b[0m | \u001b[32m        0.2544\u001b[0m | \u001b[32m       41.5493\u001b[0m | \n"
     ]
    },
    {
     "name": "stderr",
     "output_type": "stream",
     "text": [
      "[Parallel(n_jobs=-1)]: Done 184 out of 184 | elapsed:  1.0min finished\n",
      "[Parallel(n_jobs=32)]: Done 184 out of 184 | elapsed:    0.7s finished\n",
      "[Parallel(n_jobs=-1)]: Done 184 out of 184 | elapsed:  1.0min finished\n",
      "[Parallel(n_jobs=32)]: Done 184 out of 184 | elapsed:    0.2s finished\n",
      "[Parallel(n_jobs=-1)]: Done 184 out of 184 | elapsed:  1.0min finished\n",
      "[Parallel(n_jobs=32)]: Done 184 out of 184 | elapsed:    0.1s finished\n"
     ]
    },
    {
     "name": "stdout",
     "output_type": "stream",
     "text": [
      "    2 | 01m11s |    0.73283 |      5.8668 |         0.2426 |       183.9660 | \n"
     ]
    },
    {
     "name": "stderr",
     "output_type": "stream",
     "text": [
      "[Parallel(n_jobs=-1)]: Done 108 out of 108 | elapsed:  4.1min finished\n",
      "[Parallel(n_jobs=32)]: Done 108 out of 108 | elapsed:    0.4s finished\n",
      "[Parallel(n_jobs=-1)]: Done 108 out of 108 | elapsed:  4.1min finished\n",
      "[Parallel(n_jobs=32)]: Done 108 out of 108 | elapsed:    0.2s finished\n",
      "[Parallel(n_jobs=-1)]: Done 108 out of 108 | elapsed:  4.1min finished\n",
      "[Parallel(n_jobs=32)]: Done 108 out of 108 | elapsed:    0.2s finished\n"
     ]
    },
    {
     "name": "stdout",
     "output_type": "stream",
     "text": [
      "    3 | 04m16s |    0.72912 |     22.9233 |         0.5312 |       107.9804 | \n"
     ]
    },
    {
     "name": "stderr",
     "output_type": "stream",
     "text": [
      "[Parallel(n_jobs=-1)]: Done  89 out of  89 | elapsed:   14.4s finished\n",
      "[Parallel(n_jobs=32)]: Done  89 out of  89 | elapsed:    0.8s finished\n",
      "[Parallel(n_jobs=-1)]: Done  89 out of  89 | elapsed:   16.2s finished\n",
      "[Parallel(n_jobs=32)]: Done  89 out of  89 | elapsed:    0.2s finished\n",
      "[Parallel(n_jobs=-1)]: Done  89 out of  89 | elapsed:   14.8s finished\n",
      "[Parallel(n_jobs=32)]: Done  89 out of  89 | elapsed:    0.1s finished\n"
     ]
    },
    {
     "name": "stdout",
     "output_type": "stream",
     "text": [
      "    4 | 00m25s | \u001b[35m   0.73912\u001b[0m | \u001b[32m     7.9209\u001b[0m | \u001b[32m        0.1089\u001b[0m | \u001b[32m       88.9806\u001b[0m | \n"
     ]
    },
    {
     "name": "stderr",
     "output_type": "stream",
     "text": [
      "[Parallel(n_jobs=-1)]: Done 136 tasks      | elapsed:   11.6s\n",
      "[Parallel(n_jobs=-1)]: Done 136 tasks      | elapsed:   15.6s\n",
      "[Parallel(n_jobs=-1)]: Done 199 out of 199 | elapsed:   17.7s finished\n",
      "[Parallel(n_jobs=-1)]: Done 136 tasks      | elapsed:   16.3s\n",
      "[Parallel(n_jobs=32)]: Done 136 tasks      | elapsed:    1.1s\n",
      "[Parallel(n_jobs=32)]: Done 199 out of 199 | elapsed:    1.4s finished\n",
      "[Parallel(n_jobs=-1)]: Done 199 out of 199 | elapsed:   19.7s finished\n",
      "[Parallel(n_jobs=32)]: Done 136 tasks      | elapsed:    0.3s\n",
      "[Parallel(n_jobs=-1)]: Done 199 out of 199 | elapsed:   18.9s finished\n",
      "[Parallel(n_jobs=32)]: Done 199 out of 199 | elapsed:    0.4s finished\n",
      "[Parallel(n_jobs=32)]: Done 136 tasks      | elapsed:    0.2s\n",
      "[Parallel(n_jobs=32)]: Done 199 out of 199 | elapsed:    0.3s finished\n"
     ]
    },
    {
     "name": "stdout",
     "output_type": "stream",
     "text": [
      "    5 | 00m28s |    0.72735 |     21.3737 |         0.0241 |       199.2049 | \n"
     ]
    },
    {
     "name": "stderr",
     "output_type": "stream",
     "text": [
      "[Parallel(n_jobs=-1)]: Done  38 out of  50 | elapsed:    4.7s remaining:    1.5s\n",
      "[Parallel(n_jobs=-1)]: Done  50 out of  50 | elapsed:    6.0s finished\n",
      "[Parallel(n_jobs=32)]: Done  38 out of  50 | elapsed:    0.6s remaining:    0.2s\n",
      "[Parallel(n_jobs=32)]: Done  50 out of  50 | elapsed:    0.6s finished\n",
      "[Parallel(n_jobs=-1)]: Done  38 out of  50 | elapsed:    7.1s remaining:    2.2s\n",
      "[Parallel(n_jobs=-1)]: Done  50 out of  50 | elapsed:    7.5s finished\n",
      "[Parallel(n_jobs=32)]: Done  38 out of  50 | elapsed:    0.2s remaining:    0.1s\n",
      "[Parallel(n_jobs=32)]: Done  50 out of  50 | elapsed:    0.2s finished\n",
      "[Parallel(n_jobs=-1)]: Done  38 out of  50 | elapsed:    6.4s remaining:    2.0s\n",
      "[Parallel(n_jobs=-1)]: Done  50 out of  50 | elapsed:    6.6s finished\n",
      "[Parallel(n_jobs=32)]: Done  38 out of  50 | elapsed:    0.1s remaining:    0.0s\n",
      "[Parallel(n_jobs=32)]: Done  50 out of  50 | elapsed:    0.1s finished\n"
     ]
    },
    {
     "name": "stdout",
     "output_type": "stream",
     "text": [
      "    6 | 00m16s |    0.71849 |     20.2962 |         0.0517 |        49.5779 | \n"
     ]
    },
    {
     "name": "stderr",
     "output_type": "stream",
     "text": [
      "[Parallel(n_jobs=-1)]: Done 128 out of 128 | elapsed:   21.7s finished\n",
      "[Parallel(n_jobs=32)]: Done 128 out of 128 | elapsed:    0.9s finished\n",
      "[Parallel(n_jobs=-1)]: Done 128 out of 128 | elapsed:   23.6s finished\n",
      "[Parallel(n_jobs=32)]: Done 128 out of 128 | elapsed:    0.3s finished\n",
      "[Parallel(n_jobs=-1)]: Done 128 out of 128 | elapsed:   22.9s finished\n",
      "[Parallel(n_jobs=32)]: Done 128 out of 128 | elapsed:    0.1s finished\n"
     ]
    },
    {
     "name": "stdout",
     "output_type": "stream",
     "text": [
      "    7 | 00m32s | \u001b[35m   0.74199\u001b[0m | \u001b[32m    13.4273\u001b[0m | \u001b[32m        0.0688\u001b[0m | \u001b[32m      128.4444\u001b[0m | \n"
     ]
    },
    {
     "name": "stderr",
     "output_type": "stream",
     "text": [
      "[Parallel(n_jobs=-1)]: Done  96 out of  96 | elapsed:  2.6min finished\n",
      "[Parallel(n_jobs=32)]: Done  96 out of  96 | elapsed:    0.4s finished\n",
      "[Parallel(n_jobs=-1)]: Done  96 out of  96 | elapsed:  2.6min finished\n",
      "[Parallel(n_jobs=32)]: Done  96 out of  96 | elapsed:    0.2s finished\n",
      "[Parallel(n_jobs=-1)]: Done  96 out of  96 | elapsed:  2.6min finished\n",
      "[Parallel(n_jobs=32)]: Done  96 out of  96 | elapsed:    0.1s finished\n"
     ]
    },
    {
     "name": "stdout",
     "output_type": "stream",
     "text": [
      "    8 | 02m45s |    0.72807 |     24.4927 |         0.3694 |        96.4833 | \n"
     ]
    },
    {
     "name": "stderr",
     "output_type": "stream",
     "text": [
      "[Parallel(n_jobs=-1)]: Done  99 out of  99 | elapsed:  2.4min finished\n",
      "[Parallel(n_jobs=32)]: Done  99 out of  99 | elapsed:    0.2s finished\n",
      "[Parallel(n_jobs=-1)]: Done  99 out of  99 | elapsed:  2.4min finished\n",
      "[Parallel(n_jobs=32)]: Done  99 out of  99 | elapsed:    0.2s finished\n",
      "[Parallel(n_jobs=-1)]: Done  99 out of  99 | elapsed:  2.4min finished\n",
      "[Parallel(n_jobs=32)]: Done  99 out of  99 | elapsed:    0.1s finished\n"
     ]
    },
    {
     "name": "stdout",
     "output_type": "stream",
     "text": [
      "    9 | 02m35s |    0.73232 |     21.1830 |         0.3611 |        99.1009 | \n"
     ]
    },
    {
     "name": "stderr",
     "output_type": "stream",
     "text": [
      "[Parallel(n_jobs=-1)]: Done 124 out of 124 | elapsed:  2.7min finished\n",
      "[Parallel(n_jobs=32)]: Done 124 out of 124 | elapsed:    0.6s finished\n",
      "[Parallel(n_jobs=-1)]: Done 124 out of 124 | elapsed:  2.8min finished\n",
      "[Parallel(n_jobs=32)]: Done 124 out of 124 | elapsed:    0.3s finished\n",
      "[Parallel(n_jobs=-1)]: Done 124 out of 124 | elapsed:  2.7min finished\n",
      "[Parallel(n_jobs=32)]: Done 124 out of 124 | elapsed:    0.2s finished\n"
     ]
    },
    {
     "name": "stdout",
     "output_type": "stream",
     "text": [
      "   10 | 02m54s |    0.73370 |     21.1538 |         0.3352 |       123.5003 | \n",
      "\u001b[31mBayesian Optimization\u001b[0m\n",
      "\u001b[94m-----------------------------------------------------------------------------\u001b[0m\n",
      " Step |   Time |      Value |   max_depth |   max_features |   n_estimators | \n"
     ]
    },
    {
     "name": "stderr",
     "output_type": "stream",
     "text": [
      "[Parallel(n_jobs=-1)]: Done  14 out of  25 | elapsed:    1.1s remaining:    0.9s\n",
      "[Parallel(n_jobs=-1)]: Done  25 out of  25 | elapsed:    1.3s finished\n",
      "[Parallel(n_jobs=25)]: Done   2 out of  25 | elapsed:    0.1s remaining:    0.8s\n",
      "[Parallel(n_jobs=25)]: Done  25 out of  25 | elapsed:    0.1s finished\n",
      "[Parallel(n_jobs=-1)]: Done  14 out of  25 | elapsed:    1.1s remaining:    0.9s\n",
      "[Parallel(n_jobs=-1)]: Done  25 out of  25 | elapsed:    1.3s finished\n",
      "[Parallel(n_jobs=25)]: Done   2 out of  25 | elapsed:    0.0s remaining:    0.2s\n",
      "[Parallel(n_jobs=25)]: Done  25 out of  25 | elapsed:    0.0s finished\n",
      "[Parallel(n_jobs=-1)]: Done  14 out of  25 | elapsed:    1.1s remaining:    0.9s\n",
      "[Parallel(n_jobs=-1)]: Done  25 out of  25 | elapsed:    1.3s finished\n",
      "[Parallel(n_jobs=25)]: Done   2 out of  25 | elapsed:    0.0s remaining:    0.2s\n",
      "[Parallel(n_jobs=25)]: Done  25 out of  25 | elapsed:    0.0s finished\n"
     ]
    },
    {
     "name": "stdout",
     "output_type": "stream",
     "text": [
      "   11 | 00m22s |    0.72538 |      5.0297 |         0.0871 |        25.1072 | \n"
     ]
    },
    {
     "name": "stderr",
     "output_type": "stream",
     "text": [
      "/home/ec2-user/anaconda3/lib/python3.6/site-packages/sklearn/gaussian_process/gpr.py:427: UserWarning: fmin_l_bfgs_b terminated abnormally with the  state: {'grad': array([  3.02513308e-05]), 'task': b'ABNORMAL_TERMINATION_IN_LNSRCH', 'funcalls': 57, 'nit': 6, 'warnflag': 2}\n",
      "  \" state: %s\" % convergence_dict)\n",
      "[Parallel(n_jobs=-1)]: Done 169 out of 169 | elapsed:   38.4s finished\n",
      "[Parallel(n_jobs=32)]: Done 169 out of 169 | elapsed:    1.1s finished\n",
      "[Parallel(n_jobs=-1)]: Done 169 out of 169 | elapsed:   38.9s finished\n",
      "[Parallel(n_jobs=32)]: Done 169 out of 169 | elapsed:    0.4s finished\n",
      "[Parallel(n_jobs=-1)]: Done 169 out of 169 | elapsed:   37.9s finished\n",
      "[Parallel(n_jobs=32)]: Done 169 out of 169 | elapsed:    0.3s finished\n"
     ]
    },
    {
     "name": "stdout",
     "output_type": "stream",
     "text": [
      "   12 | 01m00s |    0.72717 |     24.8663 |         0.0538 |       168.5797 | \n"
     ]
    },
    {
     "name": "stderr",
     "output_type": "stream",
     "text": [
      "/home/ec2-user/anaconda3/lib/python3.6/site-packages/sklearn/gaussian_process/gpr.py:427: UserWarning: fmin_l_bfgs_b terminated abnormally with the  state: {'grad': array([ 0.00015407]), 'task': b'ABNORMAL_TERMINATION_IN_LNSRCH', 'funcalls': 54, 'nit': 5, 'warnflag': 2}\n",
      "  \" state: %s\" % convergence_dict)\n",
      "[Parallel(n_jobs=-1)]: Done 148 out of 148 | elapsed:  2.3min finished\n",
      "[Parallel(n_jobs=32)]: Done 148 out of 148 | elapsed:    0.5s finished\n",
      "[Parallel(n_jobs=-1)]: Done 148 out of 148 | elapsed:  2.3min finished\n",
      "[Parallel(n_jobs=32)]: Done 148 out of 148 | elapsed:    0.2s finished\n",
      "[Parallel(n_jobs=-1)]: Done 148 out of 148 | elapsed:  2.3min finished\n",
      "[Parallel(n_jobs=32)]: Done 148 out of 148 | elapsed:    0.1s finished\n"
     ]
    },
    {
     "name": "stdout",
     "output_type": "stream",
     "text": [
      "   13 | 02m38s |    0.71965 |      5.1368 |         0.7769 |       148.3293 | \n"
     ]
    },
    {
     "name": "stderr",
     "output_type": "stream",
     "text": [
      "[Parallel(n_jobs=-1)]: Done 136 tasks      | elapsed:    5.1s\n",
      "[Parallel(n_jobs=-1)]: Done 200 out of 200 | elapsed:    8.8s finished\n",
      "[Parallel(n_jobs=-1)]: Done 136 tasks      | elapsed:    8.5s\n",
      "[Parallel(n_jobs=32)]: Done 136 tasks      | elapsed:    0.7s\n",
      "[Parallel(n_jobs=32)]: Done 200 out of 200 | elapsed:    0.9s finished\n",
      "[Parallel(n_jobs=-1)]: Done 136 tasks      | elapsed:    8.3s\n",
      "[Parallel(n_jobs=-1)]: Done 200 out of 200 | elapsed:   11.0s finished\n",
      "[Parallel(n_jobs=32)]: Done 136 tasks      | elapsed:    0.4s\n",
      "[Parallel(n_jobs=32)]: Done 200 out of 200 | elapsed:    0.5s finished\n",
      "[Parallel(n_jobs=-1)]: Done 200 out of 200 | elapsed:    9.8s finished\n",
      "[Parallel(n_jobs=32)]: Done 136 tasks      | elapsed:    0.1s\n",
      "[Parallel(n_jobs=32)]: Done 200 out of 200 | elapsed:    0.1s finished\n"
     ]
    },
    {
     "name": "stdout",
     "output_type": "stream",
     "text": [
      "   14 | 00m33s |    0.72407 |      5.1054 |         0.0480 |       199.9276 | \n"
     ]
    },
    {
     "name": "stderr",
     "output_type": "stream",
     "text": [
      "[Parallel(n_jobs=-1)]: Done 114 out of 114 | elapsed:    1.4s finished\n",
      "[Parallel(n_jobs=32)]: Done 114 out of 114 | elapsed:    0.2s finished\n",
      "[Parallel(n_jobs=-1)]: Done 114 out of 114 | elapsed:    1.4s finished\n",
      "[Parallel(n_jobs=32)]: Done 114 out of 114 | elapsed:    0.1s finished\n",
      "[Parallel(n_jobs=-1)]: Done 114 out of 114 | elapsed:    1.4s finished\n",
      "[Parallel(n_jobs=32)]: Done 114 out of 114 | elapsed:    0.1s finished\n"
     ]
    },
    {
     "name": "stdout",
     "output_type": "stream",
     "text": [
      "   15 | 00m23s |    0.69929 |      5.3735 |         0.0175 |       114.3048 | \n"
     ]
    },
    {
     "name": "stderr",
     "output_type": "stream",
     "text": [
      "[Parallel(n_jobs=-1)]: Done  65 out of  65 | elapsed:    1.6s finished\n",
      "[Parallel(n_jobs=32)]: Done  65 out of  65 | elapsed:    0.3s finished\n",
      "[Parallel(n_jobs=-1)]: Done  65 out of  65 | elapsed:    1.7s finished\n",
      "[Parallel(n_jobs=32)]: Done  65 out of  65 | elapsed:    0.2s finished\n",
      "[Parallel(n_jobs=-1)]: Done  65 out of  65 | elapsed:    1.6s finished\n",
      "[Parallel(n_jobs=32)]: Done  65 out of  65 | elapsed:    0.0s finished\n"
     ]
    },
    {
     "name": "stdout",
     "output_type": "stream",
     "text": [
      "   16 | 00m18s |    0.71816 |      5.1554 |         0.0365 |        64.9910 | \n"
     ]
    },
    {
     "name": "stderr",
     "output_type": "stream",
     "text": [
      "/home/ec2-user/anaconda3/lib/python3.6/site-packages/sklearn/gaussian_process/gpr.py:427: UserWarning: fmin_l_bfgs_b terminated abnormally with the  state: {'grad': array([  7.56871800e-05]), 'task': b'ABNORMAL_TERMINATION_IN_LNSRCH', 'funcalls': 55, 'nit': 4, 'warnflag': 2}\n",
      "  \" state: %s\" % convergence_dict)\n",
      "[Parallel(n_jobs=-1)]: Done  14 out of  25 | elapsed:  1.2min remaining:   56.6s\n",
      "[Parallel(n_jobs=-1)]: Done  25 out of  25 | elapsed:  1.3min finished\n",
      "[Parallel(n_jobs=25)]: Done   2 out of  25 | elapsed:    0.1s remaining:    1.6s\n",
      "[Parallel(n_jobs=-1)]: Done  14 out of  25 | elapsed:  1.2min remaining:   58.8s\n",
      "[Parallel(n_jobs=25)]: Done  25 out of  25 | elapsed:    0.2s finished\n",
      "[Parallel(n_jobs=-1)]: Done  25 out of  25 | elapsed:  1.3min finished\n",
      "[Parallel(n_jobs=-1)]: Done  14 out of  25 | elapsed:  1.2min remaining:   58.0s\n",
      "[Parallel(n_jobs=25)]: Done   2 out of  25 | elapsed:    0.0s remaining:    0.5s\n",
      "[Parallel(n_jobs=25)]: Done  25 out of  25 | elapsed:    0.1s finished\n",
      "[Parallel(n_jobs=-1)]: Done  25 out of  25 | elapsed:  1.2min finished\n",
      "[Parallel(n_jobs=25)]: Done   2 out of  25 | elapsed:    0.0s remaining:    0.3s\n",
      "[Parallel(n_jobs=25)]: Done  25 out of  25 | elapsed:    0.0s finished\n"
     ]
    },
    {
     "name": "stdout",
     "output_type": "stream",
     "text": [
      "   17 | 01m32s |    0.70951 |     24.9425 |         0.6668 |        25.1278 | \n"
     ]
    },
    {
     "name": "stderr",
     "output_type": "stream",
     "text": [
      "[Parallel(n_jobs=-1)]: Done 146 out of 146 | elapsed:    6.5s finished\n",
      "[Parallel(n_jobs=32)]: Done 146 out of 146 | elapsed:    1.0s finished\n",
      "[Parallel(n_jobs=-1)]: Done 146 out of 146 | elapsed:    8.2s finished\n",
      "[Parallel(n_jobs=32)]: Done 146 out of 146 | elapsed:    0.5s finished\n",
      "[Parallel(n_jobs=-1)]: Done 146 out of 146 | elapsed:    7.4s finished\n",
      "[Parallel(n_jobs=32)]: Done 146 out of 146 | elapsed:    0.2s finished\n"
     ]
    },
    {
     "name": "stdout",
     "output_type": "stream",
     "text": [
      "   18 | 00m25s |    0.72035 |     19.0471 |         0.0171 |       146.2535 | \n"
     ]
    },
    {
     "name": "stderr",
     "output_type": "stream",
     "text": [
      "[Parallel(n_jobs=-1)]: Done  80 out of  80 | elapsed:  3.7min finished\n",
      "[Parallel(n_jobs=32)]: Done  80 out of  80 | elapsed:    0.4s finished\n",
      "[Parallel(n_jobs=-1)]: Done  80 out of  80 | elapsed:  3.6min finished\n",
      "[Parallel(n_jobs=32)]: Done  80 out of  80 | elapsed:    0.1s finished\n",
      "[Parallel(n_jobs=-1)]: Done  80 out of  80 | elapsed:  3.6min finished\n",
      "[Parallel(n_jobs=32)]: Done  80 out of  80 | elapsed:    0.1s finished\n"
     ]
    },
    {
     "name": "stdout",
     "output_type": "stream",
     "text": [
      "   19 | 03m56s |    0.73363 |     16.9592 |         0.7947 |        80.0042 | \n"
     ]
    },
    {
     "name": "stderr",
     "output_type": "stream",
     "text": [
      "[Parallel(n_jobs=-1)]: Done 185 out of 185 | elapsed:  9.0min finished\n",
      "[Parallel(n_jobs=32)]: Done 185 out of 185 | elapsed:    0.8s finished\n",
      "[Parallel(n_jobs=-1)]: Done 185 out of 185 | elapsed:  9.0min finished\n",
      "[Parallel(n_jobs=-1)]: Done 185 out of 185 | elapsed:  8.9min finished\n",
      "[Parallel(n_jobs=32)]: Done 185 out of 185 | elapsed:    0.4s finished\n",
      "[Parallel(n_jobs=32)]: Done 185 out of 185 | elapsed:    0.4s finished\n"
     ]
    },
    {
     "name": "stdout",
     "output_type": "stream",
     "text": [
      "   20 | 09m15s |    0.73485 |     18.3520 |         0.8000 |       184.5133 | \n"
     ]
    },
    {
     "name": "stderr",
     "output_type": "stream",
     "text": [
      "/home/ec2-user/anaconda3/lib/python3.6/site-packages/sklearn/gaussian_process/gpr.py:427: UserWarning: fmin_l_bfgs_b terminated abnormally with the  state: {'grad': array([ -1.61800984e-05]), 'task': b'ABNORMAL_TERMINATION_IN_LNSRCH', 'funcalls': 57, 'nit': 3, 'warnflag': 2}\n",
      "  \" state: %s\" % convergence_dict)\n",
      "[Parallel(n_jobs=-1)]: Done 170 out of 170 | elapsed:    8.4s finished\n",
      "[Parallel(n_jobs=32)]: Done 170 out of 170 | elapsed:    0.8s finished\n",
      "[Parallel(n_jobs=-1)]: Done 170 out of 170 | elapsed:   10.6s finished\n",
      "[Parallel(n_jobs=32)]: Done 170 out of 170 | elapsed:    0.6s finished\n",
      "[Parallel(n_jobs=-1)]: Done 170 out of 170 | elapsed:    9.2s finished\n",
      "[Parallel(n_jobs=32)]: Done 170 out of 170 | elapsed:    0.2s finished\n"
     ]
    },
    {
     "name": "stdout",
     "output_type": "stream",
     "text": [
      "   21 | 00m29s |    0.72774 |     12.0932 |         0.0251 |       169.8706 | \n"
     ]
    },
    {
     "name": "stderr",
     "output_type": "stream",
     "text": [
      "[Parallel(n_jobs=-1)]: Done 184 out of 184 | elapsed:   24.0s finished\n",
      "[Parallel(n_jobs=32)]: Done 184 out of 184 | elapsed:    1.7s finished\n",
      "[Parallel(n_jobs=-1)]: Done 184 out of 184 | elapsed:   25.7s finished\n",
      "[Parallel(n_jobs=32)]: Done 184 out of 184 | elapsed:    0.8s finished\n",
      "[Parallel(n_jobs=-1)]: Done 184 out of 184 | elapsed:   24.3s finished\n",
      "[Parallel(n_jobs=32)]: Done 184 out of 184 | elapsed:    0.3s finished\n"
     ]
    },
    {
     "name": "stdout",
     "output_type": "stream",
     "text": [
      "   22 | 00m44s |    0.72577 |     24.9993 |         0.0318 |       184.2402 | \n"
     ]
    },
    {
     "name": "stderr",
     "output_type": "stream",
     "text": [
      "[Parallel(n_jobs=-1)]: Done   4 out of  33 | elapsed:    0.6s remaining:    4.5s\n",
      "[Parallel(n_jobs=-1)]: Done  33 out of  33 | elapsed:    0.9s finished\n",
      "[Parallel(n_jobs=32)]: Done   4 out of  33 | elapsed:    0.0s remaining:    0.2s\n",
      "[Parallel(n_jobs=32)]: Done  33 out of  33 | elapsed:    0.1s finished\n",
      "[Parallel(n_jobs=-1)]: Done   4 out of  33 | elapsed:    0.6s remaining:    4.5s\n",
      "[Parallel(n_jobs=-1)]: Done  33 out of  33 | elapsed:    0.9s finished\n",
      "[Parallel(n_jobs=32)]: Done   4 out of  33 | elapsed:    0.0s remaining:    0.2s\n",
      "[Parallel(n_jobs=32)]: Done  33 out of  33 | elapsed:    0.0s finished\n",
      "[Parallel(n_jobs=-1)]: Done   4 out of  33 | elapsed:    0.6s remaining:    4.4s\n",
      "[Parallel(n_jobs=-1)]: Done  33 out of  33 | elapsed:    0.8s finished\n",
      "[Parallel(n_jobs=32)]: Done   4 out of  33 | elapsed:    0.0s remaining:    0.2s\n",
      "[Parallel(n_jobs=32)]: Done  33 out of  33 | elapsed:    0.0s finished\n"
     ]
    },
    {
     "name": "stdout",
     "output_type": "stream",
     "text": [
      "   23 | 00m18s |    0.69962 |     14.1841 |         0.0100 |        33.1774 | \n"
     ]
    },
    {
     "name": "stderr",
     "output_type": "stream",
     "text": [
      "[Parallel(n_jobs=-1)]: Done  40 out of  51 | elapsed:   44.8s remaining:   12.3s\n",
      "[Parallel(n_jobs=-1)]: Done  51 out of  51 | elapsed:   47.3s finished\n",
      "[Parallel(n_jobs=32)]: Done  40 out of  51 | elapsed:    0.1s remaining:    0.0s\n",
      "[Parallel(n_jobs=32)]: Done  51 out of  51 | elapsed:    0.2s finished\n",
      "[Parallel(n_jobs=-1)]: Done  40 out of  51 | elapsed:   46.2s remaining:   12.7s\n",
      "[Parallel(n_jobs=-1)]: Done  51 out of  51 | elapsed:   47.0s finished\n",
      "[Parallel(n_jobs=-1)]: Done  40 out of  51 | elapsed:   45.2s remaining:   12.4s\n",
      "[Parallel(n_jobs=32)]: Done  40 out of  51 | elapsed:    0.1s remaining:    0.0s\n",
      "[Parallel(n_jobs=32)]: Done  51 out of  51 | elapsed:    0.1s finished\n",
      "[Parallel(n_jobs=-1)]: Done  51 out of  51 | elapsed:   45.9s finished\n",
      "[Parallel(n_jobs=32)]: Done  40 out of  51 | elapsed:    0.0s remaining:    0.0s\n",
      "[Parallel(n_jobs=32)]: Done  51 out of  51 | elapsed:    0.0s finished\n"
     ]
    },
    {
     "name": "stdout",
     "output_type": "stream",
     "text": [
      "   24 | 01m03s |    0.71897 |      5.1572 |         0.7911 |        51.0456 | \n"
     ]
    },
    {
     "name": "stderr",
     "output_type": "stream",
     "text": [
      "[Parallel(n_jobs=-1)]: Done  67 out of  67 | elapsed:    8.4s finished\n",
      "[Parallel(n_jobs=32)]: Done  67 out of  67 | elapsed:    0.6s finished\n",
      "[Parallel(n_jobs=-1)]: Done  67 out of  67 | elapsed:    9.3s finished\n",
      "[Parallel(n_jobs=32)]: Done  67 out of  67 | elapsed:    0.2s finished\n",
      "[Parallel(n_jobs=-1)]: Done  67 out of  67 | elapsed:    8.0s finished\n",
      "[Parallel(n_jobs=32)]: Done  67 out of  67 | elapsed:    0.1s finished\n"
     ]
    },
    {
     "name": "stdout",
     "output_type": "stream",
     "text": [
      "   25 | 00m25s |    0.71045 |     24.9437 |         0.0358 |        67.0435 | \n"
     ]
    },
    {
     "name": "stderr",
     "output_type": "stream",
     "text": [
      "[Parallel(n_jobs=-1)]: Done 192 out of 192 | elapsed:   13.7s finished\n",
      "[Parallel(n_jobs=32)]: Done 192 out of 192 | elapsed:    1.1s finished\n",
      "[Parallel(n_jobs=-1)]: Done 192 out of 192 | elapsed:   16.1s finished\n",
      "[Parallel(n_jobs=32)]: Done 192 out of 192 | elapsed:    0.3s finished\n",
      "[Parallel(n_jobs=-1)]: Done 192 out of 192 | elapsed:   15.3s finished\n",
      "[Parallel(n_jobs=32)]: Done 192 out of 192 | elapsed:    0.2s finished\n"
     ]
    },
    {
     "name": "stdout",
     "output_type": "stream",
     "text": [
      "   26 | 00m32s |    0.73447 |     12.8888 |         0.0285 |       192.1852 | \n"
     ]
    },
    {
     "name": "stderr",
     "output_type": "stream",
     "text": [
      "[Parallel(n_jobs=-1)]: Done  81 out of  81 | elapsed:  1.3min finished\n",
      "[Parallel(n_jobs=32)]: Done  81 out of  81 | elapsed:    0.4s finished\n",
      "[Parallel(n_jobs=-1)]: Done  81 out of  81 | elapsed:  1.3min finished\n",
      "[Parallel(n_jobs=32)]: Done  81 out of  81 | elapsed:    0.1s finished\n",
      "[Parallel(n_jobs=-1)]: Done  81 out of  81 | elapsed:  1.2min finished\n",
      "[Parallel(n_jobs=32)]: Done  81 out of  81 | elapsed:    0.1s finished\n"
     ]
    },
    {
     "name": "stdout",
     "output_type": "stream",
     "text": [
      "   27 | 01m32s |    0.71916 |      5.0000 |         0.8000 |        80.9167 | \n"
     ]
    },
    {
     "name": "stderr",
     "output_type": "stream",
     "text": [
      "/home/ec2-user/anaconda3/lib/python3.6/site-packages/sklearn/gaussian_process/gpr.py:427: UserWarning: fmin_l_bfgs_b terminated abnormally with the  state: {'grad': array([  4.63673350e-05]), 'task': b'ABNORMAL_TERMINATION_IN_LNSRCH', 'funcalls': 53, 'nit': 4, 'warnflag': 2}\n",
      "  \" state: %s\" % convergence_dict)\n",
      "[Parallel(n_jobs=-1)]: Done  85 out of  85 | elapsed:    2.4s finished\n",
      "[Parallel(n_jobs=32)]: Done  85 out of  85 | elapsed:    0.3s finished\n",
      "[Parallel(n_jobs=-1)]: Done  85 out of  85 | elapsed:    2.8s finished\n",
      "[Parallel(n_jobs=32)]: Done  85 out of  85 | elapsed:    0.3s finished\n",
      "[Parallel(n_jobs=-1)]: Done  85 out of  85 | elapsed:    2.5s finished\n",
      "[Parallel(n_jobs=32)]: Done  85 out of  85 | elapsed:    0.1s finished\n"
     ]
    },
    {
     "name": "stdout",
     "output_type": "stream",
     "text": [
      "   28 | 00m20s |    0.71374 |     15.5757 |         0.0142 |        85.4165 | \n"
     ]
    },
    {
     "name": "stderr",
     "output_type": "stream",
     "text": [
      "/home/ec2-user/anaconda3/lib/python3.6/site-packages/sklearn/gaussian_process/gpr.py:427: UserWarning: fmin_l_bfgs_b terminated abnormally with the  state: {'grad': array([ -3.79713532e-05]), 'task': b'ABNORMAL_TERMINATION_IN_LNSRCH', 'funcalls': 52, 'nit': 6, 'warnflag': 2}\n",
      "  \" state: %s\" % convergence_dict)\n",
      "[Parallel(n_jobs=-1)]: Done  99 out of  99 | elapsed:  1.6min finished\n",
      "[Parallel(n_jobs=32)]: Done  99 out of  99 | elapsed:    0.1s finished\n",
      "[Parallel(n_jobs=-1)]: Done  99 out of  99 | elapsed:  1.6min finished\n",
      "[Parallel(n_jobs=32)]: Done  99 out of  99 | elapsed:    0.1s finished\n",
      "[Parallel(n_jobs=-1)]: Done  99 out of  99 | elapsed:  1.5min finished\n",
      "[Parallel(n_jobs=32)]: Done  99 out of  99 | elapsed:    0.1s finished\n"
     ]
    },
    {
     "name": "stdout",
     "output_type": "stream",
     "text": [
      "   29 | 01m48s |    0.71937 |      5.1229 |         0.7714 |        98.6761 | \n"
     ]
    },
    {
     "name": "stderr",
     "output_type": "stream",
     "text": [
      "[Parallel(n_jobs=-1)]: Done  63 out of  63 | elapsed:  2.6min finished\n",
      "[Parallel(n_jobs=32)]: Done  63 out of  63 | elapsed:    0.3s finished\n",
      "[Parallel(n_jobs=-1)]: Done  63 out of  63 | elapsed:  2.6min finished\n",
      "[Parallel(n_jobs=32)]: Done  63 out of  63 | elapsed:    0.1s finished\n",
      "[Parallel(n_jobs=-1)]: Done  63 out of  63 | elapsed:  2.6min finished\n",
      "[Parallel(n_jobs=32)]: Done  63 out of  63 | elapsed:    0.1s finished\n"
     ]
    },
    {
     "name": "stdout",
     "output_type": "stream",
     "text": [
      "   30 | 02m51s |    0.73410 |     14.7033 |         0.7944 |        63.4814 | \n"
     ]
    },
    {
     "name": "stderr",
     "output_type": "stream",
     "text": [
      "[Parallel(n_jobs=-1)]: Done 136 out of 136 | elapsed:  8.4min finished\n",
      "[Parallel(n_jobs=32)]: Done 136 out of 136 | elapsed:    0.4s finished\n",
      "[Parallel(n_jobs=-1)]: Done 136 out of 136 | elapsed:  8.4min finished\n",
      "[Parallel(n_jobs=32)]: Done 136 out of 136 | elapsed:    0.2s finished\n",
      "[Parallel(n_jobs=-1)]: Done 136 out of 136 | elapsed:  8.4min finished\n",
      "[Parallel(n_jobs=32)]: Done 136 out of 136 | elapsed:    0.2s finished\n"
     ]
    },
    {
     "name": "stdout",
     "output_type": "stream",
     "text": [
      "   31 | 08m41s |    0.72682 |     25.0000 |         0.8000 |       135.9118 | \n"
     ]
    },
    {
     "name": "stderr",
     "output_type": "stream",
     "text": [
      "[Parallel(n_jobs=-1)]: Done  20 out of  41 | elapsed:  1.9min remaining:  2.0min\n",
      "[Parallel(n_jobs=-1)]: Done  20 out of  41 | elapsed:  1.9min remaining:  2.0min\n",
      "[Parallel(n_jobs=-1)]: Done  20 out of  41 | elapsed:  1.9min remaining:  2.0min\n",
      "[Parallel(n_jobs=-1)]: Done  41 out of  41 | elapsed:  2.5min finished\n",
      "[Parallel(n_jobs=32)]: Done  20 out of  41 | elapsed:    0.1s remaining:    0.1s\n",
      "[Parallel(n_jobs=32)]: Done  41 out of  41 | elapsed:    0.2s finished\n",
      "[Parallel(n_jobs=-1)]: Done  41 out of  41 | elapsed:  2.5min finished\n",
      "[Parallel(n_jobs=32)]: Done  20 out of  41 | elapsed:    0.1s remaining:    0.1s\n",
      "[Parallel(n_jobs=32)]: Done  41 out of  41 | elapsed:    0.1s finished\n",
      "[Parallel(n_jobs=-1)]: Done  41 out of  41 | elapsed:  2.5min finished\n",
      "[Parallel(n_jobs=32)]: Done  20 out of  41 | elapsed:    0.0s remaining:    0.0s\n",
      "[Parallel(n_jobs=32)]: Done  41 out of  41 | elapsed:    0.1s finished\n"
     ]
    },
    {
     "name": "stdout",
     "output_type": "stream",
     "text": [
      "   32 | 02m45s |    0.71694 |     25.0000 |         0.8000 |        40.7042 | \n"
     ]
    },
    {
     "name": "stderr",
     "output_type": "stream",
     "text": [
      "[Parallel(n_jobs=-1)]: Done 133 out of 133 | elapsed:  2.2min finished\n",
      "[Parallel(n_jobs=32)]: Done 133 out of 133 | elapsed:    0.2s finished\n",
      "[Parallel(n_jobs=-1)]: Done 133 out of 133 | elapsed:  2.1min finished\n",
      "[Parallel(n_jobs=32)]: Done 133 out of 133 | elapsed:    0.1s finished\n",
      "[Parallel(n_jobs=-1)]: Done 133 out of 133 | elapsed:  2.1min finished\n",
      "[Parallel(n_jobs=32)]: Done 133 out of 133 | elapsed:    0.1s finished\n"
     ]
    },
    {
     "name": "stdout",
     "output_type": "stream",
     "text": [
      "   33 | 02m23s |    0.71938 |      5.0000 |         0.8000 |       132.5568 | \n"
     ]
    },
    {
     "name": "stderr",
     "output_type": "stream",
     "text": [
      "[Parallel(n_jobs=-1)]: Done 168 out of 168 | elapsed:  2.5min finished\n",
      "[Parallel(n_jobs=32)]: Done 168 out of 168 | elapsed:    0.3s finished\n",
      "[Parallel(n_jobs=-1)]: Done 168 out of 168 | elapsed:  2.4min finished\n",
      "[Parallel(n_jobs=32)]: Done 168 out of 168 | elapsed:    0.1s finished\n",
      "[Parallel(n_jobs=-1)]: Done 168 out of 168 | elapsed:  2.4min finished\n",
      "[Parallel(n_jobs=32)]: Done 168 out of 168 | elapsed:    0.1s finished\n"
     ]
    },
    {
     "name": "stdout",
     "output_type": "stream",
     "text": [
      "   34 | 02m42s |    0.72025 |      5.0332 |         0.7205 |       167.8072 | \n"
     ]
    },
    {
     "name": "stderr",
     "output_type": "stream",
     "text": [
      "/home/ec2-user/anaconda3/lib/python3.6/site-packages/sklearn/gaussian_process/gpr.py:427: UserWarning: fmin_l_bfgs_b terminated abnormally with the  state: {'grad': array([ 0.0002187]), 'task': b'ABNORMAL_TERMINATION_IN_LNSRCH', 'funcalls': 53, 'nit': 5, 'warnflag': 2}\n",
      "  \" state: %s\" % convergence_dict)\n",
      "[Parallel(n_jobs=-1)]: Done   8 out of  35 | elapsed:   24.4s remaining:  1.4min\n",
      "[Parallel(n_jobs=-1)]: Done   8 out of  35 | elapsed:   27.7s remaining:  1.6min\n",
      "[Parallel(n_jobs=-1)]: Done   8 out of  35 | elapsed:   27.7s remaining:  1.6min\n",
      "[Parallel(n_jobs=-1)]: Done  35 out of  35 | elapsed:   34.9s finished\n",
      "[Parallel(n_jobs=32)]: Done   8 out of  35 | elapsed:    0.0s remaining:    0.1s\n",
      "[Parallel(n_jobs=32)]: Done  35 out of  35 | elapsed:    0.0s finished\n",
      "[Parallel(n_jobs=-1)]: Done  35 out of  35 | elapsed:   34.0s finished\n",
      "[Parallel(n_jobs=32)]: Done   8 out of  35 | elapsed:    0.0s remaining:    0.1s\n",
      "[Parallel(n_jobs=32)]: Done  35 out of  35 | elapsed:    0.0s finished\n",
      "[Parallel(n_jobs=-1)]: Done  35 out of  35 | elapsed:   33.0s finished\n",
      "[Parallel(n_jobs=32)]: Done   8 out of  35 | elapsed:    0.0s remaining:    0.1s\n",
      "[Parallel(n_jobs=32)]: Done  35 out of  35 | elapsed:    0.0s finished\n"
     ]
    },
    {
     "name": "stdout",
     "output_type": "stream",
     "text": [
      "   35 | 00m49s |    0.71907 |      5.0524 |         0.7855 |        35.3126 | \n"
     ]
    },
    {
     "name": "stderr",
     "output_type": "stream",
     "text": [
      "[Parallel(n_jobs=-1)]: Done 121 out of 121 | elapsed:  4.8min finished\n",
      "[Parallel(n_jobs=32)]: Done 121 out of 121 | elapsed:    0.5s finished\n",
      "[Parallel(n_jobs=-1)]: Done 121 out of 121 | elapsed:  4.8min finished\n",
      "[Parallel(n_jobs=32)]: Done 121 out of 121 | elapsed:    0.2s finished\n",
      "[Parallel(n_jobs=-1)]: Done 121 out of 121 | elapsed:  4.7min finished\n",
      "[Parallel(n_jobs=32)]: Done 121 out of 121 | elapsed:    0.1s finished\n"
     ]
    },
    {
     "name": "stdout",
     "output_type": "stream",
     "text": [
      "   36 | 05m01s |    0.73575 |     14.3261 |         0.7970 |       120.9456 | \n"
     ]
    },
    {
     "name": "stderr",
     "output_type": "stream",
     "text": [
      "/home/ec2-user/anaconda3/lib/python3.6/site-packages/sklearn/gaussian_process/gpr.py:427: UserWarning: fmin_l_bfgs_b terminated abnormally with the  state: {'grad': array([ -5.06689253e-05]), 'task': b'ABNORMAL_TERMINATION_IN_LNSRCH', 'funcalls': 52, 'nit': 5, 'warnflag': 2}\n",
      "  \" state: %s\" % convergence_dict)\n",
      "[Parallel(n_jobs=-1)]: Done 136 out of 136 | elapsed:  5.6min finished\n",
      "[Parallel(n_jobs=32)]: Done 136 out of 136 | elapsed:    0.3s finished\n",
      "[Parallel(n_jobs=-1)]: Done 136 out of 136 | elapsed:  5.6min finished\n",
      "[Parallel(n_jobs=32)]: Done 136 out of 136 | elapsed:    0.2s finished\n",
      "[Parallel(n_jobs=-1)]: Done 136 out of 136 | elapsed:  5.6min finished\n",
      "[Parallel(n_jobs=32)]: Done 136 out of 136 | elapsed:    0.1s finished\n"
     ]
    },
    {
     "name": "stdout",
     "output_type": "stream",
     "text": [
      "   37 | 05m53s |    0.73583 |     14.6385 |         0.7875 |       135.8441 | \n"
     ]
    },
    {
     "name": "stderr",
     "output_type": "stream",
     "text": [
      "[Parallel(n_jobs=-1)]: Done 160 out of 160 | elapsed:  7.1min finished\n",
      "[Parallel(n_jobs=32)]: Done 160 out of 160 | elapsed:    0.2s finished\n",
      "[Parallel(n_jobs=-1)]: Done 160 out of 160 | elapsed:  7.0min finished\n",
      "[Parallel(n_jobs=32)]: Done 160 out of 160 | elapsed:    0.2s finished\n",
      "[Parallel(n_jobs=-1)]: Done 160 out of 160 | elapsed:  7.0min finished\n",
      "[Parallel(n_jobs=32)]: Done 160 out of 160 | elapsed:    0.2s finished\n"
     ]
    },
    {
     "name": "stdout",
     "output_type": "stream",
     "text": [
      "   38 | 07m19s |    0.73559 |     15.7667 |         0.7990 |       159.7947 | \n"
     ]
    },
    {
     "name": "stderr",
     "output_type": "stream",
     "text": [
      "/home/ec2-user/anaconda3/lib/python3.6/site-packages/sklearn/gaussian_process/gpr.py:427: UserWarning: fmin_l_bfgs_b terminated abnormally with the  state: {'grad': array([ 0.00015133]), 'task': b'ABNORMAL_TERMINATION_IN_LNSRCH', 'funcalls': 55, 'nit': 5, 'warnflag': 2}\n",
      "  \" state: %s\" % convergence_dict)\n",
      "[Parallel(n_jobs=-1)]: Done  72 out of  72 | elapsed:    1.5s finished\n",
      "[Parallel(n_jobs=32)]: Done  72 out of  72 | elapsed:    0.5s finished\n",
      "[Parallel(n_jobs=-1)]: Done  72 out of  72 | elapsed:    1.5s finished\n",
      "[Parallel(n_jobs=32)]: Done  72 out of  72 | elapsed:    0.5s finished\n",
      "[Parallel(n_jobs=-1)]: Done  72 out of  72 | elapsed:    1.5s finished\n",
      "[Parallel(n_jobs=32)]: Done  72 out of  72 | elapsed:    0.1s finished\n"
     ]
    },
    {
     "name": "stdout",
     "output_type": "stream",
     "text": [
      "   39 | 00m19s |    0.70924 |     14.4348 |         0.0117 |        72.3037 | \n"
     ]
    },
    {
     "name": "stderr",
     "output_type": "stream",
     "text": [
      "[Parallel(n_jobs=-1)]: Done  81 out of  81 | elapsed:  4.7min finished\n",
      "[Parallel(n_jobs=32)]: Done  81 out of  81 | elapsed:    0.7s finished\n",
      "[Parallel(n_jobs=-1)]: Done  81 out of  81 | elapsed:  4.8min finished\n",
      "[Parallel(n_jobs=32)]: Done  81 out of  81 | elapsed:    0.2s finished\n",
      "[Parallel(n_jobs=-1)]: Done  81 out of  81 | elapsed:  4.7min finished\n",
      "[Parallel(n_jobs=32)]: Done  81 out of  81 | elapsed:    0.1s finished\n"
     ]
    },
    {
     "name": "stdout",
     "output_type": "stream",
     "text": [
      "   40 | 05m02s |    0.72367 |     24.9751 |         0.7674 |        80.8743 | \n"
     ]
    },
    {
     "name": "stderr",
     "output_type": "stream",
     "text": [
      "[Parallel(n_jobs=-1)]: Done  92 out of  92 | elapsed:  2.9min finished\n",
      "[Parallel(n_jobs=32)]: Done  92 out of  92 | elapsed:    0.4s finished\n",
      "[Parallel(n_jobs=-1)]: Done  92 out of  92 | elapsed:  2.9min finished\n",
      "[Parallel(n_jobs=32)]: Done  92 out of  92 | elapsed:    0.2s finished\n",
      "[Parallel(n_jobs=-1)]: Done  92 out of  92 | elapsed:  2.9min finished\n",
      "[Parallel(n_jobs=32)]: Done  92 out of  92 | elapsed:    0.1s finished\n"
     ]
    },
    {
     "name": "stdout",
     "output_type": "stream",
     "text": [
      "   41 | 03m14s |    0.73413 |     10.6794 |         0.7960 |        92.2025 | \n"
     ]
    },
    {
     "name": "stderr",
     "output_type": "stream",
     "text": [
      "/home/ec2-user/anaconda3/lib/python3.6/site-packages/sklearn/gaussian_process/gpr.py:427: UserWarning: fmin_l_bfgs_b terminated abnormally with the  state: {'grad': array([ -4.43099598e-05]), 'task': b'ABNORMAL_TERMINATION_IN_LNSRCH', 'funcalls': 63, 'nit': 7, 'warnflag': 2}\n",
      "  \" state: %s\" % convergence_dict)\n",
      "[Parallel(n_jobs=-1)]: Done 156 out of 156 | elapsed:  8.1min finished\n",
      "[Parallel(n_jobs=32)]: Done 156 out of 156 | elapsed:    0.6s finished\n",
      "[Parallel(n_jobs=-1)]: Done 156 out of 156 | elapsed:  8.1min finished\n",
      "[Parallel(n_jobs=32)]: Done 156 out of 156 | elapsed:    0.2s finished\n",
      "[Parallel(n_jobs=-1)]: Done 156 out of 156 | elapsed:  8.1min finished\n",
      "[Parallel(n_jobs=32)]: Done 156 out of 156 | elapsed:    0.2s finished\n"
     ]
    },
    {
     "name": "stdout",
     "output_type": "stream",
     "text": [
      "   42 | 08m25s |    0.72812 |     24.9634 |         0.6748 |       156.3216 | \n"
     ]
    },
    {
     "name": "stderr",
     "output_type": "stream",
     "text": [
      "[Parallel(n_jobs=-1)]: Done 195 out of 195 | elapsed: 11.1min finished\n",
      "[Parallel(n_jobs=32)]: Done 195 out of 195 | elapsed:    0.4s finished\n",
      "[Parallel(n_jobs=-1)]: Done 195 out of 195 | elapsed: 11.1min finished\n",
      "[Parallel(n_jobs=32)]: Done 195 out of 195 | elapsed:    0.3s finished\n",
      "[Parallel(n_jobs=-1)]: Done 195 out of 195 | elapsed: 11.1min finished\n",
      "[Parallel(n_jobs=32)]: Done 195 out of 195 | elapsed:    0.3s finished\n"
     ]
    },
    {
     "name": "stdout",
     "output_type": "stream",
     "text": [
      "   43 | 11m24s |    0.72877 |     24.8945 |         0.7337 |       194.5190 | \n"
     ]
    },
    {
     "name": "stderr",
     "output_type": "stream",
     "text": [
      "[Parallel(n_jobs=-1)]: Done 136 tasks      | elapsed:  5.4min\n",
      "[Parallel(n_jobs=-1)]: Done 136 tasks      | elapsed:  5.5min\n",
      "[Parallel(n_jobs=-1)]: Done 136 tasks      | elapsed:  5.6min\n",
      "[Parallel(n_jobs=-1)]: Done 200 out of 200 | elapsed:  7.0min finished\n",
      "[Parallel(n_jobs=32)]: Done 136 tasks      | elapsed:    0.4s\n",
      "[Parallel(n_jobs=32)]: Done 200 out of 200 | elapsed:    0.5s finished\n",
      "[Parallel(n_jobs=-1)]: Done 200 out of 200 | elapsed:  7.0min finished\n",
      "[Parallel(n_jobs=32)]: Done 136 tasks      | elapsed:    0.2s\n",
      "[Parallel(n_jobs=32)]: Done 200 out of 200 | elapsed:    0.3s finished\n",
      "[Parallel(n_jobs=-1)]: Done 200 out of 200 | elapsed:  7.0min finished\n",
      "[Parallel(n_jobs=32)]: Done 136 tasks      | elapsed:    0.1s\n",
      "[Parallel(n_jobs=32)]: Done 200 out of 200 | elapsed:    0.2s finished\n"
     ]
    },
    {
     "name": "stdout",
     "output_type": "stream",
     "text": [
      "   44 | 07m21s |    0.73620 |     13.2945 |         0.7540 |       199.8357 | \n"
     ]
    },
    {
     "name": "stderr",
     "output_type": "stream",
     "text": [
      "[Parallel(n_jobs=-1)]: Done  30 out of  46 | elapsed:  1.2min remaining:   36.9s\n",
      "[Parallel(n_jobs=-1)]: Done  30 out of  46 | elapsed:  1.2min remaining:   38.0s\n",
      "[Parallel(n_jobs=-1)]: Done  30 out of  46 | elapsed:  1.2min remaining:   38.2s\n",
      "[Parallel(n_jobs=-1)]: Done  46 out of  46 | elapsed:  1.7min finished\n",
      "[Parallel(n_jobs=32)]: Done  30 out of  46 | elapsed:    0.1s remaining:    0.1s\n",
      "[Parallel(n_jobs=32)]: Done  46 out of  46 | elapsed:    0.1s finished\n",
      "[Parallel(n_jobs=-1)]: Done  46 out of  46 | elapsed:  1.7min finished\n",
      "[Parallel(n_jobs=32)]: Done  30 out of  46 | elapsed:    0.0s remaining:    0.0s\n",
      "[Parallel(n_jobs=32)]: Done  46 out of  46 | elapsed:    0.1s finished\n",
      "[Parallel(n_jobs=-1)]: Done  46 out of  46 | elapsed:  1.7min finished\n",
      "[Parallel(n_jobs=32)]: Done  30 out of  46 | elapsed:    0.0s remaining:    0.0s\n",
      "[Parallel(n_jobs=32)]: Done  46 out of  46 | elapsed:    0.1s finished\n"
     ]
    },
    {
     "name": "stdout",
     "output_type": "stream",
     "text": [
      "   45 | 01m59s |    0.73293 |     13.3181 |         0.7970 |        45.5477 | \n"
     ]
    },
    {
     "name": "stderr",
     "output_type": "stream",
     "text": [
      "[Parallel(n_jobs=-1)]: Done 192 out of 192 | elapsed:  2.8min finished\n",
      "[Parallel(n_jobs=32)]: Done 192 out of 192 | elapsed:    0.7s finished\n",
      "[Parallel(n_jobs=-1)]: Done 192 out of 192 | elapsed:  2.9min finished\n",
      "[Parallel(n_jobs=32)]: Done 192 out of 192 | elapsed:    0.2s finished\n",
      "[Parallel(n_jobs=-1)]: Done 192 out of 192 | elapsed:  2.8min finished\n",
      "[Parallel(n_jobs=32)]: Done 192 out of 192 | elapsed:    0.1s finished\n"
     ]
    },
    {
     "name": "stdout",
     "output_type": "stream",
     "text": [
      "   46 | 03m10s |    0.71990 |      5.4263 |         0.7401 |       191.6845 | \n"
     ]
    },
    {
     "name": "stderr",
     "output_type": "stream",
     "text": [
      "[Parallel(n_jobs=-1)]: Done  48 out of  55 | elapsed:  3.3min remaining:   28.6s\n",
      "[Parallel(n_jobs=-1)]: Done  48 out of  55 | elapsed:  3.3min remaining:   28.8s\n",
      "[Parallel(n_jobs=-1)]: Done  55 out of  55 | elapsed:  3.3min finished\n",
      "[Parallel(n_jobs=32)]: Done  48 out of  55 | elapsed:    0.2s remaining:    0.0s\n",
      "[Parallel(n_jobs=32)]: Done  55 out of  55 | elapsed:    0.3s finished\n",
      "[Parallel(n_jobs=-1)]: Done  55 out of  55 | elapsed:  3.3min finished\n",
      "[Parallel(n_jobs=32)]: Done  48 out of  55 | elapsed:    0.1s remaining:    0.0s\n",
      "[Parallel(n_jobs=32)]: Done  55 out of  55 | elapsed:    0.1s finished\n",
      "[Parallel(n_jobs=-1)]: Done  48 out of  55 | elapsed:  3.3min remaining:   28.6s\n",
      "[Parallel(n_jobs=-1)]: Done  55 out of  55 | elapsed:  3.3min finished\n",
      "[Parallel(n_jobs=32)]: Done  48 out of  55 | elapsed:    0.1s remaining:    0.0s\n",
      "[Parallel(n_jobs=32)]: Done  55 out of  55 | elapsed:    0.1s finished\n"
     ]
    },
    {
     "name": "stdout",
     "output_type": "stream",
     "text": [
      "   47 | 03m37s |    0.72043 |     24.8285 |         0.7905 |        55.1098 | \n"
     ]
    },
    {
     "name": "stderr",
     "output_type": "stream",
     "text": [
      "/home/ec2-user/anaconda3/lib/python3.6/site-packages/sklearn/gaussian_process/gpr.py:427: UserWarning: fmin_l_bfgs_b terminated abnormally with the  state: {'grad': array([ 0.00010505]), 'task': b'ABNORMAL_TERMINATION_IN_LNSRCH', 'funcalls': 60, 'nit': 6, 'warnflag': 2}\n",
      "  \" state: %s\" % convergence_dict)\n",
      "[Parallel(n_jobs=-1)]: Done  89 out of  89 | elapsed:  1.4min finished\n",
      "[Parallel(n_jobs=32)]: Done  89 out of  89 | elapsed:    0.4s finished\n",
      "[Parallel(n_jobs=-1)]: Done  89 out of  89 | elapsed:  1.4min finished\n",
      "[Parallel(n_jobs=-1)]: Done  89 out of  89 | elapsed:  1.4min finished\n",
      "[Parallel(n_jobs=32)]: Done  89 out of  89 | elapsed:    0.1s finished\n",
      "[Parallel(n_jobs=32)]: Done  89 out of  89 | elapsed:    0.1s finished\n"
     ]
    },
    {
     "name": "stdout",
     "output_type": "stream",
     "text": [
      "   48 | 01m44s |    0.71913 |      5.0000 |         0.8000 |        89.4653 | \n"
     ]
    },
    {
     "name": "stderr",
     "output_type": "stream",
     "text": [
      "[Parallel(n_jobs=-1)]: Done 106 out of 106 | elapsed:    2.4s finished\n",
      "[Parallel(n_jobs=32)]: Done 106 out of 106 | elapsed:    0.4s finished\n",
      "[Parallel(n_jobs=-1)]: Done 106 out of 106 | elapsed:    3.1s finished\n",
      "[Parallel(n_jobs=32)]: Done 106 out of 106 | elapsed:    0.4s finished\n",
      "[Parallel(n_jobs=-1)]: Done 106 out of 106 | elapsed:    2.9s finished\n",
      "[Parallel(n_jobs=32)]: Done 106 out of 106 | elapsed:    0.1s finished\n"
     ]
    },
    {
     "name": "stdout",
     "output_type": "stream",
     "text": [
      "   49 | 00m21s |    0.71746 |     12.1533 |         0.0172 |       105.8488 | \n"
     ]
    },
    {
     "name": "stderr",
     "output_type": "stream",
     "text": [
      "[Parallel(n_jobs=-1)]: Done 179 out of 179 | elapsed:  5.8min finished\n",
      "[Parallel(n_jobs=32)]: Done 179 out of 179 | elapsed:    0.8s finished\n",
      "[Parallel(n_jobs=-1)]: Done 179 out of 179 | elapsed:  5.8min finished\n",
      "[Parallel(n_jobs=32)]: Done 179 out of 179 | elapsed:    0.2s finished\n",
      "[Parallel(n_jobs=-1)]: Done 179 out of 179 | elapsed:  5.8min finished\n",
      "[Parallel(n_jobs=32)]: Done 179 out of 179 | elapsed:    0.2s finished\n"
     ]
    },
    {
     "name": "stdout",
     "output_type": "stream",
     "text": [
      "   50 | 06m07s |    0.73445 |     11.4296 |         0.7988 |       178.7752 | \n"
     ]
    },
    {
     "name": "stderr",
     "output_type": "stream",
     "text": [
      "/home/ec2-user/anaconda3/lib/python3.6/site-packages/sklearn/gaussian_process/gpr.py:427: UserWarning: fmin_l_bfgs_b terminated abnormally with the  state: {'grad': array([ -7.18238642e-05]), 'task': b'ABNORMAL_TERMINATION_IN_LNSRCH', 'funcalls': 54, 'nit': 6, 'warnflag': 2}\n",
      "  \" state: %s\" % convergence_dict)\n",
      "/home/ec2-user/anaconda3/lib/python3.6/site-packages/sklearn/gaussian_process/gpr.py:427: UserWarning: fmin_l_bfgs_b terminated abnormally with the  state: {'grad': array([  5.98801161e-05]), 'task': b'ABNORMAL_TERMINATION_IN_LNSRCH', 'funcalls': 64, 'nit': 7, 'warnflag': 2}\n",
      "  \" state: %s\" % convergence_dict)\n",
      "[Parallel(n_jobs=-1)]: Done  50 out of  56 | elapsed:  1.8min remaining:   13.2s\n",
      "[Parallel(n_jobs=-1)]: Done  56 out of  56 | elapsed:  1.9min finished\n",
      "[Parallel(n_jobs=32)]: Done  50 out of  56 | elapsed:    0.2s remaining:    0.0s\n",
      "[Parallel(n_jobs=32)]: Done  56 out of  56 | elapsed:    0.3s finished\n",
      "[Parallel(n_jobs=-1)]: Done  50 out of  56 | elapsed:  1.9min remaining:   13.3s\n",
      "[Parallel(n_jobs=-1)]: Done  56 out of  56 | elapsed:  1.9min finished\n",
      "[Parallel(n_jobs=-1)]: Done  50 out of  56 | elapsed:  1.8min remaining:   13.2s\n",
      "[Parallel(n_jobs=32)]: Done  50 out of  56 | elapsed:    0.1s remaining:    0.0s\n",
      "[Parallel(n_jobs=32)]: Done  56 out of  56 | elapsed:    0.1s finished\n",
      "[Parallel(n_jobs=-1)]: Done  56 out of  56 | elapsed:  1.8min finished\n",
      "[Parallel(n_jobs=32)]: Done  50 out of  56 | elapsed:    0.1s remaining:    0.0s\n",
      "[Parallel(n_jobs=32)]: Done  56 out of  56 | elapsed:    0.1s finished\n"
     ]
    },
    {
     "name": "stdout",
     "output_type": "stream",
     "text": [
      "   51 | 02m10s |    0.73353 |     12.2797 |         0.7731 |        55.9745 | \n"
     ]
    },
    {
     "name": "stderr",
     "output_type": "stream",
     "text": [
      "[Parallel(n_jobs=-1)]: Done 157 out of 157 | elapsed:    2.2s finished\n",
      "[Parallel(n_jobs=32)]: Done 157 out of 157 | elapsed:    0.5s finished\n",
      "[Parallel(n_jobs=-1)]: Done 157 out of 157 | elapsed:    3.0s finished\n",
      "[Parallel(n_jobs=32)]: Done 157 out of 157 | elapsed:    0.5s finished\n",
      "[Parallel(n_jobs=-1)]: Done 157 out of 157 | elapsed:    2.8s finished\n",
      "[Parallel(n_jobs=32)]: Done 157 out of 157 | elapsed:    0.1s finished\n"
     ]
    },
    {
     "name": "stdout",
     "output_type": "stream",
     "text": [
      "   52 | 00m22s |    0.70810 |      9.1500 |         0.0130 |       157.0809 | \n"
     ]
    },
    {
     "name": "stderr",
     "output_type": "stream",
     "text": [
      "[Parallel(n_jobs=-1)]: Done 128 out of 128 | elapsed:  6.5min finished\n",
      "[Parallel(n_jobs=32)]: Done 128 out of 128 | elapsed:    0.2s finished\n",
      "[Parallel(n_jobs=-1)]: Done 128 out of 128 | elapsed:  6.5min finished\n",
      "[Parallel(n_jobs=32)]: Done 128 out of 128 | elapsed:    0.2s finished\n",
      "[Parallel(n_jobs=-1)]: Done 128 out of 128 | elapsed:  6.5min finished\n",
      "[Parallel(n_jobs=32)]: Done 128 out of 128 | elapsed:    0.2s finished\n"
     ]
    },
    {
     "name": "stdout",
     "output_type": "stream",
     "text": [
      "   53 | 06m49s |    0.73383 |     18.6620 |         0.7987 |       128.4357 | \n"
     ]
    },
    {
     "name": "stderr",
     "output_type": "stream",
     "text": [
      "/home/ec2-user/anaconda3/lib/python3.6/site-packages/sklearn/gaussian_process/gpr.py:427: UserWarning: fmin_l_bfgs_b terminated abnormally with the  state: {'grad': array([-0.00023969]), 'task': b'ABNORMAL_TERMINATION_IN_LNSRCH', 'funcalls': 54, 'nit': 3, 'warnflag': 2}\n",
      "  \" state: %s\" % convergence_dict)\n",
      "[Parallel(n_jobs=-1)]: Done 118 out of 118 | elapsed:  7.2min finished\n",
      "[Parallel(n_jobs=32)]: Done 118 out of 118 | elapsed:    0.4s finished\n",
      "[Parallel(n_jobs=-1)]: Done 118 out of 118 | elapsed:  7.2min finished\n",
      "[Parallel(n_jobs=32)]: Done 118 out of 118 | elapsed:    0.2s finished\n",
      "[Parallel(n_jobs=-1)]: Done 118 out of 118 | elapsed:  7.1min finished\n",
      "[Parallel(n_jobs=32)]: Done 118 out of 118 | elapsed:    0.2s finished\n"
     ]
    },
    {
     "name": "stdout",
     "output_type": "stream",
     "text": [
      "   54 | 07m28s |    0.72645 |     24.8618 |         0.7865 |       118.0503 | \n"
     ]
    },
    {
     "name": "stderr",
     "output_type": "stream",
     "text": [
      "[Parallel(n_jobs=-1)]: Done 171 out of 171 | elapsed:  8.7min finished\n",
      "[Parallel(n_jobs=32)]: Done 171 out of 171 | elapsed:    0.5s finished\n",
      "[Parallel(n_jobs=-1)]: Done 171 out of 171 | elapsed:  8.7min finished\n",
      "[Parallel(n_jobs=32)]: Done 171 out of 171 | elapsed:    0.3s finished\n",
      "[Parallel(n_jobs=-1)]: Done 171 out of 171 | elapsed:  8.6min finished\n",
      "[Parallel(n_jobs=32)]: Done 171 out of 171 | elapsed:    0.2s finished\n"
     ]
    },
    {
     "name": "stdout",
     "output_type": "stream",
     "text": [
      "   55 | 09m00s |    0.73463 |     19.2622 |         0.8000 |       170.6588 | \n"
     ]
    },
    {
     "name": "stderr",
     "output_type": "stream",
     "text": [
      "/home/ec2-user/anaconda3/lib/python3.6/site-packages/sklearn/gaussian_process/gpr.py:427: UserWarning: fmin_l_bfgs_b terminated abnormally with the  state: {'grad': array([  9.67552605e-05]), 'task': b'ABNORMAL_TERMINATION_IN_LNSRCH', 'funcalls': 56, 'nit': 5, 'warnflag': 2}\n",
      "  \" state: %s\" % convergence_dict)\n",
      "[Parallel(n_jobs=-1)]: Done 140 out of 140 | elapsed:    2.8s finished\n",
      "[Parallel(n_jobs=32)]: Done 140 out of 140 | elapsed:    0.4s finished\n",
      "[Parallel(n_jobs=-1)]: Done 140 out of 140 | elapsed:    3.4s finished\n",
      "[Parallel(n_jobs=32)]: Done 140 out of 140 | elapsed:    0.4s finished\n",
      "[Parallel(n_jobs=-1)]: Done 140 out of 140 | elapsed:    2.9s finished\n",
      "[Parallel(n_jobs=32)]: Done 140 out of 140 | elapsed:    0.1s finished\n"
     ]
    },
    {
     "name": "stdout",
     "output_type": "stream",
     "text": [
      "   56 | 00m24s |    0.71495 |      9.0049 |         0.0158 |       139.8292 | \n"
     ]
    },
    {
     "name": "stderr",
     "output_type": "stream",
     "text": [
      "/home/ec2-user/anaconda3/lib/python3.6/site-packages/sklearn/gaussian_process/gpr.py:427: UserWarning: fmin_l_bfgs_b terminated abnormally with the  state: {'grad': array([  2.47167651e-05]), 'task': b'ABNORMAL_TERMINATION_IN_LNSRCH', 'funcalls': 51, 'nit': 2, 'warnflag': 2}\n",
      "  \" state: %s\" % convergence_dict)\n",
      "[Parallel(n_jobs=-1)]: Done 103 out of 103 | elapsed:  6.1min finished\n",
      "[Parallel(n_jobs=32)]: Done 103 out of 103 | elapsed:    0.3s finished\n",
      "[Parallel(n_jobs=-1)]: Done 103 out of 103 | elapsed:  6.1min finished\n",
      "[Parallel(n_jobs=32)]: Done 103 out of 103 | elapsed:    0.2s finished\n",
      "[Parallel(n_jobs=-1)]: Done 103 out of 103 | elapsed:  6.1min finished\n",
      "[Parallel(n_jobs=32)]: Done 103 out of 103 | elapsed:    0.2s finished\n"
     ]
    },
    {
     "name": "stdout",
     "output_type": "stream",
     "text": [
      "   57 | 06m27s |    0.72556 |     24.9817 |         0.7664 |       103.3353 | \n"
     ]
    },
    {
     "name": "stderr",
     "output_type": "stream",
     "text": [
      "[Parallel(n_jobs=-1)]: Done 193 out of 193 | elapsed:  9.9min finished\n",
      "[Parallel(n_jobs=32)]: Done 193 out of 193 | elapsed:    0.2s finished\n",
      "[Parallel(n_jobs=-1)]: Done 193 out of 193 | elapsed:  9.9min finished\n",
      "[Parallel(n_jobs=-1)]: Done 193 out of 193 | elapsed:  9.8min finished\n",
      "[Parallel(n_jobs=32)]: Done 193 out of 193 | elapsed:    0.2s finished\n",
      "[Parallel(n_jobs=32)]: Done 193 out of 193 | elapsed:    0.2s finished\n"
     ]
    },
    {
     "name": "stdout",
     "output_type": "stream",
     "text": [
      "   58 | 10m14s |    0.73482 |     19.2764 |         0.7970 |       192.7158 | \n"
     ]
    },
    {
     "name": "stderr",
     "output_type": "stream",
     "text": [
      "[Parallel(n_jobs=-1)]: Done 163 out of 163 | elapsed:  8.8min finished\n",
      "[Parallel(n_jobs=32)]: Done 163 out of 163 | elapsed:    0.3s finished\n",
      "[Parallel(n_jobs=-1)]: Done 163 out of 163 | elapsed:  8.8min finished\n",
      "[Parallel(n_jobs=-1)]: Done 163 out of 163 | elapsed:  8.8min finished\n",
      "[Parallel(n_jobs=32)]: Done 163 out of 163 | elapsed:    0.2s finished\n",
      "[Parallel(n_jobs=32)]: Done 163 out of 163 | elapsed:    0.2s finished\n"
     ]
    },
    {
     "name": "stdout",
     "output_type": "stream",
     "text": [
      "   59 | 09m12s |    0.73223 |     20.5524 |         0.7870 |       163.3550 | \n"
     ]
    },
    {
     "name": "stderr",
     "output_type": "stream",
     "text": [
      "[Parallel(n_jobs=-1)]: Done 176 out of 176 | elapsed: 10.6min finished\n",
      "[Parallel(n_jobs=32)]: Done 176 out of 176 | elapsed:    0.9s finished\n",
      "[Parallel(n_jobs=-1)]: Done 176 out of 176 | elapsed: 10.6min finished\n",
      "[Parallel(n_jobs=32)]: Done 176 out of 176 | elapsed:    0.3s finished\n",
      "[Parallel(n_jobs=-1)]: Done 176 out of 176 | elapsed: 10.6min finished\n",
      "[Parallel(n_jobs=32)]: Done 176 out of 176 | elapsed:    0.2s finished\n"
     ]
    },
    {
     "name": "stdout",
     "output_type": "stream",
     "text": [
      "   60 | 10m59s |    0.72785 |     24.8898 |         0.7806 |       175.9893 | \n"
     ]
    },
    {
     "name": "stderr",
     "output_type": "stream",
     "text": [
      "[Parallel(n_jobs=-1)]: Done  14 out of  25 | elapsed:   49.5s remaining:   38.9s\n",
      "[Parallel(n_jobs=-1)]: Done  25 out of  25 | elapsed:   52.4s finished\n",
      "[Parallel(n_jobs=25)]: Done   2 out of  25 | elapsed:    0.1s remaining:    1.0s\n",
      "[Parallel(n_jobs=-1)]: Done  14 out of  25 | elapsed:   51.6s remaining:   40.5s\n",
      "[Parallel(n_jobs=25)]: Done  25 out of  25 | elapsed:    0.2s finished\n",
      "[Parallel(n_jobs=-1)]: Done  25 out of  25 | elapsed:   52.5s finished\n",
      "[Parallel(n_jobs=-1)]: Done  14 out of  25 | elapsed:   50.6s remaining:   39.8s\n",
      "[Parallel(n_jobs=25)]: Done   2 out of  25 | elapsed:    0.0s remaining:    0.3s\n",
      "[Parallel(n_jobs=25)]: Done  25 out of  25 | elapsed:    0.1s finished\n",
      "[Parallel(n_jobs=-1)]: Done  25 out of  25 | elapsed:   51.3s finished\n",
      "[Parallel(n_jobs=25)]: Done   2 out of  25 | elapsed:    0.0s remaining:    0.2s\n",
      "[Parallel(n_jobs=25)]: Done  25 out of  25 | elapsed:    0.0s finished\n"
     ]
    },
    {
     "name": "stdout",
     "output_type": "stream",
     "text": [
      "   61 | 01m13s |    0.72992 |     12.7785 |         0.7709 |        25.0381 | \n"
     ]
    },
    {
     "name": "stderr",
     "output_type": "stream",
     "text": [
      "[Parallel(n_jobs=-1)]: Done 147 out of 147 | elapsed:  9.0min finished\n",
      "[Parallel(n_jobs=32)]: Done 147 out of 147 | elapsed:    0.5s finished\n",
      "[Parallel(n_jobs=-1)]: Done 147 out of 147 | elapsed:  9.0min finished\n",
      "[Parallel(n_jobs=32)]: Done 147 out of 147 | elapsed:    0.3s finished\n",
      "[Parallel(n_jobs=-1)]: Done 147 out of 147 | elapsed:  9.0min finished\n",
      "[Parallel(n_jobs=32)]: Done 147 out of 147 | elapsed:    0.2s finished\n"
     ]
    },
    {
     "name": "stdout",
     "output_type": "stream",
     "text": [
      "   62 | 09m25s |    0.72731 |     25.0000 |         0.8000 |       146.8368 | \n"
     ]
    },
    {
     "name": "stderr",
     "output_type": "stream",
     "text": [
      "[Parallel(n_jobs=-1)]: Done 117 out of 117 | elapsed:    9.3s finished\n",
      "[Parallel(n_jobs=32)]: Done 117 out of 117 | elapsed:    0.9s finished\n",
      "[Parallel(n_jobs=-1)]: Done 117 out of 117 | elapsed:   11.2s finished\n",
      "[Parallel(n_jobs=32)]: Done 117 out of 117 | elapsed:    0.4s finished\n",
      "[Parallel(n_jobs=-1)]: Done 117 out of 117 | elapsed:    9.9s finished\n",
      "[Parallel(n_jobs=32)]: Done 117 out of 117 | elapsed:    0.2s finished\n"
     ]
    },
    {
     "name": "stdout",
     "output_type": "stream",
     "text": [
      "   63 | 00m34s |    0.72878 |     18.4169 |         0.0271 |       116.6552 | \n"
     ]
    },
    {
     "name": "stderr",
     "output_type": "stream",
     "text": [
      "[Parallel(n_jobs=-1)]: Done 177 out of 177 | elapsed:  2.8min finished\n",
      "[Parallel(n_jobs=32)]: Done 177 out of 177 | elapsed:    0.6s finished\n",
      "[Parallel(n_jobs=-1)]: Done 177 out of 177 | elapsed:  2.8min finished\n",
      "[Parallel(n_jobs=32)]: Done 177 out of 177 | elapsed:    0.2s finished\n",
      "[Parallel(n_jobs=-1)]: Done 177 out of 177 | elapsed:  2.8min finished\n",
      "[Parallel(n_jobs=32)]: Done 177 out of 177 | elapsed:    0.1s finished\n"
     ]
    },
    {
     "name": "stdout",
     "output_type": "stream",
     "text": [
      "   64 | 03m13s |    0.71936 |      5.0385 |         0.7983 |       176.8347 | \n"
     ]
    },
    {
     "name": "stderr",
     "output_type": "stream",
     "text": [
      "[Parallel(n_jobs=-1)]: Done  97 out of  97 | elapsed:    1.5s finished\n",
      "[Parallel(n_jobs=32)]: Done  97 out of  97 | elapsed:    0.2s finished\n",
      "[Parallel(n_jobs=-1)]: Done  97 out of  97 | elapsed:    1.6s finished\n",
      "[Parallel(n_jobs=32)]: Done  97 out of  97 | elapsed:    0.3s finished\n",
      "[Parallel(n_jobs=-1)]: Done  97 out of  97 | elapsed:    1.6s finished\n",
      "[Parallel(n_jobs=32)]: Done  97 out of  97 | elapsed:    0.1s finished\n"
     ]
    },
    {
     "name": "stdout",
     "output_type": "stream",
     "text": [
      "   65 | 00m25s |    0.70468 |     10.3484 |         0.0119 |        97.0978 | \n"
     ]
    },
    {
     "name": "stderr",
     "output_type": "stream",
     "text": [
      "[Parallel(n_jobs=-1)]: Done  84 out of  84 | elapsed:  2.4min finished\n",
      "[Parallel(n_jobs=32)]: Done  84 out of  84 | elapsed:    0.3s finished\n",
      "[Parallel(n_jobs=-1)]: Done  84 out of  84 | elapsed:  2.4min finished\n",
      "[Parallel(n_jobs=32)]: Done  84 out of  84 | elapsed:    0.1s finished\n",
      "[Parallel(n_jobs=-1)]: Done  84 out of  84 | elapsed:  2.4min finished\n",
      "[Parallel(n_jobs=32)]: Done  84 out of  84 | elapsed:    0.1s finished\n"
     ]
    },
    {
     "name": "stdout",
     "output_type": "stream",
     "text": [
      "   66 | 02m48s |    0.73287 |     10.0861 |         0.7836 |        84.1640 | \n"
     ]
    },
    {
     "name": "stderr",
     "output_type": "stream",
     "text": [
      "/home/ec2-user/anaconda3/lib/python3.6/site-packages/sklearn/gaussian_process/gpr.py:427: UserWarning: fmin_l_bfgs_b terminated abnormally with the  state: {'grad': array([ -8.87095557e-05]), 'task': b'ABNORMAL_TERMINATION_IN_LNSRCH', 'funcalls': 62, 'nit': 7, 'warnflag': 2}\n",
      "  \" state: %s\" % convergence_dict)\n",
      "[Parallel(n_jobs=-1)]: Done  74 out of  74 | elapsed:  4.1min finished\n",
      "[Parallel(n_jobs=32)]: Done  74 out of  74 | elapsed:    0.2s finished\n",
      "[Parallel(n_jobs=-1)]: Done  74 out of  74 | elapsed:  4.0min finished\n",
      "[Parallel(n_jobs=32)]: Done  74 out of  74 | elapsed:    0.1s finished\n",
      "[Parallel(n_jobs=-1)]: Done  74 out of  74 | elapsed:  4.0min finished\n",
      "[Parallel(n_jobs=32)]: Done  74 out of  74 | elapsed:    0.1s finished\n"
     ]
    },
    {
     "name": "stdout",
     "output_type": "stream",
     "text": [
      "   67 | 04m24s |    0.72809 |     22.4642 |         0.7801 |        73.5874 | \n"
     ]
    },
    {
     "name": "stderr",
     "output_type": "stream",
     "text": [
      "[Parallel(n_jobs=-1)]: Done  58 out of  60 | elapsed:  3.0min remaining:    6.2s\n",
      "[Parallel(n_jobs=-1)]: Done  60 out of  60 | elapsed:  3.0min finished\n",
      "[Parallel(n_jobs=32)]: Done  58 out of  60 | elapsed:    0.3s remaining:    0.0s\n",
      "[Parallel(n_jobs=32)]: Done  60 out of  60 | elapsed:    0.3s finished\n",
      "[Parallel(n_jobs=-1)]: Done  58 out of  60 | elapsed:  3.0min remaining:    6.2s\n",
      "[Parallel(n_jobs=-1)]: Done  60 out of  60 | elapsed:  3.0min finished\n",
      "[Parallel(n_jobs=32)]: Done  58 out of  60 | elapsed:    0.1s remaining:    0.0s\n",
      "[Parallel(n_jobs=32)]: Done  60 out of  60 | elapsed:    0.1s finished\n",
      "[Parallel(n_jobs=-1)]: Done  58 out of  60 | elapsed:  3.0min remaining:    6.2s\n",
      "[Parallel(n_jobs=-1)]: Done  60 out of  60 | elapsed:  3.0min finished\n",
      "[Parallel(n_jobs=32)]: Done  58 out of  60 | elapsed:    0.1s remaining:    0.0s\n",
      "[Parallel(n_jobs=32)]: Done  60 out of  60 | elapsed:    0.1s finished\n"
     ]
    },
    {
     "name": "stdout",
     "output_type": "stream",
     "text": [
      "   68 | 03m21s |    0.73061 |     19.3084 |         0.7996 |        60.4566 | \n"
     ]
    },
    {
     "name": "stderr",
     "output_type": "stream",
     "text": [
      "[Parallel(n_jobs=-1)]: Done 128 out of 128 | elapsed:  4.2min finished\n",
      "[Parallel(n_jobs=32)]: Done 128 out of 128 | elapsed:    0.4s finished\n",
      "[Parallel(n_jobs=-1)]: Done 128 out of 128 | elapsed:  4.1min finished\n",
      "[Parallel(n_jobs=32)]: Done 128 out of 128 | elapsed:    0.1s finished\n",
      "[Parallel(n_jobs=-1)]: Done 128 out of 128 | elapsed:  4.1min finished\n",
      "[Parallel(n_jobs=32)]: Done 128 out of 128 | elapsed:    0.1s finished\n"
     ]
    },
    {
     "name": "stdout",
     "output_type": "stream",
     "text": [
      "   69 | 04m30s |    0.73414 |     10.7865 |         0.7976 |       128.3043 | \n"
     ]
    },
    {
     "name": "stderr",
     "output_type": "stream",
     "text": [
      "[Parallel(n_jobs=-1)]: Done 186 out of 186 | elapsed:  6.0min finished\n",
      "[Parallel(n_jobs=32)]: Done 186 out of 186 | elapsed:    0.4s finished\n",
      "[Parallel(n_jobs=-1)]: Done 186 out of 186 | elapsed:  6.0min finished\n",
      "[Parallel(n_jobs=32)]: Done 186 out of 186 | elapsed:    0.2s finished\n",
      "[Parallel(n_jobs=-1)]: Done 186 out of 186 | elapsed:  6.0min finished\n",
      "[Parallel(n_jobs=32)]: Done 186 out of 186 | elapsed:    0.2s finished\n"
     ]
    },
    {
     "name": "stdout",
     "output_type": "stream",
     "text": [
      "   70 | 06m24s |    0.73465 |     11.0294 |         0.7958 |       186.3176 | \n"
     ]
    },
    {
     "name": "stderr",
     "output_type": "stream",
     "text": [
      "/home/ec2-user/anaconda3/lib/python3.6/site-packages/sklearn/gaussian_process/gpr.py:427: UserWarning: fmin_l_bfgs_b terminated abnormally with the  state: {'grad': array([-0.0001033]), 'task': b'ABNORMAL_TERMINATION_IN_LNSRCH', 'funcalls': 51, 'nit': 6, 'warnflag': 2}\n",
      "  \" state: %s\" % convergence_dict)\n",
      "[Parallel(n_jobs=-1)]: Done 177 out of 177 | elapsed:   22.0s finished\n",
      "[Parallel(n_jobs=32)]: Done 177 out of 177 | elapsed:    1.4s finished\n",
      "[Parallel(n_jobs=-1)]: Done 177 out of 177 | elapsed:   23.7s finished\n",
      "[Parallel(n_jobs=32)]: Done 177 out of 177 | elapsed:    0.5s finished\n",
      "[Parallel(n_jobs=-1)]: Done 177 out of 177 | elapsed:   21.9s finished\n",
      "[Parallel(n_jobs=32)]: Done 177 out of 177 | elapsed:    0.2s finished\n"
     ]
    },
    {
     "name": "stdout",
     "output_type": "stream",
     "text": [
      "   71 | 00m48s |    0.73482 |     18.2040 |         0.0368 |       177.2656 | \n"
     ]
    },
    {
     "name": "stderr",
     "output_type": "stream",
     "text": [
      "[Parallel(n_jobs=-1)]: Done 127 out of 127 | elapsed:   24.2s finished\n",
      "[Parallel(n_jobs=32)]: Done 127 out of 127 | elapsed:    1.6s finished\n",
      "[Parallel(n_jobs=-1)]: Done 127 out of 127 | elapsed:   26.4s finished\n",
      "[Parallel(n_jobs=32)]: Done 127 out of 127 | elapsed:    0.4s finished\n",
      "[Parallel(n_jobs=-1)]: Done 127 out of 127 | elapsed:   25.4s finished\n",
      "[Parallel(n_jobs=32)]: Done 127 out of 127 | elapsed:    0.2s finished\n"
     ]
    },
    {
     "name": "stdout",
     "output_type": "stream",
     "text": [
      "   72 | 00m50s |    0.72543 |     24.9924 |         0.0489 |       127.3198 | \n"
     ]
    },
    {
     "name": "stderr",
     "output_type": "stream",
     "text": [
      "[Parallel(n_jobs=-1)]: Done 135 out of 135 | elapsed:    5.2s finished\n",
      "[Parallel(n_jobs=32)]: Done 135 out of 135 | elapsed:    1.0s finished\n",
      "[Parallel(n_jobs=-1)]: Done 135 out of 135 | elapsed:    7.5s finished\n",
      "[Parallel(n_jobs=32)]: Done 135 out of 135 | elapsed:    0.6s finished\n",
      "[Parallel(n_jobs=-1)]: Done 135 out of 135 | elapsed:    6.2s finished\n",
      "[Parallel(n_jobs=32)]: Done 135 out of 135 | elapsed:    0.2s finished\n"
     ]
    },
    {
     "name": "stdout",
     "output_type": "stream",
     "text": [
      "   73 | 00m31s |    0.71921 |     19.8450 |         0.0144 |       135.2059 | \n"
     ]
    },
    {
     "name": "stderr",
     "output_type": "stream",
     "text": [
      "[Parallel(n_jobs=-1)]: Done 154 out of 154 | elapsed:  7.4min finished\n",
      "[Parallel(n_jobs=32)]: Done 154 out of 154 | elapsed:    0.9s finished\n",
      "[Parallel(n_jobs=-1)]: Done 154 out of 154 | elapsed:  7.4min finished\n",
      "[Parallel(n_jobs=32)]: Done 154 out of 154 | elapsed:    0.2s finished\n",
      "[Parallel(n_jobs=-1)]: Done 154 out of 154 | elapsed:  7.4min finished\n",
      "[Parallel(n_jobs=32)]: Done 154 out of 154 | elapsed:    0.2s finished\n"
     ]
    },
    {
     "name": "stdout",
     "output_type": "stream",
     "text": [
      "   74 | 07m48s |    0.73486 |     17.5449 |         0.7931 |       153.6716 | \n"
     ]
    },
    {
     "name": "stderr",
     "output_type": "stream",
     "text": [
      "[Parallel(n_jobs=-1)]: Done 109 out of 109 | elapsed:  5.3min finished\n",
      "[Parallel(n_jobs=32)]: Done 109 out of 109 | elapsed:    0.2s finished\n",
      "[Parallel(n_jobs=-1)]: Done 109 out of 109 | elapsed:  5.3min finished\n",
      "[Parallel(n_jobs=-1)]: Done 109 out of 109 | elapsed:  5.3min finished\n",
      "[Parallel(n_jobs=32)]: Done 109 out of 109 | elapsed:    0.1s finished\n",
      "[Parallel(n_jobs=32)]: Done 109 out of 109 | elapsed:    0.1s finished\n"
     ]
    },
    {
     "name": "stdout",
     "output_type": "stream",
     "text": [
      "   75 | 05m40s |    0.73332 |     17.7933 |         0.7999 |       108.9089 | \n"
     ]
    },
    {
     "name": "stderr",
     "output_type": "stream",
     "text": [
      "[Parallel(n_jobs=-1)]: Done  92 out of  92 | elapsed:  5.0min finished\n",
      "[Parallel(n_jobs=32)]: Done  92 out of  92 | elapsed:    0.5s finished\n",
      "[Parallel(n_jobs=-1)]: Done  92 out of  92 | elapsed:  5.0min finished\n",
      "[Parallel(n_jobs=32)]: Done  92 out of  92 | elapsed:    0.2s finished\n",
      "[Parallel(n_jobs=-1)]: Done  92 out of  92 | elapsed:  5.0min finished\n",
      "[Parallel(n_jobs=32)]: Done  92 out of  92 | elapsed:    0.1s finished\n"
     ]
    },
    {
     "name": "stdout",
     "output_type": "stream",
     "text": [
      "   76 | 05m26s |    0.72987 |     21.1930 |         0.7968 |        92.2934 | \n"
     ]
    },
    {
     "name": "stderr",
     "output_type": "stream",
     "text": [
      "[Parallel(n_jobs=-1)]: Done 136 tasks      | elapsed:  9.6min\n",
      "[Parallel(n_jobs=-1)]: Done 136 tasks      | elapsed:  9.7min\n",
      "[Parallel(n_jobs=-1)]: Done 136 tasks      | elapsed:  9.8min\n",
      "[Parallel(n_jobs=-1)]: Done 200 out of 200 | elapsed: 12.3min finished\n",
      "[Parallel(n_jobs=32)]: Done 136 tasks      | elapsed:    0.4s\n",
      "[Parallel(n_jobs=32)]: Done 200 out of 200 | elapsed:    0.6s finished\n",
      "[Parallel(n_jobs=-1)]: Done 200 out of 200 | elapsed: 12.3min finished\n",
      "[Parallel(n_jobs=32)]: Done 136 tasks      | elapsed:    0.2s\n",
      "[Parallel(n_jobs=32)]: Done 200 out of 200 | elapsed:    0.3s finished\n",
      "[Parallel(n_jobs=-1)]: Done 200 out of 200 | elapsed: 12.3min finished\n",
      "[Parallel(n_jobs=32)]: Done 136 tasks      | elapsed:    0.2s\n",
      "[Parallel(n_jobs=32)]: Done 200 out of 200 | elapsed:    0.3s finished\n"
     ]
    },
    {
     "name": "stdout",
     "output_type": "stream",
     "text": [
      "   77 | 12m44s |    0.72860 |     24.7156 |         0.7955 |       199.9094 | \n"
     ]
    },
    {
     "name": "stderr",
     "output_type": "stream",
     "text": [
      "[Parallel(n_jobs=-1)]: Done  24 out of  43 | elapsed:   26.0s remaining:   20.6s\n",
      "[Parallel(n_jobs=-1)]: Done  24 out of  43 | elapsed:   29.3s remaining:   23.2s\n",
      "[Parallel(n_jobs=-1)]: Done  24 out of  43 | elapsed:   29.0s remaining:   23.0s\n",
      "[Parallel(n_jobs=-1)]: Done  43 out of  43 | elapsed:   39.7s finished\n",
      "[Parallel(n_jobs=32)]: Done  24 out of  43 | elapsed:    0.1s remaining:    0.1s\n",
      "[Parallel(n_jobs=32)]: Done  43 out of  43 | elapsed:    0.1s finished\n",
      "[Parallel(n_jobs=-1)]: Done  43 out of  43 | elapsed:   39.7s finished\n",
      "[Parallel(n_jobs=32)]: Done  24 out of  43 | elapsed:    0.0s remaining:    0.0s\n",
      "[Parallel(n_jobs=32)]: Done  43 out of  43 | elapsed:    0.1s finished\n",
      "[Parallel(n_jobs=-1)]: Done  43 out of  43 | elapsed:   37.8s finished\n",
      "[Parallel(n_jobs=32)]: Done  24 out of  43 | elapsed:    0.0s remaining:    0.0s\n",
      "[Parallel(n_jobs=32)]: Done  43 out of  43 | elapsed:    0.0s finished\n"
     ]
    },
    {
     "name": "stdout",
     "output_type": "stream",
     "text": [
      "   78 | 01m05s |    0.71889 |      5.3578 |         0.7897 |        43.0885 | \n"
     ]
    },
    {
     "name": "stderr",
     "output_type": "stream",
     "text": [
      "[Parallel(n_jobs=-1)]: Done   1 tasks      | elapsed:    0.5s\n",
      "[Parallel(n_jobs=-1)]: Done  36 out of  49 | elapsed:    1.0s remaining:    0.4s\n",
      "[Parallel(n_jobs=-1)]: Done  49 out of  49 | elapsed:    1.1s finished\n",
      "[Parallel(n_jobs=32)]: Done   1 tasks      | elapsed:    0.0s\n",
      "[Parallel(n_jobs=32)]: Done  36 out of  49 | elapsed:    0.0s remaining:    0.0s\n",
      "[Parallel(n_jobs=32)]: Done  49 out of  49 | elapsed:    0.0s finished\n",
      "[Parallel(n_jobs=-1)]: Done   1 tasks      | elapsed:    0.5s\n",
      "[Parallel(n_jobs=-1)]: Done  36 out of  49 | elapsed:    1.0s remaining:    0.3s\n",
      "[Parallel(n_jobs=-1)]: Done  49 out of  49 | elapsed:    1.1s finished\n",
      "[Parallel(n_jobs=32)]: Done   1 tasks      | elapsed:    0.0s\n",
      "[Parallel(n_jobs=32)]: Done  36 out of  49 | elapsed:    0.0s remaining:    0.0s\n",
      "[Parallel(n_jobs=32)]: Done  49 out of  49 | elapsed:    0.0s finished\n",
      "[Parallel(n_jobs=-1)]: Done   1 tasks      | elapsed:    0.6s\n",
      "[Parallel(n_jobs=-1)]: Done  36 out of  49 | elapsed:    1.0s remaining:    0.3s\n",
      "[Parallel(n_jobs=-1)]: Done  49 out of  49 | elapsed:    1.0s finished\n",
      "[Parallel(n_jobs=32)]: Done   1 tasks      | elapsed:    0.0s\n",
      "[Parallel(n_jobs=32)]: Done  36 out of  49 | elapsed:    0.0s remaining:    0.0s\n",
      "[Parallel(n_jobs=32)]: Done  49 out of  49 | elapsed:    0.0s finished\n"
     ]
    },
    {
     "name": "stdout",
     "output_type": "stream",
     "text": [
      "   79 | 00m26s |    0.70787 |     10.0535 |         0.0158 |        49.1030 | \n"
     ]
    },
    {
     "name": "stderr",
     "output_type": "stream",
     "text": [
      "[Parallel(n_jobs=-1)]: Done  16 out of  39 | elapsed:   55.9s remaining:  1.3min\n",
      "[Parallel(n_jobs=-1)]: Done  16 out of  39 | elapsed:   59.0s remaining:  1.4min\n",
      "[Parallel(n_jobs=-1)]: Done  16 out of  39 | elapsed:   59.1s remaining:  1.4min\n",
      "[Parallel(n_jobs=-1)]: Done  39 out of  39 | elapsed:  1.3min finished\n",
      "[Parallel(n_jobs=32)]: Done  16 out of  39 | elapsed:    0.1s remaining:    0.1s\n",
      "[Parallel(n_jobs=32)]: Done  39 out of  39 | elapsed:    0.1s finished\n",
      "[Parallel(n_jobs=-1)]: Done  39 out of  39 | elapsed:  1.3min finished\n",
      "[Parallel(n_jobs=32)]: Done  16 out of  39 | elapsed:    0.0s remaining:    0.1s\n",
      "[Parallel(n_jobs=32)]: Done  39 out of  39 | elapsed:    0.1s finished\n",
      "[Parallel(n_jobs=-1)]: Done  39 out of  39 | elapsed:  1.2min finished\n",
      "[Parallel(n_jobs=32)]: Done  16 out of  39 | elapsed:    0.0s remaining:    0.0s\n",
      "[Parallel(n_jobs=32)]: Done  39 out of  39 | elapsed:    0.0s finished\n"
     ]
    },
    {
     "name": "stdout",
     "output_type": "stream",
     "text": [
      "   80 | 01m41s |    0.73244 |     10.7497 |         0.7944 |        39.0554 | \n"
     ]
    },
    {
     "name": "stderr",
     "output_type": "stream",
     "text": [
      "[Parallel(n_jobs=-1)]: Done  56 out of  59 | elapsed:   50.4s remaining:    2.7s\n",
      "[Parallel(n_jobs=-1)]: Done  59 out of  59 | elapsed:   50.9s finished\n",
      "[Parallel(n_jobs=32)]: Done  56 out of  59 | elapsed:    0.4s remaining:    0.0s\n",
      "[Parallel(n_jobs=32)]: Done  59 out of  59 | elapsed:    0.5s finished\n",
      "[Parallel(n_jobs=-1)]: Done  56 out of  59 | elapsed:   52.4s remaining:    2.8s\n",
      "[Parallel(n_jobs=-1)]: Done  59 out of  59 | elapsed:   52.7s finished\n",
      "[Parallel(n_jobs=32)]: Done  56 out of  59 | elapsed:    0.1s remaining:    0.0s\n",
      "[Parallel(n_jobs=32)]: Done  59 out of  59 | elapsed:    0.1s finished\n",
      "[Parallel(n_jobs=-1)]: Done  56 out of  59 | elapsed:   50.8s remaining:    2.7s\n",
      "[Parallel(n_jobs=-1)]: Done  59 out of  59 | elapsed:   50.9s finished\n",
      "[Parallel(n_jobs=32)]: Done  56 out of  59 | elapsed:    0.0s remaining:    0.0s\n",
      "[Parallel(n_jobs=32)]: Done  59 out of  59 | elapsed:    0.0s finished\n"
     ]
    },
    {
     "name": "stdout",
     "output_type": "stream",
     "text": [
      "   81 | 01m18s |    0.71895 |      5.0134 |         0.7605 |        58.8444 | \n"
     ]
    },
    {
     "name": "stderr",
     "output_type": "stream",
     "text": [
      "[Parallel(n_jobs=-1)]: Done  72 out of  72 | elapsed:  1.4min finished\n",
      "[Parallel(n_jobs=32)]: Done  72 out of  72 | elapsed:    0.1s finished\n",
      "[Parallel(n_jobs=-1)]: Done  72 out of  72 | elapsed:  1.4min finished\n",
      "[Parallel(n_jobs=32)]: Done  72 out of  72 | elapsed:    0.1s finished\n",
      "[Parallel(n_jobs=-1)]: Done  72 out of  72 | elapsed:  1.3min finished\n",
      "[Parallel(n_jobs=32)]: Done  72 out of  72 | elapsed:    0.1s finished\n"
     ]
    },
    {
     "name": "stdout",
     "output_type": "stream",
     "text": [
      "   82 | 01m48s |    0.72387 |      5.8236 |         0.7959 |        71.8022 | \n"
     ]
    },
    {
     "name": "stderr",
     "output_type": "stream",
     "text": [
      "[Parallel(n_jobs=-1)]: Done  14 out of  25 | elapsed:    0.7s remaining:    0.5s\n",
      "[Parallel(n_jobs=-1)]: Done  25 out of  25 | elapsed:    0.9s finished\n",
      "[Parallel(n_jobs=25)]: Done   2 out of  25 | elapsed:    0.0s remaining:    0.3s\n",
      "[Parallel(n_jobs=25)]: Done  25 out of  25 | elapsed:    0.0s finished\n",
      "[Parallel(n_jobs=-1)]: Done  14 out of  25 | elapsed:    0.6s remaining:    0.5s\n",
      "[Parallel(n_jobs=-1)]: Done  25 out of  25 | elapsed:    0.8s finished\n",
      "[Parallel(n_jobs=25)]: Done   2 out of  25 | elapsed:    0.0s remaining:    0.3s\n",
      "[Parallel(n_jobs=25)]: Done  25 out of  25 | elapsed:    0.0s finished\n",
      "[Parallel(n_jobs=-1)]: Done  14 out of  25 | elapsed:    0.6s remaining:    0.5s\n",
      "[Parallel(n_jobs=-1)]: Done  25 out of  25 | elapsed:    0.8s finished\n",
      "[Parallel(n_jobs=25)]: Done   2 out of  25 | elapsed:    0.0s remaining:    0.3s\n",
      "[Parallel(n_jobs=25)]: Done  25 out of  25 | elapsed:    0.0s finished\n"
     ]
    },
    {
     "name": "stdout",
     "output_type": "stream",
     "text": [
      "   83 | 00m27s |    0.67989 |     17.9398 |         0.0100 |        25.0000 | \n"
     ]
    },
    {
     "name": "stderr",
     "output_type": "stream",
     "text": [
      "[Parallel(n_jobs=-1)]: Done  14 out of  25 | elapsed:    0.5s remaining:    0.4s\n",
      "[Parallel(n_jobs=-1)]: Done  25 out of  25 | elapsed:    0.6s finished\n",
      "[Parallel(n_jobs=25)]: Done   2 out of  25 | elapsed:    0.0s remaining:    0.2s\n",
      "[Parallel(n_jobs=25)]: Done  25 out of  25 | elapsed:    0.0s finished\n",
      "[Parallel(n_jobs=-1)]: Done  14 out of  25 | elapsed:    0.5s remaining:    0.4s\n",
      "[Parallel(n_jobs=-1)]: Done  25 out of  25 | elapsed:    0.6s finished\n",
      "[Parallel(n_jobs=25)]: Done   2 out of  25 | elapsed:    0.0s remaining:    0.2s\n",
      "[Parallel(n_jobs=25)]: Done  25 out of  25 | elapsed:    0.0s finished\n",
      "[Parallel(n_jobs=-1)]: Done  14 out of  25 | elapsed:    0.4s remaining:    0.3s\n",
      "[Parallel(n_jobs=-1)]: Done  25 out of  25 | elapsed:    0.6s finished\n",
      "[Parallel(n_jobs=25)]: Done   2 out of  25 | elapsed:    0.0s remaining:    0.2s\n",
      "[Parallel(n_jobs=25)]: Done  25 out of  25 | elapsed:    0.0s finished\n"
     ]
    },
    {
     "name": "stdout",
     "output_type": "stream",
     "text": [
      "   84 | 00m26s |    0.69129 |      9.3771 |         0.0100 |        25.0000 | \n"
     ]
    },
    {
     "name": "stderr",
     "output_type": "stream",
     "text": [
      "[Parallel(n_jobs=-1)]: Done   2 out of  32 | elapsed:  1.7min remaining: 25.3min\n",
      "[Parallel(n_jobs=-1)]: Done   2 out of  32 | elapsed:  1.7min remaining: 26.1min\n",
      "[Parallel(n_jobs=-1)]: Done  32 out of  32 | elapsed:  1.8min finished\n",
      "[Parallel(n_jobs=-1)]: Done   2 out of  32 | elapsed:  1.7min remaining: 26.0min\n",
      "[Parallel(n_jobs=32)]: Done   2 out of  32 | elapsed:    0.1s remaining:    1.3s\n",
      "[Parallel(n_jobs=32)]: Done  32 out of  32 | elapsed:    0.2s finished\n",
      "[Parallel(n_jobs=-1)]: Done  32 out of  32 | elapsed:  1.8min finished\n",
      "[Parallel(n_jobs=32)]: Done   2 out of  32 | elapsed:    0.0s remaining:    0.6s\n",
      "[Parallel(n_jobs=32)]: Done  32 out of  32 | elapsed:    0.1s finished\n",
      "[Parallel(n_jobs=-1)]: Done  32 out of  32 | elapsed:  1.8min finished\n",
      "[Parallel(n_jobs=32)]: Done   2 out of  32 | elapsed:    0.0s remaining:    0.5s\n",
      "[Parallel(n_jobs=32)]: Done  32 out of  32 | elapsed:    0.1s finished\n"
     ]
    },
    {
     "name": "stdout",
     "output_type": "stream",
     "text": [
      "   85 | 02m11s |    0.71657 |     23.4354 |         0.7901 |        31.9378 | \n"
     ]
    },
    {
     "name": "stderr",
     "output_type": "stream",
     "text": [
      "[Parallel(n_jobs=-1)]: Done  20 out of  41 | elapsed:  1.5min remaining:  1.6min\n",
      "[Parallel(n_jobs=-1)]: Done  20 out of  41 | elapsed:  1.6min remaining:  1.6min\n",
      "[Parallel(n_jobs=-1)]: Done  20 out of  41 | elapsed:  1.6min remaining:  1.7min\n",
      "[Parallel(n_jobs=-1)]: Done  41 out of  41 | elapsed:  2.1min finished\n",
      "[Parallel(n_jobs=32)]: Done  20 out of  41 | elapsed:    0.1s remaining:    0.1s\n",
      "[Parallel(n_jobs=32)]: Done  41 out of  41 | elapsed:    0.1s finished\n",
      "[Parallel(n_jobs=-1)]: Done  41 out of  41 | elapsed:  2.1min finished\n",
      "[Parallel(n_jobs=32)]: Done  20 out of  41 | elapsed:    0.0s remaining:    0.1s\n",
      "[Parallel(n_jobs=32)]: Done  41 out of  41 | elapsed:    0.1s finished\n",
      "[Parallel(n_jobs=-1)]: Done  41 out of  41 | elapsed:  2.0min finished\n",
      "[Parallel(n_jobs=32)]: Done  20 out of  41 | elapsed:    0.0s remaining:    0.0s\n",
      "[Parallel(n_jobs=32)]: Done  41 out of  41 | elapsed:    0.1s finished\n"
     ]
    },
    {
     "name": "stdout",
     "output_type": "stream",
     "text": [
      "   86 | 02m27s |    0.72756 |     18.5341 |         0.7984 |        40.8124 | \n"
     ]
    },
    {
     "name": "stderr",
     "output_type": "stream",
     "text": [
      "[Parallel(n_jobs=-1)]: Done  17 out of  26 | elapsed:   20.7s remaining:   10.9s\n",
      "[Parallel(n_jobs=-1)]: Done  17 out of  26 | elapsed:   22.8s remaining:   12.1s\n",
      "[Parallel(n_jobs=-1)]: Done  26 out of  26 | elapsed:   24.2s finished\n",
      "[Parallel(n_jobs=26)]: Done   2 out of  26 | elapsed:    0.1s remaining:    0.8s\n",
      "[Parallel(n_jobs=26)]: Done  26 out of  26 | elapsed:    0.1s finished\n",
      "[Parallel(n_jobs=-1)]: Done  26 out of  26 | elapsed:   23.4s finished\n",
      "[Parallel(n_jobs=26)]: Done   2 out of  26 | elapsed:    0.0s remaining:    0.5s\n",
      "[Parallel(n_jobs=26)]: Done  26 out of  26 | elapsed:    0.1s finished\n",
      "[Parallel(n_jobs=-1)]: Done  17 out of  26 | elapsed:   21.7s remaining:   11.5s\n",
      "[Parallel(n_jobs=-1)]: Done  26 out of  26 | elapsed:   22.0s finished\n",
      "[Parallel(n_jobs=26)]: Done   2 out of  26 | elapsed:    0.0s remaining:    0.2s\n",
      "[Parallel(n_jobs=26)]: Done  26 out of  26 | elapsed:    0.0s finished\n"
     ]
    },
    {
     "name": "stdout",
     "output_type": "stream",
     "text": [
      "   87 | 00m47s |    0.71824 |      5.3651 |         0.7749 |        25.5149 | \n"
     ]
    },
    {
     "name": "stderr",
     "output_type": "stream",
     "text": [
      "[Parallel(n_jobs=-1)]: Done 106 out of 106 | elapsed:  1.6min finished\n",
      "[Parallel(n_jobs=32)]: Done 106 out of 106 | elapsed:    0.2s finished\n",
      "[Parallel(n_jobs=-1)]: Done 106 out of 106 | elapsed:  1.6min finished\n",
      "[Parallel(n_jobs=32)]: Done 106 out of 106 | elapsed:    0.1s finished\n",
      "[Parallel(n_jobs=-1)]: Done 106 out of 106 | elapsed:  1.6min finished\n",
      "[Parallel(n_jobs=32)]: Done 106 out of 106 | elapsed:    0.1s finished\n"
     ]
    },
    {
     "name": "stdout",
     "output_type": "stream",
     "text": [
      "   88 | 01m57s |    0.71986 |      5.0962 |         0.7417 |       106.0408 | \n"
     ]
    },
    {
     "name": "stderr",
     "output_type": "stream",
     "text": [
      "/home/ec2-user/anaconda3/lib/python3.6/site-packages/sklearn/gaussian_process/gpr.py:427: UserWarning: fmin_l_bfgs_b terminated abnormally with the  state: {'grad': array([-0.0001571]), 'task': b'ABNORMAL_TERMINATION_IN_LNSRCH', 'funcalls': 56, 'nit': 6, 'warnflag': 2}\n",
      "  \" state: %s\" % convergence_dict)\n",
      "[Parallel(n_jobs=-1)]: Done 148 out of 148 | elapsed:  5.2min finished\n",
      "[Parallel(n_jobs=32)]: Done 148 out of 148 | elapsed:    0.5s finished\n",
      "[Parallel(n_jobs=-1)]: Done 148 out of 148 | elapsed:  5.1min finished\n",
      "[Parallel(n_jobs=32)]: Done 148 out of 148 | elapsed:    0.2s finished\n",
      "[Parallel(n_jobs=-1)]: Done 148 out of 148 | elapsed:  5.1min finished\n",
      "[Parallel(n_jobs=32)]: Done 148 out of 148 | elapsed:    0.1s finished\n"
     ]
    },
    {
     "name": "stdout",
     "output_type": "stream",
     "text": [
      "   89 | 05m32s |    0.73558 |     12.2518 |         0.7967 |       147.5156 | \n"
     ]
    },
    {
     "name": "stderr",
     "output_type": "stream",
     "text": [
      "/home/ec2-user/anaconda3/lib/python3.6/site-packages/sklearn/gaussian_process/gpr.py:427: UserWarning: fmin_l_bfgs_b terminated abnormally with the  state: {'grad': array([ -5.85837115e-05]), 'task': b'ABNORMAL_TERMINATION_IN_LNSRCH', 'funcalls': 55, 'nit': 5, 'warnflag': 2}\n",
      "  \" state: %s\" % convergence_dict)\n",
      "[Parallel(n_jobs=-1)]: Done  44 out of  53 | elapsed:  2.4min remaining:   29.2s\n",
      "[Parallel(n_jobs=-1)]: Done  53 out of  53 | elapsed:  2.4min finished\n",
      "[Parallel(n_jobs=32)]: Done  44 out of  53 | elapsed:    0.2s remaining:    0.0s\n",
      "[Parallel(n_jobs=32)]: Done  53 out of  53 | elapsed:    0.3s finished\n",
      "[Parallel(n_jobs=-1)]: Done  44 out of  53 | elapsed:  2.4min remaining:   29.6s\n",
      "[Parallel(n_jobs=-1)]: Done  53 out of  53 | elapsed:  2.4min finished\n",
      "[Parallel(n_jobs=-1)]: Done  44 out of  53 | elapsed:  2.4min remaining:   29.2s\n",
      "[Parallel(n_jobs=32)]: Done  44 out of  53 | elapsed:    0.1s remaining:    0.0s\n",
      "[Parallel(n_jobs=32)]: Done  53 out of  53 | elapsed:    0.1s finished\n",
      "[Parallel(n_jobs=-1)]: Done  53 out of  53 | elapsed:  2.4min finished\n",
      "[Parallel(n_jobs=32)]: Done  44 out of  53 | elapsed:    0.1s remaining:    0.0s\n",
      "[Parallel(n_jobs=32)]: Done  53 out of  53 | elapsed:    0.1s finished\n"
     ]
    },
    {
     "name": "stdout",
     "output_type": "stream",
     "text": [
      "   90 | 02m48s |    0.73064 |     17.2973 |         0.7987 |        52.8316 | \n"
     ]
    },
    {
     "name": "stderr",
     "output_type": "stream",
     "text": [
      "[Parallel(n_jobs=-1)]: Done  34 out of  48 | elapsed:  2.8min remaining:  1.2min\n",
      "[Parallel(n_jobs=-1)]: Done  34 out of  48 | elapsed:  2.8min remaining:  1.2min\n",
      "[Parallel(n_jobs=-1)]: Done  48 out of  48 | elapsed:  2.9min finished\n",
      "[Parallel(n_jobs=32)]: Done  34 out of  48 | elapsed:    0.2s remaining:    0.1s\n",
      "[Parallel(n_jobs=32)]: Done  48 out of  48 | elapsed:    0.2s finished\n",
      "[Parallel(n_jobs=-1)]: Done  34 out of  48 | elapsed:  2.8min remaining:  1.2min\n",
      "[Parallel(n_jobs=-1)]: Done  48 out of  48 | elapsed:  2.9min finished\n",
      "[Parallel(n_jobs=32)]: Done  34 out of  48 | elapsed:    0.1s remaining:    0.0s\n",
      "[Parallel(n_jobs=32)]: Done  48 out of  48 | elapsed:    0.1s finished\n",
      "[Parallel(n_jobs=-1)]: Done  48 out of  48 | elapsed:  2.9min finished\n",
      "[Parallel(n_jobs=32)]: Done  34 out of  48 | elapsed:    0.1s remaining:    0.0s\n",
      "[Parallel(n_jobs=32)]: Done  48 out of  48 | elapsed:    0.1s finished\n"
     ]
    },
    {
     "name": "stdout",
     "output_type": "stream",
     "text": [
      "   91 | 03m17s |    0.71848 |     24.9634 |         0.7856 |        48.0001 | \n"
     ]
    },
    {
     "name": "stderr",
     "output_type": "stream",
     "text": [
      "[Parallel(n_jobs=-1)]: Done 164 out of 164 | elapsed:  5.4min finished\n",
      "[Parallel(n_jobs=32)]: Done 164 out of 164 | elapsed:    0.2s finished\n",
      "[Parallel(n_jobs=-1)]: Done 164 out of 164 | elapsed:  5.4min finished\n",
      "[Parallel(n_jobs=32)]: Done 164 out of 164 | elapsed:    0.2s finished\n",
      "[Parallel(n_jobs=-1)]: Done 164 out of 164 | elapsed:  5.3min finished\n",
      "[Parallel(n_jobs=32)]: Done 164 out of 164 | elapsed:    0.1s finished\n"
     ]
    },
    {
     "name": "stdout",
     "output_type": "stream",
     "text": [
      "   92 | 05m47s |    0.73446 |     10.6581 |         0.7970 |       163.9449 | \n"
     ]
    },
    {
     "name": "stderr",
     "output_type": "stream",
     "text": [
      "[Parallel(n_jobs=-1)]: Done 183 out of 183 | elapsed:    4.4s finished\n",
      "[Parallel(n_jobs=32)]: Done 183 out of 183 | elapsed:    1.0s finished\n",
      "[Parallel(n_jobs=-1)]: Done 183 out of 183 | elapsed:    6.5s finished\n",
      "[Parallel(n_jobs=32)]: Done 183 out of 183 | elapsed:    0.5s finished\n",
      "[Parallel(n_jobs=-1)]: Done 183 out of 183 | elapsed:    5.6s finished\n",
      "[Parallel(n_jobs=32)]: Done 183 out of 183 | elapsed:    0.2s finished\n"
     ]
    },
    {
     "name": "stdout",
     "output_type": "stream",
     "text": [
      "   93 | 00m31s |    0.71626 |     13.5221 |         0.0122 |       183.2372 | \n"
     ]
    },
    {
     "name": "stderr",
     "output_type": "stream",
     "text": [
      "[Parallel(n_jobs=-1)]: Done 174 out of 174 | elapsed:  6.8min finished\n",
      "[Parallel(n_jobs=32)]: Done 174 out of 174 | elapsed:    0.4s finished\n",
      "[Parallel(n_jobs=-1)]: Done 174 out of 174 | elapsed:  6.9min finished\n",
      "[Parallel(n_jobs=32)]: Done 174 out of 174 | elapsed:    0.3s finished\n",
      "[Parallel(n_jobs=-1)]: Done 174 out of 174 | elapsed:  6.8min finished\n",
      "[Parallel(n_jobs=32)]: Done 174 out of 174 | elapsed:    0.2s finished\n"
     ]
    },
    {
     "name": "stdout",
     "output_type": "stream",
     "text": [
      "   94 | 07m17s |    0.73612 |     14.2680 |         0.7928 |       174.4298 | \n"
     ]
    },
    {
     "name": "stderr",
     "output_type": "stream",
     "text": [
      "[Parallel(n_jobs=-1)]: Done 197 out of 197 | elapsed:  5.9min finished\n",
      "[Parallel(n_jobs=32)]: Done 197 out of 197 | elapsed:    0.3s finished\n",
      "[Parallel(n_jobs=-1)]: Done 197 out of 197 | elapsed:  5.9min finished\n",
      "[Parallel(n_jobs=32)]: Done 197 out of 197 | elapsed:    0.2s finished\n",
      "[Parallel(n_jobs=-1)]: Done 197 out of 197 | elapsed:  5.9min finished\n",
      "[Parallel(n_jobs=32)]: Done 197 out of 197 | elapsed:    0.2s finished\n"
     ]
    },
    {
     "name": "stdout",
     "output_type": "stream",
     "text": [
      "   95 | 06m22s |    0.73347 |     10.1091 |         0.8000 |       196.9937 | \n"
     ]
    },
    {
     "name": "stderr",
     "output_type": "stream",
     "text": [
      "[Parallel(n_jobs=-1)]: Done 180 out of 180 | elapsed:  9.5min finished\n",
      "[Parallel(n_jobs=32)]: Done 180 out of 180 | elapsed:    0.7s finished\n",
      "[Parallel(n_jobs=-1)]: Done 180 out of 180 | elapsed:  9.5min finished\n",
      "[Parallel(n_jobs=32)]: Done 180 out of 180 | elapsed:    0.3s finished\n",
      "[Parallel(n_jobs=-1)]: Done 180 out of 180 | elapsed:  9.5min finished\n",
      "[Parallel(n_jobs=32)]: Done 180 out of 180 | elapsed:    0.2s finished\n"
     ]
    },
    {
     "name": "stdout",
     "output_type": "stream",
     "text": [
      "   96 | 10m00s |    0.73285 |     21.1301 |         0.7786 |       180.1428 | \n"
     ]
    },
    {
     "name": "stderr",
     "output_type": "stream",
     "text": [
      "[Parallel(n_jobs=-1)]: Done 124 out of 124 | elapsed:    1.4s finished\n",
      "[Parallel(n_jobs=32)]: Done 124 out of 124 | elapsed:    0.3s finished\n",
      "[Parallel(n_jobs=-1)]: Done 124 out of 124 | elapsed:    1.5s finished\n",
      "[Parallel(n_jobs=32)]: Done 124 out of 124 | elapsed:    0.2s finished\n",
      "[Parallel(n_jobs=-1)]: Done 124 out of 124 | elapsed:    1.5s finished\n",
      "[Parallel(n_jobs=32)]: Done 124 out of 124 | elapsed:    0.1s finished\n"
     ]
    },
    {
     "name": "stdout",
     "output_type": "stream",
     "text": [
      "   97 | 00m28s |    0.70110 |      5.1110 |         0.0139 |       124.4563 | \n"
     ]
    },
    {
     "name": "stderr",
     "output_type": "stream",
     "text": [
      "[Parallel(n_jobs=-1)]: Done 125 out of 125 | elapsed:    5.3s finished\n",
      "[Parallel(n_jobs=32)]: Done 125 out of 125 | elapsed:    0.8s finished\n",
      "[Parallel(n_jobs=-1)]: Done 125 out of 125 | elapsed:    7.5s finished\n",
      "[Parallel(n_jobs=32)]: Done 125 out of 125 | elapsed:    0.5s finished\n",
      "[Parallel(n_jobs=-1)]: Done 125 out of 125 | elapsed:    6.4s finished\n",
      "[Parallel(n_jobs=32)]: Done 125 out of 125 | elapsed:    0.1s finished\n"
     ]
    },
    {
     "name": "stdout",
     "output_type": "stream",
     "text": [
      "   98 | 00m34s |    0.72446 |     15.9229 |         0.0203 |       124.5718 | \n"
     ]
    },
    {
     "name": "stderr",
     "output_type": "stream",
     "text": [
      "[Parallel(n_jobs=-1)]: Done 113 out of 113 | elapsed:  3.9min finished\n",
      "[Parallel(n_jobs=32)]: Done 113 out of 113 | elapsed:    0.4s finished\n",
      "[Parallel(n_jobs=-1)]: Done 113 out of 113 | elapsed:  3.9min finished\n",
      "[Parallel(n_jobs=32)]: Done 113 out of 113 | elapsed:    0.2s finished\n",
      "[Parallel(n_jobs=-1)]: Done 113 out of 113 | elapsed:  3.9min finished\n",
      "[Parallel(n_jobs=32)]: Done 113 out of 113 | elapsed:    0.1s finished\n"
     ]
    },
    {
     "name": "stdout",
     "output_type": "stream",
     "text": [
      "   99 | 04m24s |    0.73522 |     11.8696 |         0.7968 |       113.1734 | \n"
     ]
    },
    {
     "name": "stderr",
     "output_type": "stream",
     "text": [
      "/home/ec2-user/anaconda3/lib/python3.6/site-packages/sklearn/gaussian_process/gpr.py:427: UserWarning: fmin_l_bfgs_b terminated abnormally with the  state: {'grad': array([-0.00011563]), 'task': b'ABNORMAL_TERMINATION_IN_LNSRCH', 'funcalls': 55, 'nit': 5, 'warnflag': 2}\n",
      "  \" state: %s\" % convergence_dict)\n",
      "[Parallel(n_jobs=-1)]: Done 133 out of 133 | elapsed:    4.6s finished\n",
      "[Parallel(n_jobs=32)]: Done 133 out of 133 | elapsed:    0.7s finished\n",
      "[Parallel(n_jobs=-1)]: Done 133 out of 133 | elapsed:    5.8s finished\n",
      "[Parallel(n_jobs=32)]: Done 133 out of 133 | elapsed:    0.4s finished\n",
      "[Parallel(n_jobs=-1)]: Done 133 out of 133 | elapsed:    4.6s finished\n",
      "[Parallel(n_jobs=32)]: Done 133 out of 133 | elapsed:    0.1s finished\n"
     ]
    },
    {
     "name": "stdout",
     "output_type": "stream",
     "text": [
      "  100 | 00m34s |    0.72409 |     11.8836 |         0.0180 |       132.5014 | \n"
     ]
    },
    {
     "name": "stderr",
     "output_type": "stream",
     "text": [
      "[Parallel(n_jobs=-1)]: Done 142 out of 142 | elapsed:  6.9min finished\n",
      "[Parallel(n_jobs=32)]: Done 142 out of 142 | elapsed:    0.3s finished\n",
      "[Parallel(n_jobs=-1)]: Done 142 out of 142 | elapsed:  6.9min finished\n",
      "[Parallel(n_jobs=32)]: Done 142 out of 142 | elapsed:    0.2s finished\n",
      "[Parallel(n_jobs=-1)]: Done 142 out of 142 | elapsed:  6.9min finished\n",
      "[Parallel(n_jobs=32)]: Done 142 out of 142 | elapsed:    0.2s finished\n"
     ]
    },
    {
     "name": "stdout",
     "output_type": "stream",
     "text": [
      "  101 | 07m22s |    0.73411 |     18.2057 |         0.8000 |       141.5664 | \n"
     ]
    },
    {
     "name": "stderr",
     "output_type": "stream",
     "text": [
      "[Parallel(n_jobs=-1)]: Done 142 out of 142 | elapsed:  2.3min finished\n",
      "[Parallel(n_jobs=32)]: Done 142 out of 142 | elapsed:    0.5s finished\n",
      "[Parallel(n_jobs=-1)]: Done 142 out of 142 | elapsed:  2.3min finished\n",
      "[Parallel(n_jobs=32)]: Done 142 out of 142 | elapsed:    0.1s finished\n",
      "[Parallel(n_jobs=-1)]: Done 142 out of 142 | elapsed:  2.2min finished\n",
      "[Parallel(n_jobs=32)]: Done 142 out of 142 | elapsed:    0.1s finished\n"
     ]
    },
    {
     "name": "stdout",
     "output_type": "stream",
     "text": [
      "  102 | 02m43s |    0.71952 |      5.1364 |         0.7937 |       141.5781 | \n"
     ]
    },
    {
     "name": "stderr",
     "output_type": "stream",
     "text": [
      "[Parallel(n_jobs=-1)]: Done  63 out of  63 | elapsed:  1.8min finished\n",
      "[Parallel(n_jobs=32)]: Done  63 out of  63 | elapsed:    0.4s finished\n",
      "[Parallel(n_jobs=-1)]: Done  63 out of  63 | elapsed:  1.8min finished\n",
      "[Parallel(n_jobs=32)]: Done  63 out of  63 | elapsed:    0.1s finished\n",
      "[Parallel(n_jobs=-1)]: Done  63 out of  63 | elapsed:  1.8min finished\n",
      "[Parallel(n_jobs=32)]: Done  63 out of  63 | elapsed:    0.1s finished\n"
     ]
    },
    {
     "name": "stdout",
     "output_type": "stream",
     "text": [
      "  103 | 02m19s |    0.73263 |      9.7193 |         0.7942 |        63.2633 | \n"
     ]
    },
    {
     "name": "stderr",
     "output_type": "stream",
     "text": [
      "[Parallel(n_jobs=-1)]: Done 124 out of 124 | elapsed:  7.6min finished\n",
      "[Parallel(n_jobs=32)]: Done 124 out of 124 | elapsed:    0.3s finished\n",
      "[Parallel(n_jobs=-1)]: Done 124 out of 124 | elapsed:  7.6min finished\n",
      "[Parallel(n_jobs=32)]: Done 124 out of 124 | elapsed:    0.2s finished\n",
      "[Parallel(n_jobs=-1)]: Done 124 out of 124 | elapsed:  7.6min finished\n",
      "[Parallel(n_jobs=32)]: Done 124 out of 124 | elapsed:    0.2s finished\n"
     ]
    },
    {
     "name": "stdout",
     "output_type": "stream",
     "text": [
      "  104 | 08m04s |    0.72655 |     24.9855 |         0.7946 |       123.6746 | \n"
     ]
    },
    {
     "name": "stderr",
     "output_type": "stream",
     "text": [
      "[Parallel(n_jobs=-1)]: Done 129 out of 129 | elapsed:  5.5min finished\n",
      "[Parallel(n_jobs=32)]: Done 129 out of 129 | elapsed:    0.2s finished\n",
      "[Parallel(n_jobs=-1)]: Done 129 out of 129 | elapsed:  5.5min finished\n",
      "[Parallel(n_jobs=32)]: Done 129 out of 129 | elapsed:    0.1s finished\n",
      "[Parallel(n_jobs=-1)]: Done 129 out of 129 | elapsed:  5.5min finished\n",
      "[Parallel(n_jobs=32)]: Done 129 out of 129 | elapsed:    0.1s finished\n"
     ]
    },
    {
     "name": "stdout",
     "output_type": "stream",
     "text": [
      "  105 | 05m58s |    0.73602 |     14.5966 |         0.7910 |       129.4344 | \n"
     ]
    },
    {
     "name": "stderr",
     "output_type": "stream",
     "text": [
      "[Parallel(n_jobs=-1)]: Done 160 out of 160 | elapsed:  2.5min finished\n",
      "[Parallel(n_jobs=32)]: Done 160 out of 160 | elapsed:    0.6s finished\n",
      "[Parallel(n_jobs=-1)]: Done 160 out of 160 | elapsed:  2.5min finished\n",
      "[Parallel(n_jobs=32)]: Done 160 out of 160 | elapsed:    0.1s finished\n",
      "[Parallel(n_jobs=-1)]: Done 160 out of 160 | elapsed:  2.5min finished\n",
      "[Parallel(n_jobs=32)]: Done 160 out of 160 | elapsed:    0.1s finished\n"
     ]
    },
    {
     "name": "stdout",
     "output_type": "stream",
     "text": [
      "  106 | 02m58s |    0.71973 |      5.1251 |         0.7752 |       159.8187 | \n"
     ]
    },
    {
     "name": "stderr",
     "output_type": "stream",
     "text": [
      "[Parallel(n_jobs=-1)]: Done  88 out of  88 | elapsed:  5.4min finished\n",
      "[Parallel(n_jobs=32)]: Done  88 out of  88 | elapsed:    0.5s finished\n",
      "[Parallel(n_jobs=-1)]: Done  88 out of  88 | elapsed:  5.4min finished\n",
      "[Parallel(n_jobs=32)]: Done  88 out of  88 | elapsed:    0.2s finished\n",
      "[Parallel(n_jobs=-1)]: Done  88 out of  88 | elapsed:  5.4min finished\n",
      "[Parallel(n_jobs=32)]: Done  88 out of  88 | elapsed:    0.1s finished\n"
     ]
    },
    {
     "name": "stdout",
     "output_type": "stream",
     "text": [
      "  107 | 05m53s |    0.72455 |     24.8729 |         0.7995 |        88.4448 | \n"
     ]
    },
    {
     "name": "stderr",
     "output_type": "stream",
     "text": [
      "[Parallel(n_jobs=-1)]: Done 119 out of 119 | elapsed:    3.6s finished\n",
      "[Parallel(n_jobs=32)]: Done 119 out of 119 | elapsed:    0.4s finished\n",
      "[Parallel(n_jobs=-1)]: Done 119 out of 119 | elapsed:    4.6s finished\n",
      "[Parallel(n_jobs=32)]: Done 119 out of 119 | elapsed:    0.5s finished\n",
      "[Parallel(n_jobs=-1)]: Done 119 out of 119 | elapsed:    3.7s finished\n",
      "[Parallel(n_jobs=32)]: Done 119 out of 119 | elapsed:    0.1s finished\n"
     ]
    },
    {
     "name": "stdout",
     "output_type": "stream",
     "text": [
      "  108 | 00m36s |    0.72244 |     10.9645 |         0.0209 |       119.3315 | \n"
     ]
    },
    {
     "name": "stderr",
     "output_type": "stream",
     "text": [
      "[Parallel(n_jobs=-1)]: Done 189 out of 189 | elapsed: 10.9min finished\n",
      "[Parallel(n_jobs=32)]: Done 189 out of 189 | elapsed:    0.4s finished\n",
      "[Parallel(n_jobs=-1)]: Done 189 out of 189 | elapsed: 10.9min finished\n",
      "[Parallel(n_jobs=32)]: Done 189 out of 189 | elapsed:    0.3s finished\n",
      "[Parallel(n_jobs=-1)]: Done 189 out of 189 | elapsed: 10.8min finished\n",
      "[Parallel(n_jobs=32)]: Done 189 out of 189 | elapsed:    0.3s finished\n"
     ]
    },
    {
     "name": "stdout",
     "output_type": "stream",
     "text": [
      "  109 | 11m23s |    0.73110 |     22.6522 |         0.7916 |       188.5414 | \n"
     ]
    },
    {
     "name": "stderr",
     "output_type": "stream",
     "text": [
      "[Parallel(n_jobs=-1)]: Done  77 out of  77 | elapsed:    3.6s finished\n",
      "[Parallel(n_jobs=32)]: Done  77 out of  77 | elapsed:    0.4s finished\n",
      "[Parallel(n_jobs=-1)]: Done  77 out of  77 | elapsed:    5.3s finished\n",
      "[Parallel(n_jobs=32)]: Done  77 out of  77 | elapsed:    0.2s finished\n",
      "[Parallel(n_jobs=-1)]: Done  77 out of  77 | elapsed:    4.7s finished\n",
      "[Parallel(n_jobs=32)]: Done  77 out of  77 | elapsed:    0.1s finished\n"
     ]
    },
    {
     "name": "stdout",
     "output_type": "stream",
     "text": [
      "  110 | 00m37s |    0.72954 |      8.5592 |         0.0424 |        77.4776 | \n",
      "TIME TAKEN (MIN): 378.82150808970135\n"
     ]
    }
   ],
   "source": [
    "start = time.time()\n",
    "rfBO = BayesianOptimization(rf_func, {p: (min(rf_params[p]), max(rf_params[p])) for p in rf_params})\n",
    "rfBO.maximize(10, 100)\n",
    "print('TIME TAKEN (MIN):', (time.time() - start)/60)"
   ]
  },
  {
   "cell_type": "code",
   "execution_count": 25,
   "metadata": {
    "collapsed": true
   },
   "outputs": [],
   "source": [
    "result = rfBO.res['max']\n",
    "# best_params = result['max_params']\n",
    "# best_score = result['max_value']\n",
    "print(result)\n",
    "all_results['rf'] = result"
   ]
  },
  {
   "cell_type": "code",
   "execution_count": null,
   "metadata": {
    "collapsed": true
   },
   "outputs": [],
   "source": []
  },
  {
   "cell_type": "markdown",
   "metadata": {},
   "source": [
    "#### Extra Trees"
   ]
  },
  {
   "cell_type": "code",
   "execution_count": 26,
   "metadata": {
    "collapsed": true
   },
   "outputs": [],
   "source": [
    "def et_func(**params):\n",
    "    params['n_estimators'] = int(np.round(params['n_estimators']))\n",
    "    params['max_depth'] = int(np.round(params['max_depth']))\n",
    "    \n",
    "    cv = StratifiedKFold(N_CV, True, SEED)\n",
    "    est = RandomForestClassifier(**et_default_params, **params)\n",
    "    roc_auc = np.mean(cross_val_score(est, x_train, y_train, scoring='roc_auc', cv=cv, n_jobs=-1))\n",
    "    return roc_auc"
   ]
  },
  {
   "cell_type": "code",
   "execution_count": 27,
   "metadata": {},
   "outputs": [
    {
     "name": "stdout",
     "output_type": "stream",
     "text": [
      "\u001b[31mInitialization\u001b[0m\n",
      "\u001b[94m-----------------------------------------------------------------------------\u001b[0m\n",
      " Step |   Time |      Value |   max_depth |   max_features |   n_estimators | \n"
     ]
    },
    {
     "name": "stderr",
     "output_type": "stream",
     "text": [
      "[Parallel(n_jobs=-1)]: Done 171 out of 171 | elapsed:  2.7min finished\n",
      "[Parallel(n_jobs=32)]: Done 171 out of 171 | elapsed:    0.5s finished\n",
      "[Parallel(n_jobs=-1)]: Done 171 out of 171 | elapsed:  2.7min finished\n",
      "[Parallel(n_jobs=32)]: Done 171 out of 171 | elapsed:    0.2s finished\n",
      "[Parallel(n_jobs=-1)]: Done 171 out of 171 | elapsed:  2.7min finished\n",
      "[Parallel(n_jobs=32)]: Done 171 out of 171 | elapsed:    0.1s finished\n"
     ]
    },
    {
     "name": "stdout",
     "output_type": "stream",
     "text": [
      "    1 | 02m52s | \u001b[35m   0.73736\u001b[0m | \u001b[32m    10.2128\u001b[0m | \u001b[32m        0.4233\u001b[0m | \u001b[32m      171.3298\u001b[0m | \n"
     ]
    },
    {
     "name": "stderr",
     "output_type": "stream",
     "text": [
      "[Parallel(n_jobs=-1)]: Done  30 out of  46 | elapsed:   10.1s remaining:    5.4s\n",
      "[Parallel(n_jobs=-1)]: Done  30 out of  46 | elapsed:   13.0s remaining:    6.9s\n",
      "[Parallel(n_jobs=-1)]: Done  30 out of  46 | elapsed:   12.3s remaining:    6.6s\n",
      "[Parallel(n_jobs=-1)]: Done  46 out of  46 | elapsed:   17.8s finished\n",
      "[Parallel(n_jobs=32)]: Done  30 out of  46 | elapsed:    0.2s remaining:    0.1s\n",
      "[Parallel(n_jobs=32)]: Done  46 out of  46 | elapsed:    0.3s finished\n",
      "[Parallel(n_jobs=-1)]: Done  46 out of  46 | elapsed:   17.8s finished\n",
      "[Parallel(n_jobs=32)]: Done  30 out of  46 | elapsed:    0.1s remaining:    0.0s\n",
      "[Parallel(n_jobs=32)]: Done  46 out of  46 | elapsed:    0.1s finished\n",
      "[Parallel(n_jobs=-1)]: Done  46 out of  46 | elapsed:   15.8s finished\n",
      "[Parallel(n_jobs=32)]: Done  30 out of  46 | elapsed:    0.0s remaining:    0.0s\n",
      "[Parallel(n_jobs=32)]: Done  46 out of  46 | elapsed:    0.0s finished\n"
     ]
    },
    {
     "name": "stdout",
     "output_type": "stream",
     "text": [
      "    2 | 00m26s | \u001b[35m   0.73989\u001b[0m | \u001b[32m     9.5069\u001b[0m | \u001b[32m        0.1887\u001b[0m | \u001b[32m       45.9852\u001b[0m | \n"
     ]
    },
    {
     "name": "stderr",
     "output_type": "stream",
     "text": [
      "[Parallel(n_jobs=-1)]: Done  93 out of  93 | elapsed:   27.0s finished\n",
      "[Parallel(n_jobs=32)]: Done  93 out of  93 | elapsed:    0.4s finished\n",
      "[Parallel(n_jobs=-1)]: Done  93 out of  93 | elapsed:   28.9s finished\n",
      "[Parallel(n_jobs=32)]: Done  93 out of  93 | elapsed:    0.3s finished\n",
      "[Parallel(n_jobs=-1)]: Done  93 out of  93 | elapsed:   26.8s finished\n",
      "[Parallel(n_jobs=32)]: Done  93 out of  93 | elapsed:    0.1s finished\n"
     ]
    },
    {
     "name": "stdout",
     "output_type": "stream",
     "text": [
      "    3 | 00m38s |    0.72819 |      5.1360 |         0.2712 |        92.7596 | \n"
     ]
    },
    {
     "name": "stderr",
     "output_type": "stream",
     "text": [
      "[Parallel(n_jobs=-1)]: Done 176 out of 176 | elapsed:  5.0min finished\n",
      "[Parallel(n_jobs=32)]: Done 176 out of 176 | elapsed:    0.4s finished\n",
      "[Parallel(n_jobs=-1)]: Done 176 out of 176 | elapsed:  5.0min finished\n",
      "[Parallel(n_jobs=-1)]: Done 176 out of 176 | elapsed:  5.0min finished\n",
      "[Parallel(n_jobs=32)]: Done 176 out of 176 | elapsed:    0.3s finished\n",
      "[Parallel(n_jobs=32)]: Done 176 out of 176 | elapsed:    0.3s finished\n"
     ]
    },
    {
     "name": "stdout",
     "output_type": "stream",
     "text": [
      "    4 | 05m10s |    0.73528 |     11.4986 |         0.7007 |       176.4662 | \n"
     ]
    },
    {
     "name": "stderr",
     "output_type": "stream",
     "text": [
      "[Parallel(n_jobs=-1)]: Done 154 out of 154 | elapsed:   24.9s finished\n",
      "[Parallel(n_jobs=32)]: Done 154 out of 154 | elapsed:    0.7s finished\n",
      "[Parallel(n_jobs=-1)]: Done 154 out of 154 | elapsed:   26.3s finished\n",
      "[Parallel(n_jobs=32)]: Done 154 out of 154 | elapsed:    0.5s finished\n",
      "[Parallel(n_jobs=-1)]: Done 154 out of 154 | elapsed:   24.4s finished\n",
      "[Parallel(n_jobs=32)]: Done 154 out of 154 | elapsed:    0.1s finished\n"
     ]
    },
    {
     "name": "stdout",
     "output_type": "stream",
     "text": [
      "    5 | 00m35s |    0.73928 |      7.6544 |         0.0948 |       154.2427 | \n"
     ]
    },
    {
     "name": "stderr",
     "output_type": "stream",
     "text": [
      "[Parallel(n_jobs=-1)]: Done  97 out of  97 | elapsed:  2.1min finished\n",
      "[Parallel(n_jobs=32)]: Done  97 out of  97 | elapsed:    0.1s finished\n",
      "[Parallel(n_jobs=-1)]: Done  97 out of  97 | elapsed:  2.1min finished\n",
      "[Parallel(n_jobs=32)]: Done  97 out of  97 | elapsed:    0.1s finished\n",
      "[Parallel(n_jobs=-1)]: Done  97 out of  97 | elapsed:  2.1min finished\n",
      "[Parallel(n_jobs=32)]: Done  97 out of  97 | elapsed:    0.1s finished\n"
     ]
    },
    {
     "name": "stdout",
     "output_type": "stream",
     "text": [
      "    6 | 02m13s |    0.73727 |     12.4783 |         0.4787 |        96.5257 | \n"
     ]
    },
    {
     "name": "stderr",
     "output_type": "stream",
     "text": [
      "[Parallel(n_jobs=-1)]: Done 167 out of 167 | elapsed:   33.4s finished\n",
      "[Parallel(n_jobs=32)]: Done 167 out of 167 | elapsed:    0.7s finished\n",
      "[Parallel(n_jobs=-1)]: Done 167 out of 167 | elapsed:   34.4s finished\n",
      "[Parallel(n_jobs=32)]: Done 167 out of 167 | elapsed:    0.2s finished\n",
      "[Parallel(n_jobs=-1)]: Done 167 out of 167 | elapsed:   32.4s finished\n",
      "[Parallel(n_jobs=32)]: Done 167 out of 167 | elapsed:    0.1s finished\n"
     ]
    },
    {
     "name": "stdout",
     "output_type": "stream",
     "text": [
      "    7 | 00m43s | \u001b[35m   0.74243\u001b[0m | \u001b[32m    10.1965\u001b[0m | \u001b[32m        0.0914\u001b[0m | \u001b[32m      167.2565\u001b[0m | \n"
     ]
    },
    {
     "name": "stderr",
     "output_type": "stream",
     "text": [
      "[Parallel(n_jobs=-1)]: Done 137 out of 137 | elapsed:  2.7min finished\n",
      "[Parallel(n_jobs=32)]: Done 137 out of 137 | elapsed:    0.3s finished\n",
      "[Parallel(n_jobs=-1)]: Done 137 out of 137 | elapsed:  2.7min finished\n",
      "[Parallel(n_jobs=32)]: Done 137 out of 137 | elapsed:    0.1s finished\n",
      "[Parallel(n_jobs=-1)]: Done 137 out of 137 | elapsed:  2.7min finished\n",
      "[Parallel(n_jobs=32)]: Done 137 out of 137 | elapsed:    0.1s finished\n"
     ]
    },
    {
     "name": "stdout",
     "output_type": "stream",
     "text": [
      "    8 | 02m52s |    0.73554 |     10.4133 |         0.5315 |       136.6683 | \n"
     ]
    },
    {
     "name": "stderr",
     "output_type": "stream",
     "text": [
      "[Parallel(n_jobs=-1)]: Done  83 out of  83 | elapsed:   20.9s finished\n",
      "[Parallel(n_jobs=32)]: Done  83 out of  83 | elapsed:    0.6s finished\n",
      "[Parallel(n_jobs=-1)]: Done  83 out of  83 | elapsed:   21.5s finished\n",
      "[Parallel(n_jobs=32)]: Done  83 out of  83 | elapsed:    0.3s finished\n",
      "[Parallel(n_jobs=-1)]: Done  83 out of  83 | elapsed:   20.9s finished\n",
      "[Parallel(n_jobs=32)]: Done  83 out of  83 | elapsed:    0.2s finished\n"
     ]
    },
    {
     "name": "stdout",
     "output_type": "stream",
     "text": [
      "    9 | 00m30s |    0.72536 |     22.0028 |         0.0668 |        83.4557 | \n"
     ]
    },
    {
     "name": "stderr",
     "output_type": "stream",
     "text": [
      "[Parallel(n_jobs=-1)]: Done 136 tasks      | elapsed:  3.1min\n",
      "[Parallel(n_jobs=-1)]: Done 136 tasks      | elapsed:  3.1min\n",
      "[Parallel(n_jobs=-1)]: Done 136 tasks      | elapsed:  3.1min\n",
      "[Parallel(n_jobs=-1)]: Done 199 out of 199 | elapsed:  4.0min finished\n",
      "[Parallel(n_jobs=32)]: Done 136 tasks      | elapsed:    0.4s\n",
      "[Parallel(n_jobs=32)]: Done 199 out of 199 | elapsed:    0.5s finished\n",
      "[Parallel(n_jobs=-1)]: Done 199 out of 199 | elapsed:  4.0min finished\n",
      "[Parallel(n_jobs=32)]: Done 136 tasks      | elapsed:    0.2s\n",
      "[Parallel(n_jobs=32)]: Done 199 out of 199 | elapsed:    0.3s finished\n",
      "[Parallel(n_jobs=-1)]: Done 199 out of 199 | elapsed:  4.0min finished\n",
      "[Parallel(n_jobs=32)]: Done 136 tasks      | elapsed:    0.2s\n",
      "[Parallel(n_jobs=32)]: Done 199 out of 199 | elapsed:    0.3s finished\n"
     ]
    },
    {
     "name": "stdout",
     "output_type": "stream",
     "text": [
      "   10 | 04m07s |    0.73394 |     23.3838 |         0.2818 |       198.8601 | \n",
      "\u001b[31mBayesian Optimization\u001b[0m\n",
      "\u001b[94m-----------------------------------------------------------------------------\u001b[0m\n",
      " Step |   Time |      Value |   max_depth |   max_features |   n_estimators | \n"
     ]
    },
    {
     "name": "stderr",
     "output_type": "stream",
     "text": [
      "[Parallel(n_jobs=-1)]: Done  14 out of  25 | elapsed:    0.7s remaining:    0.6s\n",
      "[Parallel(n_jobs=-1)]: Done  25 out of  25 | elapsed:    0.9s finished\n",
      "[Parallel(n_jobs=25)]: Done   2 out of  25 | elapsed:    0.0s remaining:    0.4s\n",
      "[Parallel(n_jobs=25)]: Done  25 out of  25 | elapsed:    0.1s finished\n",
      "[Parallel(n_jobs=-1)]: Done  14 out of  25 | elapsed:    0.7s remaining:    0.6s\n",
      "[Parallel(n_jobs=-1)]: Done  25 out of  25 | elapsed:    0.9s finished\n",
      "[Parallel(n_jobs=25)]: Done   2 out of  25 | elapsed:    0.0s remaining:    0.4s\n",
      "[Parallel(n_jobs=25)]: Done  25 out of  25 | elapsed:    0.1s finished\n",
      "[Parallel(n_jobs=-1)]: Done  14 out of  25 | elapsed:    0.7s remaining:    0.6s\n",
      "[Parallel(n_jobs=-1)]: Done  25 out of  25 | elapsed:    0.9s finished\n",
      "[Parallel(n_jobs=25)]: Done   2 out of  25 | elapsed:    0.0s remaining:    0.4s\n",
      "[Parallel(n_jobs=25)]: Done  25 out of  25 | elapsed:    0.0s finished\n"
     ]
    },
    {
     "name": "stdout",
     "output_type": "stream",
     "text": [
      "   11 | 00m21s |    0.66484 |     25.0000 |         0.0100 |        25.0000 | \n"
     ]
    },
    {
     "name": "stderr",
     "output_type": "stream",
     "text": [
      "[Parallel(n_jobs=-1)]: Done  14 out of  25 | elapsed:    0.4s remaining:    0.3s\n",
      "[Parallel(n_jobs=-1)]: Done  25 out of  25 | elapsed:    0.5s finished\n",
      "[Parallel(n_jobs=25)]: Done   2 out of  25 | elapsed:    0.0s remaining:    0.2s\n",
      "[Parallel(n_jobs=25)]: Done  25 out of  25 | elapsed:    0.0s finished\n",
      "[Parallel(n_jobs=-1)]: Done  14 out of  25 | elapsed:    0.3s remaining:    0.2s\n",
      "[Parallel(n_jobs=-1)]: Done  25 out of  25 | elapsed:    0.4s finished\n",
      "[Parallel(n_jobs=25)]: Done   2 out of  25 | elapsed:    0.0s remaining:    0.2s\n",
      "[Parallel(n_jobs=25)]: Done  25 out of  25 | elapsed:    0.0s finished\n",
      "[Parallel(n_jobs=-1)]: Done  14 out of  25 | elapsed:    0.3s remaining:    0.2s\n",
      "[Parallel(n_jobs=-1)]: Done  25 out of  25 | elapsed:    0.4s finished\n",
      "[Parallel(n_jobs=25)]: Done   2 out of  25 | elapsed:    0.0s remaining:    0.2s\n",
      "[Parallel(n_jobs=25)]: Done  25 out of  25 | elapsed:    0.0s finished\n"
     ]
    },
    {
     "name": "stdout",
     "output_type": "stream",
     "text": [
      "   12 | 00m20s |    0.68427 |      5.0000 |         0.0100 |        25.0000 | \n"
     ]
    },
    {
     "name": "stderr",
     "output_type": "stream",
     "text": [
      "/home/ec2-user/anaconda3/lib/python3.6/site-packages/sklearn/gaussian_process/gpr.py:308: UserWarning: Predicted variances smaller than 0. Setting those variances to 0.\n",
      "  warnings.warn(\"Predicted variances smaller than 0. \"\n",
      "[Parallel(n_jobs=-1)]: Done 162 out of 162 | elapsed:  9.5min finished\n",
      "[Parallel(n_jobs=32)]: Done 162 out of 162 | elapsed:    0.3s finished\n",
      "[Parallel(n_jobs=-1)]: Done 162 out of 162 | elapsed:  9.5min finished\n",
      "[Parallel(n_jobs=32)]: Done 162 out of 162 | elapsed:    0.3s finished\n",
      "[Parallel(n_jobs=-1)]: Done 162 out of 162 | elapsed:  9.5min finished\n",
      "[Parallel(n_jobs=32)]: Done 162 out of 162 | elapsed:    0.2s finished\n"
     ]
    },
    {
     "name": "stdout",
     "output_type": "stream",
     "text": [
      "   13 | 09m53s |    0.72802 |     25.0000 |         0.7500 |       162.2918 | \n"
     ]
    },
    {
     "name": "stderr",
     "output_type": "stream",
     "text": [
      "[Parallel(n_jobs=-1)]: Done 136 tasks      | elapsed:    2.3s\n",
      "[Parallel(n_jobs=-1)]: Done 200 out of 200 | elapsed:    3.6s finished\n",
      "[Parallel(n_jobs=32)]: Done 136 tasks      | elapsed:    0.4s\n",
      "[Parallel(n_jobs=32)]: Done 200 out of 200 | elapsed:    0.6s finished\n",
      "[Parallel(n_jobs=-1)]: Done 136 tasks      | elapsed:    4.0s\n",
      "[Parallel(n_jobs=-1)]: Done 200 out of 200 | elapsed:    5.5s finished\n",
      "[Parallel(n_jobs=-1)]: Done 136 tasks      | elapsed:    4.0s\n",
      "[Parallel(n_jobs=32)]: Done 136 tasks      | elapsed:    0.4s\n",
      "[Parallel(n_jobs=32)]: Done 200 out of 200 | elapsed:    0.5s finished\n",
      "[Parallel(n_jobs=-1)]: Done 200 out of 200 | elapsed:    4.8s finished\n",
      "[Parallel(n_jobs=32)]: Done 136 tasks      | elapsed:    0.1s\n",
      "[Parallel(n_jobs=32)]: Done 200 out of 200 | elapsed:    0.1s finished\n"
     ]
    },
    {
     "name": "stdout",
     "output_type": "stream",
     "text": [
      "   14 | 00m27s |    0.70944 |      5.0045 |         0.0239 |       199.6055 | \n"
     ]
    },
    {
     "name": "stderr",
     "output_type": "stream",
     "text": [
      "/home/ec2-user/anaconda3/lib/python3.6/site-packages/sklearn/gaussian_process/gpr.py:308: UserWarning: Predicted variances smaller than 0. Setting those variances to 0.\n",
      "  warnings.warn(\"Predicted variances smaller than 0. \"\n",
      "[Parallel(n_jobs=-1)]: Done 117 out of 117 | elapsed:    3.7s finished\n",
      "[Parallel(n_jobs=32)]: Done 117 out of 117 | elapsed:    1.0s finished\n",
      "[Parallel(n_jobs=-1)]: Done 117 out of 117 | elapsed:    5.3s finished\n",
      "[Parallel(n_jobs=32)]: Done 117 out of 117 | elapsed:    0.6s finished\n",
      "[Parallel(n_jobs=-1)]: Done 117 out of 117 | elapsed:    4.4s finished\n",
      "[Parallel(n_jobs=32)]: Done 117 out of 117 | elapsed:    0.2s finished\n"
     ]
    },
    {
     "name": "stdout",
     "output_type": "stream",
     "text": [
      "   15 | 00m26s |    0.70739 |     25.0000 |         0.0100 |       117.4679 | \n"
     ]
    },
    {
     "name": "stderr",
     "output_type": "stream",
     "text": [
      "[Parallel(n_jobs=-1)]: Done  64 out of  64 | elapsed:    1.3s finished\n",
      "[Parallel(n_jobs=32)]: Done  64 out of  64 | elapsed:    0.1s finished\n",
      "[Parallel(n_jobs=-1)]: Done  64 out of  64 | elapsed:    1.3s finished\n",
      "[Parallel(n_jobs=32)]: Done  64 out of  64 | elapsed:    0.1s finished\n",
      "[Parallel(n_jobs=-1)]: Done  64 out of  64 | elapsed:    1.2s finished\n",
      "[Parallel(n_jobs=32)]: Done  64 out of  64 | elapsed:    0.1s finished\n"
     ]
    },
    {
     "name": "stdout",
     "output_type": "stream",
     "text": [
      "   16 | 00m22s |    0.70760 |      9.2785 |         0.0135 |        64.4344 | \n"
     ]
    },
    {
     "name": "stderr",
     "output_type": "stream",
     "text": [
      "[Parallel(n_jobs=-1)]: Done 116 out of 116 | elapsed:    1.9s finished\n",
      "[Parallel(n_jobs=32)]: Done 116 out of 116 | elapsed:    0.3s finished\n",
      "[Parallel(n_jobs=-1)]: Done 116 out of 116 | elapsed:    2.1s finished\n",
      "[Parallel(n_jobs=32)]: Done 116 out of 116 | elapsed:    0.3s finished\n",
      "[Parallel(n_jobs=-1)]: Done 116 out of 116 | elapsed:    2.1s finished\n",
      "[Parallel(n_jobs=32)]: Done 116 out of 116 | elapsed:    0.1s finished\n"
     ]
    },
    {
     "name": "stdout",
     "output_type": "stream",
     "text": [
      "   17 | 00m22s |    0.70730 |      5.1645 |         0.0262 |       116.2010 | \n"
     ]
    },
    {
     "name": "stderr",
     "output_type": "stream",
     "text": [
      "[Parallel(n_jobs=-1)]: Done  38 out of  50 | elapsed:  2.7min remaining:   51.1s\n",
      "[Parallel(n_jobs=-1)]: Done  38 out of  50 | elapsed:  2.7min remaining:   51.5s\n",
      "[Parallel(n_jobs=-1)]: Done  50 out of  50 | elapsed:  2.8min finished\n",
      "[Parallel(n_jobs=32)]: Done  38 out of  50 | elapsed:    0.3s remaining:    0.1s\n",
      "[Parallel(n_jobs=32)]: Done  50 out of  50 | elapsed:    0.3s finished\n",
      "[Parallel(n_jobs=-1)]: Done  38 out of  50 | elapsed:  2.7min remaining:   51.1s\n",
      "[Parallel(n_jobs=-1)]: Done  50 out of  50 | elapsed:  2.8min finished\n",
      "[Parallel(n_jobs=32)]: Done  38 out of  50 | elapsed:    0.1s remaining:    0.0s\n",
      "[Parallel(n_jobs=32)]: Done  50 out of  50 | elapsed:    0.1s finished\n",
      "[Parallel(n_jobs=-1)]: Done  50 out of  50 | elapsed:  2.7min finished\n",
      "[Parallel(n_jobs=32)]: Done  38 out of  50 | elapsed:    0.1s remaining:    0.0s\n",
      "[Parallel(n_jobs=32)]: Done  50 out of  50 | elapsed:    0.1s finished\n"
     ]
    },
    {
     "name": "stdout",
     "output_type": "stream",
     "text": [
      "   18 | 03m05s |    0.71955 |     24.9953 |         0.7226 |        49.6524 | \n"
     ]
    },
    {
     "name": "stderr",
     "output_type": "stream",
     "text": [
      "[Parallel(n_jobs=-1)]: Done 148 out of 148 | elapsed:   10.5s finished\n",
      "[Parallel(n_jobs=32)]: Done 148 out of 148 | elapsed:    1.0s finished\n",
      "[Parallel(n_jobs=-1)]: Done 148 out of 148 | elapsed:   12.8s finished\n",
      "[Parallel(n_jobs=32)]: Done 148 out of 148 | elapsed:    0.4s finished\n",
      "[Parallel(n_jobs=-1)]: Done 148 out of 148 | elapsed:   11.7s finished\n",
      "[Parallel(n_jobs=32)]: Done 148 out of 148 | elapsed:    0.2s finished\n"
     ]
    },
    {
     "name": "stdout",
     "output_type": "stream",
     "text": [
      "   19 | 00m33s |    0.72733 |     17.9329 |         0.0258 |       148.3001 | \n"
     ]
    },
    {
     "name": "stderr",
     "output_type": "stream",
     "text": [
      "/home/ec2-user/anaconda3/lib/python3.6/site-packages/sklearn/gaussian_process/gpr.py:427: UserWarning: fmin_l_bfgs_b terminated abnormally with the  state: {'grad': array([-0.00016583]), 'task': b'ABNORMAL_TERMINATION_IN_LNSRCH', 'funcalls': 51, 'nit': 4, 'warnflag': 2}\n",
      "  \" state: %s\" % convergence_dict)\n",
      "[Parallel(n_jobs=-1)]: Done 183 out of 183 | elapsed:    7.2s finished\n",
      "[Parallel(n_jobs=32)]: Done 183 out of 183 | elapsed:    1.8s finished\n",
      "[Parallel(n_jobs=-1)]: Done 183 out of 183 | elapsed:    9.7s finished\n",
      "[Parallel(n_jobs=32)]: Done 183 out of 183 | elapsed:    0.7s finished\n",
      "[Parallel(n_jobs=-1)]: Done 183 out of 183 | elapsed:    8.6s finished\n",
      "[Parallel(n_jobs=32)]: Done 183 out of 183 | elapsed:    0.3s finished\n"
     ]
    },
    {
     "name": "stdout",
     "output_type": "stream",
     "text": [
      "   20 | 00m30s |    0.71547 |     24.8582 |         0.0114 |       183.2205 | \n"
     ]
    },
    {
     "name": "stderr",
     "output_type": "stream",
     "text": [
      "[Parallel(n_jobs=-1)]: Done  22 out of  42 | elapsed:   23.9s remaining:   21.8s\n",
      "[Parallel(n_jobs=-1)]: Done  22 out of  42 | elapsed:   27.2s remaining:   24.7s\n",
      "[Parallel(n_jobs=-1)]: Done  22 out of  42 | elapsed:   26.9s remaining:   24.4s\n",
      "[Parallel(n_jobs=-1)]: Done  42 out of  42 | elapsed:   37.1s finished\n",
      "[Parallel(n_jobs=32)]: Done  22 out of  42 | elapsed:    0.1s remaining:    0.1s\n",
      "[Parallel(n_jobs=32)]: Done  42 out of  42 | elapsed:    0.1s finished\n",
      "[Parallel(n_jobs=-1)]: Done  42 out of  42 | elapsed:   36.5s finished\n",
      "[Parallel(n_jobs=32)]: Done  22 out of  42 | elapsed:    0.0s remaining:    0.0s\n",
      "[Parallel(n_jobs=32)]: Done  42 out of  42 | elapsed:    0.1s finished\n",
      "[Parallel(n_jobs=-1)]: Done  42 out of  42 | elapsed:   34.8s finished\n",
      "[Parallel(n_jobs=32)]: Done  22 out of  42 | elapsed:    0.0s remaining:    0.0s\n",
      "[Parallel(n_jobs=32)]: Done  42 out of  42 | elapsed:    0.0s finished\n"
     ]
    },
    {
     "name": "stdout",
     "output_type": "stream",
     "text": [
      "   21 | 00m56s |    0.71941 |      5.0183 |         0.7500 |        41.8562 | \n"
     ]
    },
    {
     "name": "stderr",
     "output_type": "stream",
     "text": [
      "[Parallel(n_jobs=-1)]: Done  18 out of  40 | elapsed:  1.2min remaining:  1.5min\n",
      "[Parallel(n_jobs=-1)]: Done  18 out of  40 | elapsed:  1.3min remaining:  1.5min\n",
      "[Parallel(n_jobs=-1)]: Done  18 out of  40 | elapsed:  1.3min remaining:  1.5min\n",
      "[Parallel(n_jobs=-1)]: Done  40 out of  40 | elapsed:  1.6min finished\n",
      "[Parallel(n_jobs=32)]: Done  18 out of  40 | elapsed:    0.1s remaining:    0.1s\n",
      "[Parallel(n_jobs=32)]: Done  40 out of  40 | elapsed:    0.1s finished\n",
      "[Parallel(n_jobs=-1)]: Done  40 out of  40 | elapsed:  1.6min finished\n",
      "[Parallel(n_jobs=32)]: Done  18 out of  40 | elapsed:    0.1s remaining:    0.1s\n",
      "[Parallel(n_jobs=32)]: Done  40 out of  40 | elapsed:    0.1s finished\n",
      "[Parallel(n_jobs=-1)]: Done  40 out of  40 | elapsed:  1.6min finished\n",
      "[Parallel(n_jobs=32)]: Done  18 out of  40 | elapsed:    0.0s remaining:    0.0s\n",
      "[Parallel(n_jobs=32)]: Done  40 out of  40 | elapsed:    0.1s finished\n"
     ]
    },
    {
     "name": "stdout",
     "output_type": "stream",
     "text": [
      "   22 | 01m58s |    0.73082 |     15.9729 |         0.7423 |        39.5963 | \n"
     ]
    },
    {
     "name": "stderr",
     "output_type": "stream",
     "text": [
      "/home/ec2-user/anaconda3/lib/python3.6/site-packages/sklearn/gaussian_process/gpr.py:427: UserWarning: fmin_l_bfgs_b terminated abnormally with the  state: {'grad': array([  6.11201012e-05]), 'task': b'ABNORMAL_TERMINATION_IN_LNSRCH', 'funcalls': 59, 'nit': 5, 'warnflag': 2}\n",
      "  \" state: %s\" % convergence_dict)\n",
      "[Parallel(n_jobs=-1)]: Done 161 out of 161 | elapsed:  6.0min finished\n",
      "[Parallel(n_jobs=32)]: Done 161 out of 161 | elapsed:    0.2s finished\n",
      "[Parallel(n_jobs=-1)]: Done 161 out of 161 | elapsed:  6.0min finished\n",
      "[Parallel(n_jobs=32)]: Done 161 out of 161 | elapsed:    0.2s finished\n",
      "[Parallel(n_jobs=-1)]: Done 161 out of 161 | elapsed:  5.9min finished\n",
      "[Parallel(n_jobs=32)]: Done 161 out of 161 | elapsed:    0.2s finished\n"
     ]
    },
    {
     "name": "stdout",
     "output_type": "stream",
     "text": [
      "   23 | 06m18s |    0.73663 |     14.4925 |         0.7322 |       161.4476 | \n"
     ]
    },
    {
     "name": "stderr",
     "output_type": "stream",
     "text": [
      "/home/ec2-user/anaconda3/lib/python3.6/site-packages/sklearn/gaussian_process/gpr.py:427: UserWarning: fmin_l_bfgs_b terminated abnormally with the  state: {'grad': array([ -2.43353716e-05]), 'task': b'ABNORMAL_TERMINATION_IN_LNSRCH', 'funcalls': 52, 'nit': 5, 'warnflag': 2}\n",
      "  \" state: %s\" % convergence_dict)\n",
      "[Parallel(n_jobs=-1)]: Done  97 out of  97 | elapsed:    9.6s finished\n",
      "[Parallel(n_jobs=32)]: Done  97 out of  97 | elapsed:    1.0s finished\n",
      "[Parallel(n_jobs=-1)]: Done  97 out of  97 | elapsed:   11.2s finished\n",
      "[Parallel(n_jobs=32)]: Done  97 out of  97 | elapsed:    0.4s finished\n",
      "[Parallel(n_jobs=-1)]: Done  97 out of  97 | elapsed:    9.7s finished\n",
      "[Parallel(n_jobs=32)]: Done  97 out of  97 | elapsed:    0.2s finished\n"
     ]
    },
    {
     "name": "stdout",
     "output_type": "stream",
     "text": [
      "   24 | 00m31s |    0.71472 |     24.7512 |         0.0309 |        97.1737 | \n"
     ]
    },
    {
     "name": "stderr",
     "output_type": "stream",
     "text": [
      "[Parallel(n_jobs=-1)]: Done 136 tasks      | elapsed:  1.0min\n",
      "[Parallel(n_jobs=-1)]: Done 136 tasks      | elapsed:  1.1min\n",
      "[Parallel(n_jobs=-1)]: Done 136 tasks      | elapsed:  1.1min\n",
      "[Parallel(n_jobs=-1)]: Done 200 out of 200 | elapsed:  1.4min finished\n",
      "[Parallel(n_jobs=32)]: Done 136 tasks      | elapsed:    0.7s\n",
      "[Parallel(n_jobs=32)]: Done 200 out of 200 | elapsed:    0.8s finished\n",
      "[Parallel(n_jobs=-1)]: Done 200 out of 200 | elapsed:  1.4min finished\n",
      "[Parallel(n_jobs=32)]: Done 136 tasks      | elapsed:    0.2s\n",
      "[Parallel(n_jobs=32)]: Done 200 out of 200 | elapsed:    0.3s finished\n",
      "[Parallel(n_jobs=-1)]: Done 200 out of 200 | elapsed:  1.4min finished\n",
      "[Parallel(n_jobs=32)]: Done 136 tasks      | elapsed:    0.2s\n",
      "[Parallel(n_jobs=32)]: Done 200 out of 200 | elapsed:    0.2s finished\n"
     ]
    },
    {
     "name": "stdout",
     "output_type": "stream",
     "text": [
      "   25 | 01m45s | \u001b[35m   0.74392\u001b[0m | \u001b[32m    15.4018\u001b[0m | \u001b[32m        0.1338\u001b[0m | \u001b[32m      199.9805\u001b[0m | \n"
     ]
    },
    {
     "name": "stderr",
     "output_type": "stream",
     "text": [
      "/home/ec2-user/anaconda3/lib/python3.6/site-packages/sklearn/gaussian_process/gpr.py:427: UserWarning: fmin_l_bfgs_b terminated abnormally with the  state: {'grad': array([ 0.00011011]), 'task': b'ABNORMAL_TERMINATION_IN_LNSRCH', 'funcalls': 59, 'nit': 5, 'warnflag': 2}\n",
      "  \" state: %s\" % convergence_dict)\n",
      "[Parallel(n_jobs=-1)]: Done 192 out of 192 | elapsed:   13.8s finished\n",
      "[Parallel(n_jobs=32)]: Done 192 out of 192 | elapsed:    1.1s finished\n",
      "[Parallel(n_jobs=-1)]: Done 192 out of 192 | elapsed:   16.4s finished\n",
      "[Parallel(n_jobs=32)]: Done 192 out of 192 | elapsed:    0.6s finished\n",
      "[Parallel(n_jobs=-1)]: Done 192 out of 192 | elapsed:   14.8s finished\n",
      "[Parallel(n_jobs=32)]: Done 192 out of 192 | elapsed:    0.2s finished\n"
     ]
    },
    {
     "name": "stdout",
     "output_type": "stream",
     "text": [
      "   26 | 00m40s |    0.73401 |     14.2519 |         0.0304 |       191.8798 | \n"
     ]
    },
    {
     "name": "stderr",
     "output_type": "stream",
     "text": [
      "[Parallel(n_jobs=-1)]: Done 141 out of 141 | elapsed:    3.7s finished\n",
      "[Parallel(n_jobs=32)]: Done 141 out of 141 | elapsed:    0.5s finished\n",
      "[Parallel(n_jobs=-1)]: Done 141 out of 141 | elapsed:    5.5s finished\n",
      "[Parallel(n_jobs=32)]: Done 141 out of 141 | elapsed:    0.4s finished\n",
      "[Parallel(n_jobs=-1)]: Done 141 out of 141 | elapsed:    4.9s finished\n",
      "[Parallel(n_jobs=32)]: Done 141 out of 141 | elapsed:    0.1s finished\n"
     ]
    },
    {
     "name": "stdout",
     "output_type": "stream",
     "text": [
      "   27 | 00m29s |    0.72384 |      5.0125 |         0.0370 |       141.4959 | \n"
     ]
    },
    {
     "name": "stderr",
     "output_type": "stream",
     "text": [
      "/home/ec2-user/anaconda3/lib/python3.6/site-packages/sklearn/gaussian_process/gpr.py:427: UserWarning: fmin_l_bfgs_b terminated abnormally with the  state: {'grad': array([ -6.65330444e-05]), 'task': b'ABNORMAL_TERMINATION_IN_LNSRCH', 'funcalls': 51, 'nit': 4, 'warnflag': 2}\n",
      "  \" state: %s\" % convergence_dict)\n",
      "[Parallel(n_jobs=-1)]: Done 128 out of 128 | elapsed:    2.9s finished\n",
      "[Parallel(n_jobs=32)]: Done 128 out of 128 | elapsed:    0.5s finished\n",
      "[Parallel(n_jobs=-1)]: Done 128 out of 128 | elapsed:    3.9s finished\n",
      "[Parallel(n_jobs=32)]: Done 128 out of 128 | elapsed:    0.5s finished\n",
      "[Parallel(n_jobs=-1)]: Done 128 out of 128 | elapsed:    3.6s finished\n",
      "[Parallel(n_jobs=32)]: Done 128 out of 128 | elapsed:    0.1s finished\n"
     ]
    },
    {
     "name": "stdout",
     "output_type": "stream",
     "text": [
      "   28 | 00m25s |    0.71404 |     15.6412 |         0.0118 |       128.3827 | \n"
     ]
    },
    {
     "name": "stderr",
     "output_type": "stream",
     "text": [
      "[Parallel(n_jobs=-1)]: Done 163 out of 163 | elapsed:  2.5min finished\n",
      "[Parallel(n_jobs=32)]: Done 163 out of 163 | elapsed:    0.1s finished\n",
      "[Parallel(n_jobs=-1)]: Done 163 out of 163 | elapsed:  2.5min finished\n",
      "[Parallel(n_jobs=32)]: Done 163 out of 163 | elapsed:    0.1s finished\n",
      "[Parallel(n_jobs=-1)]: Done 163 out of 163 | elapsed:  2.5min finished\n",
      "[Parallel(n_jobs=32)]: Done 163 out of 163 | elapsed:    0.1s finished\n"
     ]
    },
    {
     "name": "stdout",
     "output_type": "stream",
     "text": [
      "   29 | 02m49s |    0.71983 |      5.0406 |         0.7487 |       163.0297 | \n"
     ]
    },
    {
     "name": "stderr",
     "output_type": "stream",
     "text": [
      "[Parallel(n_jobs=-1)]: Done  42 out of  52 | elapsed:  2.1min remaining:   29.5s\n",
      "[Parallel(n_jobs=-1)]: Done  52 out of  52 | elapsed:  2.1min finished\n",
      "[Parallel(n_jobs=32)]: Done  42 out of  52 | elapsed:    0.2s remaining:    0.1s\n",
      "[Parallel(n_jobs=-1)]: Done  42 out of  52 | elapsed:  2.1min remaining:   29.8s\n",
      "[Parallel(n_jobs=32)]: Done  52 out of  52 | elapsed:    0.2s finished\n",
      "[Parallel(n_jobs=-1)]: Done  42 out of  52 | elapsed:  2.1min remaining:   29.4s\n",
      "[Parallel(n_jobs=-1)]: Done  52 out of  52 | elapsed:  2.1min finished\n",
      "[Parallel(n_jobs=-1)]: Done  52 out of  52 | elapsed:  2.1min finished\n",
      "[Parallel(n_jobs=32)]: Done  42 out of  52 | elapsed:    0.1s remaining:    0.0s\n",
      "[Parallel(n_jobs=32)]: Done  52 out of  52 | elapsed:    0.1s finished\n",
      "[Parallel(n_jobs=32)]: Done  42 out of  52 | elapsed:    0.1s remaining:    0.0s\n",
      "[Parallel(n_jobs=32)]: Done  52 out of  52 | elapsed:    0.1s finished\n"
     ]
    },
    {
     "name": "stdout",
     "output_type": "stream",
     "text": [
      "   30 | 02m27s |    0.73180 |     15.7169 |         0.7373 |        52.1717 | \n"
     ]
    },
    {
     "name": "stderr",
     "output_type": "stream",
     "text": [
      "[Parallel(n_jobs=-1)]: Done  66 out of  66 | elapsed:    2.0s finished\n",
      "[Parallel(n_jobs=32)]: Done  66 out of  66 | elapsed:    0.4s finished\n",
      "[Parallel(n_jobs=-1)]: Done  66 out of  66 | elapsed:    2.1s finished\n",
      "[Parallel(n_jobs=32)]: Done  66 out of  66 | elapsed:    0.3s finished\n",
      "[Parallel(n_jobs=-1)]: Done  66 out of  66 | elapsed:    2.0s finished\n",
      "[Parallel(n_jobs=32)]: Done  66 out of  66 | elapsed:    0.1s finished\n"
     ]
    },
    {
     "name": "stdout",
     "output_type": "stream",
     "text": [
      "   31 | 00m23s |    0.69517 |     24.8867 |         0.0109 |        65.8373 | \n"
     ]
    },
    {
     "name": "stderr",
     "output_type": "stream",
     "text": [
      "[Parallel(n_jobs=-1)]: Done 172 out of 172 | elapsed:    6.9s finished\n",
      "[Parallel(n_jobs=32)]: Done 172 out of 172 | elapsed:    1.0s finished\n",
      "[Parallel(n_jobs=-1)]: Done 172 out of 172 | elapsed:    9.3s finished\n",
      "[Parallel(n_jobs=32)]: Done 172 out of 172 | elapsed:    0.4s finished\n",
      "[Parallel(n_jobs=-1)]: Done 172 out of 172 | elapsed:    8.6s finished\n",
      "[Parallel(n_jobs=32)]: Done 172 out of 172 | elapsed:    0.2s finished\n"
     ]
    },
    {
     "name": "stdout",
     "output_type": "stream",
     "text": [
      "   32 | 00m30s |    0.72209 |     17.4094 |         0.0137 |       171.8293 | \n"
     ]
    },
    {
     "name": "stderr",
     "output_type": "stream",
     "text": [
      "[Parallel(n_jobs=-1)]: Done  84 out of  84 | elapsed:    1.4s finished\n",
      "[Parallel(n_jobs=32)]: Done  84 out of  84 | elapsed:    0.2s finished\n",
      "[Parallel(n_jobs=-1)]: Done  84 out of  84 | elapsed:    1.5s finished\n",
      "[Parallel(n_jobs=32)]: Done  84 out of  84 | elapsed:    0.4s finished\n",
      "[Parallel(n_jobs=-1)]: Done  84 out of  84 | elapsed:    1.5s finished\n",
      "[Parallel(n_jobs=32)]: Done  84 out of  84 | elapsed:    0.1s finished\n"
     ]
    },
    {
     "name": "stdout",
     "output_type": "stream",
     "text": [
      "   33 | 00m20s |    0.70594 |     11.3613 |         0.0116 |        84.4643 | \n"
     ]
    },
    {
     "name": "stderr",
     "output_type": "stream",
     "text": [
      "[Parallel(n_jobs=-1)]: Done 138 out of 138 | elapsed:  7.9min finished\n",
      "[Parallel(n_jobs=32)]: Done 138 out of 138 | elapsed:    0.5s finished\n",
      "[Parallel(n_jobs=-1)]: Done 138 out of 138 | elapsed:  7.9min finished\n",
      "[Parallel(n_jobs=32)]: Done 138 out of 138 | elapsed:    0.2s finished\n",
      "[Parallel(n_jobs=-1)]: Done 138 out of 138 | elapsed:  7.9min finished\n",
      "[Parallel(n_jobs=32)]: Done 138 out of 138 | elapsed:    0.2s finished\n"
     ]
    },
    {
     "name": "stdout",
     "output_type": "stream",
     "text": [
      "   34 | 08m13s |    0.72767 |     24.9683 |         0.7433 |       138.2936 | \n"
     ]
    },
    {
     "name": "stderr",
     "output_type": "stream",
     "text": [
      "[Parallel(n_jobs=-1)]: Done 103 out of 103 | elapsed:  1.5min finished\n",
      "[Parallel(n_jobs=32)]: Done 103 out of 103 | elapsed:    0.1s finished\n",
      "[Parallel(n_jobs=-1)]: Done 103 out of 103 | elapsed:  1.5min finished\n",
      "[Parallel(n_jobs=32)]: Done 103 out of 103 | elapsed:    0.1s finished\n",
      "[Parallel(n_jobs=-1)]: Done 103 out of 103 | elapsed:  1.4min finished\n",
      "[Parallel(n_jobs=32)]: Done 103 out of 103 | elapsed:    0.1s finished\n"
     ]
    },
    {
     "name": "stdout",
     "output_type": "stream",
     "text": [
      "   35 | 01m46s |    0.72007 |      5.2425 |         0.7087 |       103.1875 | \n"
     ]
    },
    {
     "name": "stderr",
     "output_type": "stream",
     "text": [
      "[Parallel(n_jobs=-1)]: Done 181 out of 181 | elapsed:    2.4s finished\n",
      "[Parallel(n_jobs=32)]: Done 181 out of 181 | elapsed:    0.5s finished\n",
      "[Parallel(n_jobs=-1)]: Done 181 out of 181 | elapsed:    3.3s finished\n",
      "[Parallel(n_jobs=32)]: Done 181 out of 181 | elapsed:    0.5s finished\n",
      "[Parallel(n_jobs=-1)]: Done 181 out of 181 | elapsed:    3.1s finished\n",
      "[Parallel(n_jobs=32)]: Done 181 out of 181 | elapsed:    0.1s finished\n"
     ]
    },
    {
     "name": "stdout",
     "output_type": "stream",
     "text": [
      "   36 | 00m22s |    0.70565 |      5.8032 |         0.0146 |       181.2958 | \n"
     ]
    },
    {
     "name": "stderr",
     "output_type": "stream",
     "text": [
      "/home/ec2-user/anaconda3/lib/python3.6/site-packages/sklearn/gaussian_process/gpr.py:427: UserWarning: fmin_l_bfgs_b terminated abnormally with the  state: {'grad': array([ -9.85970710e-05]), 'task': b'ABNORMAL_TERMINATION_IN_LNSRCH', 'funcalls': 52, 'nit': 4, 'warnflag': 2}\n",
      "  \" state: %s\" % convergence_dict)\n",
      "[Parallel(n_jobs=-1)]: Done  46 out of  54 | elapsed:   40.6s remaining:    7.1s\n",
      "[Parallel(n_jobs=-1)]: Done  54 out of  54 | elapsed:   41.8s finished\n",
      "[Parallel(n_jobs=32)]: Done  46 out of  54 | elapsed:    0.2s remaining:    0.0s\n",
      "[Parallel(n_jobs=32)]: Done  54 out of  54 | elapsed:    0.2s finished\n",
      "[Parallel(n_jobs=-1)]: Done  46 out of  54 | elapsed:   42.1s remaining:    7.3s\n",
      "[Parallel(n_jobs=-1)]: Done  54 out of  54 | elapsed:   42.5s finished\n",
      "[Parallel(n_jobs=-1)]: Done  46 out of  54 | elapsed:   41.6s remaining:    7.2s\n",
      "[Parallel(n_jobs=32)]: Done  46 out of  54 | elapsed:    0.0s remaining:    0.0s\n",
      "[Parallel(n_jobs=32)]: Done  54 out of  54 | elapsed:    0.0s finished\n",
      "[Parallel(n_jobs=-1)]: Done  54 out of  54 | elapsed:   41.9s finished\n",
      "[Parallel(n_jobs=32)]: Done  46 out of  54 | elapsed:    0.0s remaining:    0.0s\n",
      "[Parallel(n_jobs=32)]: Done  54 out of  54 | elapsed:    0.0s finished\n"
     ]
    },
    {
     "name": "stdout",
     "output_type": "stream",
     "text": [
      "   37 | 01m02s |    0.72037 |      5.1164 |         0.6802 |        54.3528 | \n"
     ]
    },
    {
     "name": "stderr",
     "output_type": "stream",
     "text": [
      "[Parallel(n_jobs=-1)]: Done  26 out of  44 | elapsed:    1.0s remaining:    0.7s\n",
      "[Parallel(n_jobs=-1)]: Done  44 out of  44 | elapsed:    1.5s finished\n",
      "[Parallel(n_jobs=32)]: Done  26 out of  44 | elapsed:    0.4s remaining:    0.3s\n",
      "[Parallel(n_jobs=32)]: Done  44 out of  44 | elapsed:    0.4s finished\n",
      "[Parallel(n_jobs=-1)]: Done  26 out of  44 | elapsed:    1.1s remaining:    0.8s\n",
      "[Parallel(n_jobs=-1)]: Done  44 out of  44 | elapsed:    1.5s finished\n",
      "[Parallel(n_jobs=32)]: Done  26 out of  44 | elapsed:    0.4s remaining:    0.2s\n",
      "[Parallel(n_jobs=32)]: Done  44 out of  44 | elapsed:    0.4s finished\n",
      "[Parallel(n_jobs=-1)]: Done  26 out of  44 | elapsed:    1.1s remaining:    0.7s\n",
      "[Parallel(n_jobs=-1)]: Done  44 out of  44 | elapsed:    1.5s finished\n",
      "[Parallel(n_jobs=32)]: Done  26 out of  44 | elapsed:    0.1s remaining:    0.0s\n",
      "[Parallel(n_jobs=32)]: Done  44 out of  44 | elapsed:    0.1s finished\n"
     ]
    },
    {
     "name": "stdout",
     "output_type": "stream",
     "text": [
      "   38 | 00m20s |    0.69892 |     18.8036 |         0.0173 |        44.0598 | \n"
     ]
    },
    {
     "name": "stderr",
     "output_type": "stream",
     "text": [
      "[Parallel(n_jobs=-1)]: Done  14 out of  25 | elapsed:   49.4s remaining:   38.8s\n",
      "[Parallel(n_jobs=-1)]: Done  25 out of  25 | elapsed:   52.6s finished\n",
      "[Parallel(n_jobs=25)]: Done   2 out of  25 | elapsed:    0.1s remaining:    0.6s\n",
      "[Parallel(n_jobs=-1)]: Done  14 out of  25 | elapsed:   51.7s remaining:   40.6s\n",
      "[Parallel(n_jobs=25)]: Done  25 out of  25 | elapsed:    0.1s finished\n",
      "[Parallel(n_jobs=-1)]: Done  25 out of  25 | elapsed:   52.3s finished\n",
      "[Parallel(n_jobs=-1)]: Done  14 out of  25 | elapsed:   50.5s remaining:   39.7s\n",
      "[Parallel(n_jobs=25)]: Done   2 out of  25 | elapsed:    0.0s remaining:    0.4s\n",
      "[Parallel(n_jobs=25)]: Done  25 out of  25 | elapsed:    0.1s finished\n",
      "[Parallel(n_jobs=-1)]: Done  25 out of  25 | elapsed:   51.3s finished\n",
      "[Parallel(n_jobs=25)]: Done   2 out of  25 | elapsed:    0.0s remaining:    0.3s\n",
      "[Parallel(n_jobs=25)]: Done  25 out of  25 | elapsed:    0.0s finished\n"
     ]
    },
    {
     "name": "stdout",
     "output_type": "stream",
     "text": [
      "   39 | 01m09s |    0.72910 |     14.4152 |         0.7206 |        25.0065 | \n"
     ]
    },
    {
     "name": "stderr",
     "output_type": "stream",
     "text": [
      "[Parallel(n_jobs=-1)]: Done  87 out of  87 | elapsed:  5.0min finished\n",
      "[Parallel(n_jobs=32)]: Done  87 out of  87 | elapsed:    0.4s finished\n",
      "[Parallel(n_jobs=-1)]: Done  87 out of  87 | elapsed:  5.0min finished\n",
      "[Parallel(n_jobs=32)]: Done  87 out of  87 | elapsed:    0.1s finished\n",
      "[Parallel(n_jobs=-1)]: Done  87 out of  87 | elapsed:  5.0min finished\n",
      "[Parallel(n_jobs=32)]: Done  87 out of  87 | elapsed:    0.1s finished\n"
     ]
    },
    {
     "name": "stdout",
     "output_type": "stream",
     "text": [
      "   40 | 05m19s |    0.72443 |     24.7936 |         0.7482 |        87.4353 | \n"
     ]
    },
    {
     "name": "stderr",
     "output_type": "stream",
     "text": [
      "[Parallel(n_jobs=-1)]: Done 108 out of 108 | elapsed:  4.7min finished\n",
      "[Parallel(n_jobs=32)]: Done 108 out of 108 | elapsed:    0.2s finished\n",
      "[Parallel(n_jobs=-1)]: Done 108 out of 108 | elapsed:  4.6min finished\n",
      "[Parallel(n_jobs=32)]: Done 108 out of 108 | elapsed:    0.1s finished\n",
      "[Parallel(n_jobs=-1)]: Done 108 out of 108 | elapsed:  4.6min finished\n",
      "[Parallel(n_jobs=32)]: Done 108 out of 108 | elapsed:    0.1s finished\n"
     ]
    },
    {
     "name": "stdout",
     "output_type": "stream",
     "text": [
      "   41 | 04m55s |    0.73408 |     16.6404 |         0.7436 |       108.3025 | \n"
     ]
    },
    {
     "name": "stderr",
     "output_type": "stream",
     "text": [
      "[Parallel(n_jobs=-1)]: Done 152 out of 152 | elapsed:    5.3s finished\n",
      "[Parallel(n_jobs=32)]: Done 152 out of 152 | elapsed:    1.4s finished\n",
      "[Parallel(n_jobs=-1)]: Done 152 out of 152 | elapsed:    7.2s finished\n",
      "[Parallel(n_jobs=32)]: Done 152 out of 152 | elapsed:    0.8s finished\n",
      "[Parallel(n_jobs=-1)]: Done 152 out of 152 | elapsed:    5.9s finished\n",
      "[Parallel(n_jobs=32)]: Done 152 out of 152 | elapsed:    0.2s finished\n"
     ]
    },
    {
     "name": "stdout",
     "output_type": "stream",
     "text": [
      "   42 | 00m24s |    0.71231 |     25.0000 |         0.0100 |       152.3522 | \n"
     ]
    },
    {
     "name": "stderr",
     "output_type": "stream",
     "text": [
      "/home/ec2-user/anaconda3/lib/python3.6/site-packages/sklearn/gaussian_process/gpr.py:427: UserWarning: fmin_l_bfgs_b terminated abnormally with the  state: {'grad': array([  6.97436381e-05]), 'task': b'ABNORMAL_TERMINATION_IN_LNSRCH', 'funcalls': 50, 'nit': 5, 'warnflag': 2}\n",
      "  \" state: %s\" % convergence_dict)\n",
      "[Parallel(n_jobs=-1)]: Done   4 out of  33 | elapsed:   50.3s remaining:  6.1min\n",
      "[Parallel(n_jobs=-1)]: Done   4 out of  33 | elapsed:   53.9s remaining:  6.5min\n",
      "[Parallel(n_jobs=-1)]: Done   4 out of  33 | elapsed:   53.5s remaining:  6.5min\n",
      "[Parallel(n_jobs=-1)]: Done  33 out of  33 | elapsed:  1.1min finished\n",
      "[Parallel(n_jobs=32)]: Done   4 out of  33 | elapsed:    0.0s remaining:    0.2s\n",
      "[Parallel(n_jobs=32)]: Done  33 out of  33 | elapsed:    0.0s finished\n",
      "[Parallel(n_jobs=-1)]: Done  33 out of  33 | elapsed:  1.1min finished\n",
      "[Parallel(n_jobs=32)]: Done   4 out of  33 | elapsed:    0.0s remaining:    0.2s\n",
      "[Parallel(n_jobs=32)]: Done  33 out of  33 | elapsed:    0.0s finished\n",
      "[Parallel(n_jobs=-1)]: Done  33 out of  33 | elapsed:  1.1min finished\n",
      "[Parallel(n_jobs=32)]: Done   4 out of  33 | elapsed:    0.0s remaining:    0.2s\n",
      "[Parallel(n_jobs=32)]: Done  33 out of  33 | elapsed:    0.0s finished\n"
     ]
    },
    {
     "name": "stdout",
     "output_type": "stream",
     "text": [
      "   43 | 01m22s |    0.73252 |     11.2065 |         0.7384 |        33.3344 | \n"
     ]
    },
    {
     "name": "stderr",
     "output_type": "stream",
     "text": [
      "[Parallel(n_jobs=-1)]: Done 136 tasks      | elapsed:  6.0min\n",
      "[Parallel(n_jobs=-1)]: Done 136 tasks      | elapsed:  6.2min\n",
      "[Parallel(n_jobs=-1)]: Done 136 tasks      | elapsed:  6.2min\n",
      "[Parallel(n_jobs=-1)]: Done 199 out of 199 | elapsed:  7.8min finished\n",
      "[Parallel(n_jobs=32)]: Done 136 tasks      | elapsed:    0.3s\n",
      "[Parallel(n_jobs=32)]: Done 199 out of 199 | elapsed:    0.4s finished\n",
      "[Parallel(n_jobs=-1)]: Done 199 out of 199 | elapsed:  7.8min finished\n",
      "[Parallel(n_jobs=32)]: Done 136 tasks      | elapsed:    0.2s\n",
      "[Parallel(n_jobs=32)]: Done 199 out of 199 | elapsed:    0.2s finished\n",
      "[Parallel(n_jobs=-1)]: Done 199 out of 199 | elapsed:  7.8min finished\n",
      "[Parallel(n_jobs=32)]: Done 136 tasks      | elapsed:    0.2s\n",
      "[Parallel(n_jobs=32)]: Done 199 out of 199 | elapsed:    0.2s finished\n"
     ]
    },
    {
     "name": "stdout",
     "output_type": "stream",
     "text": [
      "   44 | 08m08s |    0.73678 |     14.7443 |         0.7472 |       198.6400 | \n"
     ]
    },
    {
     "name": "stderr",
     "output_type": "stream",
     "text": [
      "/home/ec2-user/anaconda3/lib/python3.6/site-packages/sklearn/gaussian_process/gpr.py:427: UserWarning: fmin_l_bfgs_b terminated abnormally with the  state: {'grad': array([ -4.55094728e-05]), 'task': b'ABNORMAL_TERMINATION_IN_LNSRCH', 'funcalls': 57, 'nit': 6, 'warnflag': 2}\n",
      "  \" state: %s\" % convergence_dict)\n",
      "[Parallel(n_jobs=-1)]: Done 146 out of 146 | elapsed:  4.4min finished\n",
      "[Parallel(n_jobs=32)]: Done 146 out of 146 | elapsed:    0.4s finished\n",
      "[Parallel(n_jobs=-1)]: Done 146 out of 146 | elapsed:  4.4min finished\n",
      "[Parallel(n_jobs=32)]: Done 146 out of 146 | elapsed:    0.2s finished\n",
      "[Parallel(n_jobs=-1)]: Done 146 out of 146 | elapsed:  4.4min finished\n",
      "[Parallel(n_jobs=32)]: Done 146 out of 146 | elapsed:    0.1s finished\n"
     ]
    },
    {
     "name": "stdout",
     "output_type": "stream",
     "text": [
      "   45 | 04m42s |    0.73461 |     10.8025 |         0.7442 |       145.9414 | \n"
     ]
    },
    {
     "name": "stderr",
     "output_type": "stream",
     "text": [
      "[Parallel(n_jobs=-1)]: Done  32 out of  47 | elapsed:   55.6s remaining:   26.1s\n",
      "[Parallel(n_jobs=-1)]: Done  32 out of  47 | elapsed:   57.9s remaining:   27.1s\n",
      "[Parallel(n_jobs=-1)]: Done  32 out of  47 | elapsed:   58.9s remaining:   27.6s\n",
      "[Parallel(n_jobs=-1)]: Done  47 out of  47 | elapsed:  1.4min finished\n",
      "[Parallel(n_jobs=32)]: Done  32 out of  47 | elapsed:    0.1s remaining:    0.1s\n",
      "[Parallel(n_jobs=32)]: Done  47 out of  47 | elapsed:    0.2s finished\n",
      "[Parallel(n_jobs=-1)]: Done  47 out of  47 | elapsed:  1.4min finished\n",
      "[Parallel(n_jobs=32)]: Done  32 out of  47 | elapsed:    0.0s remaining:    0.0s\n",
      "[Parallel(n_jobs=32)]: Done  47 out of  47 | elapsed:    0.1s finished\n",
      "[Parallel(n_jobs=-1)]: Done  47 out of  47 | elapsed:  1.4min finished\n",
      "[Parallel(n_jobs=32)]: Done  32 out of  47 | elapsed:    0.0s remaining:    0.0s\n",
      "[Parallel(n_jobs=32)]: Done  47 out of  47 | elapsed:    0.0s finished\n"
     ]
    },
    {
     "name": "stdout",
     "output_type": "stream",
     "text": [
      "   46 | 01m42s |    0.73318 |     10.5923 |         0.7500 |        46.8420 | \n"
     ]
    },
    {
     "name": "stderr",
     "output_type": "stream",
     "text": [
      "[Parallel(n_jobs=-1)]: Done 130 out of 130 | elapsed:  2.0min finished\n",
      "[Parallel(n_jobs=32)]: Done 130 out of 130 | elapsed:    0.1s finished\n",
      "[Parallel(n_jobs=-1)]: Done 130 out of 130 | elapsed:  2.0min finished\n",
      "[Parallel(n_jobs=32)]: Done 130 out of 130 | elapsed:    0.1s finished\n",
      "[Parallel(n_jobs=-1)]: Done 130 out of 130 | elapsed:  2.0min finished\n",
      "[Parallel(n_jobs=32)]: Done 130 out of 130 | elapsed:    0.1s finished\n"
     ]
    },
    {
     "name": "stdout",
     "output_type": "stream",
     "text": [
      "   47 | 02m18s |    0.71981 |      5.0351 |         0.7491 |       129.9457 | \n"
     ]
    },
    {
     "name": "stderr",
     "output_type": "stream",
     "text": [
      "[Parallel(n_jobs=-1)]: Done 103 out of 103 | elapsed:    3.4s finished\n",
      "[Parallel(n_jobs=32)]: Done 103 out of 103 | elapsed:    0.4s finished\n",
      "[Parallel(n_jobs=-1)]: Done 103 out of 103 | elapsed:    4.1s finished\n",
      "[Parallel(n_jobs=32)]: Done 103 out of 103 | elapsed:    0.4s finished\n",
      "[Parallel(n_jobs=-1)]: Done 103 out of 103 | elapsed:    3.5s finished\n",
      "[Parallel(n_jobs=32)]: Done 103 out of 103 | elapsed:    0.1s finished\n"
     ]
    },
    {
     "name": "stdout",
     "output_type": "stream",
     "text": [
      "   48 | 00m23s |    0.72232 |     11.8503 |         0.0185 |       103.0480 | \n"
     ]
    },
    {
     "name": "stderr",
     "output_type": "stream",
     "text": [
      "[Parallel(n_jobs=-1)]: Done  92 out of  92 | elapsed:  4.3min finished\n",
      "[Parallel(n_jobs=32)]: Done  92 out of  92 | elapsed:    0.4s finished\n",
      "[Parallel(n_jobs=-1)]: Done  92 out of  92 | elapsed:  4.3min finished\n",
      "[Parallel(n_jobs=32)]: Done  92 out of  92 | elapsed:    0.1s finished\n",
      "[Parallel(n_jobs=-1)]: Done  92 out of  92 | elapsed:  4.3min finished\n",
      "[Parallel(n_jobs=32)]: Done  92 out of  92 | elapsed:    0.1s finished\n"
     ]
    },
    {
     "name": "stdout",
     "output_type": "stream",
     "text": [
      "   49 | 04m40s |    0.73253 |     19.1396 |         0.7500 |        92.3060 | \n"
     ]
    },
    {
     "name": "stderr",
     "output_type": "stream",
     "text": [
      "[Parallel(n_jobs=-1)]: Done 106 out of 106 | elapsed:  6.1min finished\n",
      "[Parallel(n_jobs=32)]: Done 106 out of 106 | elapsed:    0.3s finished\n",
      "[Parallel(n_jobs=-1)]: Done 106 out of 106 | elapsed:  6.1min finished\n",
      "[Parallel(n_jobs=32)]: Done 106 out of 106 | elapsed:    0.2s finished\n",
      "[Parallel(n_jobs=-1)]: Done 106 out of 106 | elapsed:  6.1min finished\n",
      "[Parallel(n_jobs=32)]: Done 106 out of 106 | elapsed:    0.2s finished\n"
     ]
    },
    {
     "name": "stdout",
     "output_type": "stream",
     "text": [
      "   50 | 06m25s |    0.72548 |     24.9076 |         0.7467 |       106.0836 | \n"
     ]
    },
    {
     "name": "stderr",
     "output_type": "stream",
     "text": [
      "/home/ec2-user/anaconda3/lib/python3.6/site-packages/sklearn/gaussian_process/gpr.py:427: UserWarning: fmin_l_bfgs_b terminated abnormally with the  state: {'grad': array([-0.00014014]), 'task': b'ABNORMAL_TERMINATION_IN_LNSRCH', 'funcalls': 54, 'nit': 4, 'warnflag': 2}\n",
      "  \" state: %s\" % convergence_dict)\n",
      "[Parallel(n_jobs=-1)]: Done   2 out of  32 | elapsed:    1.2s remaining:   18.5s\n",
      "[Parallel(n_jobs=-1)]: Done  32 out of  32 | elapsed:    1.8s finished\n",
      "[Parallel(n_jobs=32)]: Done   2 out of  32 | elapsed:    0.1s remaining:    1.8s\n",
      "[Parallel(n_jobs=32)]: Done  32 out of  32 | elapsed:    0.2s finished\n",
      "[Parallel(n_jobs=-1)]: Done   2 out of  32 | elapsed:    1.3s remaining:   19.6s\n",
      "[Parallel(n_jobs=-1)]: Done  32 out of  32 | elapsed:    1.9s finished\n",
      "[Parallel(n_jobs=32)]: Done   2 out of  32 | elapsed:    0.1s remaining:    1.3s\n",
      "[Parallel(n_jobs=-1)]: Done   2 out of  32 | elapsed:    1.3s remaining:   19.1s\n",
      "[Parallel(n_jobs=32)]: Done  32 out of  32 | elapsed:    0.2s finished\n",
      "[Parallel(n_jobs=-1)]: Done  32 out of  32 | elapsed:    1.7s finished\n",
      "[Parallel(n_jobs=32)]: Done   2 out of  32 | elapsed:    0.0s remaining:    0.4s\n",
      "[Parallel(n_jobs=32)]: Done  32 out of  32 | elapsed:    0.1s finished\n"
     ]
    },
    {
     "name": "stdout",
     "output_type": "stream",
     "text": [
      "   51 | 00m21s |    0.70868 |     16.9850 |         0.0303 |        31.7420 | \n"
     ]
    },
    {
     "name": "stderr",
     "output_type": "stream",
     "text": [
      "[Parallel(n_jobs=-1)]: Done  50 out of  56 | elapsed:  3.1min remaining:   22.2s\n",
      "[Parallel(n_jobs=-1)]: Done  56 out of  56 | elapsed:  3.1min finished\n",
      "[Parallel(n_jobs=32)]: Done  50 out of  56 | elapsed:    0.3s remaining:    0.0s\n",
      "[Parallel(n_jobs=32)]: Done  56 out of  56 | elapsed:    0.3s finished\n",
      "[Parallel(n_jobs=-1)]: Done  50 out of  56 | elapsed:  3.1min remaining:   22.5s\n",
      "[Parallel(n_jobs=-1)]: Done  50 out of  56 | elapsed:  3.1min remaining:   22.3s\n",
      "[Parallel(n_jobs=-1)]: Done  56 out of  56 | elapsed:  3.1min finished\n",
      "[Parallel(n_jobs=32)]: Done  50 out of  56 | elapsed:    0.1s remaining:    0.0s\n",
      "[Parallel(n_jobs=32)]: Done  56 out of  56 | elapsed:    0.1s finished\n",
      "[Parallel(n_jobs=-1)]: Done  56 out of  56 | elapsed:  3.1min finished\n",
      "[Parallel(n_jobs=32)]: Done  50 out of  56 | elapsed:    0.1s remaining:    0.0s\n",
      "[Parallel(n_jobs=32)]: Done  56 out of  56 | elapsed:    0.1s finished\n"
     ]
    },
    {
     "name": "stdout",
     "output_type": "stream",
     "text": [
      "   52 | 03m28s |    0.72092 |     24.7206 |         0.7324 |        56.1877 | \n"
     ]
    },
    {
     "name": "stderr",
     "output_type": "stream",
     "text": [
      "[Parallel(n_jobs=-1)]: Done  52 out of  57 | elapsed:    1.1s remaining:    0.1s\n",
      "[Parallel(n_jobs=-1)]: Done  57 out of  57 | elapsed:    1.1s finished\n",
      "[Parallel(n_jobs=32)]: Done  52 out of  57 | elapsed:    0.1s remaining:    0.0s\n",
      "[Parallel(n_jobs=32)]: Done  57 out of  57 | elapsed:    0.1s finished\n",
      "[Parallel(n_jobs=-1)]: Done  52 out of  57 | elapsed:    1.1s remaining:    0.1s\n",
      "[Parallel(n_jobs=-1)]: Done  57 out of  57 | elapsed:    1.1s finished\n",
      "[Parallel(n_jobs=32)]: Done  52 out of  57 | elapsed:    0.1s remaining:    0.0s\n",
      "[Parallel(n_jobs=32)]: Done  57 out of  57 | elapsed:    0.1s finished\n",
      "[Parallel(n_jobs=-1)]: Done  52 out of  57 | elapsed:    1.0s remaining:    0.1s\n",
      "[Parallel(n_jobs=-1)]: Done  57 out of  57 | elapsed:    1.1s finished\n",
      "[Parallel(n_jobs=32)]: Done  52 out of  57 | elapsed:    0.1s remaining:    0.0s\n",
      "[Parallel(n_jobs=32)]: Done  57 out of  57 | elapsed:    0.1s finished\n"
     ]
    },
    {
     "name": "stdout",
     "output_type": "stream",
     "text": [
      "   53 | 00m21s |    0.70966 |     11.9985 |         0.0128 |        56.7072 | \n"
     ]
    },
    {
     "name": "stderr",
     "output_type": "stream",
     "text": [
      "[Parallel(n_jobs=-1)]: Done  74 out of  74 | elapsed:  1.0min finished\n",
      "[Parallel(n_jobs=32)]: Done  74 out of  74 | elapsed:    0.2s finished\n",
      "[Parallel(n_jobs=-1)]: Done  74 out of  74 | elapsed:  1.0min finished\n",
      "[Parallel(n_jobs=32)]: Done  74 out of  74 | elapsed:    0.1s finished\n",
      "[Parallel(n_jobs=-1)]: Done  74 out of  74 | elapsed:   58.6s finished\n",
      "[Parallel(n_jobs=32)]: Done  74 out of  74 | elapsed:    0.0s finished\n"
     ]
    },
    {
     "name": "stdout",
     "output_type": "stream",
     "text": [
      "   54 | 01m19s |    0.72007 |      5.0307 |         0.6824 |        74.2805 | \n"
     ]
    },
    {
     "name": "stderr",
     "output_type": "stream",
     "text": [
      "[Parallel(n_jobs=-1)]: Done  76 out of  76 | elapsed:  3.7min finished\n",
      "[Parallel(n_jobs=32)]: Done  76 out of  76 | elapsed:    0.2s finished\n",
      "[Parallel(n_jobs=-1)]: Done  76 out of  76 | elapsed:  3.6min finished\n",
      "[Parallel(n_jobs=-1)]: Done  76 out of  76 | elapsed:  3.6min finished\n",
      "[Parallel(n_jobs=32)]: Done  76 out of  76 | elapsed:    0.1s finished\n",
      "[Parallel(n_jobs=32)]: Done  76 out of  76 | elapsed:    0.1s finished\n"
     ]
    },
    {
     "name": "stdout",
     "output_type": "stream",
     "text": [
      "   55 | 03m58s |    0.72979 |     19.6310 |         0.7369 |        76.0517 | \n"
     ]
    },
    {
     "name": "stderr",
     "output_type": "stream",
     "text": [
      "[Parallel(n_jobs=-1)]: Done  77 out of  77 | elapsed:  4.4min finished\n",
      "[Parallel(n_jobs=32)]: Done  77 out of  77 | elapsed:    0.2s finished\n",
      "[Parallel(n_jobs=-1)]: Done  77 out of  77 | elapsed:  4.4min finished\n",
      "[Parallel(n_jobs=32)]: Done  77 out of  77 | elapsed:    0.2s finished\n",
      "[Parallel(n_jobs=-1)]: Done  77 out of  77 | elapsed:  4.3min finished\n",
      "[Parallel(n_jobs=32)]: Done  77 out of  77 | elapsed:    0.1s finished\n"
     ]
    },
    {
     "name": "stdout",
     "output_type": "stream",
     "text": [
      "   56 | 04m44s |    0.72367 |     24.8946 |         0.7425 |        77.2261 | \n"
     ]
    },
    {
     "name": "stderr",
     "output_type": "stream",
     "text": [
      "[Parallel(n_jobs=-1)]: Done  18 out of  40 | elapsed:    0.6s remaining:    0.8s\n",
      "[Parallel(n_jobs=-1)]: Done  40 out of  40 | elapsed:    0.9s finished\n",
      "[Parallel(n_jobs=32)]: Done  18 out of  40 | elapsed:    0.0s remaining:    0.0s\n",
      "[Parallel(n_jobs=32)]: Done  40 out of  40 | elapsed:    0.0s finished\n",
      "[Parallel(n_jobs=-1)]: Done  18 out of  40 | elapsed:    0.6s remaining:    0.8s\n",
      "[Parallel(n_jobs=-1)]: Done  40 out of  40 | elapsed:    0.9s finished\n",
      "[Parallel(n_jobs=32)]: Done  18 out of  40 | elapsed:    0.0s remaining:    0.0s\n",
      "[Parallel(n_jobs=32)]: Done  40 out of  40 | elapsed:    0.0s finished\n",
      "[Parallel(n_jobs=-1)]: Done  18 out of  40 | elapsed:    0.6s remaining:    0.7s\n",
      "[Parallel(n_jobs=-1)]: Done  40 out of  40 | elapsed:    0.8s finished\n",
      "[Parallel(n_jobs=32)]: Done  18 out of  40 | elapsed:    0.0s remaining:    0.0s\n",
      "[Parallel(n_jobs=32)]: Done  40 out of  40 | elapsed:    0.0s finished\n"
     ]
    },
    {
     "name": "stdout",
     "output_type": "stream",
     "text": [
      "   57 | 00m20s |    0.70346 |     10.8721 |         0.0100 |        39.8317 | \n"
     ]
    },
    {
     "name": "stderr",
     "output_type": "stream",
     "text": [
      "[Parallel(n_jobs=-1)]: Done   8 out of  35 | elapsed:  1.7min remaining:  5.6min\n",
      "[Parallel(n_jobs=-1)]: Done   8 out of  35 | elapsed:  1.7min remaining:  5.9min\n",
      "[Parallel(n_jobs=-1)]: Done   8 out of  35 | elapsed:  1.7min remaining:  5.8min\n",
      "[Parallel(n_jobs=-1)]: Done  35 out of  35 | elapsed:  2.1min finished\n",
      "[Parallel(n_jobs=32)]: Done   8 out of  35 | elapsed:    0.1s remaining:    0.2s\n",
      "[Parallel(n_jobs=32)]: Done  35 out of  35 | elapsed:    0.1s finished\n",
      "[Parallel(n_jobs=-1)]: Done  35 out of  35 | elapsed:  2.1min finished\n",
      "[Parallel(n_jobs=32)]: Done   8 out of  35 | elapsed:    0.0s remaining:    0.1s\n",
      "[Parallel(n_jobs=32)]: Done  35 out of  35 | elapsed:    0.1s finished\n",
      "[Parallel(n_jobs=-1)]: Done  35 out of  35 | elapsed:  2.1min finished\n",
      "[Parallel(n_jobs=32)]: Done   8 out of  35 | elapsed:    0.0s remaining:    0.1s\n",
      "[Parallel(n_jobs=32)]: Done  35 out of  35 | elapsed:    0.1s finished\n"
     ]
    },
    {
     "name": "stdout",
     "output_type": "stream",
     "text": [
      "   58 | 02m25s |    0.71559 |     24.9955 |         0.7285 |        35.1457 | \n"
     ]
    },
    {
     "name": "stderr",
     "output_type": "stream",
     "text": [
      "[Parallel(n_jobs=-1)]: Done 129 out of 129 | elapsed:  6.9min finished\n",
      "[Parallel(n_jobs=32)]: Done 129 out of 129 | elapsed:    0.2s finished\n",
      "[Parallel(n_jobs=-1)]: Done 129 out of 129 | elapsed:  6.9min finished\n",
      "[Parallel(n_jobs=32)]: Done 129 out of 129 | elapsed:    0.2s finished\n",
      "[Parallel(n_jobs=-1)]: Done 129 out of 129 | elapsed:  6.8min finished\n",
      "[Parallel(n_jobs=32)]: Done 129 out of 129 | elapsed:    0.2s finished\n"
     ]
    },
    {
     "name": "stdout",
     "output_type": "stream",
     "text": [
      "   59 | 07m11s |    0.72674 |     24.9920 |         0.6696 |       129.4037 | \n"
     ]
    },
    {
     "name": "stderr",
     "output_type": "stream",
     "text": [
      "[Parallel(n_jobs=-1)]: Done  32 out of  47 | elapsed:    0.5s remaining:    0.2s\n",
      "[Parallel(n_jobs=-1)]: Done  47 out of  47 | elapsed:    0.6s finished\n",
      "[Parallel(n_jobs=32)]: Done  32 out of  47 | elapsed:    0.0s remaining:    0.0s\n",
      "[Parallel(n_jobs=32)]: Done  47 out of  47 | elapsed:    0.0s finished\n",
      "[Parallel(n_jobs=-1)]: Done  32 out of  47 | elapsed:    0.5s remaining:    0.2s\n",
      "[Parallel(n_jobs=-1)]: Done  47 out of  47 | elapsed:    0.6s finished\n",
      "[Parallel(n_jobs=32)]: Done  32 out of  47 | elapsed:    0.0s remaining:    0.0s\n",
      "[Parallel(n_jobs=32)]: Done  47 out of  47 | elapsed:    0.0s finished\n",
      "[Parallel(n_jobs=-1)]: Done  32 out of  47 | elapsed:    0.5s remaining:    0.2s\n",
      "[Parallel(n_jobs=-1)]: Done  47 out of  47 | elapsed:    0.6s finished\n",
      "[Parallel(n_jobs=32)]: Done  32 out of  47 | elapsed:    0.0s remaining:    0.0s\n",
      "[Parallel(n_jobs=32)]: Done  47 out of  47 | elapsed:    0.0s finished\n"
     ]
    },
    {
     "name": "stdout",
     "output_type": "stream",
     "text": [
      "   60 | 00m18s |    0.69835 |      5.0000 |         0.0100 |        47.3693 | \n"
     ]
    },
    {
     "name": "stderr",
     "output_type": "stream",
     "text": [
      "[Parallel(n_jobs=-1)]: Done 119 out of 119 | elapsed:  4.1min finished\n",
      "[Parallel(n_jobs=32)]: Done 119 out of 119 | elapsed:    0.5s finished\n",
      "[Parallel(n_jobs=-1)]: Done 119 out of 119 | elapsed:  4.2min finished\n",
      "[Parallel(n_jobs=32)]: Done 119 out of 119 | elapsed:    0.1s finished\n",
      "[Parallel(n_jobs=-1)]: Done 119 out of 119 | elapsed:  4.1min finished\n",
      "[Parallel(n_jobs=32)]: Done 119 out of 119 | elapsed:    0.1s finished\n"
     ]
    },
    {
     "name": "stdout",
     "output_type": "stream",
     "text": [
      "   61 | 04m26s |    0.73547 |     12.8975 |         0.7500 |       118.6989 | \n"
     ]
    },
    {
     "name": "stderr",
     "output_type": "stream",
     "text": [
      "[Parallel(n_jobs=-1)]: Done 192 out of 192 | elapsed:   44.2s finished\n",
      "[Parallel(n_jobs=32)]: Done 192 out of 192 | elapsed:    1.3s finished\n",
      "[Parallel(n_jobs=-1)]: Done 192 out of 192 | elapsed:   44.5s finished\n",
      "[Parallel(n_jobs=32)]: Done 192 out of 192 | elapsed:    0.5s finished\n",
      "[Parallel(n_jobs=-1)]: Done 192 out of 192 | elapsed:   43.9s finished\n",
      "[Parallel(n_jobs=32)]: Done 192 out of 192 | elapsed:    0.3s finished\n"
     ]
    },
    {
     "name": "stdout",
     "output_type": "stream",
     "text": [
      "   62 | 01m03s |    0.72825 |     25.0000 |         0.0573 |       191.6655 | \n"
     ]
    },
    {
     "name": "stderr",
     "output_type": "stream",
     "text": [
      "/home/ec2-user/anaconda3/lib/python3.6/site-packages/sklearn/gaussian_process/gpr.py:427: UserWarning: fmin_l_bfgs_b terminated abnormally with the  state: {'grad': array([-0.0001324]), 'task': b'ABNORMAL_TERMINATION_IN_LNSRCH', 'funcalls': 51, 'nit': 5, 'warnflag': 2}\n",
      "  \" state: %s\" % convergence_dict)\n",
      "[Parallel(n_jobs=-1)]: Done  63 out of  63 | elapsed:    0.7s finished\n",
      "[Parallel(n_jobs=32)]: Done  63 out of  63 | elapsed:    0.1s finished\n",
      "[Parallel(n_jobs=-1)]: Done  63 out of  63 | elapsed:    0.7s finished\n",
      "[Parallel(n_jobs=32)]: Done  63 out of  63 | elapsed:    0.1s finished\n",
      "[Parallel(n_jobs=-1)]: Done  63 out of  63 | elapsed:    0.7s finished\n",
      "[Parallel(n_jobs=32)]: Done  63 out of  63 | elapsed:    0.1s finished\n"
     ]
    },
    {
     "name": "stdout",
     "output_type": "stream",
     "text": [
      "   63 | 00m17s |    0.69603 |      5.0000 |         0.0100 |        62.9164 | \n"
     ]
    },
    {
     "name": "stderr",
     "output_type": "stream",
     "text": [
      "/home/ec2-user/anaconda3/lib/python3.6/site-packages/sklearn/gaussian_process/gpr.py:427: UserWarning: fmin_l_bfgs_b terminated abnormally with the  state: {'grad': array([ -6.00748321e-05]), 'task': b'ABNORMAL_TERMINATION_IN_LNSRCH', 'funcalls': 54, 'nit': 4, 'warnflag': 2}\n",
      "  \" state: %s\" % convergence_dict)\n",
      "/home/ec2-user/anaconda3/lib/python3.6/site-packages/sklearn/gaussian_process/gpr.py:427: UserWarning: fmin_l_bfgs_b terminated abnormally with the  state: {'grad': array([  8.20667662e-05]), 'task': b'ABNORMAL_TERMINATION_IN_LNSRCH', 'funcalls': 50, 'nit': 6, 'warnflag': 2}\n",
      "  \" state: %s\" % convergence_dict)\n",
      "[Parallel(n_jobs=-1)]: Done 186 out of 186 | elapsed:  8.8min finished\n",
      "[Parallel(n_jobs=32)]: Done 186 out of 186 | elapsed:    0.6s finished\n",
      "[Parallel(n_jobs=-1)]: Done 186 out of 186 | elapsed:  8.8min finished\n",
      "[Parallel(n_jobs=32)]: Done 186 out of 186 | elapsed:    0.3s finished\n",
      "[Parallel(n_jobs=-1)]: Done 186 out of 186 | elapsed:  8.8min finished\n",
      "[Parallel(n_jobs=32)]: Done 186 out of 186 | elapsed:    0.2s finished\n"
     ]
    },
    {
     "name": "stdout",
     "output_type": "stream",
     "text": [
      "   64 | 09m08s |    0.73463 |     18.7486 |         0.7500 |       185.9073 | \n"
     ]
    },
    {
     "name": "stderr",
     "output_type": "stream",
     "text": [
      "[Parallel(n_jobs=-1)]: Done 137 out of 137 | elapsed:  6.3min finished\n",
      "[Parallel(n_jobs=32)]: Done 137 out of 137 | elapsed:    0.3s finished\n",
      "[Parallel(n_jobs=-1)]: Done 137 out of 137 | elapsed:  6.3min finished\n",
      "[Parallel(n_jobs=32)]: Done 137 out of 137 | elapsed:    0.2s finished\n",
      "[Parallel(n_jobs=-1)]: Done 137 out of 137 | elapsed:  6.2min finished\n",
      "[Parallel(n_jobs=32)]: Done 137 out of 137 | elapsed:    0.2s finished\n"
     ]
    },
    {
     "name": "stdout",
     "output_type": "stream",
     "text": [
      "   65 | 06m33s |    0.73452 |     17.9818 |         0.7500 |       137.4954 | \n"
     ]
    },
    {
     "name": "stderr",
     "output_type": "stream",
     "text": [
      "[Parallel(n_jobs=-1)]: Done 173 out of 173 | elapsed:  9.2min finished\n",
      "[Parallel(n_jobs=32)]: Done 173 out of 173 | elapsed:    0.4s finished\n",
      "[Parallel(n_jobs=-1)]: Done 173 out of 173 | elapsed:  9.2min finished\n",
      "[Parallel(n_jobs=32)]: Done 173 out of 173 | elapsed:    0.3s finished\n",
      "[Parallel(n_jobs=-1)]: Done 173 out of 173 | elapsed:  9.3min finished\n",
      "[Parallel(n_jobs=32)]: Done 173 out of 173 | elapsed:    0.3s finished\n"
     ]
    },
    {
     "name": "stdout",
     "output_type": "stream",
     "text": [
      "   66 | 09m32s |    0.72860 |     24.9166 |         0.6907 |       173.2918 | \n"
     ]
    },
    {
     "name": "stderr",
     "output_type": "stream",
     "text": [
      "[Parallel(n_jobs=-1)]: Done  83 out of  83 | elapsed:  1.2min finished\n",
      "[Parallel(n_jobs=32)]: Done  83 out of  83 | elapsed:    0.3s finished\n",
      "[Parallel(n_jobs=-1)]: Done  83 out of  83 | elapsed:  1.2min finished\n",
      "[Parallel(n_jobs=32)]: Done  83 out of  83 | elapsed:    0.1s finished\n",
      "[Parallel(n_jobs=-1)]: Done  83 out of  83 | elapsed:  1.1min finished\n",
      "[Parallel(n_jobs=32)]: Done  83 out of  83 | elapsed:    0.1s finished\n"
     ]
    },
    {
     "name": "stdout",
     "output_type": "stream",
     "text": [
      "   67 | 01m28s |    0.72022 |      5.0148 |         0.7148 |        82.8984 | \n"
     ]
    },
    {
     "name": "stderr",
     "output_type": "stream",
     "text": [
      "[Parallel(n_jobs=-1)]: Done 195 out of 195 | elapsed:   11.9s finished\n",
      "[Parallel(n_jobs=32)]: Done 195 out of 195 | elapsed:    1.6s finished\n",
      "[Parallel(n_jobs=-1)]: Done 195 out of 195 | elapsed:   14.7s finished\n",
      "[Parallel(n_jobs=32)]: Done 195 out of 195 | elapsed:    0.9s finished\n",
      "[Parallel(n_jobs=-1)]: Done 195 out of 195 | elapsed:   13.5s finished\n",
      "[Parallel(n_jobs=32)]: Done 195 out of 195 | elapsed:    0.3s finished\n"
     ]
    },
    {
     "name": "stdout",
     "output_type": "stream",
     "text": [
      "   68 | 00m34s |    0.72654 |     19.7819 |         0.0219 |       195.1297 | \n"
     ]
    },
    {
     "name": "stderr",
     "output_type": "stream",
     "text": [
      "[Parallel(n_jobs=-1)]: Done 191 out of 191 | elapsed:  2.9min finished\n",
      "[Parallel(n_jobs=32)]: Done 191 out of 191 | elapsed:    0.5s finished\n",
      "[Parallel(n_jobs=-1)]: Done 191 out of 191 | elapsed:  2.9min finished\n",
      "[Parallel(n_jobs=32)]: Done 191 out of 191 | elapsed:    0.2s finished\n",
      "[Parallel(n_jobs=-1)]: Done 191 out of 191 | elapsed:  2.8min finished\n",
      "[Parallel(n_jobs=32)]: Done 191 out of 191 | elapsed:    0.1s finished\n"
     ]
    },
    {
     "name": "stdout",
     "output_type": "stream",
     "text": [
      "   69 | 03m09s |    0.71986 |      5.1314 |         0.7453 |       191.0760 | \n"
     ]
    },
    {
     "name": "stderr",
     "output_type": "stream",
     "text": [
      "/home/ec2-user/anaconda3/lib/python3.6/site-packages/sklearn/gaussian_process/gpr.py:427: UserWarning: fmin_l_bfgs_b terminated abnormally with the  state: {'grad': array([-0.00023058]), 'task': b'ABNORMAL_TERMINATION_IN_LNSRCH', 'funcalls': 51, 'nit': 2, 'warnflag': 2}\n",
      "  \" state: %s\" % convergence_dict)\n",
      "[Parallel(n_jobs=-1)]: Done 101 out of 101 | elapsed:  4.8min finished\n",
      "[Parallel(n_jobs=32)]: Done 101 out of 101 | elapsed:    0.2s finished\n",
      "[Parallel(n_jobs=-1)]: Done 101 out of 101 | elapsed:  4.8min finished\n",
      "[Parallel(n_jobs=32)]: Done 101 out of 101 | elapsed:    0.2s finished\n",
      "[Parallel(n_jobs=-1)]: Done 101 out of 101 | elapsed:  4.8min finished\n",
      "[Parallel(n_jobs=32)]: Done 101 out of 101 | elapsed:    0.1s finished\n"
     ]
    },
    {
     "name": "stdout",
     "output_type": "stream",
     "text": [
      "   70 | 05m08s |    0.73284 |     19.2687 |         0.7498 |       100.6726 | \n"
     ]
    },
    {
     "name": "stderr",
     "output_type": "stream",
     "text": [
      "[Parallel(n_jobs=-1)]: Done 150 out of 150 | elapsed:  2.2min finished\n",
      "[Parallel(n_jobs=32)]: Done 150 out of 150 | elapsed:    0.6s finished\n",
      "[Parallel(n_jobs=-1)]: Done 150 out of 150 | elapsed:  2.2min finished\n",
      "[Parallel(n_jobs=32)]: Done 150 out of 150 | elapsed:    0.2s finished\n",
      "[Parallel(n_jobs=-1)]: Done 150 out of 150 | elapsed:  2.2min finished\n",
      "[Parallel(n_jobs=32)]: Done 150 out of 150 | elapsed:    0.1s finished\n"
     ]
    },
    {
     "name": "stdout",
     "output_type": "stream",
     "text": [
      "   71 | 02m33s |    0.71977 |      5.0116 |         0.7484 |       150.4454 | \n"
     ]
    },
    {
     "name": "stderr",
     "output_type": "stream",
     "text": [
      "[Parallel(n_jobs=-1)]: Done 185 out of 185 | elapsed:  5.5min finished\n",
      "[Parallel(n_jobs=32)]: Done 185 out of 185 | elapsed:    0.6s finished\n",
      "[Parallel(n_jobs=-1)]: Done 185 out of 185 | elapsed:  5.5min finished\n",
      "[Parallel(n_jobs=-1)]: Done 185 out of 185 | elapsed:  5.5min finished\n",
      "[Parallel(n_jobs=32)]: Done 185 out of 185 | elapsed:    0.3s finished\n",
      "[Parallel(n_jobs=32)]: Done 185 out of 185 | elapsed:    0.3s finished\n"
     ]
    },
    {
     "name": "stdout",
     "output_type": "stream",
     "text": [
      "   72 | 05m47s |    0.73502 |     11.1734 |         0.7327 |       185.4871 | \n"
     ]
    },
    {
     "name": "stderr",
     "output_type": "stream",
     "text": [
      "/home/ec2-user/anaconda3/lib/python3.6/site-packages/sklearn/gaussian_process/gpr.py:427: UserWarning: fmin_l_bfgs_b terminated abnormally with the  state: {'grad': array([ 0.00016668]), 'task': b'ABNORMAL_TERMINATION_IN_LNSRCH', 'funcalls': 55, 'nit': 5, 'warnflag': 2}\n",
      "  \" state: %s\" % convergence_dict)\n",
      "[Parallel(n_jobs=-1)]: Done 154 out of 154 | elapsed:  5.6min finished\n",
      "[Parallel(n_jobs=32)]: Done 154 out of 154 | elapsed:    0.6s finished\n",
      "[Parallel(n_jobs=-1)]: Done 154 out of 154 | elapsed:  5.6min finished\n",
      "[Parallel(n_jobs=32)]: Done 154 out of 154 | elapsed:    0.3s finished\n",
      "[Parallel(n_jobs=-1)]: Done 154 out of 154 | elapsed:  5.6min finished\n",
      "[Parallel(n_jobs=32)]: Done 154 out of 154 | elapsed:    0.2s finished\n"
     ]
    },
    {
     "name": "stdout",
     "output_type": "stream",
     "text": [
      "   73 | 05m55s |    0.73655 |     13.8572 |         0.7308 |       154.1603 | \n"
     ]
    },
    {
     "name": "stderr",
     "output_type": "stream",
     "text": [
      "[Parallel(n_jobs=-1)]: Done  74 out of  74 | elapsed:  2.3min finished\n",
      "[Parallel(n_jobs=32)]: Done  74 out of  74 | elapsed:    0.2s finished\n",
      "[Parallel(n_jobs=-1)]: Done  74 out of  74 | elapsed:  2.3min finished\n",
      "[Parallel(n_jobs=32)]: Done  74 out of  74 | elapsed:    0.1s finished\n",
      "[Parallel(n_jobs=-1)]: Done  74 out of  74 | elapsed:  2.3min finished\n",
      "[Parallel(n_jobs=32)]: Done  74 out of  74 | elapsed:    0.1s finished\n"
     ]
    },
    {
     "name": "stdout",
     "output_type": "stream",
     "text": [
      "   74 | 02m39s |    0.73455 |     12.0049 |         0.7230 |        73.5181 | \n"
     ]
    },
    {
     "name": "stderr",
     "output_type": "stream",
     "text": [
      "[Parallel(n_jobs=-1)]: Done   2 out of  32 | elapsed:   20.2s remaining:  5.1min\n",
      "[Parallel(n_jobs=-1)]: Done  32 out of  32 | elapsed:   25.1s finished\n",
      "[Parallel(n_jobs=32)]: Done   2 out of  32 | elapsed:    0.1s remaining:    1.5s\n",
      "[Parallel(n_jobs=32)]: Done  32 out of  32 | elapsed:    0.2s finished\n",
      "[Parallel(n_jobs=-1)]: Done   2 out of  32 | elapsed:   24.1s remaining:  6.0min\n",
      "[Parallel(n_jobs=-1)]: Done  32 out of  32 | elapsed:   25.6s finished\n",
      "[Parallel(n_jobs=-1)]: Done   2 out of  32 | elapsed:   23.9s remaining:  6.0min\n",
      "[Parallel(n_jobs=32)]: Done   2 out of  32 | elapsed:    0.0s remaining:    0.6s\n",
      "[Parallel(n_jobs=32)]: Done  32 out of  32 | elapsed:    0.1s finished\n",
      "[Parallel(n_jobs=-1)]: Done  32 out of  32 | elapsed:   24.4s finished\n",
      "[Parallel(n_jobs=32)]: Done   2 out of  32 | elapsed:    0.0s remaining:    0.2s\n",
      "[Parallel(n_jobs=32)]: Done  32 out of  32 | elapsed:    0.0s finished\n"
     ]
    },
    {
     "name": "stdout",
     "output_type": "stream",
     "text": [
      "   75 | 00m44s |    0.71920 |      5.0638 |         0.7093 |        31.6521 | \n"
     ]
    },
    {
     "name": "stderr",
     "output_type": "stream",
     "text": [
      "[Parallel(n_jobs=-1)]: Done 112 out of 112 | elapsed:  3.1min finished\n",
      "[Parallel(n_jobs=32)]: Done 112 out of 112 | elapsed:    0.6s finished\n",
      "[Parallel(n_jobs=-1)]: Done 112 out of 112 | elapsed:  3.1min finished\n",
      "[Parallel(n_jobs=32)]: Done 112 out of 112 | elapsed:    0.2s finished\n",
      "[Parallel(n_jobs=-1)]: Done 112 out of 112 | elapsed:  3.0min finished\n",
      "[Parallel(n_jobs=32)]: Done 112 out of 112 | elapsed:    0.1s finished\n"
     ]
    },
    {
     "name": "stdout",
     "output_type": "stream",
     "text": [
      "   76 | 03m22s |    0.73355 |      9.5072 |         0.7331 |       111.7690 | \n"
     ]
    },
    {
     "name": "stderr",
     "output_type": "stream",
     "text": [
      "[Parallel(n_jobs=-1)]: Done  66 out of  66 | elapsed:  3.0min finished\n",
      "[Parallel(n_jobs=32)]: Done  66 out of  66 | elapsed:    0.1s finished\n",
      "[Parallel(n_jobs=-1)]: Done  66 out of  66 | elapsed:  2.9min finished\n",
      "[Parallel(n_jobs=32)]: Done  66 out of  66 | elapsed:    0.1s finished\n",
      "[Parallel(n_jobs=-1)]: Done  66 out of  66 | elapsed:  2.9min finished\n",
      "[Parallel(n_jobs=32)]: Done  66 out of  66 | elapsed:    0.1s finished\n"
     ]
    },
    {
     "name": "stdout",
     "output_type": "stream",
     "text": [
      "   77 | 03m17s |    0.73249 |     17.1874 |         0.7349 |        65.5286 | \n"
     ]
    },
    {
     "name": "stderr",
     "output_type": "stream",
     "text": [
      "[Parallel(n_jobs=-1)]: Done 120 out of 120 | elapsed:  5.9min finished\n",
      "[Parallel(n_jobs=32)]: Done 120 out of 120 | elapsed:    0.5s finished\n",
      "[Parallel(n_jobs=-1)]: Done 120 out of 120 | elapsed:  5.9min finished\n",
      "[Parallel(n_jobs=32)]: Done 120 out of 120 | elapsed:    0.3s finished\n",
      "[Parallel(n_jobs=-1)]: Done 120 out of 120 | elapsed:  5.9min finished\n",
      "[Parallel(n_jobs=32)]: Done 120 out of 120 | elapsed:    0.1s finished\n"
     ]
    },
    {
     "name": "stdout",
     "output_type": "stream",
     "text": [
      "   78 | 06m15s |    0.73285 |     19.5928 |         0.7486 |       119.6022 | \n"
     ]
    },
    {
     "name": "stderr",
     "output_type": "stream",
     "text": [
      "[Parallel(n_jobs=-1)]: Done 160 out of 160 | elapsed:  4.0min finished\n",
      "[Parallel(n_jobs=32)]: Done 160 out of 160 | elapsed:    0.5s finished\n",
      "[Parallel(n_jobs=-1)]: Done 160 out of 160 | elapsed:  4.0min finished\n",
      "[Parallel(n_jobs=32)]: Done 160 out of 160 | elapsed:    0.1s finished\n",
      "[Parallel(n_jobs=-1)]: Done 160 out of 160 | elapsed:  3.9min finished\n",
      "[Parallel(n_jobs=32)]: Done 160 out of 160 | elapsed:    0.1s finished\n"
     ]
    },
    {
     "name": "stdout",
     "output_type": "stream",
     "text": [
      "   79 | 04m18s |    0.73260 |      9.3112 |         0.7278 |       160.4323 | \n"
     ]
    },
    {
     "name": "stderr",
     "output_type": "stream",
     "text": [
      "[Parallel(n_jobs=-1)]: Done 167 out of 167 | elapsed:    6.5s finished\n",
      "[Parallel(n_jobs=32)]: Done 167 out of 167 | elapsed:    1.7s finished\n",
      "[Parallel(n_jobs=-1)]: Done 167 out of 167 | elapsed:    8.3s finished\n",
      "[Parallel(n_jobs=32)]: Done 167 out of 167 | elapsed:    0.8s finished\n",
      "[Parallel(n_jobs=-1)]: Done 167 out of 167 | elapsed:    7.1s finished\n",
      "[Parallel(n_jobs=32)]: Done 167 out of 167 | elapsed:    0.3s finished\n"
     ]
    },
    {
     "name": "stdout",
     "output_type": "stream",
     "text": [
      "   80 | 00m28s |    0.71377 |     24.7812 |         0.0115 |       166.7750 | \n"
     ]
    },
    {
     "name": "stderr",
     "output_type": "stream",
     "text": [
      "[Parallel(n_jobs=-1)]: Done 197 out of 197 | elapsed:    5.0s finished\n",
      "[Parallel(n_jobs=32)]: Done 197 out of 197 | elapsed:    0.9s finished\n",
      "[Parallel(n_jobs=-1)]: Done 197 out of 197 | elapsed:    7.1s finished\n",
      "[Parallel(n_jobs=32)]: Done 197 out of 197 | elapsed:    0.6s finished\n",
      "[Parallel(n_jobs=-1)]: Done 197 out of 197 | elapsed:    6.0s finished\n",
      "[Parallel(n_jobs=32)]: Done 197 out of 197 | elapsed:    0.2s finished\n"
     ]
    },
    {
     "name": "stdout",
     "output_type": "stream",
     "text": [
      "   81 | 00m27s |    0.71668 |     10.3398 |         0.0145 |       196.9311 | \n"
     ]
    },
    {
     "name": "stderr",
     "output_type": "stream",
     "text": [
      "[Parallel(n_jobs=-1)]: Done 115 out of 115 | elapsed:    2.4s finished\n",
      "[Parallel(n_jobs=32)]: Done 115 out of 115 | elapsed:    0.4s finished\n",
      "[Parallel(n_jobs=-1)]: Done 115 out of 115 | elapsed:    3.3s finished\n",
      "[Parallel(n_jobs=32)]: Done 115 out of 115 | elapsed:    0.4s finished\n",
      "[Parallel(n_jobs=-1)]: Done 115 out of 115 | elapsed:    3.1s finished\n",
      "[Parallel(n_jobs=32)]: Done 115 out of 115 | elapsed:    0.1s finished\n"
     ]
    },
    {
     "name": "stdout",
     "output_type": "stream",
     "text": [
      "   82 | 00m24s |    0.71268 |     15.7768 |         0.0127 |       114.6371 | \n"
     ]
    },
    {
     "name": "stderr",
     "output_type": "stream",
     "text": [
      "[Parallel(n_jobs=-1)]: Done  48 out of  55 | elapsed:    1.3s remaining:    0.2s\n",
      "[Parallel(n_jobs=-1)]: Done  55 out of  55 | elapsed:    1.4s finished\n",
      "[Parallel(n_jobs=32)]: Done  48 out of  55 | elapsed:    0.1s remaining:    0.0s\n",
      "[Parallel(n_jobs=32)]: Done  55 out of  55 | elapsed:    0.2s finished\n",
      "[Parallel(n_jobs=-1)]: Done  48 out of  55 | elapsed:    1.4s remaining:    0.2s\n",
      "[Parallel(n_jobs=-1)]: Done  55 out of  55 | elapsed:    1.4s finished\n",
      "[Parallel(n_jobs=32)]: Done  48 out of  55 | elapsed:    0.3s remaining:    0.0s\n",
      "[Parallel(n_jobs=32)]: Done  55 out of  55 | elapsed:    0.3s finished\n",
      "[Parallel(n_jobs=-1)]: Done  48 out of  55 | elapsed:    1.3s remaining:    0.2s\n",
      "[Parallel(n_jobs=-1)]: Done  55 out of  55 | elapsed:    1.4s finished\n",
      "[Parallel(n_jobs=32)]: Done  48 out of  55 | elapsed:    0.1s remaining:    0.0s\n",
      "[Parallel(n_jobs=32)]: Done  55 out of  55 | elapsed:    0.1s finished\n"
     ]
    },
    {
     "name": "stdout",
     "output_type": "stream",
     "text": [
      "   83 | 00m21s |    0.69919 |     20.1054 |         0.0100 |        55.2075 | \n"
     ]
    },
    {
     "name": "stderr",
     "output_type": "stream",
     "text": [
      "[Parallel(n_jobs=-1)]: Done  91 out of  91 | elapsed:  2.3min finished\n",
      "[Parallel(n_jobs=32)]: Done  91 out of  91 | elapsed:    0.4s finished\n",
      "[Parallel(n_jobs=-1)]: Done  91 out of  91 | elapsed:  2.3min finished\n",
      "[Parallel(n_jobs=32)]: Done  91 out of  91 | elapsed:    0.3s finished\n",
      "[Parallel(n_jobs=-1)]: Done  91 out of  91 | elapsed:  2.2min finished\n",
      "[Parallel(n_jobs=32)]: Done  91 out of  91 | elapsed:    0.1s finished\n"
     ]
    },
    {
     "name": "stdout",
     "output_type": "stream",
     "text": [
      "   84 | 02m36s |    0.73220 |      8.9549 |         0.7377 |        91.2560 | \n"
     ]
    },
    {
     "name": "stderr",
     "output_type": "stream",
     "text": [
      "[Parallel(n_jobs=-1)]: Done 146 out of 146 | elapsed:  8.4min finished\n",
      "[Parallel(n_jobs=32)]: Done 146 out of 146 | elapsed:    0.5s finished\n",
      "[Parallel(n_jobs=-1)]: Done 146 out of 146 | elapsed:  8.4min finished\n",
      "[Parallel(n_jobs=32)]: Done 146 out of 146 | elapsed:    0.2s finished\n",
      "[Parallel(n_jobs=-1)]: Done 146 out of 146 | elapsed:  8.4min finished\n",
      "[Parallel(n_jobs=32)]: Done 146 out of 146 | elapsed:    0.2s finished\n"
     ]
    },
    {
     "name": "stdout",
     "output_type": "stream",
     "text": [
      "   85 | 08m47s |    0.72752 |     24.9468 |         0.7496 |       146.3461 | \n"
     ]
    },
    {
     "name": "stderr",
     "output_type": "stream",
     "text": [
      "[Parallel(n_jobs=-1)]: Done 136 tasks      | elapsed:  6.7min\n",
      "[Parallel(n_jobs=-1)]: Done 136 tasks      | elapsed:  6.7min\n",
      "[Parallel(n_jobs=-1)]: Done 136 tasks      | elapsed:  6.8min\n",
      "[Parallel(n_jobs=-1)]: Done 200 out of 200 | elapsed:  8.5min finished\n",
      "[Parallel(n_jobs=32)]: Done 136 tasks      | elapsed:    0.3s\n",
      "[Parallel(n_jobs=32)]: Done 200 out of 200 | elapsed:    0.4s finished\n",
      "[Parallel(n_jobs=-1)]: Done 200 out of 200 | elapsed:  8.5min finished\n",
      "[Parallel(n_jobs=32)]: Done 136 tasks      | elapsed:    0.2s\n",
      "[Parallel(n_jobs=32)]: Done 200 out of 200 | elapsed:    0.3s finished\n",
      "[Parallel(n_jobs=-1)]: Done 200 out of 200 | elapsed:  8.5min finished\n",
      "[Parallel(n_jobs=32)]: Done 136 tasks      | elapsed:    0.2s\n",
      "[Parallel(n_jobs=32)]: Done 200 out of 200 | elapsed:    0.2s finished\n"
     ]
    },
    {
     "name": "stdout",
     "output_type": "stream",
     "text": [
      "   86 | 08m53s |    0.73502 |     19.0097 |         0.6705 |       199.9888 | \n"
     ]
    },
    {
     "name": "stderr",
     "output_type": "stream",
     "text": [
      "[Parallel(n_jobs=-1)]: Done  23 out of  28 | elapsed:   42.7s remaining:    9.3s\n",
      "[Parallel(n_jobs=-1)]: Done  28 out of  28 | elapsed:   43.2s finished\n",
      "[Parallel(n_jobs=28)]: Done   2 out of  28 | elapsed:    0.2s remaining:    3.2s\n",
      "[Parallel(n_jobs=28)]: Done  28 out of  28 | elapsed:    0.4s finished\n",
      "[Parallel(n_jobs=-1)]: Done  23 out of  28 | elapsed:   44.5s remaining:    9.7s\n",
      "[Parallel(n_jobs=-1)]: Done  28 out of  28 | elapsed:   45.1s finished\n",
      "[Parallel(n_jobs=28)]: Done   2 out of  28 | elapsed:    0.0s remaining:    0.4s\n",
      "[Parallel(n_jobs=28)]: Done  28 out of  28 | elapsed:    0.1s finished\n",
      "[Parallel(n_jobs=-1)]: Done  23 out of  28 | elapsed:   43.5s remaining:    9.5s\n",
      "[Parallel(n_jobs=-1)]: Done  28 out of  28 | elapsed:   43.9s finished\n",
      "[Parallel(n_jobs=28)]: Done   2 out of  28 | elapsed:    0.0s remaining:    0.3s\n",
      "[Parallel(n_jobs=28)]: Done  28 out of  28 | elapsed:    0.0s finished\n"
     ]
    },
    {
     "name": "stdout",
     "output_type": "stream",
     "text": [
      "   87 | 01m05s |    0.73050 |      9.8457 |         0.7416 |        27.8188 | \n"
     ]
    },
    {
     "name": "stderr",
     "output_type": "stream",
     "text": [
      "[Parallel(n_jobs=-1)]: Done  83 out of  83 | elapsed:  3.8min finished\n",
      "[Parallel(n_jobs=32)]: Done  83 out of  83 | elapsed:    0.3s finished\n",
      "[Parallel(n_jobs=-1)]: Done  83 out of  83 | elapsed:  3.8min finished\n",
      "[Parallel(n_jobs=32)]: Done  83 out of  83 | elapsed:    0.1s finished\n",
      "[Parallel(n_jobs=-1)]: Done  83 out of  83 | elapsed:  3.7min finished\n",
      "[Parallel(n_jobs=32)]: Done  83 out of  83 | elapsed:    0.1s finished\n"
     ]
    },
    {
     "name": "stdout",
     "output_type": "stream",
     "text": [
      "   88 | 04m07s |    0.73270 |     17.8337 |         0.7490 |        82.8982 | \n"
     ]
    },
    {
     "name": "stderr",
     "output_type": "stream",
     "text": [
      "[Parallel(n_jobs=-1)]: Done 168 out of 168 | elapsed:  6.3min finished\n",
      "[Parallel(n_jobs=32)]: Done 168 out of 168 | elapsed:    0.3s finished\n",
      "[Parallel(n_jobs=-1)]: Done 168 out of 168 | elapsed:  6.3min finished\n",
      "[Parallel(n_jobs=32)]: Done 168 out of 168 | elapsed:    0.3s finished\n",
      "[Parallel(n_jobs=-1)]: Done 168 out of 168 | elapsed:  6.2min finished\n",
      "[Parallel(n_jobs=32)]: Done 168 out of 168 | elapsed:    0.2s finished\n"
     ]
    },
    {
     "name": "stdout",
     "output_type": "stream",
     "text": [
      "   89 | 06m39s |    0.73626 |     13.7980 |         0.7500 |       167.5628 | \n"
     ]
    },
    {
     "name": "stderr",
     "output_type": "stream",
     "text": [
      "[Parallel(n_jobs=-1)]: Done 124 out of 124 | elapsed:  3.2min finished\n",
      "[Parallel(n_jobs=32)]: Done 124 out of 124 | elapsed:    0.5s finished\n",
      "[Parallel(n_jobs=-1)]: Done 124 out of 124 | elapsed:  3.2min finished\n",
      "[Parallel(n_jobs=32)]: Done 124 out of 124 | elapsed:    0.2s finished\n",
      "[Parallel(n_jobs=-1)]: Done 124 out of 124 | elapsed:  3.1min finished\n",
      "[Parallel(n_jobs=32)]: Done 124 out of 124 | elapsed:    0.1s finished\n"
     ]
    },
    {
     "name": "stdout",
     "output_type": "stream",
     "text": [
      "   90 | 03m33s |    0.73182 |      8.8216 |         0.7500 |       123.5888 | \n"
     ]
    },
    {
     "name": "stderr",
     "output_type": "stream",
     "text": [
      "[Parallel(n_jobs=-1)]: Done 179 out of 179 | elapsed:  7.7min finished\n",
      "[Parallel(n_jobs=32)]: Done 179 out of 179 | elapsed:    0.7s finished\n",
      "[Parallel(n_jobs=-1)]: Done 179 out of 179 | elapsed:  7.7min finished\n",
      "[Parallel(n_jobs=-1)]: Done 179 out of 179 | elapsed:  7.7min finished\n",
      "[Parallel(n_jobs=32)]: Done 179 out of 179 | elapsed:    0.4s finished\n",
      "[Parallel(n_jobs=32)]: Done 179 out of 179 | elapsed:    0.4s finished\n"
     ]
    },
    {
     "name": "stdout",
     "output_type": "stream",
     "text": [
      "   91 | 08m05s |    0.73543 |     17.2329 |         0.7468 |       179.3822 | \n"
     ]
    },
    {
     "name": "stderr",
     "output_type": "stream",
     "text": [
      "[Parallel(n_jobs=-1)]: Done  26 out of  29 | elapsed:  1.3min remaining:    9.1s\n",
      "[Parallel(n_jobs=-1)]: Done  29 out of  29 | elapsed:  1.3min finished\n",
      "[Parallel(n_jobs=29)]: Done   2 out of  29 | elapsed:    0.1s remaining:    1.0s\n",
      "[Parallel(n_jobs=29)]: Done  29 out of  29 | elapsed:    0.2s finished\n",
      "[Parallel(n_jobs=-1)]: Done  26 out of  29 | elapsed:  1.3min remaining:    9.3s\n",
      "[Parallel(n_jobs=-1)]: Done  29 out of  29 | elapsed:  1.4min finished\n",
      "[Parallel(n_jobs=-1)]: Done  26 out of  29 | elapsed:  1.3min remaining:    9.1s\n",
      "[Parallel(n_jobs=29)]: Done   2 out of  29 | elapsed:    0.0s remaining:    0.4s\n",
      "[Parallel(n_jobs=29)]: Done  29 out of  29 | elapsed:    0.1s finished\n",
      "[Parallel(n_jobs=-1)]: Done  29 out of  29 | elapsed:  1.3min finished\n",
      "[Parallel(n_jobs=29)]: Done   2 out of  29 | elapsed:    0.0s remaining:    0.3s\n",
      "[Parallel(n_jobs=29)]: Done  29 out of  29 | elapsed:    0.0s finished\n"
     ]
    },
    {
     "name": "stdout",
     "output_type": "stream",
     "text": [
      "   92 | 01m43s |    0.72295 |     19.4448 |         0.7446 |        29.4310 | \n"
     ]
    },
    {
     "name": "stderr",
     "output_type": "stream",
     "text": [
      "[Parallel(n_jobs=-1)]: Done  97 out of  97 | elapsed:  2.3min finished\n",
      "[Parallel(n_jobs=32)]: Done  97 out of  97 | elapsed:    0.1s finished\n",
      "[Parallel(n_jobs=-1)]: Done  97 out of  97 | elapsed:  2.3min finished\n",
      "[Parallel(n_jobs=32)]: Done  97 out of  97 | elapsed:    0.1s finished\n",
      "[Parallel(n_jobs=-1)]: Done  97 out of  97 | elapsed:  2.2min finished\n",
      "[Parallel(n_jobs=32)]: Done  97 out of  97 | elapsed:    0.1s finished\n"
     ]
    },
    {
     "name": "stdout",
     "output_type": "stream",
     "text": [
      "   93 | 02m39s |    0.72996 |      7.7680 |         0.7419 |        97.3359 | \n"
     ]
    },
    {
     "name": "stderr",
     "output_type": "stream",
     "text": [
      "[Parallel(n_jobs=-1)]: Done 157 out of 157 | elapsed:  7.9min finished\n",
      "[Parallel(n_jobs=32)]: Done 157 out of 157 | elapsed:    0.7s finished\n",
      "[Parallel(n_jobs=-1)]: Done 157 out of 157 | elapsed:  7.9min finished\n",
      "[Parallel(n_jobs=32)]: Done 157 out of 157 | elapsed:    0.2s finished\n",
      "[Parallel(n_jobs=-1)]: Done 157 out of 157 | elapsed:  7.9min finished\n",
      "[Parallel(n_jobs=32)]: Done 157 out of 157 | elapsed:    0.2s finished\n"
     ]
    },
    {
     "name": "stdout",
     "output_type": "stream",
     "text": [
      "   94 | 08m18s |    0.73267 |     20.8385 |         0.7386 |       156.7249 | \n"
     ]
    },
    {
     "name": "stderr",
     "output_type": "stream",
     "text": [
      "[Parallel(n_jobs=-1)]: Done 136 tasks      | elapsed:  9.0min\n",
      "[Parallel(n_jobs=-1)]: Done 136 tasks      | elapsed:  9.0min\n",
      "[Parallel(n_jobs=-1)]: Done 136 tasks      | elapsed:  9.1min\n",
      "[Parallel(n_jobs=-1)]: Done 200 out of 200 | elapsed: 11.6min finished\n",
      "[Parallel(n_jobs=-1)]: Done 200 out of 200 | elapsed: 11.6min finished\n",
      "[Parallel(n_jobs=32)]: Done 136 tasks      | elapsed:    0.5s\n",
      "[Parallel(n_jobs=32)]: Done 136 tasks      | elapsed:    0.5s\n",
      "[Parallel(n_jobs=32)]: Done 200 out of 200 | elapsed:    0.7s finished\n",
      "[Parallel(n_jobs=32)]: Done 200 out of 200 | elapsed:    0.7s finished\n",
      "[Parallel(n_jobs=-1)]: Done 200 out of 200 | elapsed: 11.6min finished\n",
      "[Parallel(n_jobs=32)]: Done 136 tasks      | elapsed:    0.2s\n",
      "[Parallel(n_jobs=32)]: Done 200 out of 200 | elapsed:    0.3s finished\n"
     ]
    },
    {
     "name": "stdout",
     "output_type": "stream",
     "text": [
      "   95 | 11m58s |    0.72837 |     25.0000 |         0.7438 |       199.8245 | \n"
     ]
    },
    {
     "name": "stderr",
     "output_type": "stream",
     "text": [
      "[Parallel(n_jobs=-1)]: Done  12 out of  37 | elapsed:  1.5min remaining:  3.1min\n",
      "[Parallel(n_jobs=-1)]: Done  12 out of  37 | elapsed:  1.5min remaining:  3.2min\n",
      "[Parallel(n_jobs=-1)]: Done  12 out of  37 | elapsed:  1.5min remaining:  3.2min\n",
      "[Parallel(n_jobs=-1)]: Done  37 out of  37 | elapsed:  1.9min finished\n",
      "[Parallel(n_jobs=32)]: Done  12 out of  37 | elapsed:    0.1s remaining:    0.2s\n",
      "[Parallel(n_jobs=32)]: Done  37 out of  37 | elapsed:    0.1s finished\n",
      "[Parallel(n_jobs=-1)]: Done  37 out of  37 | elapsed:  1.9min finished\n",
      "[Parallel(n_jobs=32)]: Done  12 out of  37 | elapsed:    0.0s remaining:    0.1s\n",
      "[Parallel(n_jobs=32)]: Done  37 out of  37 | elapsed:    0.1s finished\n",
      "[Parallel(n_jobs=-1)]: Done  37 out of  37 | elapsed:  1.8min finished\n",
      "[Parallel(n_jobs=32)]: Done  12 out of  37 | elapsed:    0.0s remaining:    0.1s\n",
      "[Parallel(n_jobs=32)]: Done  37 out of  37 | elapsed:    0.1s finished\n"
     ]
    },
    {
     "name": "stdout",
     "output_type": "stream",
     "text": [
      "   96 | 02m18s |    0.72418 |     19.8632 |         0.7500 |        36.5887 | \n"
     ]
    },
    {
     "name": "stderr",
     "output_type": "stream",
     "text": [
      "[Parallel(n_jobs=-1)]: Done 172 out of 172 | elapsed:  2.4min finished\n",
      "[Parallel(n_jobs=32)]: Done 172 out of 172 | elapsed:    0.4s finished\n",
      "[Parallel(n_jobs=-1)]: Done 172 out of 172 | elapsed:  2.4min finished\n",
      "[Parallel(n_jobs=32)]: Done 172 out of 172 | elapsed:    0.1s finished\n",
      "[Parallel(n_jobs=-1)]: Done 172 out of 172 | elapsed:  2.4min finished\n",
      "[Parallel(n_jobs=32)]: Done 172 out of 172 | elapsed:    0.1s finished\n"
     ]
    },
    {
     "name": "stdout",
     "output_type": "stream",
     "text": [
      "   97 | 02m50s |    0.72055 |      5.0016 |         0.7030 |       172.2183 | \n"
     ]
    },
    {
     "name": "stderr",
     "output_type": "stream",
     "text": [
      "[Parallel(n_jobs=-1)]: Done 124 out of 124 | elapsed:  6.7min finished\n",
      "[Parallel(n_jobs=32)]: Done 124 out of 124 | elapsed:    0.6s finished\n",
      "[Parallel(n_jobs=-1)]: Done 124 out of 124 | elapsed:  6.7min finished\n",
      "[Parallel(n_jobs=32)]: Done 124 out of 124 | elapsed:    0.3s finished\n",
      "[Parallel(n_jobs=-1)]: Done 124 out of 124 | elapsed:  6.7min finished\n",
      "[Parallel(n_jobs=32)]: Done 124 out of 124 | elapsed:    0.2s finished\n"
     ]
    },
    {
     "name": "stdout",
     "output_type": "stream",
     "text": [
      "   98 | 07m06s |    0.72696 |     24.9920 |         0.6990 |       123.5521 | \n"
     ]
    },
    {
     "name": "stderr",
     "output_type": "stream",
     "text": [
      "[Parallel(n_jobs=-1)]: Done  70 out of  70 | elapsed:  2.9min finished\n",
      "[Parallel(n_jobs=32)]: Done  70 out of  70 | elapsed:    0.2s finished\n",
      "[Parallel(n_jobs=-1)]: Done  70 out of  70 | elapsed:  2.9min finished\n",
      "[Parallel(n_jobs=32)]: Done  70 out of  70 | elapsed:    0.1s finished\n",
      "[Parallel(n_jobs=-1)]: Done  70 out of  70 | elapsed:  2.9min finished\n",
      "[Parallel(n_jobs=32)]: Done  70 out of  70 | elapsed:    0.1s finished\n"
     ]
    },
    {
     "name": "stdout",
     "output_type": "stream",
     "text": [
      "   99 | 03m22s |    0.73385 |     15.7595 |         0.7500 |        70.3224 | \n"
     ]
    },
    {
     "name": "stderr",
     "output_type": "stream",
     "text": [
      "[Parallel(n_jobs=-1)]: Done 141 out of 141 | elapsed:    4.6s finished\n",
      "[Parallel(n_jobs=32)]: Done 141 out of 141 | elapsed:    0.7s finished\n",
      "[Parallel(n_jobs=-1)]: Done 141 out of 141 | elapsed:    5.9s finished\n",
      "[Parallel(n_jobs=32)]: Done 141 out of 141 | elapsed:    0.4s finished\n",
      "[Parallel(n_jobs=-1)]: Done 141 out of 141 | elapsed:    4.8s finished\n",
      "[Parallel(n_jobs=32)]: Done 141 out of 141 | elapsed:    0.1s finished\n"
     ]
    },
    {
     "name": "stdout",
     "output_type": "stream",
     "text": [
      "  100 | 00m33s |    0.72014 |     14.0613 |         0.0161 |       141.0966 | \n"
     ]
    },
    {
     "name": "stderr",
     "output_type": "stream",
     "text": [
      "/home/ec2-user/anaconda3/lib/python3.6/site-packages/sklearn/gaussian_process/gpr.py:308: UserWarning: Predicted variances smaller than 0. Setting those variances to 0.\n",
      "  warnings.warn(\"Predicted variances smaller than 0. \"\n",
      "[Parallel(n_jobs=-1)]: Done 131 out of 131 | elapsed:  4.0min finished\n",
      "[Parallel(n_jobs=32)]: Done 131 out of 131 | elapsed:    0.2s finished\n",
      "[Parallel(n_jobs=-1)]: Done 131 out of 131 | elapsed:  4.0min finished\n",
      "[Parallel(n_jobs=32)]: Done 131 out of 131 | elapsed:    0.1s finished\n",
      "[Parallel(n_jobs=-1)]: Done 131 out of 131 | elapsed:  4.0min finished\n",
      "[Parallel(n_jobs=32)]: Done 131 out of 131 | elapsed:    0.1s finished\n"
     ]
    },
    {
     "name": "stdout",
     "output_type": "stream",
     "text": [
      "  101 | 04m27s |    0.73441 |     10.9105 |         0.7441 |       130.6889 | \n"
     ]
    },
    {
     "name": "stderr",
     "output_type": "stream",
     "text": [
      "[Parallel(n_jobs=-1)]: Done 184 out of 184 | elapsed:    9.0s finished\n",
      "[Parallel(n_jobs=32)]: Done 184 out of 184 | elapsed:    1.3s finished\n",
      "[Parallel(n_jobs=-1)]: Done 184 out of 184 | elapsed:   11.4s finished\n",
      "[Parallel(n_jobs=32)]: Done 184 out of 184 | elapsed:    0.6s finished\n",
      "[Parallel(n_jobs=-1)]: Done 184 out of 184 | elapsed:   10.7s finished\n",
      "[Parallel(n_jobs=32)]: Done 184 out of 184 | elapsed:    0.2s finished\n"
     ]
    },
    {
     "name": "stdout",
     "output_type": "stream",
     "text": [
      "  102 | 00m40s |    0.72675 |     14.7022 |         0.0187 |       183.8422 | \n"
     ]
    },
    {
     "name": "stderr",
     "output_type": "stream",
     "text": [
      "[Parallel(n_jobs=-1)]: Done 150 out of 150 | elapsed:    2.3s finished\n",
      "[Parallel(n_jobs=32)]: Done 150 out of 150 | elapsed:    0.4s finished\n",
      "[Parallel(n_jobs=-1)]: Done 150 out of 150 | elapsed:    3.2s finished\n",
      "[Parallel(n_jobs=32)]: Done 150 out of 150 | elapsed:    0.5s finished\n",
      "[Parallel(n_jobs=-1)]: Done 150 out of 150 | elapsed:    3.0s finished\n",
      "[Parallel(n_jobs=32)]: Done 150 out of 150 | elapsed:    0.1s finished\n"
     ]
    },
    {
     "name": "stdout",
     "output_type": "stream",
     "text": [
      "  103 | 00m30s |    0.70738 |      9.9974 |         0.0100 |       150.0904 | \n"
     ]
    },
    {
     "name": "stderr",
     "output_type": "stream",
     "text": [
      "/home/ec2-user/anaconda3/lib/python3.6/site-packages/sklearn/gaussian_process/gpr.py:308: UserWarning: Predicted variances smaller than 0. Setting those variances to 0.\n",
      "  warnings.warn(\"Predicted variances smaller than 0. \"\n",
      "[Parallel(n_jobs=-1)]: Done 138 out of 138 | elapsed:  2.4min finished\n",
      "[Parallel(n_jobs=32)]: Done 138 out of 138 | elapsed:    0.3s finished\n",
      "[Parallel(n_jobs=-1)]: Done 138 out of 138 | elapsed:  2.4min finished\n",
      "[Parallel(n_jobs=32)]: Done 138 out of 138 | elapsed:    0.2s finished\n",
      "[Parallel(n_jobs=-1)]: Done 138 out of 138 | elapsed:  2.4min finished\n",
      "[Parallel(n_jobs=32)]: Done 138 out of 138 | elapsed:    0.1s finished\n"
     ]
    },
    {
     "name": "stdout",
     "output_type": "stream",
     "text": [
      "  104 | 02m52s |    0.72439 |      5.8062 |         0.7297 |       137.9405 | \n"
     ]
    },
    {
     "name": "stderr",
     "output_type": "stream",
     "text": [
      "[Parallel(n_jobs=-1)]: Done 157 out of 157 | elapsed:   10.5s finished\n",
      "[Parallel(n_jobs=32)]: Done 157 out of 157 | elapsed:    0.7s finished\n",
      "[Parallel(n_jobs=-1)]: Done 157 out of 157 | elapsed:   12.7s finished\n",
      "[Parallel(n_jobs=32)]: Done 157 out of 157 | elapsed:    0.3s finished\n",
      "[Parallel(n_jobs=-1)]: Done 157 out of 157 | elapsed:   11.9s finished\n",
      "[Parallel(n_jobs=32)]: Done 157 out of 157 | elapsed:    0.1s finished\n"
     ]
    },
    {
     "name": "stdout",
     "output_type": "stream",
     "text": [
      "  105 | 00m40s |    0.72960 |      5.1770 |         0.0703 |       157.1252 | \n"
     ]
    },
    {
     "name": "stderr",
     "output_type": "stream",
     "text": [
      "[Parallel(n_jobs=-1)]: Done 144 out of 144 | elapsed:  7.1min finished\n",
      "[Parallel(n_jobs=32)]: Done 144 out of 144 | elapsed:    0.4s finished\n",
      "[Parallel(n_jobs=-1)]: Done 144 out of 144 | elapsed:  7.1min finished\n",
      "[Parallel(n_jobs=32)]: Done 144 out of 144 | elapsed:    0.3s finished\n",
      "[Parallel(n_jobs=-1)]: Done 144 out of 144 | elapsed:  7.1min finished\n",
      "[Parallel(n_jobs=32)]: Done 144 out of 144 | elapsed:    0.2s finished\n"
     ]
    },
    {
     "name": "stdout",
     "output_type": "stream",
     "text": [
      "  106 | 07m34s |    0.73341 |     19.5064 |         0.7500 |       144.1960 | \n"
     ]
    },
    {
     "name": "stderr",
     "output_type": "stream",
     "text": [
      "[Parallel(n_jobs=-1)]: Done 150 out of 150 | elapsed:  7.6min finished\n",
      "[Parallel(n_jobs=32)]: Done 150 out of 150 | elapsed:    0.5s finished\n",
      "[Parallel(n_jobs=-1)]: Done 150 out of 150 | elapsed:  7.6min finished\n",
      "[Parallel(n_jobs=32)]: Done 150 out of 150 | elapsed:    0.3s finished\n",
      "[Parallel(n_jobs=-1)]: Done 150 out of 150 | elapsed:  7.6min finished\n",
      "[Parallel(n_jobs=32)]: Done 150 out of 150 | elapsed:    0.2s finished\n"
     ]
    },
    {
     "name": "stdout",
     "output_type": "stream",
     "text": [
      "  107 | 08m05s |    0.73255 |     21.0759 |         0.7478 |       150.1420 | \n"
     ]
    },
    {
     "name": "stderr",
     "output_type": "stream",
     "text": [
      "[Parallel(n_jobs=-1)]: Done 141 out of 141 | elapsed:  3.6min finished\n",
      "[Parallel(n_jobs=32)]: Done 141 out of 141 | elapsed:    0.3s finished\n",
      "[Parallel(n_jobs=-1)]: Done 141 out of 141 | elapsed:  3.6min finished\n",
      "[Parallel(n_jobs=32)]: Done 141 out of 141 | elapsed:    0.2s finished\n",
      "[Parallel(n_jobs=-1)]: Done 141 out of 141 | elapsed:  3.6min finished\n",
      "[Parallel(n_jobs=32)]: Done 141 out of 141 | elapsed:    0.1s finished\n"
     ]
    },
    {
     "name": "stdout",
     "output_type": "stream",
     "text": [
      "  108 | 04m03s |    0.73197 |      9.4554 |         0.7500 |       141.4496 | \n"
     ]
    },
    {
     "name": "stderr",
     "output_type": "stream",
     "text": [
      "[Parallel(n_jobs=-1)]: Done 134 out of 134 | elapsed:  5.3min finished\n",
      "[Parallel(n_jobs=32)]: Done 134 out of 134 | elapsed:    0.3s finished\n",
      "[Parallel(n_jobs=-1)]: Done 134 out of 134 | elapsed:  5.3min finished\n",
      "[Parallel(n_jobs=32)]: Done 134 out of 134 | elapsed:    0.2s finished\n",
      "[Parallel(n_jobs=-1)]: Done 134 out of 134 | elapsed:  5.3min finished\n",
      "[Parallel(n_jobs=32)]: Done 134 out of 134 | elapsed:    0.1s finished\n"
     ]
    },
    {
     "name": "stdout",
     "output_type": "stream",
     "text": [
      "  109 | 05m47s |    0.73597 |     14.9137 |         0.7500 |       134.0405 | \n"
     ]
    },
    {
     "name": "stderr",
     "output_type": "stream",
     "text": [
      "/home/ec2-user/anaconda3/lib/python3.6/site-packages/sklearn/gaussian_process/gpr.py:427: UserWarning: fmin_l_bfgs_b terminated abnormally with the  state: {'grad': array([ 0.00020708]), 'task': b'ABNORMAL_TERMINATION_IN_LNSRCH', 'funcalls': 51, 'nit': 4, 'warnflag': 2}\n",
      "  \" state: %s\" % convergence_dict)\n",
      "[Parallel(n_jobs=-1)]: Done 113 out of 113 | elapsed:  6.1min finished\n",
      "[Parallel(n_jobs=32)]: Done 113 out of 113 | elapsed:    0.6s finished\n",
      "[Parallel(n_jobs=-1)]: Done 113 out of 113 | elapsed:  6.1min finished\n",
      "[Parallel(n_jobs=32)]: Done 113 out of 113 | elapsed:    0.2s finished\n",
      "[Parallel(n_jobs=-1)]: Done 113 out of 113 | elapsed:  6.1min finished\n",
      "[Parallel(n_jobs=32)]: Done 113 out of 113 | elapsed:    0.2s finished\n"
     ]
    },
    {
     "name": "stdout",
     "output_type": "stream",
     "text": [
      "  110 | 06m37s |    0.72946 |     23.0671 |         0.7490 |       113.2034 | \n",
      "TIME TAKEN (MIN): 338.40679365793864\n"
     ]
    }
   ],
   "source": [
    "start = time.time()\n",
    "etBO = BayesianOptimization(et_func, {p: (min(et_params[p]), max(et_params[p])) for p in et_params})\n",
    "etBO.maximize(10, 100)\n",
    "print('TIME TAKEN (MIN):', (time.time() - start)/60)"
   ]
  },
  {
   "cell_type": "code",
   "execution_count": 28,
   "metadata": {
    "collapsed": true
   },
   "outputs": [],
   "source": [
    "result = etBO.res['max']\n",
    "# best_params = result['max_params']\n",
    "# best_score = result['max_value']\n",
    "print(result)\n",
    "all_results['et'] = result"
   ]
  },
  {
   "cell_type": "code",
   "execution_count": null,
   "metadata": {
    "collapsed": true
   },
   "outputs": [],
   "source": []
  },
  {
   "cell_type": "markdown",
   "metadata": {},
   "source": [
    "#### LGBM"
   ]
  },
  {
   "cell_type": "code",
   "execution_count": 29,
   "metadata": {
    "collapsed": true
   },
   "outputs": [],
   "source": [
    "lgbm_bounds = {p: (min(lgb_params[p]), max(lgb_params[p])) for p in lgb_params}\n",
    "lgbm_bounds.update({'boosting': (0,1)})"
   ]
  },
  {
   "cell_type": "code",
   "execution_count": 36,
   "metadata": {
    "collapsed": true
   },
   "outputs": [],
   "source": [
    "def lgb_func(**params):\n",
    "    params['boosting'] = 'gbdt' if np.round(params['boosting']) == 0 else 'dart'\n",
    "    params['num_iterations'] = int(np.round(params['num_iterations']))\n",
    "    params['max_depth'] = int(np.round(params['max_depth']))\n",
    "    params['learning_rate'] = np.clip(params['learning_rate'], 0.0001, 1)\n",
    "    params['subsample'] = np.clip(params['subsample'], 0.0001, 1)\n",
    "    params['colsample_bytree'] = np.clip(params['colsample_bytree'], 0.0001, 1)    \n",
    "    \n",
    "    cv = StratifiedKFold(N_CV, True, SEED)\n",
    "    est = LGBMClassifier(**lgb_default_params, **params)\n",
    "    roc_auc = np.mean(cross_val_score(est, x_train, y_train, scoring='roc_auc', cv=cv, n_jobs=-1))\n",
    "    return roc_auc"
   ]
  },
  {
   "cell_type": "code",
   "execution_count": 37,
   "metadata": {},
   "outputs": [
    {
     "name": "stdout",
     "output_type": "stream",
     "text": [
      "\u001b[31mInitialization\u001b[0m\n",
      "\u001b[94m-------------------------------------------------------------------------------------------------------------------------\u001b[0m\n",
      " Step |   Time |      Value |   boosting |   colsample_bytree |   learning_rate |   max_depth |    n_iter |   subsample | \n",
      "    1 | 00m18s | \u001b[35m   0.76232\u001b[0m | \u001b[32m    0.5101\u001b[0m | \u001b[32m            0.1302\u001b[0m | \u001b[32m         0.1547\u001b[0m | \u001b[32m    11.3904\u001b[0m | \u001b[32m 167.8788\u001b[0m | \u001b[32m     0.0862\u001b[0m | \n",
      "    2 | 00m15s |    0.73637 |     0.4421 |             0.3621 |          0.5778 |      5.6535 |  208.4063 |      0.2464 | \n",
      "    3 | 00m17s |    0.74266 |     0.9955 |             0.1916 |          0.7767 |     21.1522 |  101.4697 |      0.6110 | \n",
      "    4 | 00m16s |    0.74563 |     0.3162 |             0.5576 |          0.3964 |     20.2816 |   36.8746 |      0.7254 | \n",
      "    5 | 00m15s |    0.75197 |     0.4680 |             0.1058 |          0.3785 |     18.3717 |  204.9472 |      0.1474 | \n",
      "    6 | 00m16s |    0.73944 |     0.1426 |             0.5686 |          0.4594 |     18.1782 |   45.2143 |      0.7810 | \n",
      "    7 | 00m19s |    0.74456 |     0.8377 |             0.1237 |          0.0419 |     16.4874 |  171.0142 |      0.1908 | \n",
      "    8 | 00m19s |    0.76110 |     0.7044 |             0.5908 |          0.4481 |     11.1964 |   57.0528 |      0.4678 | \n",
      "    9 | 00m15s |    0.74836 |     0.0997 |             0.0505 |          0.3169 |     12.4147 |  237.4311 |      0.0101 | \n",
      "   10 | 00m15s |    0.74788 |     0.1495 |             0.2091 |          0.3872 |     11.0434 |   83.0844 |      0.2940 | \n",
      "\u001b[31mBayesian Optimization\u001b[0m\n",
      "\u001b[94m-------------------------------------------------------------------------------------------------------------------------\u001b[0m\n",
      " Step |   Time |      Value |   boosting |   colsample_bytree |   learning_rate |   max_depth |    n_iter |   subsample | \n",
      "   11 | 00m28s |    0.74352 |     0.5430 |             0.7433 |          0.0555 |      5.2138 |   32.0616 |      0.7421 | \n",
      "   12 | 00m29s |    0.74542 |     1.0000 |             0.8000 |          0.8000 |     25.0000 |  256.0000 |      0.8000 | \n",
      "   13 | 00m28s |    0.72735 |     1.0000 |             0.8000 |          0.0100 |      5.0000 |  125.0362 |      0.8000 | \n",
      "   14 | 00m22s |    0.72766 |     1.0000 |             0.0100 |          0.8000 |      5.0000 |  256.0000 |      0.0100 | \n",
      "   15 | 00m29s |    0.75134 |     0.9523 |             0.7514 |          0.5960 |     24.9390 |   71.2656 |      0.1702 | \n",
      "   16 | 00m28s | \u001b[35m   0.76300\u001b[0m | \u001b[32m    0.8789\u001b[0m | \u001b[32m            0.6841\u001b[0m | \u001b[32m         0.3969\u001b[0m | \u001b[32m    24.8872\u001b[0m | \u001b[32m 227.9326\u001b[0m | \u001b[32m     0.1789\u001b[0m | \n",
      "   17 | 00m25s |    0.75566 |     0.9626 |             0.3318 |          0.7233 |      5.0589 |  177.2192 |      0.5491 | \n",
      "   18 | 00m25s |    0.72499 |     0.0672 |             0.7988 |          0.7707 |     24.9602 |  140.4501 |      0.0175 | \n",
      "   19 | 00m26s |    0.74386 |     0.9390 |             0.0738 |          0.7968 |      5.6750 |  154.0880 |      0.5467 | \n",
      "   20 | 00m24s |    0.70348 |     0.9159 |             0.0270 |          0.0749 |      5.2881 |   64.3956 |      0.0571 | \n",
      "   21 | 00m28s |    0.73311 |     0.0138 |             0.7847 |          0.5231 |     17.1491 |   68.9965 |      0.7912 | \n"
     ]
    },
    {
     "name": "stderr",
     "output_type": "stream",
     "text": [
      "/home/ec2-user/anaconda3/lib/python3.6/site-packages/sklearn/gaussian_process/gpr.py:427: UserWarning: fmin_l_bfgs_b terminated abnormally with the  state: {'grad': array([ -7.75064359e-05]), 'task': b'ABNORMAL_TERMINATION_IN_LNSRCH', 'funcalls': 51, 'nit': 5, 'warnflag': 2}\n",
      "  \" state: %s\" % convergence_dict)\n"
     ]
    },
    {
     "name": "stdout",
     "output_type": "stream",
     "text": [
      "   22 | 00m31s |    0.75409 |     0.9965 |             0.7816 |          0.7368 |      5.1259 |  100.5630 |      0.4423 | \n",
      "   23 | 00m31s |    0.74520 |     1.0000 |             0.8000 |          0.8000 |     17.6830 |   32.0011 |      0.0100 | \n",
      "   24 | 00m26s |    0.68306 |     0.0000 |             0.0100 |          0.0100 |     25.0000 |  242.2520 |      0.0100 | \n",
      "   25 | 00m31s |    0.75209 |     1.0000 |             0.8000 |          0.8000 |      5.0000 |  228.1773 |      0.8000 | \n",
      "   26 | 00m28s |    0.72384 |     1.0000 |             0.0100 |          0.8000 |     16.1876 |  219.6935 |      0.8000 | \n",
      "   27 | 00m31s |    0.72825 |     0.0000 |             0.8000 |          0.8000 |     25.0000 |  189.9705 |      0.0100 | \n"
     ]
    },
    {
     "name": "stderr",
     "output_type": "stream",
     "text": [
      "/home/ec2-user/anaconda3/lib/python3.6/site-packages/sklearn/gaussian_process/gpr.py:427: UserWarning: fmin_l_bfgs_b terminated abnormally with the  state: {'grad': array([  3.33286953e-05]), 'task': b'ABNORMAL_TERMINATION_IN_LNSRCH', 'funcalls': 55, 'nit': 5, 'warnflag': 2}\n",
      "  \" state: %s\" % convergence_dict)\n"
     ]
    },
    {
     "name": "stdout",
     "output_type": "stream",
     "text": [
      "   28 | 00m35s |    0.73052 |     1.0000 |             0.8000 |          0.0100 |     25.0000 |   85.4162 |      0.8000 | \n",
      "   29 | 00m33s |    0.73670 |     0.0000 |             0.8000 |          0.0100 |     25.0000 |  208.7703 |      0.0100 | \n",
      "   30 | 00m34s |    0.73670 |     0.0000 |             0.8000 |          0.0100 |     10.7434 |  188.5835 |      0.0100 | \n",
      "   31 | 00m28s |    0.72381 |     1.0000 |             0.0100 |          0.8000 |     25.0000 |  124.0899 |      0.0100 | \n"
     ]
    },
    {
     "name": "stderr",
     "output_type": "stream",
     "text": [
      "/home/ec2-user/anaconda3/lib/python3.6/site-packages/sklearn/gaussian_process/gpr.py:427: UserWarning: fmin_l_bfgs_b terminated abnormally with the  state: {'grad': array([ -2.02444180e-05]), 'task': b'ABNORMAL_TERMINATION_IN_LNSRCH', 'funcalls': 66, 'nit': 7, 'warnflag': 2}\n",
      "  \" state: %s\" % convergence_dict)\n"
     ]
    },
    {
     "name": "stdout",
     "output_type": "stream",
     "text": [
      "   32 | 00m29s |    0.69184 |     1.0000 |             0.0100 |          0.0100 |     25.0000 |   32.0000 |      0.0100 | \n",
      "   33 | 00m29s |    0.72865 |     0.2436 |             0.7714 |          0.7480 |      5.6078 |   46.7074 |      0.2453 | \n",
      "   34 | 00m27s |    0.72384 |     1.0000 |             0.0100 |          0.8000 |     13.5076 |  138.4555 |      0.0100 | \n",
      "   35 | 00m32s | \u001b[35m   0.76479\u001b[0m | \u001b[32m    1.0000\u001b[0m | \u001b[32m            0.2110\u001b[0m | \u001b[32m         0.1849\u001b[0m | \u001b[32m    25.0000\u001b[0m | \u001b[32m 157.8412\u001b[0m | \u001b[32m     0.0100\u001b[0m | \n",
      "   36 | 00m30s |    0.75209 |     1.0000 |             0.8000 |          0.8000 |      5.1577 |  244.7934 |      0.8000 | \n",
      "   37 | 00m27s |    0.73801 |     0.0708 |             0.0303 |          0.1771 |     12.9594 |  113.1268 |      0.0134 | \n"
     ]
    },
    {
     "name": "stderr",
     "output_type": "stream",
     "text": [
      "/home/ec2-user/anaconda3/lib/python3.6/site-packages/sklearn/gaussian_process/gpr.py:427: UserWarning: fmin_l_bfgs_b terminated abnormally with the  state: {'grad': array([ -2.95763421e-05]), 'task': b'ABNORMAL_TERMINATION_IN_LNSRCH', 'funcalls': 54, 'nit': 6, 'warnflag': 2}\n",
      "  \" state: %s\" % convergence_dict)\n"
     ]
    },
    {
     "name": "stdout",
     "output_type": "stream",
     "text": [
      "   38 | 00m35s |    0.75826 |     1.0000 |             0.8000 |          0.1063 |     14.6909 |  255.3297 |      0.0100 | \n",
      "   39 | 00m32s |    0.74625 |     1.0000 |             0.8000 |          0.8000 |     17.0496 |  156.3969 |      0.6977 | \n",
      "   40 | 00m35s |    0.73712 |     1.0000 |             0.7988 |          0.0246 |     12.6769 |   97.7796 |      0.0100 | \n",
      "   41 | 00m30s |    0.74364 |     0.9505 |             0.0438 |          0.5582 |     11.9694 |   37.4320 |      0.7324 | \n",
      "   42 | 00m26s |    0.72534 |     1.0000 |             0.0100 |          0.8000 |      5.6555 |  195.9077 |      0.0100 | \n"
     ]
    },
    {
     "name": "stderr",
     "output_type": "stream",
     "text": [
      "/home/ec2-user/anaconda3/lib/python3.6/site-packages/sklearn/gaussian_process/gpr.py:427: UserWarning: fmin_l_bfgs_b terminated abnormally with the  state: {'grad': array([-0.00012928]), 'task': b'ABNORMAL_TERMINATION_IN_LNSRCH', 'funcalls': 63, 'nit': 5, 'warnflag': 2}\n",
      "  \" state: %s\" % convergence_dict)\n"
     ]
    },
    {
     "name": "stdout",
     "output_type": "stream",
     "text": [
      "   43 | 00m32s |    0.74934 |     0.9956 |             0.7440 |          0.7284 |     23.7995 |   58.3561 |      0.6849 | \n",
      "   44 | 00m30s |    0.75815 |     1.0000 |             0.8000 |          0.6413 |      5.0000 |  166.5479 |      0.0100 | \n",
      "   45 | 00m26s |    0.72794 |     0.0151 |             0.0927 |          0.6622 |     23.9312 |  164.4973 |      0.6159 | \n",
      "   46 | 00m31s |    0.72745 |     1.0000 |             0.8000 |          0.0100 |      5.0000 |  234.3697 |      0.0100 | \n",
      "   47 | 00m31s |    0.74520 |     0.6787 |             0.8000 |          0.8000 |     17.5142 |  233.6627 |      0.8000 | \n"
     ]
    },
    {
     "name": "stderr",
     "output_type": "stream",
     "text": [
      "/home/ec2-user/anaconda3/lib/python3.6/site-packages/sklearn/gaussian_process/gpr.py:427: UserWarning: fmin_l_bfgs_b terminated abnormally with the  state: {'grad': array([-0.00010548]), 'task': b'ABNORMAL_TERMINATION_IN_LNSRCH', 'funcalls': 53, 'nit': 5, 'warnflag': 2}\n",
      "  \" state: %s\" % convergence_dict)\n"
     ]
    },
    {
     "name": "stdout",
     "output_type": "stream",
     "text": [
      "   48 | 00m27s |    0.72551 |     0.0169 |             0.1969 |          0.7768 |     14.8139 |  255.6710 |      0.5165 | \n",
      "   49 | 00m27s |    0.72772 |     1.0000 |             0.0100 |          0.7727 |      5.0000 |   89.3813 |      0.0100 | \n",
      "   50 | 00m26s |    0.72766 |     0.6646 |             0.0100 |          0.8000 |      5.0000 |  112.5035 |      0.0100 | \n",
      "   51 | 00m31s |    0.73123 |     0.0479 |             0.6316 |          0.5698 |     24.9172 |  110.9809 |      0.0611 | \n",
      "   52 | 00m33s |    0.75987 |     0.8976 |             0.2009 |          0.0954 |     24.9124 |  149.5005 |      0.7448 | \n",
      "   53 | 00m29s |    0.74316 |     1.0000 |             0.1748 |          0.8000 |     14.0854 |  244.3226 |      0.0100 | \n",
      "   54 | 00m33s |    0.74782 |     1.0000 |             0.3170 |          0.0245 |     21.3623 |  195.1124 |      0.8000 | \n",
      "   55 | 00m25s |    0.71815 |     0.0000 |             0.0100 |          0.8000 |      9.4620 |   98.6524 |      0.8000 | \n"
     ]
    },
    {
     "name": "stderr",
     "output_type": "stream",
     "text": [
      "/home/ec2-user/anaconda3/lib/python3.6/site-packages/sklearn/gaussian_process/gpr.py:427: UserWarning: fmin_l_bfgs_b terminated abnormally with the  state: {'grad': array([-0.00011202]), 'task': b'ABNORMAL_TERMINATION_IN_LNSRCH', 'funcalls': 51, 'nit': 4, 'warnflag': 2}\n",
      "  \" state: %s\" % convergence_dict)\n"
     ]
    },
    {
     "name": "stdout",
     "output_type": "stream",
     "text": [
      "   56 | 00m32s |    0.74752 |     1.0000 |             0.7951 |          0.8000 |     13.6778 |   80.1131 |      0.6925 | \n",
      "   57 | 00m32s |    0.75679 |     0.4704 |             0.7292 |          0.0346 |     17.1830 |   57.1659 |      0.0431 | \n",
      "   58 | 00m32s |    0.75099 |     0.0198 |             0.6753 |          0.0246 |     11.4746 |   32.4542 |      0.7786 | \n",
      "   59 | 00m26s |    0.68306 |     0.2965 |             0.0100 |          0.0100 |     20.3278 |  151.6725 |      0.0100 | \n",
      "   60 | 00m33s |    0.74625 |     1.0000 |             0.8000 |          0.8000 |     16.7141 |  122.0470 |      0.8000 | \n"
     ]
    },
    {
     "name": "stderr",
     "output_type": "stream",
     "text": [
      "/home/ec2-user/anaconda3/lib/python3.6/site-packages/sklearn/gaussian_process/gpr.py:427: UserWarning: fmin_l_bfgs_b terminated abnormally with the  state: {'grad': array([  2.83606438e-05]), 'task': b'ABNORMAL_TERMINATION_IN_LNSRCH', 'funcalls': 47, 'nit': 3, 'warnflag': 2}\n",
      "  \" state: %s\" % convergence_dict)\n"
     ]
    },
    {
     "name": "stdout",
     "output_type": "stream",
     "text": [
      "   61 | 00m34s |    0.74744 |     0.8402 |             0.6143 |          0.8000 |     10.3827 |  170.6288 |      0.8000 | \n",
      "   62 | 00m34s |    0.74743 |     1.0000 |             0.3754 |          0.0242 |     25.0000 |  132.4164 |      0.8000 | \n",
      "   63 | 00m30s |    0.75477 |     1.0000 |             0.8000 |          0.7121 |      5.0008 |  138.8535 |      0.4902 | \n"
     ]
    },
    {
     "name": "stderr",
     "output_type": "stream",
     "text": [
      "/home/ec2-user/anaconda3/lib/python3.6/site-packages/sklearn/gaussian_process/gpr.py:427: UserWarning: fmin_l_bfgs_b terminated abnormally with the  state: {'grad': array([  5.12114639e-05]), 'task': b'ABNORMAL_TERMINATION_IN_LNSRCH', 'funcalls': 52, 'nit': 5, 'warnflag': 2}\n",
      "  \" state: %s\" % convergence_dict)\n"
     ]
    },
    {
     "name": "stdout",
     "output_type": "stream",
     "text": [
      "   64 | 00m30s |    0.76040 |     0.0020 |             0.3413 |          0.2843 |      5.5928 |  220.9805 |      0.0855 | \n",
      "   65 | 00m33s |    0.75772 |     0.9808 |             0.7965 |          0.5087 |     11.1867 |  111.1444 |      0.7899 | \n",
      "   66 | 00m31s |    0.73947 |     0.9993 |             0.1168 |          0.0302 |      8.4345 |  162.1231 |      0.7827 | \n",
      "   67 | 00m33s |    0.74820 |     0.9736 |             0.7074 |          0.7693 |     24.5487 |  199.5662 |      0.1119 | \n",
      "   68 | 00m27s |    0.71840 |     0.0000 |             0.0100 |          0.8000 |      7.2489 |   32.0920 |      0.0100 | \n",
      "   69 | 00m30s |    0.75909 |     0.0306 |             0.7357 |          0.0521 |      5.1224 |   80.7867 |      0.6832 | \n",
      "   70 | 00m30s |    0.72847 |     0.0944 |             0.7976 |          0.7583 |     11.9881 |  228.4182 |      0.1281 | \n",
      "   71 | 00m31s |    0.74567 |     0.9563 |             0.1304 |          0.0371 |      8.2743 |  250.6880 |      0.7856 | \n",
      "   72 | 00m32s |    0.74360 |     1.0000 |             0.8000 |          0.8000 |     25.0000 |  151.0787 |      0.8000 | \n",
      "   73 | 00m32s |    0.74409 |     0.9696 |             0.1490 |          0.0370 |     20.2188 |  111.2795 |      0.7617 | \n",
      "   74 | 00m31s |    0.74786 |     0.8769 |             0.1001 |          0.7992 |     16.7212 |  164.6819 |      0.0510 | \n",
      "   75 | 00m34s |    0.72735 |     1.0000 |             0.8000 |          0.0100 |      5.2773 |  149.0411 |      0.8000 | \n",
      "   76 | 00m33s |    0.74672 |     0.8931 |             0.4934 |          0.0298 |     24.8780 |  180.3095 |      0.1211 | \n"
     ]
    },
    {
     "name": "stderr",
     "output_type": "stream",
     "text": [
      "/home/ec2-user/anaconda3/lib/python3.6/site-packages/sklearn/gaussian_process/gpr.py:427: UserWarning: fmin_l_bfgs_b terminated abnormally with the  state: {'grad': array([ -6.47053922e-05]), 'task': b'ABNORMAL_TERMINATION_IN_LNSRCH', 'funcalls': 58, 'nit': 5, 'warnflag': 2}\n",
      "  \" state: %s\" % convergence_dict)\n"
     ]
    },
    {
     "name": "stdout",
     "output_type": "stream",
     "text": [
      "   77 | 00m35s |    0.76460 |     0.9887 |             0.7820 |          0.3323 |     24.7345 |   45.5675 |      0.3816 | \n",
      "   78 | 00m31s |    0.74234 |     0.9716 |             0.0608 |          0.7385 |     24.9985 |  217.2378 |      0.2606 | \n",
      "   79 | 00m32s |    0.75006 |     0.0357 |             0.6754 |          0.0298 |      5.0385 |  174.6070 |      0.0193 | \n",
      "   80 | 00m30s |    0.69184 |     1.0000 |             0.0100 |          0.0100 |     13.4877 |  180.5865 |      0.0100 | \n",
      "   81 | 00m36s |    0.73302 |     0.9786 |             0.7512 |          0.0117 |     24.6622 |  171.8896 |      0.5391 | \n"
     ]
    },
    {
     "name": "stderr",
     "output_type": "stream",
     "text": [
      "/home/ec2-user/anaconda3/lib/python3.6/site-packages/sklearn/gaussian_process/gpr.py:427: UserWarning: fmin_l_bfgs_b terminated abnormally with the  state: {'grad': array([ -9.03267428e-05]), 'task': b'ABNORMAL_TERMINATION_IN_LNSRCH', 'funcalls': 52, 'nit': 4, 'warnflag': 2}\n",
      "  \" state: %s\" % convergence_dict)\n"
     ]
    },
    {
     "name": "stdout",
     "output_type": "stream",
     "text": [
      "   82 | 00m35s |    0.74834 |     0.9786 |             0.7702 |          0.0754 |      5.2153 |  185.9534 |      0.2382 | \n",
      "   83 | 00m30s |    0.68306 |     0.0000 |             0.0100 |          0.0100 |     24.6706 |  201.7397 |      0.0886 | \n",
      "   84 | 00m38s |    0.75790 |     1.0000 |             0.8000 |          0.1040 |     12.7394 |  200.5241 |      0.2878 | \n",
      "   85 | 00m35s |    0.74822 |     1.0000 |             0.8000 |          0.8000 |      5.9681 |  216.0567 |      0.6989 | \n",
      "   86 | 00m37s |    0.76291 |     0.9664 |             0.7793 |          0.3565 |     15.6711 |  209.4841 |      0.0648 | \n",
      "   87 | 00m36s |    0.74869 |     0.9744 |             0.6897 |          0.6842 |     18.1926 |  194.3902 |      0.0615 | \n",
      "   88 | 00m36s |    0.74691 |     1.0000 |             0.7615 |          0.8000 |     20.6182 |  207.1825 |      0.8000 | \n",
      "   89 | 00m38s |    0.73670 |     0.0941 |             0.8000 |          0.0100 |     25.0000 |   98.9035 |      0.5715 | \n",
      "   90 | 00m39s |    0.73052 |     1.0000 |             0.8000 |          0.0100 |     15.1052 |   39.7630 |      0.0100 | \n",
      "   91 | 00m31s |    0.69154 |     1.0000 |             0.0100 |          0.0100 |      5.0000 |   52.2804 |      0.8000 | \n",
      "   92 | 00m35s |    0.72940 |     0.0000 |             0.8000 |          0.8000 |      8.6063 |   73.5001 |      0.0100 | \n",
      "   93 | 00m34s |    0.72825 |     0.0000 |             0.8000 |          0.8000 |     24.8468 |   53.8122 |      0.2002 | \n",
      "   94 | 00m36s |    0.74542 |     1.0000 |             0.8000 |          0.8000 |     24.6754 |   36.5295 |      0.8000 | \n",
      "   95 | 00m38s |    0.73703 |     0.0000 |             0.8000 |          0.0103 |     24.4069 |  222.8113 |      0.4179 | \n",
      "   96 | 00m32s |    0.72386 |     1.0000 |             0.0100 |          0.8000 |     11.2304 |  127.5908 |      0.0100 | \n",
      "   97 | 00m34s |    0.72999 |     0.0985 |             0.7861 |          0.7722 |     17.1434 |   88.7721 |      0.0450 | \n",
      "   98 | 00m38s |    0.74804 |     0.9611 |             0.7594 |          0.7531 |     14.7214 |   61.3146 |      0.1107 | \n",
      "   99 | 00m33s |    0.69184 |     1.0000 |             0.0100 |          0.0100 |     23.5429 |  161.0309 |      0.8000 | \n",
      "  100 | 00m36s |    0.72767 |     0.0286 |             0.7226 |          0.6950 |      9.7118 |  158.3693 |      0.2181 | \n",
      "  101 | 00m34s |    0.72384 |     1.0000 |             0.0100 |          0.8000 |     13.0557 |  153.8086 |      0.0100 | \n"
     ]
    },
    {
     "name": "stderr",
     "output_type": "stream",
     "text": [
      "/home/ec2-user/anaconda3/lib/python3.6/site-packages/sklearn/gaussian_process/gpr.py:427: UserWarning: fmin_l_bfgs_b terminated abnormally with the  state: {'grad': array([ -3.47263413e-05]), 'task': b'ABNORMAL_TERMINATION_IN_LNSRCH', 'funcalls': 51, 'nit': 4, 'warnflag': 2}\n",
      "  \" state: %s\" % convergence_dict)\n"
     ]
    },
    {
     "name": "stdout",
     "output_type": "stream",
     "text": [
      "  102 | 00m37s |    0.73295 |     0.0000 |             0.8000 |          0.0100 |      5.0000 |   37.4880 |      0.8000 | \n",
      "  103 | 00m34s |    0.69739 |     0.3385 |             0.0338 |          0.0113 |     22.3734 |   78.6413 |      0.0714 | \n",
      "  104 | 00m36s |    0.69184 |     1.0000 |             0.0100 |          0.0100 |     25.0000 |  144.0939 |      0.0100 | \n",
      "  105 | 00m38s |    0.72966 |     0.0000 |             0.8000 |          0.8000 |     14.4045 |  132.0567 |      0.8000 | \n",
      "  106 | 00m43s |    0.73052 |     0.7483 |             0.8000 |          0.0100 |     25.0000 |   66.4621 |      0.8000 | \n"
     ]
    },
    {
     "name": "stderr",
     "output_type": "stream",
     "text": [
      "/home/ec2-user/anaconda3/lib/python3.6/site-packages/sklearn/gaussian_process/gpr.py:427: UserWarning: fmin_l_bfgs_b terminated abnormally with the  state: {'grad': array([ -9.37493292e-05]), 'task': b'ABNORMAL_TERMINATION_IN_LNSRCH', 'funcalls': 55, 'nit': 4, 'warnflag': 2}\n",
      "  \" state: %s\" % convergence_dict)\n"
     ]
    },
    {
     "name": "stdout",
     "output_type": "stream",
     "text": [
      "  107 | 00m40s |    0.75800 |     0.0046 |             0.2892 |          0.0308 |     24.9933 |  154.4825 |      0.6493 | \n",
      "  108 | 00m37s |    0.71657 |     0.0000 |             0.0100 |          0.8000 |     24.0799 |  174.5671 |      0.0100 | \n",
      "  109 | 00m39s |    0.73295 |     0.0000 |             0.8000 |          0.0100 |      5.0000 |  249.4574 |      0.0100 | \n",
      "  110 | 00m38s |    0.72744 |     0.0000 |             0.8000 |          0.8000 |     16.7493 |  104.8082 |      0.0100 | \n",
      "TIME TAKEN (MIN): 57.09322918256124\n"
     ]
    }
   ],
   "source": [
    "start = time.time()\n",
    "lgbBO = BayesianOptimization(lgb_func, lgbm_bounds)\n",
    "lgbBO.maximize(10, 100)\n",
    "print('TIME TAKEN (MIN):', (time.time() - start)/60)"
   ]
  },
  {
   "cell_type": "code",
   "execution_count": 38,
   "metadata": {
    "collapsed": true
   },
   "outputs": [],
   "source": [
    "result = lgbBO.res['max']\n",
    "# best_params = result['max_params']\n",
    "# best_score = result['max_value']\n",
    "print(result)\n",
    "all_results['lgb'] = result"
   ]
  },
  {
   "cell_type": "code",
   "execution_count": 39,
   "metadata": {},
   "outputs": [
    {
     "data": {
      "text/plain": [
       "{'max_params': {'boosting': 1.0,\n",
       "  'colsample_bytree': 0.21097363734776334,\n",
       "  'learning_rate': 0.18490698058684293,\n",
       "  'max_depth': 25.0,\n",
       "  'n_iter': 157.84122032083656,\n",
       "  'subsample': 0.010000000000000009},\n",
       " 'max_val': 0.76478829553316874}"
      ]
     },
     "execution_count": 39,
     "metadata": {},
     "output_type": "execute_result"
    }
   ],
   "source": []
  },
  {
   "cell_type": "code",
   "execution_count": null,
   "metadata": {
    "collapsed": true
   },
   "outputs": [],
   "source": []
  },
  {
   "cell_type": "markdown",
   "metadata": {},
   "source": [
    "#### XGB"
   ]
  },
  {
   "cell_type": "code",
   "execution_count": 53,
   "metadata": {
    "collapsed": true
   },
   "outputs": [],
   "source": [
    "def xgb_func(**params):\n",
    "    params['nrounds'] = int(np.round(params['nrounds']))\n",
    "    params['max_depth'] = int(np.round(params['max_depth']))\n",
    "    params['learning_rate'] = np.clip(params['learning_rate'], 0.0001, 1)\n",
    "    params['subsample'] = np.clip(params['subsample'], 0.0001, 1)\n",
    "    params['colsample_bytree'] = np.clip(params['colsample_bytree'], 0.0001, 1)    \n",
    "    \n",
    "    cv = StratifiedKFold(N_CV, True, SEED)\n",
    "    est = XGBClassifier(**xgb_default_params, **params)\n",
    "    roc_auc = np.mean(cross_val_score(est, x_train, y_train, scoring='roc_auc', cv=cv, n_jobs=-1))\n",
    "    return roc_auc"
   ]
  },
  {
   "cell_type": "code",
   "execution_count": null,
   "metadata": {},
   "outputs": [
    {
     "name": "stdout",
     "output_type": "stream",
     "text": [
      "\u001b[31mInitialization\u001b[0m\n",
      "\u001b[94m------------------------------------------------------------------------------------------------------------\u001b[0m\n",
      " Step |   Time |      Value |   colsample_bytree |   learning_rate |   max_depth |   nrounds |   subsample | \n"
     ]
    }
   ],
   "source": [
    "start = time.time()\n",
    "xgbBO = BayesianOptimization(xgb_func, {p: (min(xgb_params[p]), max(xgb_params[p])) for p in xgb_params})\n",
    "xgbBO.maximize(10, 100)\n",
    "print('TIME TAKEN (MIN):', (time.time() - start)/60)"
   ]
  },
  {
   "cell_type": "code",
   "execution_count": null,
   "metadata": {
    "collapsed": true
   },
   "outputs": [],
   "source": [
    "result = xgbBO.res['max']\n",
    "# best_params = result['max_params']\n",
    "# best_score = result['max_value']\n",
    "print(result)\n",
    "all_results['xgb'] = result"
   ]
  },
  {
   "cell_type": "code",
   "execution_count": 34,
   "metadata": {
    "collapsed": true
   },
   "outputs": [],
   "source": [
    "with open('extra/bayesian_opt_params.json', 'w') as f:\n",
    "    json.dump(all_results, f)"
   ]
  },
  {
   "cell_type": "markdown",
   "metadata": {},
   "source": [
    "### Load Results and Explore"
   ]
  },
  {
   "cell_type": "code",
   "execution_count": 20,
   "metadata": {
    "collapsed": true
   },
   "outputs": [],
   "source": [
    "with open('extra/bayesian_opt_params.json', 'r') as f:\n",
    "    all_results = json.load(f)"
   ]
  },
  {
   "cell_type": "code",
   "execution_count": 21,
   "metadata": {},
   "outputs": [
    {
     "data": {
      "text/plain": [
       "{'boosting': 'dart',\n",
       " 'colsample_bytree': 0.21097363734776334,\n",
       " 'learning_rate': 0.18490698058684293,\n",
       " 'max_depth': 25,\n",
       " 'num_iterations': 300,\n",
       " 'scale_pos_weight': 5,\n",
       " 'subsample': 0.010000000000000009}"
      ]
     },
     "execution_count": 21,
     "metadata": {},
     "output_type": "execute_result"
    }
   ],
   "source": [
    "params = all_results['lgb']['max_params']\n",
    "params['boosting'] = 'gbdt' if np.round(params['boosting'] == 0) else 'dart'\n",
    "params['max_depth'] = int(np.round(params['max_depth']))\n",
    "params['num_iterations'] = int(np.round(params['num_iterations']))\n",
    "params['scale_pos_weight'] = int(np.round(params['scale_pos_weight']))\n",
    "params"
   ]
  },
  {
   "cell_type": "code",
   "execution_count": 31,
   "metadata": {},
   "outputs": [
    {
     "name": "stderr",
     "output_type": "stream",
     "text": [
      "/home/ec2-user/anaconda3/lib/python3.6/site-packages/lightgbm/engine.py:102: UserWarning: Found `num_iterations` in params. Will use it instead of argument\n",
      "  warnings.warn(\"Found `{}` in params. Will use it instead of argument\".format(alias))\n",
      "/home/ec2-user/anaconda3/lib/python3.6/site-packages/lightgbm/engine.py:102: UserWarning: Found `num_iterations` in params. Will use it instead of argument\n",
      "  warnings.warn(\"Found `{}` in params. Will use it instead of argument\".format(alias))\n",
      "/home/ec2-user/anaconda3/lib/python3.6/site-packages/lightgbm/engine.py:102: UserWarning: Found `num_iterations` in params. Will use it instead of argument\n",
      "  warnings.warn(\"Found `{}` in params. Will use it instead of argument\".format(alias))\n",
      "/home/ec2-user/anaconda3/lib/python3.6/site-packages/lightgbm/engine.py:102: UserWarning: Found `num_iterations` in params. Will use it instead of argument\n",
      "  warnings.warn(\"Found `{}` in params. Will use it instead of argument\".format(alias))\n"
     ]
    },
    {
     "name": "stdout",
     "output_type": "stream",
     "text": [
      "0.773688001487\n"
     ]
    }
   ],
   "source": [
    "cv = StratifiedKFold(4, True, SEED)\n",
    "est = LGBMClassifier(**lgb_default_params, **params)\n",
    "roc_auc = np.mean(cross_val_score(est, x_train, y_train, scoring='roc_auc', cv=cv, n_jobs=-1))\n",
    "print(roc_auc)"
   ]
  },
  {
   "cell_type": "markdown",
   "metadata": {},
   "source": [
    "### Explore and Add in Engineered Ftrs"
   ]
  },
  {
   "cell_type": "code",
   "execution_count": 22,
   "metadata": {},
   "outputs": [
    {
     "data": {
      "text/plain": [
       "((307511, 361), (48744, 361))"
      ]
     },
     "execution_count": 22,
     "metadata": {},
     "output_type": "execute_result"
    }
   ],
   "source": [
    "eng_ftrs_train = pd.read_csv('clean_data/eng_ftrs_train.csv')\n",
    "eng_ftrs_test = pd.read_csv('clean_data/eng_ftrs_test.csv')\n",
    "eng_ftrs_train.shape, eng_ftrs_test.shape"
   ]
  },
  {
   "cell_type": "code",
   "execution_count": 24,
   "metadata": {},
   "outputs": [
    {
     "data": {
      "text/plain": [
       "((307511, 886), (48744, 886))"
      ]
     },
     "execution_count": 24,
     "metadata": {},
     "output_type": "execute_result"
    }
   ],
   "source": [
    "xtrain_all = pd.concat((train, eng_ftrs_train), axis=1)\n",
    "xtest_all = pd.concat((test, eng_ftrs_test), axis=1)\n",
    "\n",
    "xtrain_all.shape, xtest_all.shape"
   ]
  },
  {
   "cell_type": "code",
   "execution_count": 65,
   "metadata": {},
   "outputs": [
    {
     "name": "stderr",
     "output_type": "stream",
     "text": [
      "/home/ec2-user/anaconda3/lib/python3.6/site-packages/lightgbm/engine.py:102: UserWarning: Found `num_iterations` in params. Will use it instead of argument\n",
      "  warnings.warn(\"Found `{}` in params. Will use it instead of argument\".format(alias))\n",
      "/home/ec2-user/anaconda3/lib/python3.6/site-packages/lightgbm/engine.py:102: UserWarning: Found `num_iterations` in params. Will use it instead of argument\n",
      "  warnings.warn(\"Found `{}` in params. Will use it instead of argument\".format(alias))\n",
      "/home/ec2-user/anaconda3/lib/python3.6/site-packages/lightgbm/engine.py:102: UserWarning: Found `num_iterations` in params. Will use it instead of argument\n",
      "  warnings.warn(\"Found `{}` in params. Will use it instead of argument\".format(alias))\n",
      "/home/ec2-user/anaconda3/lib/python3.6/site-packages/lightgbm/engine.py:102: UserWarning: Found `num_iterations` in params. Will use it instead of argument\n",
      "  warnings.warn(\"Found `{}` in params. Will use it instead of argument\".format(alias))\n"
     ]
    },
    {
     "name": "stdout",
     "output_type": "stream",
     "text": [
      "0.748830500674\n"
     ]
    }
   ],
   "source": [
    "# engineered features _alone_ do pretty well\n",
    "cv = StratifiedKFold(N_CV, True, SEED)\n",
    "est = LGBMClassifier(**lgb_default_params, **params)\n",
    "roc_auc = np.mean(cross_val_score(est, eng_ftrs_train, y_train, scoring='roc_auc', cv=cv, n_jobs=-1))\n",
    "print(roc_auc)"
   ]
  },
  {
   "cell_type": "code",
   "execution_count": 26,
   "metadata": {},
   "outputs": [
    {
     "name": "stderr",
     "output_type": "stream",
     "text": [
      "/home/ec2-user/anaconda3/lib/python3.6/site-packages/lightgbm/engine.py:102: UserWarning: Found `num_iterations` in params. Will use it instead of argument\n",
      "  warnings.warn(\"Found `{}` in params. Will use it instead of argument\".format(alias))\n",
      "/home/ec2-user/anaconda3/lib/python3.6/site-packages/lightgbm/engine.py:102: UserWarning: Found `num_iterations` in params. Will use it instead of argument\n",
      "  warnings.warn(\"Found `{}` in params. Will use it instead of argument\".format(alias))\n",
      "/home/ec2-user/anaconda3/lib/python3.6/site-packages/lightgbm/engine.py:102: UserWarning: Found `num_iterations` in params. Will use it instead of argument\n",
      "  warnings.warn(\"Found `{}` in params. Will use it instead of argument\".format(alias))\n",
      "/home/ec2-user/anaconda3/lib/python3.6/site-packages/lightgbm/engine.py:102: UserWarning: Found `num_iterations` in params. Will use it instead of argument\n",
      "  warnings.warn(\"Found `{}` in params. Will use it instead of argument\".format(alias))\n"
     ]
    },
    {
     "name": "stdout",
     "output_type": "stream",
     "text": [
      "0.770327243684\n"
     ]
    }
   ],
   "source": [
    "# :-/ combined no improvement\n",
    "cv = StratifiedKFold(N_CV, True, SEED)\n",
    "est = LGBMClassifier(**lgb_default_params, **params)\n",
    "roc_auc = np.mean(cross_val_score(est, xtrain_all.values, y_train, scoring='roc_auc', cv=cv, n_jobs=-1))\n",
    "print(roc_auc)"
   ]
  },
  {
   "cell_type": "markdown",
   "metadata": {
    "collapsed": true
   },
   "source": [
    "Filter to Use only Selected Features From Feature Selection"
   ]
  },
  {
   "cell_type": "code",
   "execution_count": 27,
   "metadata": {},
   "outputs": [
    {
     "data": {
      "text/html": [
       "<div>\n",
       "<style>\n",
       "    .dataframe thead tr:only-child th {\n",
       "        text-align: right;\n",
       "    }\n",
       "\n",
       "    .dataframe thead th {\n",
       "        text-align: left;\n",
       "    }\n",
       "\n",
       "    .dataframe tbody tr th {\n",
       "        vertical-align: top;\n",
       "    }\n",
       "</style>\n",
       "<table border=\"1\" class=\"dataframe\">\n",
       "  <thead>\n",
       "    <tr style=\"text-align: right;\">\n",
       "      <th></th>\n",
       "      <th>ftr</th>\n",
       "      <th>score</th>\n",
       "    </tr>\n",
       "  </thead>\n",
       "  <tbody>\n",
       "    <tr>\n",
       "      <th>0</th>\n",
       "      <td>ext_source_2</td>\n",
       "      <td>3.219939</td>\n",
       "    </tr>\n",
       "    <tr>\n",
       "      <th>1</th>\n",
       "      <td>ext_source_3</td>\n",
       "      <td>2.989627</td>\n",
       "    </tr>\n",
       "    <tr>\n",
       "      <th>2</th>\n",
       "      <td>amt_goods_price_application</td>\n",
       "      <td>2.297600</td>\n",
       "    </tr>\n",
       "    <tr>\n",
       "      <th>3</th>\n",
       "      <td>nb_probs</td>\n",
       "      <td>2.285854</td>\n",
       "    </tr>\n",
       "    <tr>\n",
       "      <th>4</th>\n",
       "      <td>name_income_type_Pensioner</td>\n",
       "      <td>2.122629</td>\n",
       "    </tr>\n",
       "  </tbody>\n",
       "</table>\n",
       "</div>"
      ],
      "text/plain": [
       "                           ftr     score\n",
       "0                 ext_source_2  3.219939\n",
       "1                 ext_source_3  2.989627\n",
       "2  amt_goods_price_application  2.297600\n",
       "3                     nb_probs  2.285854\n",
       "4   name_income_type_Pensioner  2.122629"
      ]
     },
     "execution_count": 27,
     "metadata": {},
     "output_type": "execute_result"
    }
   ],
   "source": [
    "selected_ftrs = pd.read_csv('extra/all_selected_ftrs.csv', names=['ftr', 'score'])\n",
    "selected_ftrs.head()"
   ]
  },
  {
   "cell_type": "code",
   "execution_count": 34,
   "metadata": {
    "collapsed": true
   },
   "outputs": [],
   "source": [
    "# don't need all 500 - same performance w 300\n",
    "final_ftrs = selected_ftrs.ftr[:300]"
   ]
  },
  {
   "cell_type": "code",
   "execution_count": 33,
   "metadata": {},
   "outputs": [
    {
     "name": "stderr",
     "output_type": "stream",
     "text": [
      "/home/ec2-user/anaconda3/lib/python3.6/site-packages/lightgbm/engine.py:102: UserWarning: Found `num_iterations` in params. Will use it instead of argument\n",
      "  warnings.warn(\"Found `{}` in params. Will use it instead of argument\".format(alias))\n",
      "/home/ec2-user/anaconda3/lib/python3.6/site-packages/lightgbm/engine.py:102: UserWarning: Found `num_iterations` in params. Will use it instead of argument\n",
      "  warnings.warn(\"Found `{}` in params. Will use it instead of argument\".format(alias))\n",
      "/home/ec2-user/anaconda3/lib/python3.6/site-packages/lightgbm/engine.py:102: UserWarning: Found `num_iterations` in params. Will use it instead of argument\n",
      "  warnings.warn(\"Found `{}` in params. Will use it instead of argument\".format(alias))\n",
      "/home/ec2-user/anaconda3/lib/python3.6/site-packages/lightgbm/engine.py:102: UserWarning: Found `num_iterations` in params. Will use it instead of argument\n",
      "  warnings.warn(\"Found `{}` in params. Will use it instead of argument\".format(alias))\n"
     ]
    },
    {
     "name": "stdout",
     "output_type": "stream",
     "text": [
      "0.770781418715\n"
     ]
    }
   ],
   "source": [
    "# :-( still no improvement\n",
    "cv = StratifiedKFold(N_CV, True, SEED)\n",
    "est = LGBMClassifier(**lgb_default_params, **params)\n",
    "roc_auc = np.mean(cross_val_score(est, xtrain_all[final_ftrs].values, y_train, scoring='roc_auc', cv=cv, n_jobs=-1))\n",
    "print(roc_auc)"
   ]
  },
  {
   "cell_type": "code",
   "execution_count": null,
   "metadata": {
    "collapsed": true
   },
   "outputs": [],
   "source": []
  },
  {
   "cell_type": "markdown",
   "metadata": {},
   "source": [
    "### Scratch Code for Generating Submission Files"
   ]
  },
  {
   "cell_type": "code",
   "execution_count": 81,
   "metadata": {},
   "outputs": [
    {
     "data": {
      "text/plain": [
       "{'boosting': 'dart',\n",
       " 'colsample_bytree': 0.21097363734776334,\n",
       " 'learning_rate': 0.18490698058684293,\n",
       " 'max_depth': 25,\n",
       " 'n_iter': 158,\n",
       " 'scale_pos_weight': 5,\n",
       " 'subsample': 0.010000000000000009}"
      ]
     },
     "execution_count": 81,
     "metadata": {},
     "output_type": "execute_result"
    }
   ],
   "source": [
    "params = all_results['lgb']['max_params']\n",
    "params['boosting'] = 'gbdt' if np.round(params['boosting'] == 0) else 'dart'\n",
    "params['max_depth'] = int(np.round(params['max_depth']))\n",
    "params['n_iter'] = int(np.round(params['n_iter']))\n",
    "params['scale_pos_weight'] = int(np.round(params['scale_pos_weight']))\n",
    "params"
   ]
  },
  {
   "cell_type": "code",
   "execution_count": 71,
   "metadata": {},
   "outputs": [
    {
     "name": "stderr",
     "output_type": "stream",
     "text": [
      "/home/ec2-user/anaconda3/lib/python3.6/site-packages/lightgbm/engine.py:102: UserWarning: Found `num_iterations` in params. Will use it instead of argument\n",
      "  warnings.warn(\"Found `{}` in params. Will use it instead of argument\".format(alias))\n"
     ]
    }
   ],
   "source": [
    "lgb_clf = LGBMClassifier(**lgb_default_params, **params)\n",
    "lgb_clf.fit(x_train, y_train)\n",
    "probs = lgb_clf.predict_proba(x_test)"
   ]
  },
  {
   "cell_type": "code",
   "execution_count": 72,
   "metadata": {
    "collapsed": true
   },
   "outputs": [],
   "source": [
    "submission = pd.DataFrame([test_id,probs[:,1]], index=['SK_ID_CURR', 'TARGET']).T"
   ]
  },
  {
   "cell_type": "code",
   "execution_count": 73,
   "metadata": {
    "collapsed": true
   },
   "outputs": [],
   "source": [
    "algo = 'lgbm'\n",
    "submission.to_csv('submissions/{}_{}.csv'.format(algo, today.strftime('%Y%m%d')), index=False)"
   ]
  },
  {
   "cell_type": "code",
   "execution_count": null,
   "metadata": {
    "collapsed": true
   },
   "outputs": [],
   "source": []
  },
  {
   "cell_type": "code",
   "execution_count": null,
   "metadata": {
    "collapsed": true
   },
   "outputs": [],
   "source": [
    "\n",
    "# dtrain = xgb.DMatrix(x_train, label=y_train)\n",
    "# nrounds = xgb_params.pop('nrounds', 75)\n",
    "# clf = xgb.train(xgb_params, dtrain, nrounds)\n"
   ]
  },
  {
   "cell_type": "code",
   "execution_count": null,
   "metadata": {
    "collapsed": true
   },
   "outputs": [],
   "source": [
    "# clf.best_iteration"
   ]
  },
  {
   "cell_type": "code",
   "execution_count": null,
   "metadata": {
    "collapsed": true
   },
   "outputs": [],
   "source": [
    "# dtest = xgb.DMatrix(x_test)\n",
    "# preds = clf.predict(dtest)"
   ]
  },
  {
   "cell_type": "code",
   "execution_count": null,
   "metadata": {
    "collapsed": true
   },
   "outputs": [],
   "source": [
    "# submission['TARGET'] = preds"
   ]
  },
  {
   "cell_type": "code",
   "execution_count": null,
   "metadata": {
    "collapsed": true
   },
   "outputs": [],
   "source": [
    "# algo = 'xgboost'\n",
    "# submission.to_csv('submissions/{}_{}.csv'.format(algo, today.strftime('%Y%m%d')), index=False)"
   ]
  },
  {
   "cell_type": "code",
   "execution_count": null,
   "metadata": {
    "collapsed": true
   },
   "outputs": [],
   "source": []
  },
  {
   "cell_type": "code",
   "execution_count": null,
   "metadata": {
    "collapsed": true
   },
   "outputs": [],
   "source": []
  }
 ],
 "metadata": {
  "kernelspec": {
   "display_name": "Python 3",
   "language": "python",
   "name": "python3"
  },
  "language_info": {
   "codemirror_mode": {
    "name": "ipython",
    "version": 3
   },
   "file_extension": ".py",
   "mimetype": "text/x-python",
   "name": "python",
   "nbconvert_exporter": "python",
   "pygments_lexer": "ipython3",
   "version": "3.6.1"
  }
 },
 "nbformat": 4,
 "nbformat_minor": 2
}
