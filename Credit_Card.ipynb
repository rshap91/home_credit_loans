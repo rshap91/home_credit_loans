{
 "cells": [
  {
   "cell_type": "code",
   "execution_count": 1,
   "metadata": {
    "collapsed": true
   },
   "outputs": [],
   "source": [
    "import numpy as np\n",
    "import pandas as pd\n",
    "from dstk.utils.data_cleaning import clean_columns\n",
    "\n",
    "import matplotlib.pyplot as plt\n",
    "import seaborn as sns\n",
    "\n",
    "%matplotlib inline\n",
    "\n",
    "sns.set_style('dark')\n",
    "plt.rcParams['figure.figsize'] = (9,6)\n",
    "np.set_printoptions(suppress=True)\n",
    "pd.options.display.max_columns = 150"
   ]
  },
  {
   "cell_type": "code",
   "execution_count": 2,
   "metadata": {
    "collapsed": true
   },
   "outputs": [],
   "source": [
    "def col_descrip(table, col):\n",
    "    \"Looks up column description for given table\"\n",
    "    print(table)\n",
    "    print(col)\n",
    "    return col_des.loc[(col_des.Table==table) & (col_des.Row==col.upper()),\n",
    "            'Description'].values[0]\n",
    "\n",
    "def anom_eval(df, col, filename):\n",
    "    print(col_descrip(filename, col))\n",
    "    print()\n",
    "\n",
    "    max_diff_idx = df[col].sort_values().diff().nlargest(3).index\n",
    "    max_diffs = df.loc[max_diff_idx, col]\n",
    "    nlargest = df[col].nlargest()\n",
    "    nsmallest = df[col].nsmallest()\n",
    "\n",
    "    print('Max Diffs')\n",
    "    print(max_diffs)\n",
    "    print()\n",
    "    print(\"Largest Vals\")\n",
    "    print(nlargest)\n",
    "    print()\n",
    "    print(\"Smallest Vals\")\n",
    "    print(nsmallest)\n",
    "    df[col].hist()\n",
    "    df[col].value_counts().sort_index()\n",
    "\n",
    "    return max_diffs, nlargest\n",
    "\n",
    "def pct_null(df):\n",
    "    null_counts = df.isnull().sum()[df.isnull().sum()>0].sort_values(ascending=False).to_frame()\n",
    "    if null_counts.empty:\n",
    "        return None\n",
    "    null_counts['pct_null'] = null_counts/df.shape[0]\n",
    "    null_counts.columns = ['n_null', 'pct_null']\n",
    "    return null_counts"
   ]
  },
  {
   "cell_type": "code",
   "execution_count": 3,
   "metadata": {},
   "outputs": [
    {
     "data": {
      "text/plain": [
       "(219, 5)"
      ]
     },
     "execution_count": 3,
     "metadata": {},
     "output_type": "execute_result"
    }
   ],
   "source": [
    "col_des = pd.read_csv('HomeCredit_columns_description.csv', encoding='latin-1')\n",
    "col_des.shape"
   ]
  },
  {
   "cell_type": "code",
   "execution_count": 6,
   "metadata": {},
   "outputs": [
    {
     "data": {
      "text/plain": [
       "(3840312, 23)"
      ]
     },
     "execution_count": 6,
     "metadata": {},
     "output_type": "execute_result"
    }
   ],
   "source": [
    "cc = pd.read_csv(\"credit_card_balance.csv.zip\", dtype= {'SK_ID_CURR':str, 'SK_ID_BUREAU':str, 'SK_ID_PREV':str})\n",
    "cc.shape"
   ]
  },
  {
   "cell_type": "code",
   "execution_count": 7,
   "metadata": {},
   "outputs": [
    {
     "data": {
      "text/html": [
       "<div>\n",
       "<style scoped>\n",
       "    .dataframe tbody tr th:only-of-type {\n",
       "        vertical-align: middle;\n",
       "    }\n",
       "\n",
       "    .dataframe tbody tr th {\n",
       "        vertical-align: top;\n",
       "    }\n",
       "\n",
       "    .dataframe thead th {\n",
       "        text-align: right;\n",
       "    }\n",
       "</style>\n",
       "<table border=\"1\" class=\"dataframe\">\n",
       "  <thead>\n",
       "    <tr style=\"text-align: right;\">\n",
       "      <th></th>\n",
       "      <th>SK_ID_PREV</th>\n",
       "      <th>SK_ID_CURR</th>\n",
       "      <th>MONTHS_BALANCE</th>\n",
       "      <th>AMT_BALANCE</th>\n",
       "      <th>AMT_CREDIT_LIMIT_ACTUAL</th>\n",
       "      <th>AMT_DRAWINGS_ATM_CURRENT</th>\n",
       "      <th>AMT_DRAWINGS_CURRENT</th>\n",
       "      <th>AMT_DRAWINGS_OTHER_CURRENT</th>\n",
       "      <th>AMT_DRAWINGS_POS_CURRENT</th>\n",
       "      <th>AMT_INST_MIN_REGULARITY</th>\n",
       "      <th>AMT_PAYMENT_CURRENT</th>\n",
       "      <th>AMT_PAYMENT_TOTAL_CURRENT</th>\n",
       "      <th>AMT_RECEIVABLE_PRINCIPAL</th>\n",
       "      <th>AMT_RECIVABLE</th>\n",
       "      <th>AMT_TOTAL_RECEIVABLE</th>\n",
       "      <th>CNT_DRAWINGS_ATM_CURRENT</th>\n",
       "      <th>CNT_DRAWINGS_CURRENT</th>\n",
       "      <th>CNT_DRAWINGS_OTHER_CURRENT</th>\n",
       "      <th>CNT_DRAWINGS_POS_CURRENT</th>\n",
       "      <th>CNT_INSTALMENT_MATURE_CUM</th>\n",
       "      <th>NAME_CONTRACT_STATUS</th>\n",
       "      <th>SK_DPD</th>\n",
       "      <th>SK_DPD_DEF</th>\n",
       "    </tr>\n",
       "  </thead>\n",
       "  <tbody>\n",
       "    <tr>\n",
       "      <th>0</th>\n",
       "      <td>2562384</td>\n",
       "      <td>378907</td>\n",
       "      <td>-6</td>\n",
       "      <td>56.970</td>\n",
       "      <td>135000</td>\n",
       "      <td>0.0</td>\n",
       "      <td>877.5</td>\n",
       "      <td>0.0</td>\n",
       "      <td>877.5</td>\n",
       "      <td>1700.325</td>\n",
       "      <td>1800.0</td>\n",
       "      <td>1800.0</td>\n",
       "      <td>0.000</td>\n",
       "      <td>0.000</td>\n",
       "      <td>0.000</td>\n",
       "      <td>0.0</td>\n",
       "      <td>1</td>\n",
       "      <td>0.0</td>\n",
       "      <td>1.0</td>\n",
       "      <td>35.0</td>\n",
       "      <td>Active</td>\n",
       "      <td>0</td>\n",
       "      <td>0</td>\n",
       "    </tr>\n",
       "    <tr>\n",
       "      <th>1</th>\n",
       "      <td>2582071</td>\n",
       "      <td>363914</td>\n",
       "      <td>-1</td>\n",
       "      <td>63975.555</td>\n",
       "      <td>45000</td>\n",
       "      <td>2250.0</td>\n",
       "      <td>2250.0</td>\n",
       "      <td>0.0</td>\n",
       "      <td>0.0</td>\n",
       "      <td>2250.000</td>\n",
       "      <td>2250.0</td>\n",
       "      <td>2250.0</td>\n",
       "      <td>60175.080</td>\n",
       "      <td>64875.555</td>\n",
       "      <td>64875.555</td>\n",
       "      <td>1.0</td>\n",
       "      <td>1</td>\n",
       "      <td>0.0</td>\n",
       "      <td>0.0</td>\n",
       "      <td>69.0</td>\n",
       "      <td>Active</td>\n",
       "      <td>0</td>\n",
       "      <td>0</td>\n",
       "    </tr>\n",
       "    <tr>\n",
       "      <th>2</th>\n",
       "      <td>1740877</td>\n",
       "      <td>371185</td>\n",
       "      <td>-7</td>\n",
       "      <td>31815.225</td>\n",
       "      <td>450000</td>\n",
       "      <td>0.0</td>\n",
       "      <td>0.0</td>\n",
       "      <td>0.0</td>\n",
       "      <td>0.0</td>\n",
       "      <td>2250.000</td>\n",
       "      <td>2250.0</td>\n",
       "      <td>2250.0</td>\n",
       "      <td>26926.425</td>\n",
       "      <td>31460.085</td>\n",
       "      <td>31460.085</td>\n",
       "      <td>0.0</td>\n",
       "      <td>0</td>\n",
       "      <td>0.0</td>\n",
       "      <td>0.0</td>\n",
       "      <td>30.0</td>\n",
       "      <td>Active</td>\n",
       "      <td>0</td>\n",
       "      <td>0</td>\n",
       "    </tr>\n",
       "    <tr>\n",
       "      <th>3</th>\n",
       "      <td>1389973</td>\n",
       "      <td>337855</td>\n",
       "      <td>-4</td>\n",
       "      <td>236572.110</td>\n",
       "      <td>225000</td>\n",
       "      <td>2250.0</td>\n",
       "      <td>2250.0</td>\n",
       "      <td>0.0</td>\n",
       "      <td>0.0</td>\n",
       "      <td>11795.760</td>\n",
       "      <td>11925.0</td>\n",
       "      <td>11925.0</td>\n",
       "      <td>224949.285</td>\n",
       "      <td>233048.970</td>\n",
       "      <td>233048.970</td>\n",
       "      <td>1.0</td>\n",
       "      <td>1</td>\n",
       "      <td>0.0</td>\n",
       "      <td>0.0</td>\n",
       "      <td>10.0</td>\n",
       "      <td>Active</td>\n",
       "      <td>0</td>\n",
       "      <td>0</td>\n",
       "    </tr>\n",
       "    <tr>\n",
       "      <th>4</th>\n",
       "      <td>1891521</td>\n",
       "      <td>126868</td>\n",
       "      <td>-1</td>\n",
       "      <td>453919.455</td>\n",
       "      <td>450000</td>\n",
       "      <td>0.0</td>\n",
       "      <td>11547.0</td>\n",
       "      <td>0.0</td>\n",
       "      <td>11547.0</td>\n",
       "      <td>22924.890</td>\n",
       "      <td>27000.0</td>\n",
       "      <td>27000.0</td>\n",
       "      <td>443044.395</td>\n",
       "      <td>453919.455</td>\n",
       "      <td>453919.455</td>\n",
       "      <td>0.0</td>\n",
       "      <td>1</td>\n",
       "      <td>0.0</td>\n",
       "      <td>1.0</td>\n",
       "      <td>101.0</td>\n",
       "      <td>Active</td>\n",
       "      <td>0</td>\n",
       "      <td>0</td>\n",
       "    </tr>\n",
       "  </tbody>\n",
       "</table>\n",
       "</div>"
      ],
      "text/plain": [
       "  SK_ID_PREV SK_ID_CURR  MONTHS_BALANCE  AMT_BALANCE  AMT_CREDIT_LIMIT_ACTUAL  \\\n",
       "0    2562384     378907              -6       56.970                   135000   \n",
       "1    2582071     363914              -1    63975.555                    45000   \n",
       "2    1740877     371185              -7    31815.225                   450000   \n",
       "3    1389973     337855              -4   236572.110                   225000   \n",
       "4    1891521     126868              -1   453919.455                   450000   \n",
       "\n",
       "   AMT_DRAWINGS_ATM_CURRENT  AMT_DRAWINGS_CURRENT  AMT_DRAWINGS_OTHER_CURRENT  \\\n",
       "0                       0.0                 877.5                         0.0   \n",
       "1                    2250.0                2250.0                         0.0   \n",
       "2                       0.0                   0.0                         0.0   \n",
       "3                    2250.0                2250.0                         0.0   \n",
       "4                       0.0               11547.0                         0.0   \n",
       "\n",
       "   AMT_DRAWINGS_POS_CURRENT  AMT_INST_MIN_REGULARITY  AMT_PAYMENT_CURRENT  \\\n",
       "0                     877.5                 1700.325               1800.0   \n",
       "1                       0.0                 2250.000               2250.0   \n",
       "2                       0.0                 2250.000               2250.0   \n",
       "3                       0.0                11795.760              11925.0   \n",
       "4                   11547.0                22924.890              27000.0   \n",
       "\n",
       "   AMT_PAYMENT_TOTAL_CURRENT  AMT_RECEIVABLE_PRINCIPAL  AMT_RECIVABLE  \\\n",
       "0                     1800.0                     0.000          0.000   \n",
       "1                     2250.0                 60175.080      64875.555   \n",
       "2                     2250.0                 26926.425      31460.085   \n",
       "3                    11925.0                224949.285     233048.970   \n",
       "4                    27000.0                443044.395     453919.455   \n",
       "\n",
       "   AMT_TOTAL_RECEIVABLE  CNT_DRAWINGS_ATM_CURRENT  CNT_DRAWINGS_CURRENT  \\\n",
       "0                 0.000                       0.0                     1   \n",
       "1             64875.555                       1.0                     1   \n",
       "2             31460.085                       0.0                     0   \n",
       "3            233048.970                       1.0                     1   \n",
       "4            453919.455                       0.0                     1   \n",
       "\n",
       "   CNT_DRAWINGS_OTHER_CURRENT  CNT_DRAWINGS_POS_CURRENT  \\\n",
       "0                         0.0                       1.0   \n",
       "1                         0.0                       0.0   \n",
       "2                         0.0                       0.0   \n",
       "3                         0.0                       0.0   \n",
       "4                         0.0                       1.0   \n",
       "\n",
       "   CNT_INSTALMENT_MATURE_CUM NAME_CONTRACT_STATUS  SK_DPD  SK_DPD_DEF  \n",
       "0                       35.0               Active       0           0  \n",
       "1                       69.0               Active       0           0  \n",
       "2                       30.0               Active       0           0  \n",
       "3                       10.0               Active       0           0  \n",
       "4                      101.0               Active       0           0  "
      ]
     },
     "execution_count": 7,
     "metadata": {},
     "output_type": "execute_result"
    }
   ],
   "source": [
    "cc.head()"
   ]
  },
  {
   "cell_type": "code",
   "execution_count": 8,
   "metadata": {},
   "outputs": [
    {
     "data": {
      "text/plain": [
       "[('SK_ID_PREV ',\n",
       "  'ID of previous credit in Home credit related to loan in our sample. (One loan in our sample can have 0,1,2 or more previous loans in Home Credit)'),\n",
       " ('SK_ID_CURR', 'ID of loan in our sample'),\n",
       " ('MONTHS_BALANCE',\n",
       "  'Month of balance relative to application date (-1 means the freshest balance date)'),\n",
       " ('AMT_BALANCE', 'Balance during the month of previous credit'),\n",
       " ('AMT_CREDIT_LIMIT_ACTUAL',\n",
       "  'Credit card limit during the month of the previous credit'),\n",
       " ('AMT_DRAWINGS_ATM_CURRENT',\n",
       "  'Amount drawing at ATM during the month of the previous credit'),\n",
       " ('AMT_DRAWINGS_CURRENT',\n",
       "  'Amount drawing during the month of the previous credit'),\n",
       " ('AMT_DRAWINGS_OTHER_CURRENT',\n",
       "  'Amount of other drawings during the month of the previous credit'),\n",
       " ('AMT_DRAWINGS_POS_CURRENT',\n",
       "  'Amount drawing or buying goods during the month of the previous credit'),\n",
       " ('AMT_INST_MIN_REGULARITY',\n",
       "  'Minimal installment for this month of the previous credit'),\n",
       " ('AMT_PAYMENT_CURRENT',\n",
       "  'How much did the client pay during the month on the previous credit'),\n",
       " ('AMT_PAYMENT_TOTAL_CURRENT',\n",
       "  'How much did the client pay during the month in total on the previous credit'),\n",
       " ('AMT_RECEIVABLE_PRINCIPAL',\n",
       "  'Amount receivable for principal on the previous credit'),\n",
       " ('AMT_RECIVABLE', 'Amount receivable on the previous credit'),\n",
       " ('AMT_TOTAL_RECEIVABLE', 'Total amount receivable on the previous credit'),\n",
       " ('CNT_DRAWINGS_ATM_CURRENT',\n",
       "  'Number of drawings at ATM during this month on the previous credit'),\n",
       " ('CNT_DRAWINGS_CURRENT',\n",
       "  'Number of drawings during this month on the previous credit'),\n",
       " ('CNT_DRAWINGS_OTHER_CURRENT',\n",
       "  'Number of other drawings during this month on the previous credit'),\n",
       " ('CNT_DRAWINGS_POS_CURRENT',\n",
       "  'Number of drawings for goods during this month on the previous credit'),\n",
       " ('CNT_INSTALMENT_MATURE_CUM',\n",
       "  'Number of paid installments on the previous credit'),\n",
       " ('NAME_CONTRACT_STATUS',\n",
       "  'Contract status (active signed,...) on the previous credit'),\n",
       " ('SK_DPD', 'DPD (Days past due) during the month on the previous credit'),\n",
       " ('SK_DPD_DEF',\n",
       "  'DPD (Days past due) during the month with tolerance (debts with low loan amounts are ignored) of the previous credit')]"
      ]
     },
     "execution_count": 8,
     "metadata": {},
     "output_type": "execute_result"
    }
   ],
   "source": [
    "list(\n",
    "    zip(col_des[col_des.Table=='credit_card_balance.csv'].Row.tolist(),col_des[col_des.Table=='credit_card_balance.csv'].Description.tolist())\n",
    ")"
   ]
  },
  {
   "cell_type": "markdown",
   "metadata": {},
   "source": [
    "## Cleaning"
   ]
  },
  {
   "cell_type": "markdown",
   "metadata": {},
   "source": [
    "Ordered Columns By Type:\n",
    "    - Primary Key and Target\n",
    "    - Object\n",
    "    - Int + Float = Numeric\n",
    "    - Indicators (parsed from int cols)\n",
    "\n",
    "Evaluated Numeric Anomalies:\n",
    "    - Looked far large gaps in the ordered values of each column\n",
    "    - Evaluated manually, replaced anoms with col medians\n",
    "    - Created indicator cols for anom rows\n",
    "\n",
    "Fill NAs:\n",
    "    - Object Cols filled with either most frequent value or with \"MISSING\" which will be turned into an indicator\n",
    "    - Numeric imputed with median\n",
    "\n",
    "Encode Obj Cols:\n",
    "    - Binary columns turned into 0s/1s\n",
    "    - Multi-val columns OHE"
   ]
  },
  {
   "cell_type": "markdown",
   "metadata": {},
   "source": [
    "### Column Types"
   ]
  },
  {
   "cell_type": "code",
   "execution_count": null,
   "metadata": {
    "collapsed": true
   },
   "outputs": [],
   "source": [
    "# clean column names\n",
    "cc.columns = clean_columns(cc)"
   ]
  },
  {
   "cell_type": "code",
   "execution_count": 13,
   "metadata": {},
   "outputs": [
    {
     "data": {
      "text/plain": [
       "sk_id_prev                     object\n",
       "sk_id_curr                     object\n",
       "months_balance                  int64\n",
       "amt_balance                   float64\n",
       "amt_credit_limit_actual         int64\n",
       "amt_drawings_atm_current      float64\n",
       "amt_drawings_current          float64\n",
       "amt_drawings_other_current    float64\n",
       "amt_drawings_pos_current      float64\n",
       "amt_inst_min_regularity       float64\n",
       "amt_payment_current           float64\n",
       "amt_payment_total_current     float64\n",
       "amt_receivable_principal      float64\n",
       "amt_recivable                 float64\n",
       "amt_total_receivable          float64\n",
       "cnt_drawings_atm_current      float64\n",
       "cnt_drawings_current            int64\n",
       "cnt_drawings_other_current    float64\n",
       "cnt_drawings_pos_current      float64\n",
       "cnt_instalment_mature_cum     float64\n",
       "name_contract_status           object\n",
       "sk_dpd                          int64\n",
       "sk_dpd_def                      int64\n",
       "dtype: object"
      ]
     },
     "execution_count": 13,
     "metadata": {},
     "output_type": "execute_result"
    }
   ],
   "source": [
    "cc.dtypes"
   ]
  },
  {
   "cell_type": "code",
   "execution_count": 26,
   "metadata": {},
   "outputs": [
    {
     "name": "stdout",
     "output_type": "stream",
     "text": [
      "(3840312, 23) 23\n"
     ]
    }
   ],
   "source": [
    "pks = ['sk_id_prev', 'sk_id_curr']\n",
    "obj_cols = cc.dtypes[cc.dtypes=='object'].index.drop(pks).tolist()\n",
    "int_cols = cc.dtypes[cc.dtypes==int].index.tolist()\n",
    "float_cols = cc.dtypes[cc.dtypes==float].index.tolist()\n",
    "numeric_cols = int_cols + float_cols\n",
    "\n",
    "indicator_cols = cc[numeric_cols].columns[cc[numeric_cols].apply(lambda s: s.nunique())==2].tolist()\n",
    "\n",
    "# remove indicator cols from numeric cols\n",
    "int_cols = [i for i in int_cols if i not in indicator_cols]\n",
    "float_cols = [i for i in float_cols if i not in indicator_cols]\n",
    "numeric_cols = int_cols + float_cols\n",
    "\n",
    "\n",
    "ordered_cols = sorted(pks) + sorted(obj_cols) + sorted(int_cols) + sorted(float_cols) + sorted(indicator_cols)\n",
    "print(cc.shape, len(ordered_cols))\n",
    "cc = cc[ordered_cols]"
   ]
  },
  {
   "cell_type": "markdown",
   "metadata": {},
   "source": [
    "### Anomalies"
   ]
  },
  {
   "cell_type": "code",
   "execution_count": 28,
   "metadata": {},
   "outputs": [
    {
     "data": {
      "text/plain": [
       "['months_balance',\n",
       " 'amt_balance',\n",
       " 'amt_drawings_atm_current',\n",
       " 'amt_drawings_current',\n",
       " 'amt_receivable_principal',\n",
       " 'amt_recivable',\n",
       " 'amt_total_receivable']"
      ]
     },
     "execution_count": 28,
     "metadata": {},
     "output_type": "execute_result"
    }
   ],
   "source": [
    "neg_cols = cc[numeric_cols].columns[cc[numeric_cols].apply(lambda ser: ser <0).any()].tolist()\n",
    "neg_cols"
   ]
  },
  {
   "cell_type": "code",
   "execution_count": 53,
   "metadata": {},
   "outputs": [
    {
     "name": "stdout",
     "output_type": "stream",
     "text": [
      "credit_card_balance.csv\n",
      "amt_balance\n"
     ]
    },
    {
     "data": {
      "text/plain": [
       "'Balance during the month of previous credit'"
      ]
     },
     "execution_count": 53,
     "metadata": {},
     "output_type": "execute_result"
    }
   ],
   "source": [
    "# manual exploration - amt_balance, amt_receivable*,  can be negative\n",
    "col_descrip('credit_card_balance.csv', 'amt_balance')"
   ]
  },
  {
   "cell_type": "code",
   "execution_count": 54,
   "metadata": {
    "collapsed": true
   },
   "outputs": [],
   "source": [
    "neg_cols = ['months_balance', 'amt_drawings_atm_current', 'amt_drawings_current']\n",
    "for col in neg_cols:\n",
    "    cc.loc[cc[col]<0, col] *= -1"
   ]
  },
  {
   "cell_type": "markdown",
   "metadata": {},
   "source": [
    "Note i'm going to have to be careful identifying outliers for the rest of these as they can have negative and positive outliers"
   ]
  },
  {
   "cell_type": "code",
   "execution_count": 57,
   "metadata": {
    "collapsed": true
   },
   "outputs": [],
   "source": [
    "w_neg_outliers = ['amt_balance', 'amt_receivable_principal', 'amt_recivable', 'amt_total_receivable']"
   ]
  },
  {
   "cell_type": "code",
   "execution_count": 55,
   "metadata": {},
   "outputs": [
    {
     "data": {
      "text/plain": [
       "cnt_drawings_current           3.447901\n",
       "amt_drawings_atm_current      15.544351\n",
       "amt_drawings_current           4.654053\n",
       "amt_drawings_other_current    49.103941\n",
       "amt_drawings_pos_current       8.618790\n",
       "amt_inst_min_regularity        9.324025\n",
       "amt_payment_current           49.661933\n",
       "amt_payment_total_current     55.710378\n",
       "cnt_drawings_atm_current       6.361316\n",
       "cnt_drawings_other_current    24.201762\n",
       "cnt_drawings_pos_current       3.394382\n",
       "dtype: float64"
      ]
     },
     "execution_count": 55,
     "metadata": {},
     "output_type": "execute_result"
    }
   ],
   "source": [
    "# Positive outliers-ish\n",
    "gaps = cc[numeric_cols].apply(lambda s: s.sort_values().diff().max()/s.std())\n",
    "gaps[gaps>2]"
   ]
  },
  {
   "cell_type": "code",
   "execution_count": 86,
   "metadata": {
    "collapsed": true
   },
   "outputs": [],
   "source": [
    "# Narrowing Down Columns Manually\n",
    "anom_cols = [\n",
    "    'amt_payment_current',\n",
    "    'amt_payment_total_current',\n",
    "    'cnt_drawings_atm_current',\n",
    "]"
   ]
  },
  {
   "cell_type": "code",
   "execution_count": 87,
   "metadata": {
    "scrolled": false
   },
   "outputs": [
    {
     "name": "stdout",
     "output_type": "stream",
     "text": [
      "credit_card_balance.csv\n",
      "amt_payment_current\n",
      "How much did the client pay during the month on the previous credit\n",
      "\n",
      "Max Diffs\n",
      "918470     4289207.445\n",
      "655422     2287098.315\n",
      "2633249    2436495.255\n",
      "Name: amt_payment_current, dtype: float64\n",
      "\n",
      "Largest Vals\n",
      "918470     4289207.445\n",
      "2140612    2497500.000\n",
      "2633249    2436495.255\n",
      "655422     2287098.315\n",
      "2215371    2115000.000\n",
      "Name: amt_payment_current, dtype: float64\n",
      "\n",
      "Smallest Vals\n",
      "17    0.0\n",
      "18    0.0\n",
      "31    0.0\n",
      "33    0.0\n",
      "46    0.0\n",
      "Name: amt_payment_current, dtype: float64\n"
     ]
    },
    {
     "data": {
      "image/png": "[encoded data removed]",
      "text/plain": [
       "<Figure size 648x432 with 1 Axes>"
      ]
     },
     "metadata": {},
     "output_type": "display_data"
    }
   ],
   "source": [
    "anom_eval(cc, 'amt_payment_current', 'credit_card_balance.csv');"
   ]
  },
  {
   "cell_type": "code",
   "execution_count": 88,
   "metadata": {},
   "outputs": [
    {
     "name": "stdout",
     "output_type": "stream",
     "text": [
      "amt_payment_current\n",
      "amt_payment_total_current\n",
      "cnt_drawings_atm_current\n"
     ]
    }
   ],
   "source": [
    "for col in anom_cols:\n",
    "    print(col)\n",
    "    max_diff_idx = cc[col].sort_values().diff().nlargest(1).index\n",
    "    max_diff = cc.loc[max_diff_idx, col].squeeze()\n",
    "    denom = int(np.log10(max_diff))\n",
    "\n",
    "    if denom < 2:\n",
    "        # if we are only in the 10s palce leave it\n",
    "        cutoff = max_diff\n",
    "    else:\n",
    "        # if we are greater than the 10s place round down\n",
    "        cutoff = int(max_diff/(10**denom))*(10**denom)\n",
    "\n",
    "    anoms = cc.loc[cc[col]>=cutoff, col]\n",
    "    rest = cc.loc[~cc.index.isin(anoms.index), col]\n",
    "\n",
    "    # replace outliers with median from non-outlying data\n",
    "    cc.loc[anoms.index, col] = rest.median()\n",
    "\n",
    "\n",
    "    # create identifier for anomalies\n",
    "    cc[col+'_anom'] = 0\n",
    "    cc.loc[anoms.index, col+'_anom'] = 1\n",
    "\n",
    "\n",
    "    # add to indicator columns\n",
    "    indicator_cols.append(col+'_anom')"
   ]
  },
  {
   "cell_type": "markdown",
   "metadata": {},
   "source": [
    "___NOTE___ _NEED TO IDENTIFY NEG OUTLIERS!_"
   ]
  },
  {
   "cell_type": "markdown",
   "metadata": {},
   "source": [
    "### FillNa"
   ]
  },
  {
   "cell_type": "code",
   "execution_count": 91,
   "metadata": {
    "collapsed": true
   },
   "outputs": [],
   "source": [
    "# No missing obj cols\n",
    "obj_nulls = pct_null(cc[obj_cols])\n",
    "obj_nulls"
   ]
  },
  {
   "cell_type": "code",
   "execution_count": 93,
   "metadata": {
    "collapsed": true
   },
   "outputs": [],
   "source": [
    "# numeric nulls fill w median\n",
    "medians = cc[numeric_cols].median().squeeze()\n",
    "cc.fillna(medians, inplace=True)"
   ]
  },
  {
   "cell_type": "markdown",
   "metadata": {},
   "source": [
    "### Encode Cat Vars"
   ]
  },
  {
   "cell_type": "code",
   "execution_count": 96,
   "metadata": {},
   "outputs": [
    {
     "data": {
      "text/plain": [
       "Index([], dtype='object')"
      ]
     },
     "execution_count": 96,
     "metadata": {},
     "output_type": "execute_result"
    }
   ],
   "source": [
    "# Make sure no columns w only 1 val\n",
    "cc.columns[cc.nunique() < 2]"
   ]
  },
  {
   "cell_type": "code",
   "execution_count": 98,
   "metadata": {},
   "outputs": [
    {
     "data": {
      "text/plain": [
       "[]"
      ]
     },
     "execution_count": 98,
     "metadata": {},
     "output_type": "execute_result"
    }
   ],
   "source": [
    "# No Binary Columns?\n",
    "binary_cols = cc[obj_cols].nunique()[cc[obj_cols].nunique() ==2].index.tolist()\n",
    "binary_cols"
   ]
  },
  {
   "cell_type": "code",
   "execution_count": 99,
   "metadata": {},
   "outputs": [
    {
     "data": {
      "text/plain": [
       "['name_contract_status']"
      ]
     },
     "execution_count": 99,
     "metadata": {},
     "output_type": "execute_result"
    }
   ],
   "source": [
    "# One hot encode\n",
    "non_binary_cats = [col for col in obj_cols if col not in binary_cols]\n",
    "non_binary_cats"
   ]
  },
  {
   "cell_type": "code",
   "execution_count": 104,
   "metadata": {
    "collapsed": true
   },
   "outputs": [],
   "source": [
    "for col in non_binary_cats:\n",
    "    print(col)\n",
    "    ohe = pd.get_dummies(cc[col]) # drop_first?\n",
    "    ohe.columns = col + '_' + ohe.columns\n",
    "\n",
    "    # now drop first\n",
    "    ohe.drop(ohe.columns[0], axis=1, inplace=True)\n",
    "\n",
    "\n",
    "    cc = pd.concat([cc, ohe], axis=1)\n",
    "    del cc[col]\n",
    "    obj_cols.remove(col)\n",
    "    indicator_cols.extend(ohe.columns)"
   ]
  },
  {
   "cell_type": "code",
   "execution_count": 106,
   "metadata": {
    "collapsed": true
   },
   "outputs": [],
   "source": [
    "cc.to_csv('clean_data/cc_balances.csv', index = False)"
   ]
  },
  {
   "cell_type": "code",
   "execution_count": 94,
   "metadata": {
    "collapsed": true
   },
   "outputs": [],
   "source": [
    "cc = pd.read_csv('clean_data/cc_balances.csv', dtype={'sk_id_curr':str, 'sk_id_bueau':str, 'sk_id_prev':str})"
   ]
  },
  {
   "cell_type": "markdown",
   "metadata": {},
   "source": [
    "## Installments Payments"
   ]
  },
  {
   "cell_type": "code",
   "execution_count": 9,
   "metadata": {},
   "outputs": [
    {
     "data": {
      "text/plain": [
       "(13605401, 8)"
      ]
     },
     "execution_count": 9,
     "metadata": {},
     "output_type": "execute_result"
    }
   ],
   "source": [
    "payments = pd.read_csv(\"installments_payments.csv.zip\", dtype= {'SK_ID_CURR':str, 'SK_ID_BUREAU':str, 'SK_ID_PREV':str,\n",
    "                                                                'NUM_INSTALMENT_VERSION':str})\n",
    "payments.shape"
   ]
  },
  {
   "cell_type": "code",
   "execution_count": 10,
   "metadata": {},
   "outputs": [
    {
     "data": {
      "text/html": [
       "<div>\n",
       "<style scoped>\n",
       "    .dataframe tbody tr th:only-of-type {\n",
       "        vertical-align: middle;\n",
       "    }\n",
       "\n",
       "    .dataframe tbody tr th {\n",
       "        vertical-align: top;\n",
       "    }\n",
       "\n",
       "    .dataframe thead th {\n",
       "        text-align: right;\n",
       "    }\n",
       "</style>\n",
       "<table border=\"1\" class=\"dataframe\">\n",
       "  <thead>\n",
       "    <tr style=\"text-align: right;\">\n",
       "      <th></th>\n",
       "      <th>SK_ID_PREV</th>\n",
       "      <th>SK_ID_CURR</th>\n",
       "      <th>NUM_INSTALMENT_VERSION</th>\n",
       "      <th>NUM_INSTALMENT_NUMBER</th>\n",
       "      <th>DAYS_INSTALMENT</th>\n",
       "      <th>DAYS_ENTRY_PAYMENT</th>\n",
       "      <th>AMT_INSTALMENT</th>\n",
       "      <th>AMT_PAYMENT</th>\n",
       "    </tr>\n",
       "  </thead>\n",
       "  <tbody>\n",
       "    <tr>\n",
       "      <th>0</th>\n",
       "      <td>1054186</td>\n",
       "      <td>161674</td>\n",
       "      <td>1.0</td>\n",
       "      <td>6</td>\n",
       "      <td>-1180.0</td>\n",
       "      <td>-1187.0</td>\n",
       "      <td>6948.360</td>\n",
       "      <td>6948.360</td>\n",
       "    </tr>\n",
       "    <tr>\n",
       "      <th>1</th>\n",
       "      <td>1330831</td>\n",
       "      <td>151639</td>\n",
       "      <td>0.0</td>\n",
       "      <td>34</td>\n",
       "      <td>-2156.0</td>\n",
       "      <td>-2156.0</td>\n",
       "      <td>1716.525</td>\n",
       "      <td>1716.525</td>\n",
       "    </tr>\n",
       "    <tr>\n",
       "      <th>2</th>\n",
       "      <td>2085231</td>\n",
       "      <td>193053</td>\n",
       "      <td>2.0</td>\n",
       "      <td>1</td>\n",
       "      <td>-63.0</td>\n",
       "      <td>-63.0</td>\n",
       "      <td>25425.000</td>\n",
       "      <td>25425.000</td>\n",
       "    </tr>\n",
       "    <tr>\n",
       "      <th>3</th>\n",
       "      <td>2452527</td>\n",
       "      <td>199697</td>\n",
       "      <td>1.0</td>\n",
       "      <td>3</td>\n",
       "      <td>-2418.0</td>\n",
       "      <td>-2426.0</td>\n",
       "      <td>24350.130</td>\n",
       "      <td>24350.130</td>\n",
       "    </tr>\n",
       "    <tr>\n",
       "      <th>4</th>\n",
       "      <td>2714724</td>\n",
       "      <td>167756</td>\n",
       "      <td>1.0</td>\n",
       "      <td>2</td>\n",
       "      <td>-1383.0</td>\n",
       "      <td>-1366.0</td>\n",
       "      <td>2165.040</td>\n",
       "      <td>2160.585</td>\n",
       "    </tr>\n",
       "  </tbody>\n",
       "</table>\n",
       "</div>"
      ],
      "text/plain": [
       "  SK_ID_PREV SK_ID_CURR NUM_INSTALMENT_VERSION  NUM_INSTALMENT_NUMBER  \\\n",
       "0    1054186     161674                    1.0                      6   \n",
       "1    1330831     151639                    0.0                     34   \n",
       "2    2085231     193053                    2.0                      1   \n",
       "3    2452527     199697                    1.0                      3   \n",
       "4    2714724     167756                    1.0                      2   \n",
       "\n",
       "   DAYS_INSTALMENT  DAYS_ENTRY_PAYMENT  AMT_INSTALMENT  AMT_PAYMENT  \n",
       "0          -1180.0             -1187.0        6948.360     6948.360  \n",
       "1          -2156.0             -2156.0        1716.525     1716.525  \n",
       "2            -63.0               -63.0       25425.000    25425.000  \n",
       "3          -2418.0             -2426.0       24350.130    24350.130  \n",
       "4          -1383.0             -1366.0        2165.040     2160.585  "
      ]
     },
     "execution_count": 10,
     "metadata": {},
     "output_type": "execute_result"
    }
   ],
   "source": [
    "payments.head()"
   ]
  },
  {
   "cell_type": "code",
   "execution_count": 11,
   "metadata": {},
   "outputs": [
    {
     "data": {
      "text/plain": [
       "[('SK_ID_PREV ',\n",
       "  'ID of previous credit in Home credit related to loan in our sample. (One loan in our sample can have 0,1,2 or more previous loans in Home Credit)'),\n",
       " ('SK_ID_CURR', 'ID of loan in our sample'),\n",
       " ('NUM_INSTALMENT_VERSION',\n",
       "  'Version of installment calendar (0 is for credit card) of previous credit. Change of installment version from month to month signifies that some parameter of payment calendar has changed'),\n",
       " ('NUM_INSTALMENT_NUMBER', 'On which installment we observe payment'),\n",
       " ('DAYS_INSTALMENT',\n",
       "  'When the installment of previous credit was supposed to be paid (relative to application date of current loan)'),\n",
       " ('DAYS_ENTRY_PAYMENT',\n",
       "  'When was the installments of previous credit paid actually (relative to application date of current loan)'),\n",
       " ('AMT_INSTALMENT',\n",
       "  'What was the prescribed installment amount of previous credit on this installment'),\n",
       " ('AMT_PAYMENT',\n",
       "  'What the client actually paid on previous credit on this installment')]"
      ]
     },
     "execution_count": 11,
     "metadata": {},
     "output_type": "execute_result"
    }
   ],
   "source": [
    "list(\n",
    "    zip(col_des[col_des.Table=='installments_payments.csv'].Row.tolist(),col_des[col_des.Table=='installments_payments.csv'].Description.tolist())\n",
    ")"
   ]
  },
  {
   "cell_type": "markdown",
   "metadata": {
    "collapsed": true
   },
   "source": [
    "### Column Types"
   ]
  },
  {
   "cell_type": "code",
   "execution_count": 12,
   "metadata": {
    "collapsed": true
   },
   "outputs": [],
   "source": [
    "payments.columns = clean_columns(payments)"
   ]
  },
  {
   "cell_type": "code",
   "execution_count": 13,
   "metadata": {},
   "outputs": [
    {
     "data": {
      "text/plain": [
       "sk_id_prev                 object\n",
       "sk_id_curr                 object\n",
       "num_instalment_version     object\n",
       "num_instalment_number       int64\n",
       "days_instalment           float64\n",
       "days_entry_payment        float64\n",
       "amt_instalment            float64\n",
       "amt_payment               float64\n",
       "dtype: object"
      ]
     },
     "execution_count": 13,
     "metadata": {},
     "output_type": "execute_result"
    }
   ],
   "source": [
    "payments.dtypes"
   ]
  },
  {
   "cell_type": "code",
   "execution_count": 28,
   "metadata": {},
   "outputs": [
    {
     "name": "stdout",
     "output_type": "stream",
     "text": [
      "(13605401, 8) 8\n"
     ]
    }
   ],
   "source": [
    "pks = ['sk_id_curr','sk_id_prev'] # hmmm not rly tho\n",
    "obj_cols = payments.dtypes[payments.dtypes=='object'].index.drop(pks).tolist()\n",
    "int_cols = payments.dtypes[payments.dtypes==int].index.tolist()\n",
    "float_cols = payments.dtypes[payments.dtypes==float].index.tolist()\n",
    "numeric_cols = int_cols + float_cols\n",
    "\n",
    "indicator_cols = payments[numeric_cols].columns[payments[numeric_cols].apply(lambda s: s.nunique())==2].tolist()\n",
    "int_cols = [i for i in int_cols if i not in indicator_cols]\n",
    "float_cols = [i for i in float_cols if i not in indicator_cols]\n",
    "numeric_cols = int_cols + float_cols\n",
    "\n",
    "ordered_cols = sorted(pks) + sorted(obj_cols) + sorted(int_cols) + sorted(float_cols) + sorted(indicator_cols)\n",
    "print(payments.shape, len(ordered_cols))\n",
    "payments = payments[ordered_cols]"
   ]
  },
  {
   "cell_type": "markdown",
   "metadata": {
    "collapsed": true
   },
   "source": [
    "### Anomalies"
   ]
  },
  {
   "cell_type": "code",
   "execution_count": 29,
   "metadata": {},
   "outputs": [
    {
     "data": {
      "text/plain": [
       "Index(['days_instalment', 'days_entry_payment'], dtype='object')"
      ]
     },
     "execution_count": 29,
     "metadata": {},
     "output_type": "execute_result"
    }
   ],
   "source": [
    "neg_cols = payments[numeric_cols].columns[payments[numeric_cols].apply(lambda ser: (ser<0).any())]\n",
    "neg_cols"
   ]
  },
  {
   "cell_type": "code",
   "execution_count": 33,
   "metadata": {},
   "outputs": [
    {
     "name": "stdout",
     "output_type": "stream",
     "text": [
      "days_instalment\n",
      "days_entry_payment\n"
     ]
    }
   ],
   "source": [
    "# all vals are below zero. \n",
    "for col in neg_cols:\n",
    "    print(col)\n",
    "    payments.loc[payments[col]<0, col] *= -1"
   ]
  },
  {
   "cell_type": "code",
   "execution_count": 35,
   "metadata": {},
   "outputs": [
    {
     "data": {
      "text/plain": [
       "days_entry_payment    2.199639\n",
       "amt_instalment        5.890913\n",
       "amt_payment           5.442599\n",
       "dtype: float64"
      ]
     },
     "execution_count": 35,
     "metadata": {},
     "output_type": "execute_result"
    }
   ],
   "source": [
    "# find large jumps in distribution\n",
    "gaps = payments[numeric_cols].apply(lambda s: s.sort_values().diff().max()/s.std())\n",
    "gaps[gaps>2]"
   ]
  },
  {
   "cell_type": "code",
   "execution_count": 45,
   "metadata": {
    "scrolled": false
   },
   "outputs": [
    {
     "name": "stdout",
     "output_type": "stream",
     "text": [
      "installments_payments.csv\n",
      "amt_payment\n",
      "What the client actually paid on previous credit on this installment\n",
      "\n",
      "Max Diffs\n",
      "4455742    3771487.845\n",
      "3366817    3371884.155\n",
      "1546640    3065242.455\n",
      "Name: amt_payment, dtype: float64\n",
      "\n",
      "Largest Vals\n",
      "4455742    3771487.845\n",
      "860189     3473582.895\n",
      "6986907    3436835.130\n",
      "3366817    3371884.155\n",
      "9119046    3202061.805\n",
      "Name: amt_payment, dtype: float64\n",
      "\n",
      "Smallest Vals\n",
      "9171     0.0\n",
      "27338    0.0\n",
      "39555    0.0\n",
      "51978    0.0\n",
      "52839    0.0\n",
      "Name: amt_payment, dtype: float64\n"
     ]
    },
    {
     "data": {
      "image/png": "[encoded data removed]",
      "text/plain": [
       "<Figure size 648x432 with 1 Axes>"
      ]
     },
     "metadata": {},
     "output_type": "display_data"
    }
   ],
   "source": [
    "anom_eval(payments, 'amt_payment', 'installments_payments.csv');"
   ]
  },
  {
   "cell_type": "code",
   "execution_count": 47,
   "metadata": {
    "collapsed": true
   },
   "outputs": [],
   "source": [
    "anom_cols = gaps[gaps>2].index.tolist()"
   ]
  },
  {
   "cell_type": "code",
   "execution_count": 50,
   "metadata": {},
   "outputs": [
    {
     "name": "stdout",
     "output_type": "stream",
     "text": [
      "days_entry_payment\n",
      "amt_instalment\n",
      "amt_payment\n"
     ]
    }
   ],
   "source": [
    "for col in anom_cols:\n",
    "    print(col)\n",
    "    max_diff_idx = payments[col].sort_values().diff().nlargest(1).index\n",
    "    max_diff = payments.loc[max_diff_idx, col].squeeze()\n",
    "    denom = int(np.log10(max_diff))\n",
    "    \n",
    "    if denom < 2:\n",
    "        # if we are only in the 10s palce leave it\n",
    "        cutoff = max_diff\n",
    "    else:\n",
    "        # if we are greater than the 10s place round down\n",
    "        cutoff = int(max_diff/(10**denom))*(10**denom)\n",
    "\n",
    "    \n",
    "    anoms = payments.loc[payments[col]>=cutoff, col]\n",
    "    rest = payments.loc[~payments.index.isin(anoms.index)]\n",
    "    \n",
    "    # replace outliers with median from non-outlying data\n",
    "    payments.loc[anoms.index, col] = rest.median()\n",
    "\n",
    "\n",
    "    # create identifier for anomalies\n",
    "    payments[col+'_anom'] = 0\n",
    "    payments.loc[anoms.index, col+'_anom'] = 1\n",
    "\n",
    "\n",
    "    # add to indicator columns\n",
    "    indicator_cols.append(col+'_anom')"
   ]
  },
  {
   "cell_type": "markdown",
   "metadata": {},
   "source": [
    "### FILL NA"
   ]
  },
  {
   "cell_type": "code",
   "execution_count": 51,
   "metadata": {
    "collapsed": true
   },
   "outputs": [],
   "source": [
    "# No missing obj cols\n",
    "obj_nulls = pct_null(payments[obj_cols])\n",
    "obj_nulls"
   ]
  },
  {
   "cell_type": "code",
   "execution_count": 52,
   "metadata": {
    "collapsed": true
   },
   "outputs": [],
   "source": [
    "# numeric nulls fill w median\n",
    "medians = payments[numeric_cols].median().squeeze()\n",
    "payments.fillna(medians, inplace=True)"
   ]
  },
  {
   "cell_type": "markdown",
   "metadata": {},
   "source": [
    "### Encode Cat Variables"
   ]
  },
  {
   "cell_type": "code",
   "execution_count": 53,
   "metadata": {},
   "outputs": [
    {
     "data": {
      "text/plain": [
       "Index([], dtype='object')"
      ]
     },
     "execution_count": 53,
     "metadata": {},
     "output_type": "execute_result"
    }
   ],
   "source": [
    "payments.columns[payments.nunique()<2]"
   ]
  },
  {
   "cell_type": "code",
   "execution_count": 57,
   "metadata": {},
   "outputs": [
    {
     "data": {
      "text/plain": [
       "Index([], dtype='object')"
      ]
     },
     "execution_count": 57,
     "metadata": {},
     "output_type": "execute_result"
    }
   ],
   "source": [
    "# No Binary Columns?\n",
    "binary_cols = payments[obj_cols].columns[payments[obj_cols].nunique()==2]\n",
    "binary_cols"
   ]
  },
  {
   "cell_type": "code",
   "execution_count": 58,
   "metadata": {},
   "outputs": [
    {
     "data": {
      "text/plain": [
       "['num_instalment_version']"
      ]
     },
     "execution_count": 58,
     "metadata": {},
     "output_type": "execute_result"
    }
   ],
   "source": [
    "# One hot encode\n",
    "non_binary_cats = [col for col in obj_cols if col not in binary_cols]\n",
    "non_binary_cats"
   ]
  },
  {
   "cell_type": "code",
   "execution_count": 60,
   "metadata": {},
   "outputs": [
    {
     "name": "stdout",
     "output_type": "stream",
     "text": [
      "num_instalment_version\n"
     ]
    }
   ],
   "source": [
    "for col in non_binary_cats:\n",
    "    print(col)\n",
    "    ohe = pd.get_dummies(payments[col], drop_first=True) # drop_first?\n",
    "    ohe.columns = col + '_' + ohe.columns\n",
    "\n",
    "    payments = pd.concat([payments, ohe], axis=1)\n",
    "    del payments[col]\n",
    "    obj_cols.remove(col)\n",
    "    indicator_cols.extend(ohe.columns.tolist())"
   ]
  },
  {
   "cell_type": "code",
   "execution_count": 61,
   "metadata": {
    "collapsed": true
   },
   "outputs": [],
   "source": [
    "payments.to_csv('clean_data/payments.csv', index = False)"
   ]
  },
  {
   "cell_type": "code",
   "execution_count": 93,
   "metadata": {
    "collapsed": true
   },
   "outputs": [],
   "source": [
    "payments = pd.read_csv('clean_data/payments.csv', dtype={'sk_id_curr':str, 'sk_id_bueau':str, 'sk_id_prev':str, \n",
    "                                                         'num_install_ment_version':str})"
   ]
  },
  {
   "cell_type": "markdown",
   "metadata": {},
   "source": [
    "## POS Cash Balances"
   ]
  },
  {
   "cell_type": "code",
   "execution_count": 75,
   "metadata": {},
   "outputs": [
    {
     "data": {
      "text/plain": [
       "(10001358, 8)"
      ]
     },
     "execution_count": 75,
     "metadata": {},
     "output_type": "execute_result"
    }
   ],
   "source": [
    "pos = pd.read_csv(\"POS_CASH_balance.csv.zip\", dtype= {'SK_ID_CURR':str, 'SK_ID_BUREAU':str, 'SK_ID_PREV':str})\n",
    "pos.shape"
   ]
  },
  {
   "cell_type": "code",
   "execution_count": 76,
   "metadata": {},
   "outputs": [
    {
     "data": {
      "text/html": [
       "<div>\n",
       "<style scoped>\n",
       "    .dataframe tbody tr th:only-of-type {\n",
       "        vertical-align: middle;\n",
       "    }\n",
       "\n",
       "    .dataframe tbody tr th {\n",
       "        vertical-align: top;\n",
       "    }\n",
       "\n",
       "    .dataframe thead th {\n",
       "        text-align: right;\n",
       "    }\n",
       "</style>\n",
       "<table border=\"1\" class=\"dataframe\">\n",
       "  <thead>\n",
       "    <tr style=\"text-align: right;\">\n",
       "      <th></th>\n",
       "      <th>SK_ID_PREV</th>\n",
       "      <th>SK_ID_CURR</th>\n",
       "      <th>MONTHS_BALANCE</th>\n",
       "      <th>CNT_INSTALMENT</th>\n",
       "      <th>CNT_INSTALMENT_FUTURE</th>\n",
       "      <th>NAME_CONTRACT_STATUS</th>\n",
       "      <th>SK_DPD</th>\n",
       "      <th>SK_DPD_DEF</th>\n",
       "    </tr>\n",
       "  </thead>\n",
       "  <tbody>\n",
       "    <tr>\n",
       "      <th>0</th>\n",
       "      <td>1803195</td>\n",
       "      <td>182943</td>\n",
       "      <td>-31</td>\n",
       "      <td>48.0</td>\n",
       "      <td>45.0</td>\n",
       "      <td>Active</td>\n",
       "      <td>0</td>\n",
       "      <td>0</td>\n",
       "    </tr>\n",
       "    <tr>\n",
       "      <th>1</th>\n",
       "      <td>1715348</td>\n",
       "      <td>367990</td>\n",
       "      <td>-33</td>\n",
       "      <td>36.0</td>\n",
       "      <td>35.0</td>\n",
       "      <td>Active</td>\n",
       "      <td>0</td>\n",
       "      <td>0</td>\n",
       "    </tr>\n",
       "    <tr>\n",
       "      <th>2</th>\n",
       "      <td>1784872</td>\n",
       "      <td>397406</td>\n",
       "      <td>-32</td>\n",
       "      <td>12.0</td>\n",
       "      <td>9.0</td>\n",
       "      <td>Active</td>\n",
       "      <td>0</td>\n",
       "      <td>0</td>\n",
       "    </tr>\n",
       "    <tr>\n",
       "      <th>3</th>\n",
       "      <td>1903291</td>\n",
       "      <td>269225</td>\n",
       "      <td>-35</td>\n",
       "      <td>48.0</td>\n",
       "      <td>42.0</td>\n",
       "      <td>Active</td>\n",
       "      <td>0</td>\n",
       "      <td>0</td>\n",
       "    </tr>\n",
       "    <tr>\n",
       "      <th>4</th>\n",
       "      <td>2341044</td>\n",
       "      <td>334279</td>\n",
       "      <td>-35</td>\n",
       "      <td>36.0</td>\n",
       "      <td>35.0</td>\n",
       "      <td>Active</td>\n",
       "      <td>0</td>\n",
       "      <td>0</td>\n",
       "    </tr>\n",
       "  </tbody>\n",
       "</table>\n",
       "</div>"
      ],
      "text/plain": [
       "  SK_ID_PREV SK_ID_CURR  MONTHS_BALANCE  CNT_INSTALMENT  \\\n",
       "0    1803195     182943             -31            48.0   \n",
       "1    1715348     367990             -33            36.0   \n",
       "2    1784872     397406             -32            12.0   \n",
       "3    1903291     269225             -35            48.0   \n",
       "4    2341044     334279             -35            36.0   \n",
       "\n",
       "   CNT_INSTALMENT_FUTURE NAME_CONTRACT_STATUS  SK_DPD  SK_DPD_DEF  \n",
       "0                   45.0               Active       0           0  \n",
       "1                   35.0               Active       0           0  \n",
       "2                    9.0               Active       0           0  \n",
       "3                   42.0               Active       0           0  \n",
       "4                   35.0               Active       0           0  "
      ]
     },
     "execution_count": 76,
     "metadata": {},
     "output_type": "execute_result"
    }
   ],
   "source": [
    "pos.head()"
   ]
  },
  {
   "cell_type": "code",
   "execution_count": 77,
   "metadata": {},
   "outputs": [
    {
     "data": {
      "text/plain": [
       "[('SK_ID_PREV ',\n",
       "  'ID of previous credit in Home Credit related to loan in our sample. (One loan in our sample can have 0,1,2 or more previous loans in Home Credit)'),\n",
       " ('SK_ID_CURR', 'ID of loan in our sample'),\n",
       " ('MONTHS_BALANCE',\n",
       "  'Month of balance relative to application date (-1 means the information to the freshest monthly snapshot, 0 means the information at application - often it will be the same as -1 as many banks are not updating the information to Credit Bureau regularly )'),\n",
       " ('CNT_INSTALMENT', 'Term of previous credit (can change over time)'),\n",
       " ('CNT_INSTALMENT_FUTURE', 'Installments left to pay on the previous credit'),\n",
       " ('NAME_CONTRACT_STATUS', 'Contract status during the month'),\n",
       " ('SK_DPD', 'DPD (days past due) during the month of previous credit'),\n",
       " ('SK_DPD_DEF',\n",
       "  'DPD during the month with tolerance (debts with low loan amounts are ignored) of the previous credit')]"
      ]
     },
     "execution_count": 77,
     "metadata": {},
     "output_type": "execute_result"
    }
   ],
   "source": [
    "list(\n",
    "    zip(col_des[col_des.Table=='POS_CASH_balance.csv'].Row.tolist(),col_des[col_des.Table=='POS_CASH_balance.csv'].Description.tolist())\n",
    ")"
   ]
  },
  {
   "cell_type": "markdown",
   "metadata": {},
   "source": [
    "### Column Types"
   ]
  },
  {
   "cell_type": "code",
   "execution_count": 78,
   "metadata": {
    "collapsed": true
   },
   "outputs": [],
   "source": [
    "pos.columns = clean_columns(pos)"
   ]
  },
  {
   "cell_type": "code",
   "execution_count": 79,
   "metadata": {},
   "outputs": [
    {
     "name": "stdout",
     "output_type": "stream",
     "text": [
      "sk_id_prev                object\n",
      "sk_id_curr                object\n",
      "months_balance             int64\n",
      "cnt_instalment           float64\n",
      "cnt_instalment_future    float64\n",
      "name_contract_status      object\n",
      "sk_dpd                     int64\n",
      "sk_dpd_def                 int64\n",
      "dtype: object\n"
     ]
    }
   ],
   "source": [
    "print(pos.dtypes)\n",
    "# will have to fill Nas first!\n",
    "correct_dtypes = {\n",
    "    'sk_id_prev': str,\n",
    "    'sk_id_curr': str,\n",
    "    'months_balance': int,\n",
    "    'cnt_instalment': int,\n",
    "    'cnt_instalment_future': int,\n",
    "    'name_contract_status': str,\n",
    "    'sk_dpd': int,\n",
    "    'sk_dpd_def': int\n",
    "}"
   ]
  },
  {
   "cell_type": "code",
   "execution_count": 80,
   "metadata": {},
   "outputs": [
    {
     "name": "stdout",
     "output_type": "stream",
     "text": [
      "8 8\n"
     ]
    }
   ],
   "source": [
    "pks = ['sk_id_prev', 'sk_id_curr']\n",
    "obj_cols = pos.select_dtypes('object').columns.drop(pks).tolist()\n",
    "numeric_cols = pos.select_dtypes('number').columns.tolist()\n",
    "\n",
    "indicator_cols = []\n",
    "\n",
    "ordered_cols = pks + obj_cols + numeric_cols\n",
    "print(len(pos.columns), len(ordered_cols))\n",
    "pos = pos[ordered_cols]"
   ]
  },
  {
   "cell_type": "markdown",
   "metadata": {},
   "source": [
    "### Anomalies"
   ]
  },
  {
   "cell_type": "code",
   "execution_count": 81,
   "metadata": {},
   "outputs": [
    {
     "data": {
      "text/plain": [
       "Index(['months_balance'], dtype='object')"
      ]
     },
     "execution_count": 81,
     "metadata": {},
     "output_type": "execute_result"
    }
   ],
   "source": [
    "neg_cols = pos[numeric_cols].columns[(pos[numeric_cols]<0).any()]\n",
    "neg_cols"
   ]
  },
  {
   "cell_type": "code",
   "execution_count": 82,
   "metadata": {},
   "outputs": [
    {
     "name": "stdout",
     "output_type": "stream",
     "text": [
      "months_balance\n"
     ]
    }
   ],
   "source": [
    "for col in neg_cols:\n",
    "    print(col)\n",
    "    pos.loc[pos[col]<0,col] *= -1"
   ]
  },
  {
   "cell_type": "code",
   "execution_count": 83,
   "metadata": {},
   "outputs": [
    {
     "data": {
      "text/plain": [
       "months_balance           0.038363\n",
       "cnt_instalment           0.666941\n",
       "cnt_instalment_future    0.720133\n",
       "sk_dpd                   0.233585\n",
       "sk_dpd_def               0.946204\n",
       "dtype: float64"
      ]
     },
     "execution_count": 83,
     "metadata": {},
     "output_type": "execute_result"
    }
   ],
   "source": [
    "# No outliers?\n",
    "gaps = pos[numeric_cols].apply(lambda ser: ser.sort_values().diff().max()/ser.std())\n",
    "gaps"
   ]
  },
  {
   "cell_type": "markdown",
   "metadata": {},
   "source": [
    "### Fill Na"
   ]
  },
  {
   "cell_type": "code",
   "execution_count": 84,
   "metadata": {
    "collapsed": true
   },
   "outputs": [],
   "source": [
    "# No missing obj cols\n",
    "obj_nulls = pct_null(pos[obj_cols])\n",
    "obj_nulls"
   ]
  },
  {
   "cell_type": "code",
   "execution_count": 85,
   "metadata": {
    "collapsed": true
   },
   "outputs": [],
   "source": [
    "# numeric nulls fill w median\n",
    "medians = pos[numeric_cols].median().squeeze()\n",
    "pos.fillna(medians, inplace=True)"
   ]
  },
  {
   "cell_type": "markdown",
   "metadata": {},
   "source": [
    "### Encode Categorical Vars"
   ]
  },
  {
   "cell_type": "code",
   "execution_count": 86,
   "metadata": {},
   "outputs": [
    {
     "data": {
      "text/plain": [
       "Index([], dtype='object')"
      ]
     },
     "execution_count": 86,
     "metadata": {},
     "output_type": "execute_result"
    }
   ],
   "source": [
    "# check all cols have more than 1 val\n",
    "pos.columns[pos.nunique()<2]"
   ]
  },
  {
   "cell_type": "code",
   "execution_count": 87,
   "metadata": {},
   "outputs": [
    {
     "data": {
      "text/plain": [
       "Index([], dtype='object')"
      ]
     },
     "execution_count": 87,
     "metadata": {},
     "output_type": "execute_result"
    }
   ],
   "source": [
    "binary_cols = pos.columns[pos.nunique()==2]\n",
    "binary_cols"
   ]
  },
  {
   "cell_type": "code",
   "execution_count": 88,
   "metadata": {},
   "outputs": [
    {
     "data": {
      "text/plain": [
       "['name_contract_status']"
      ]
     },
     "execution_count": 88,
     "metadata": {},
     "output_type": "execute_result"
    }
   ],
   "source": [
    "non_binary_cols = obj_cols.copy()\n",
    "non_binary_cols"
   ]
  },
  {
   "cell_type": "code",
   "execution_count": 89,
   "metadata": {
    "collapsed": true
   },
   "outputs": [],
   "source": [
    "col = non_binary_cols[0]"
   ]
  },
  {
   "cell_type": "code",
   "execution_count": 92,
   "metadata": {},
   "outputs": [],
   "source": [
    "# only 1 column\n",
    "ohe_df = pd.get_dummies(pos[col])\n",
    "# Drop the Missing col\n",
    "ohe_df.drop('XNA', axis=1, inplace=True)\n",
    "ohe_df.columns = col + '_' + ohe_df.columns\n",
    "\n",
    "pos = pd.concat([pos, ohe_df], axis=1)\n",
    "del pos[col]\n",
    "obj_cols.remove(col)\n",
    "indicator_cols.extend(ohe_df.columns.tolist())"
   ]
  },
  {
   "cell_type": "code",
   "execution_count": 102,
   "metadata": {},
   "outputs": [],
   "source": [
    "pos.to_csv('clean_data/pos.csv',index=False)"
   ]
  },
  {
   "cell_type": "markdown",
   "metadata": {},
   "source": [
    "Am I merging these? Aggregating? Do I have to do prev apps first?"
   ]
  },
  {
   "cell_type": "code",
   "execution_count": null,
   "metadata": {
    "collapsed": true
   },
   "outputs": [],
   "source": []
  }
 ],
 "metadata": {
  "kernelspec": {
   "display_name": "Python 3",
   "language": "python",
   "name": "python3"
  },
  "language_info": {
   "codemirror_mode": {
    "name": "ipython",
    "version": 3
   },
   "file_extension": ".py",
   "mimetype": "text/x-python",
   "name": "python",
   "nbconvert_exporter": "python",
   "pygments_lexer": "ipython3",
   "version": "3.6.1"
  }
 },
 "nbformat": 4,
 "nbformat_minor": 2
}
