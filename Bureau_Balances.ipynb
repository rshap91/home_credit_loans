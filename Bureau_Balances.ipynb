{
 "cells": [
  {
   "cell_type": "code",
   "execution_count": 1,
   "metadata": {
    "collapsed": true
   },
   "outputs": [],
   "source": [
    "import numpy as np\n",
    "import pandas as pd\n",
    "from dstk.utils.data_cleaning import clean_columns\n",
    "\n",
    "import matplotlib.pyplot as plt\n",
    "import seaborn as sns\n",
    "\n",
    "%matplotlib inline\n",
    "\n",
    "sns.set_style('dark')\n",
    "plt.rcParams['figure.figsize'] = (9,6)\n",
    "np.set_printoptions(suppress=True)\n",
    "pd.options.display.max_columns = 150"
   ]
  },
  {
   "cell_type": "code",
   "execution_count": 2,
   "metadata": {
    "collapsed": true
   },
   "outputs": [],
   "source": [
    "def col_descrip(table, col):\n",
    "    \"Looks up column description for given table\"\n",
    "    print(table)\n",
    "    print(col)\n",
    "    return col_des.loc[(col_des.Table==table) & (col_des.Row==col.upper()),\n",
    "            'Description'].values[0]\n",
    "\n",
    "def anom_eval(df, col, filename):\n",
    "    print(col_descrip(filename, col))\n",
    "    print()\n",
    "\n",
    "    max_diff_idx = df[col].sort_values().diff().nlargest(3).index\n",
    "    max_diffs = df.loc[max_diff_idx, col]\n",
    "    nlargest = df[col].nlargest()\n",
    "    nsmallest = df[col].nsmallest()\n",
    "\n",
    "    print('Max Diffs')\n",
    "    print(max_diffs)\n",
    "    print()\n",
    "    print(\"Largest Vals\")\n",
    "    print(nlargest)\n",
    "    print()\n",
    "    print(\"Smallest Vals\")\n",
    "    print(nsmallest)\n",
    "    df[col].hist()\n",
    "    df[col].value_counts().sort_index()\n",
    "\n",
    "    return max_diffs, nlargest\n",
    "\n",
    "def pct_null(df):\n",
    "    null_counts = df.isnull().sum()[df.isnull().sum()>0].sort_values(ascending=False).to_frame()\n",
    "    if null_counts.empty:\n",
    "        return None\n",
    "    null_counts['pct_null'] = null_counts/df.shape[0]\n",
    "    null_counts.columns = ['n_null', 'pct_null']\n",
    "    return null_counts"
   ]
  },
  {
   "cell_type": "code",
   "execution_count": 3,
   "metadata": {},
   "outputs": [
    {
     "data": {
      "text/plain": [
       "(219, 5)"
      ]
     },
     "execution_count": 3,
     "metadata": {},
     "output_type": "execute_result"
    }
   ],
   "source": [
    "col_des = pd.read_csv('HomeCredit_columns_description.csv', encoding='latin-1')\n",
    "col_des.shape"
   ]
  },
  {
   "cell_type": "code",
   "execution_count": 6,
   "metadata": {},
   "outputs": [
    {
     "data": {
      "text/plain": [
       "(1716428, 17)"
      ]
     },
     "execution_count": 6,
     "metadata": {},
     "output_type": "execute_result"
    }
   ],
   "source": [
    "bureau = pd.read_csv(\"raw_data/bureau.csv.zip\", dtype= {'SK_ID_CURR':str, 'SK_ID_BUREAU':str})\n",
    "bureau.shape"
   ]
  },
  {
   "cell_type": "code",
   "execution_count": 7,
   "metadata": {},
   "outputs": [
    {
     "data": {
      "text/html": [
       "<div>\n",
       "<style scoped>\n",
       "    .dataframe tbody tr th:only-of-type {\n",
       "        vertical-align: middle;\n",
       "    }\n",
       "\n",
       "    .dataframe tbody tr th {\n",
       "        vertical-align: top;\n",
       "    }\n",
       "\n",
       "    .dataframe thead th {\n",
       "        text-align: right;\n",
       "    }\n",
       "</style>\n",
       "<table border=\"1\" class=\"dataframe\">\n",
       "  <thead>\n",
       "    <tr style=\"text-align: right;\">\n",
       "      <th></th>\n",
       "      <th>SK_ID_CURR</th>\n",
       "      <th>SK_ID_BUREAU</th>\n",
       "      <th>CREDIT_ACTIVE</th>\n",
       "      <th>CREDIT_CURRENCY</th>\n",
       "      <th>DAYS_CREDIT</th>\n",
       "      <th>CREDIT_DAY_OVERDUE</th>\n",
       "      <th>DAYS_CREDIT_ENDDATE</th>\n",
       "      <th>DAYS_ENDDATE_FACT</th>\n",
       "      <th>AMT_CREDIT_MAX_OVERDUE</th>\n",
       "      <th>CNT_CREDIT_PROLONG</th>\n",
       "      <th>AMT_CREDIT_SUM</th>\n",
       "      <th>AMT_CREDIT_SUM_DEBT</th>\n",
       "      <th>AMT_CREDIT_SUM_LIMIT</th>\n",
       "      <th>AMT_CREDIT_SUM_OVERDUE</th>\n",
       "      <th>CREDIT_TYPE</th>\n",
       "      <th>DAYS_CREDIT_UPDATE</th>\n",
       "      <th>AMT_ANNUITY</th>\n",
       "    </tr>\n",
       "  </thead>\n",
       "  <tbody>\n",
       "    <tr>\n",
       "      <th>0</th>\n",
       "      <td>215354</td>\n",
       "      <td>5714462</td>\n",
       "      <td>Closed</td>\n",
       "      <td>currency 1</td>\n",
       "      <td>-497</td>\n",
       "      <td>0</td>\n",
       "      <td>-153.0</td>\n",
       "      <td>-153.0</td>\n",
       "      <td>NaN</td>\n",
       "      <td>0</td>\n",
       "      <td>91323.0</td>\n",
       "      <td>0.0</td>\n",
       "      <td>NaN</td>\n",
       "      <td>0.0</td>\n",
       "      <td>Consumer credit</td>\n",
       "      <td>-131</td>\n",
       "      <td>NaN</td>\n",
       "    </tr>\n",
       "    <tr>\n",
       "      <th>1</th>\n",
       "      <td>215354</td>\n",
       "      <td>5714463</td>\n",
       "      <td>Active</td>\n",
       "      <td>currency 1</td>\n",
       "      <td>-208</td>\n",
       "      <td>0</td>\n",
       "      <td>1075.0</td>\n",
       "      <td>NaN</td>\n",
       "      <td>NaN</td>\n",
       "      <td>0</td>\n",
       "      <td>225000.0</td>\n",
       "      <td>171342.0</td>\n",
       "      <td>NaN</td>\n",
       "      <td>0.0</td>\n",
       "      <td>Credit card</td>\n",
       "      <td>-20</td>\n",
       "      <td>NaN</td>\n",
       "    </tr>\n",
       "    <tr>\n",
       "      <th>2</th>\n",
       "      <td>215354</td>\n",
       "      <td>5714464</td>\n",
       "      <td>Active</td>\n",
       "      <td>currency 1</td>\n",
       "      <td>-203</td>\n",
       "      <td>0</td>\n",
       "      <td>528.0</td>\n",
       "      <td>NaN</td>\n",
       "      <td>NaN</td>\n",
       "      <td>0</td>\n",
       "      <td>464323.5</td>\n",
       "      <td>NaN</td>\n",
       "      <td>NaN</td>\n",
       "      <td>0.0</td>\n",
       "      <td>Consumer credit</td>\n",
       "      <td>-16</td>\n",
       "      <td>NaN</td>\n",
       "    </tr>\n",
       "    <tr>\n",
       "      <th>3</th>\n",
       "      <td>215354</td>\n",
       "      <td>5714465</td>\n",
       "      <td>Active</td>\n",
       "      <td>currency 1</td>\n",
       "      <td>-203</td>\n",
       "      <td>0</td>\n",
       "      <td>NaN</td>\n",
       "      <td>NaN</td>\n",
       "      <td>NaN</td>\n",
       "      <td>0</td>\n",
       "      <td>90000.0</td>\n",
       "      <td>NaN</td>\n",
       "      <td>NaN</td>\n",
       "      <td>0.0</td>\n",
       "      <td>Credit card</td>\n",
       "      <td>-16</td>\n",
       "      <td>NaN</td>\n",
       "    </tr>\n",
       "    <tr>\n",
       "      <th>4</th>\n",
       "      <td>215354</td>\n",
       "      <td>5714466</td>\n",
       "      <td>Active</td>\n",
       "      <td>currency 1</td>\n",
       "      <td>-629</td>\n",
       "      <td>0</td>\n",
       "      <td>1197.0</td>\n",
       "      <td>NaN</td>\n",
       "      <td>77674.5</td>\n",
       "      <td>0</td>\n",
       "      <td>2700000.0</td>\n",
       "      <td>NaN</td>\n",
       "      <td>NaN</td>\n",
       "      <td>0.0</td>\n",
       "      <td>Consumer credit</td>\n",
       "      <td>-21</td>\n",
       "      <td>NaN</td>\n",
       "    </tr>\n",
       "  </tbody>\n",
       "</table>\n",
       "</div>"
      ],
      "text/plain": [
       "  SK_ID_CURR SK_ID_BUREAU CREDIT_ACTIVE CREDIT_CURRENCY  DAYS_CREDIT  \\\n",
       "0     215354      5714462        Closed      currency 1         -497   \n",
       "1     215354      5714463        Active      currency 1         -208   \n",
       "2     215354      5714464        Active      currency 1         -203   \n",
       "3     215354      5714465        Active      currency 1         -203   \n",
       "4     215354      5714466        Active      currency 1         -629   \n",
       "\n",
       "   CREDIT_DAY_OVERDUE  DAYS_CREDIT_ENDDATE  DAYS_ENDDATE_FACT  \\\n",
       "0                   0               -153.0             -153.0   \n",
       "1                   0               1075.0                NaN   \n",
       "2                   0                528.0                NaN   \n",
       "3                   0                  NaN                NaN   \n",
       "4                   0               1197.0                NaN   \n",
       "\n",
       "   AMT_CREDIT_MAX_OVERDUE  CNT_CREDIT_PROLONG  AMT_CREDIT_SUM  \\\n",
       "0                     NaN                   0         91323.0   \n",
       "1                     NaN                   0        225000.0   \n",
       "2                     NaN                   0        464323.5   \n",
       "3                     NaN                   0         90000.0   \n",
       "4                 77674.5                   0       2700000.0   \n",
       "\n",
       "   AMT_CREDIT_SUM_DEBT  AMT_CREDIT_SUM_LIMIT  AMT_CREDIT_SUM_OVERDUE  \\\n",
       "0                  0.0                   NaN                     0.0   \n",
       "1             171342.0                   NaN                     0.0   \n",
       "2                  NaN                   NaN                     0.0   \n",
       "3                  NaN                   NaN                     0.0   \n",
       "4                  NaN                   NaN                     0.0   \n",
       "\n",
       "       CREDIT_TYPE  DAYS_CREDIT_UPDATE  AMT_ANNUITY  \n",
       "0  Consumer credit                -131          NaN  \n",
       "1      Credit card                 -20          NaN  \n",
       "2  Consumer credit                 -16          NaN  \n",
       "3      Credit card                 -16          NaN  \n",
       "4  Consumer credit                 -21          NaN  "
      ]
     },
     "execution_count": 7,
     "metadata": {},
     "output_type": "execute_result"
    }
   ],
   "source": [
    "bureau.head()"
   ]
  },
  {
   "cell_type": "code",
   "execution_count": 8,
   "metadata": {
    "scrolled": true
   },
   "outputs": [
    {
     "data": {
      "text/plain": [
       "[('SK_ID_CURR',\n",
       "  'ID of loan in our sample - one loan in our sample can have 0,1,2 or more related previous credits in credit bureau '),\n",
       " ('SK_BUREAU_ID',\n",
       "  'Recoded ID of previous Credit Bureau credit related to our loan (unique coding for each loan application)'),\n",
       " ('CREDIT_ACTIVE', 'Status of the Credit Bureau (CB) reported credits'),\n",
       " ('CREDIT_CURRENCY', 'Recoded currency of the Credit Bureau credit'),\n",
       " ('DAYS_CREDIT',\n",
       "  'How many days before current application did client apply for Credit Bureau credit'),\n",
       " ('CREDIT_DAY_OVERDUE',\n",
       "  'Number of days past due on CB credit at the time of application for related loan in our sample'),\n",
       " ('DAYS_CREDIT_ENDDATE',\n",
       "  'Remaining duration of CB credit (in days) at the time of application in Home Credit'),\n",
       " ('DAYS_ENDDATE_FACT',\n",
       "  'Days since CB credit ended at the time of application in Home Credit (only for closed credit)'),\n",
       " ('AMT_CREDIT_MAX_OVERDUE',\n",
       "  'Maximal amount overdue on the Credit Bureau credit so far (at application date of loan in our sample)'),\n",
       " ('CNT_CREDIT_PROLONG',\n",
       "  'How many times was the Credit Bureau credit prolonged'),\n",
       " ('AMT_CREDIT_SUM', 'Current credit amount for the Credit Bureau credit'),\n",
       " ('AMT_CREDIT_SUM_DEBT', 'Current debt on Credit Bureau credit'),\n",
       " ('AMT_CREDIT_SUM_LIMIT',\n",
       "  'Current credit limit of credit card reported in Credit Bureau'),\n",
       " ('AMT_CREDIT_SUM_OVERDUE', 'Current amount overdue on Credit Bureau credit'),\n",
       " ('CREDIT_TYPE', 'Type of Credit Bureau credit (Car, cash,...)'),\n",
       " ('DAYS_CREDIT_UPDATE',\n",
       "  'How many days before loan application did last information about the Credit Bureau credit come'),\n",
       " ('AMT_ANNUITY', 'Annuity of the Credit Bureau credit')]"
      ]
     },
     "execution_count": 8,
     "metadata": {},
     "output_type": "execute_result"
    }
   ],
   "source": [
    "list(\n",
    "    zip(col_des[col_des.Table=='bureau.csv'].Row.tolist(),col_des[col_des.Table=='bureau.csv'].Description.tolist())\n",
    ")"
   ]
  },
  {
   "cell_type": "code",
   "execution_count": 10,
   "metadata": {},
   "outputs": [
    {
     "data": {
      "text/plain": [
       "(27299925, 3)"
      ]
     },
     "execution_count": 10,
     "metadata": {},
     "output_type": "execute_result"
    }
   ],
   "source": [
    "bureau_balances = pd.read_csv('raw_data/bureau_balance.csv.zip',  dtype={'SK_ID_CURR':str, 'SK_ID_BUREAU':str})\n",
    "bureau_balances.shape"
   ]
  },
  {
   "cell_type": "code",
   "execution_count": 11,
   "metadata": {},
   "outputs": [
    {
     "data": {
      "text/html": [
       "<div>\n",
       "<style scoped>\n",
       "    .dataframe tbody tr th:only-of-type {\n",
       "        vertical-align: middle;\n",
       "    }\n",
       "\n",
       "    .dataframe tbody tr th {\n",
       "        vertical-align: top;\n",
       "    }\n",
       "\n",
       "    .dataframe thead th {\n",
       "        text-align: right;\n",
       "    }\n",
       "</style>\n",
       "<table border=\"1\" class=\"dataframe\">\n",
       "  <thead>\n",
       "    <tr style=\"text-align: right;\">\n",
       "      <th></th>\n",
       "      <th>SK_ID_BUREAU</th>\n",
       "      <th>MONTHS_BALANCE</th>\n",
       "      <th>STATUS</th>\n",
       "    </tr>\n",
       "  </thead>\n",
       "  <tbody>\n",
       "    <tr>\n",
       "      <th>0</th>\n",
       "      <td>5715448</td>\n",
       "      <td>0</td>\n",
       "      <td>C</td>\n",
       "    </tr>\n",
       "    <tr>\n",
       "      <th>1</th>\n",
       "      <td>5715448</td>\n",
       "      <td>-1</td>\n",
       "      <td>C</td>\n",
       "    </tr>\n",
       "    <tr>\n",
       "      <th>2</th>\n",
       "      <td>5715448</td>\n",
       "      <td>-2</td>\n",
       "      <td>C</td>\n",
       "    </tr>\n",
       "    <tr>\n",
       "      <th>3</th>\n",
       "      <td>5715448</td>\n",
       "      <td>-3</td>\n",
       "      <td>C</td>\n",
       "    </tr>\n",
       "    <tr>\n",
       "      <th>4</th>\n",
       "      <td>5715448</td>\n",
       "      <td>-4</td>\n",
       "      <td>C</td>\n",
       "    </tr>\n",
       "  </tbody>\n",
       "</table>\n",
       "</div>"
      ],
      "text/plain": [
       "  SK_ID_BUREAU  MONTHS_BALANCE STATUS\n",
       "0      5715448               0      C\n",
       "1      5715448              -1      C\n",
       "2      5715448              -2      C\n",
       "3      5715448              -3      C\n",
       "4      5715448              -4      C"
      ]
     },
     "execution_count": 11,
     "metadata": {},
     "output_type": "execute_result"
    }
   ],
   "source": [
    "bureau_balances.head()"
   ]
  },
  {
   "cell_type": "code",
   "execution_count": 12,
   "metadata": {},
   "outputs": [
    {
     "data": {
      "text/plain": [
       "[('SK_BUREAU_ID',\n",
       "  'Recoded ID of Credit Bureau credit (unique coding for each application) - use this to join to CREDIT_BUREAU table '),\n",
       " ('MONTHS_BALANCE',\n",
       "  'Month of balance relative to application date (-1 means the freshest balance date)'),\n",
       " ('STATUS',\n",
       "  'Status of Credit Bureau loan during the month (active, closed, DPD0-30,\\x85 [C means closed, X means status unknown, 0 means no DPD, 1 means maximal did during month between 1-30, 2 means DPD 31-60,\\x85 5 means DPD 120+ or sold or written off ] )')]"
      ]
     },
     "execution_count": 12,
     "metadata": {},
     "output_type": "execute_result"
    }
   ],
   "source": [
    "list(\n",
    "    zip(col_des[col_des.Table=='bureau_balance.csv'].Row.tolist(),col_des[col_des.Table=='bureau_balance.csv'].Description.tolist())\n",
    ")"
   ]
  },
  {
   "cell_type": "code",
   "execution_count": 13,
   "metadata": {},
   "outputs": [
    {
     "data": {
      "text/plain": [
       "<matplotlib.axes._subplots.AxesSubplot at 0x12670cf98>"
      ]
     },
     "execution_count": 13,
     "metadata": {},
     "output_type": "execute_result"
    },
    {
     "data": {
      "image/png": "[encoded data removed]",
      "text/plain": [
       "<Figure size 648x432 with 1 Axes>"
      ]
     },
     "metadata": {},
     "output_type": "display_data"
    }
   ],
   "source": [
    "# Most lones were short term?\n",
    "bureau_balances.MONTHS_BALANCE.hist()"
   ]
  },
  {
   "cell_type": "markdown",
   "metadata": {},
   "source": [
    "## Cleaning"
   ]
  },
  {
   "cell_type": "markdown",
   "metadata": {},
   "source": [
    "Ordered Columns By Type:\n",
    "    - Primary Key and Target\n",
    "    - Object\n",
    "    - Int + Float = Numeric\n",
    "    - Indicators (parsed from int cols)\n",
    "\n",
    "Evaluated Numeric Anomalies:\n",
    "    - Looked far large gaps in the ordered values of each column\n",
    "    - Evaluated manually, replaced anoms with col medians\n",
    "    - Created indicator cols for anom rows\n",
    "\n",
    "Fill NAs:\n",
    "    - Object Cols filled with either most frequent value or with \"MISSING\" which will be turned into an indicator\n",
    "    - Numeric imputed with median\n",
    "\n",
    "Encode Obj Cols:\n",
    "    - Binary columns turned into 0s/1s\n",
    "    - Multi-val columns OHE"
   ]
  },
  {
   "cell_type": "markdown",
   "metadata": {},
   "source": [
    "### Column Types"
   ]
  },
  {
   "cell_type": "code",
   "execution_count": 14,
   "metadata": {},
   "outputs": [
    {
     "data": {
      "text/plain": [
       "float64    8\n",
       "object     5\n",
       "int64      4\n",
       "dtype: int64"
      ]
     },
     "execution_count": 14,
     "metadata": {},
     "output_type": "execute_result"
    }
   ],
   "source": [
    "bureau.dtypes.value_counts()"
   ]
  },
  {
   "cell_type": "code",
   "execution_count": 15,
   "metadata": {},
   "outputs": [
    {
     "name": "stdout",
     "output_type": "stream",
     "text": [
      "(1716428, 17) 17\n"
     ]
    }
   ],
   "source": [
    "bureau.columns = clean_columns(bureau)\n",
    "pks = ['sk_id_curr', 'sk_id_bureau']\n",
    "\n",
    "obj_cols = bureau.dtypes[bureau.dtypes == 'object'].index.tolist()\n",
    "obj_cols = [col for col in obj_cols if col not in pks]\n",
    "int_cols = bureau.dtypes[bureau.dtypes == 'int64'].index.tolist()\n",
    "float_cols = bureau.dtypes[bureau.dtypes == 'float64'].index.tolist()\n",
    "numeric_cols = int_cols + float_cols\n",
    "indicator_cols = bureau[numeric_cols].columns[bureau[numeric_cols].apply(lambda s: s.nunique())==2].tolist()\n",
    "\n",
    "# remove indicator cols from numeric cols\n",
    "int_cols = [i for i in int_cols if i not in indicator_cols]\n",
    "float_cols = [i for i in float_cols if i not in indicator_cols]\n",
    "numeric_cols = int_cols + float_cols\n",
    "\n",
    "\n",
    "ordered_cols = sorted(pks) + sorted(obj_cols) + sorted(int_cols) + sorted(float_cols) + sorted(indicator_cols)\n",
    "print(bureau.shape, len(ordered_cols))\n",
    "bureau = bureau[ordered_cols]"
   ]
  },
  {
   "cell_type": "markdown",
   "metadata": {},
   "source": [
    "### Anomalies"
   ]
  },
  {
   "cell_type": "code",
   "execution_count": 16,
   "metadata": {},
   "outputs": [
    {
     "name": "stdout",
     "output_type": "stream",
     "text": [
      "days_credit\n",
      "days_credit_update\n",
      "days_credit_enddate\n",
      "days_enddate_fact\n",
      "amt_credit_sum_debt\n",
      "amt_credit_sum_limit\n"
     ]
    }
   ],
   "source": [
    "neg_cols = bureau[numeric_cols].columns[bureau[numeric_cols].apply(lambda ser: (ser < 0).any())].tolist()\n",
    "for col in neg_cols:\n",
    "    print(col)\n",
    "    bureau.loc[bureau[col]<0, col] *= -1"
   ]
  },
  {
   "cell_type": "code",
   "execution_count": 14,
   "metadata": {},
   "outputs": [
    {
     "data": {
      "text/plain": [
       "cnt_credit_prolong         10.392428\n",
       "days_credit_update         54.018977\n",
       "days_credit_enddate         2.269330\n",
       "days_enddate_fact          54.594426\n",
       "amt_credit_max_overdue    377.914034\n",
       "amt_credit_sum            196.467013\n",
       "amt_credit_sum_debt       145.546632\n",
       "amt_credit_sum_limit       19.724401\n",
       "amt_credit_sum_overdue    217.902873\n",
       "amt_annuity                95.282754\n",
       "dtype: float64"
      ]
     },
     "execution_count": 14,
     "metadata": {},
     "output_type": "execute_result"
    }
   ],
   "source": [
    "gaps = bureau[numeric_cols].apply(lambda s: s.sort_values().diff().max()/s.std())\n",
    "gaps[gaps>2]"
   ]
  },
  {
   "cell_type": "code",
   "execution_count": 15,
   "metadata": {
    "collapsed": true
   },
   "outputs": [],
   "source": [
    "cols = [\n",
    "    'days_credit_update',\n",
    "    'days_credit_enddate',\n",
    "    'days_enddate_fact',\n",
    "    'amt_credit_max_overdue',\n",
    "    'amt_annuity',\n",
    "\n",
    "    'amt_credit_sum',\n",
    "    'amt_credit_sum_debt',\n",
    "    'amt_credit_sum_limit',\n",
    "    'amt_credit_sum_overdue',\n",
    "\n",
    "]"
   ]
  },
  {
   "cell_type": "code",
   "execution_count": 16,
   "metadata": {},
   "outputs": [
    {
     "name": "stdout",
     "output_type": "stream",
     "text": [
      "bureau.csv\n",
      "amt_credit_sum_overdue\n",
      "Current amount overdue on Credit Bureau credit\n",
      "\n",
      "Max Diffs\n",
      "1689290    3681063.0\n",
      "188140     2387232.0\n",
      "1430899    1617403.5\n",
      "Name: amt_credit_sum_overdue, dtype: float64\n",
      "\n",
      "Largest Vals\n",
      "940407     3756681.0\n",
      "1689290    3681063.0\n",
      "188140     2387232.0\n",
      "271894     1851210.0\n",
      "1430899    1617403.5\n",
      "Name: amt_credit_sum_overdue, dtype: float64\n",
      "\n",
      "Smallest Vals\n",
      "0    0.0\n",
      "1    0.0\n",
      "2    0.0\n",
      "3    0.0\n",
      "4    0.0\n",
      "Name: amt_credit_sum_overdue, dtype: float64\n"
     ]
    },
    {
     "data": {
      "text/plain": [
       "(1689290    3681063.0\n",
       " 188140     2387232.0\n",
       " 1430899    1617403.5\n",
       " Name: amt_credit_sum_overdue, dtype: float64, 940407     3756681.0\n",
       " 1689290    3681063.0\n",
       " 188140     2387232.0\n",
       " 271894     1851210.0\n",
       " 1430899    1617403.5\n",
       " Name: amt_credit_sum_overdue, dtype: float64)"
      ]
     },
     "execution_count": 16,
     "metadata": {},
     "output_type": "execute_result"
    }
   ],
   "source": [
    "anom_eval(bureau, 'amt_credit_sum_overdue', 'bureau.csv')"
   ]
  },
  {
   "cell_type": "code",
   "execution_count": 17,
   "metadata": {},
   "outputs": [
    {
     "name": "stdout",
     "output_type": "stream",
     "text": [
      "days_credit_update\n",
      "days_credit_enddate\n",
      "days_enddate_fact\n",
      "amt_credit_max_overdue\n",
      "amt_annuity\n",
      "amt_credit_sum\n",
      "amt_credit_sum_debt\n",
      "amt_credit_sum_limit\n",
      "amt_credit_sum_overdue\n"
     ]
    }
   ],
   "source": [
    "for col in cols:\n",
    "    print(col)\n",
    "    max_diff_idx = bureau[col].sort_values().diff().nlargest(1).index\n",
    "    max_diff = bureau.loc[max_diff_idx, col].squeeze()\n",
    "    denom = int(np.log10(max_diff))\n",
    "\n",
    "    if denom < 2:\n",
    "        # if we are only in the 10s palce leave it\n",
    "        cutoff = max_diff\n",
    "    else:\n",
    "        # if we are greater than the 10s place round down\n",
    "        cutoff = int(max_diff/(10**denom))*(10**denom)\n",
    "\n",
    "    anoms = bureau.loc[bureau[col]>=cutoff, col]\n",
    "    rest = bureau.loc[~bureau.index.isin(anoms.index), col]\n",
    "\n",
    "    # replace outliers with median from non-outlying data\n",
    "    bureau.loc[anoms.index, col] = rest.median()\n",
    "\n",
    "\n",
    "    # create identifier for anomalies\n",
    "    bureau[col+'_anom'] = 0\n",
    "    bureau.loc[anoms.index, col+'_anom'] = 1\n",
    "\n",
    "\n",
    "    # add to indicator columns\n",
    "    indicator_cols.append(col+'_anom')"
   ]
  },
  {
   "cell_type": "markdown",
   "metadata": {},
   "source": [
    "### FILL NA"
   ]
  },
  {
   "cell_type": "code",
   "execution_count": 18,
   "metadata": {
    "collapsed": true
   },
   "outputs": [],
   "source": [
    "# No missing obj cols\n",
    "obj_nulls = pct_null(bureau[obj_cols])\n",
    "obj_nulls"
   ]
  },
  {
   "cell_type": "code",
   "execution_count": 19,
   "metadata": {
    "collapsed": true
   },
   "outputs": [],
   "source": [
    "# numeric nulls fill w median\n",
    "medians = bureau[numeric_cols].median().squeeze()\n",
    "bureau.fillna(medians, inplace=True)"
   ]
  },
  {
   "cell_type": "markdown",
   "metadata": {},
   "source": [
    "### Encoding Cat Vars"
   ]
  },
  {
   "cell_type": "code",
   "execution_count": 20,
   "metadata": {},
   "outputs": [
    {
     "data": {
      "text/plain": [
       "Index([], dtype='object')"
      ]
     },
     "execution_count": 20,
     "metadata": {},
     "output_type": "execute_result"
    }
   ],
   "source": [
    "bureau.columns[bureau.nunique() < 2]"
   ]
  },
  {
   "cell_type": "code",
   "execution_count": 21,
   "metadata": {},
   "outputs": [
    {
     "data": {
      "text/plain": [
       "[]"
      ]
     },
     "execution_count": 21,
     "metadata": {},
     "output_type": "execute_result"
    }
   ],
   "source": [
    "# No Binary Columns?\n",
    "binary_cols = bureau[obj_cols].nunique()[bureau[obj_cols].nunique() ==2].index.tolist()\n",
    "binary_cols"
   ]
  },
  {
   "cell_type": "code",
   "execution_count": 22,
   "metadata": {},
   "outputs": [
    {
     "data": {
      "text/plain": [
       "['credit_active', 'credit_currency', 'credit_type']"
      ]
     },
     "execution_count": 22,
     "metadata": {},
     "output_type": "execute_result"
    }
   ],
   "source": [
    "# One hot encode\n",
    "non_binary_cats = [col for col in obj_cols if col not in binary_cols]\n",
    "non_binary_cats"
   ]
  },
  {
   "cell_type": "code",
   "execution_count": 23,
   "metadata": {},
   "outputs": [
    {
     "name": "stdout",
     "output_type": "stream",
     "text": [
      "credit_active\n",
      "credit_currency\n",
      "credit_type\n"
     ]
    }
   ],
   "source": [
    "for col in non_binary_cats:\n",
    "    print(col)\n",
    "    ohe = pd.get_dummies(bureau[col]) # drop_first?\n",
    "    ohe.columns = col + '_' + ohe.columns\n",
    "\n",
    "    # now drop first\n",
    "    ohe.drop(ohe.columns[0], axis=1, inplace=True)\n",
    "\n",
    "\n",
    "    bureau = pd.concat([bureau, ohe], axis=1)\n",
    "    del bureau[col]\n",
    "    obj_cols.remove(col)\n",
    "    indicator_cols.extend(ohe.columns.tolist())"
   ]
  },
  {
   "cell_type": "code",
   "execution_count": 24,
   "metadata": {
    "collapsed": true
   },
   "outputs": [],
   "source": [
    "bureau.to_csv('clean_data/bureau.csv',index=False)"
   ]
  },
  {
   "cell_type": "markdown",
   "metadata": {},
   "source": [
    "We are going to have to merge aggregates of sk_id_curr from bureau onto app_train/test. Rather than just totaling/averaging. Lets try and pivot by time so we have windows of time before present (eg balances within prev year, balances within prev 5 years, 10 yr etc.\n",
    "\n",
    "This creates more columns but hopefully adds more useful information."
   ]
  },
  {
   "cell_type": "code",
   "execution_count": 25,
   "metadata": {
    "collapsed": true
   },
   "outputs": [],
   "source": [
    "# Quick Cleaning\n",
    "bureau_balances.columns = clean_columns(bureau_balances)"
   ]
  },
  {
   "cell_type": "code",
   "execution_count": 26,
   "metadata": {},
   "outputs": [
    {
     "name": "stdout",
     "output_type": "stream",
     "text": [
      "bureau_balance.csv\n",
      "months_balance\n"
     ]
    },
    {
     "data": {
      "text/plain": [
       "'Month of balance relative to application date (-1 means the freshest balance date)'"
      ]
     },
     "execution_count": 26,
     "metadata": {},
     "output_type": "execute_result"
    }
   ],
   "source": [
    "col_descrip('bureau_balance.csv', 'months_balance')"
   ]
  },
  {
   "cell_type": "code",
   "execution_count": 27,
   "metadata": {
    "collapsed": true
   },
   "outputs": [],
   "source": [
    "# make positive\n",
    "bureau_balances['months_balance'] = bureau_balances.months_balance * -1"
   ]
  },
  {
   "cell_type": "code",
   "execution_count": 28,
   "metadata": {
    "collapsed": true
   },
   "outputs": [],
   "source": [
    "# bin balances into ['lt_1yr', '1-5yr', '5-10yr', 'gt10yr']\n",
    "bureau_balances['balance_date_bin'] = pd.cut(bureau_balances.months_balance, [0,12,60,120,np.inf], labels=['lt1yr', 'yr1_5', 'yr5_10', 'gt10yr'], right=False)"
   ]
  },
  {
   "cell_type": "code",
   "execution_count": 29,
   "metadata": {
    "collapsed": true
   },
   "outputs": [],
   "source": [
    "# drop the original months_balance col\n",
    "bureau_balances.drop('months_balance', axis=1, inplace=True)"
   ]
  },
  {
   "cell_type": "code",
   "execution_count": 30,
   "metadata": {},
   "outputs": [
    {
     "name": "stdout",
     "output_type": "stream",
     "text": [
      "bureau_balance.csv\n",
      "status\n"
     ]
    },
    {
     "data": {
      "text/plain": [
       "'Status of Credit Bureau loan during the month (active, closed, DPD0-30,\\x85 [C means closed, X means status unknown, 0 means no DPD, 1 means maximal did during month between 1-30, 2 means DPD 31-60,\\x85 5 means DPD 120+ or sold or written off ] )'"
      ]
     },
     "execution_count": 30,
     "metadata": {},
     "output_type": "execute_result"
    }
   ],
   "source": [
    "col_descrip('bureau_balance.csv', 'status')"
   ]
  },
  {
   "cell_type": "markdown",
   "metadata": {},
   "source": [
    "One hot encode Status"
   ]
  },
  {
   "cell_type": "code",
   "execution_count": 31,
   "metadata": {
    "collapsed": true
   },
   "outputs": [],
   "source": [
    "status_dummies = pd.get_dummies(bureau_balances.status).drop('X',axis=1)\n",
    "status_dummies.columns = 'balance_status_'+status_dummies.columns\n",
    "\n",
    "bureau_balances.drop('status', axis=1, inplace=True)\n",
    "bureau_balances = pd.concat([bureau_balances, status_dummies], axis=1)"
   ]
  },
  {
   "cell_type": "markdown",
   "metadata": {},
   "source": [
    "Merge with Bureau"
   ]
  },
  {
   "cell_type": "code",
   "execution_count": 33,
   "metadata": {},
   "outputs": [
    {
     "data": {
      "text/plain": [
       "(3120184,)"
      ]
     },
     "execution_count": 33,
     "metadata": {},
     "output_type": "execute_result"
    }
   ],
   "source": [
    "# 3 million rows where the sk_id_bureau isn't in the main bureau file\n",
    "# not really sure what to do about these... so dropping them\n",
    "bureau_balances.sk_id_bureau[~bureau_balances.sk_id_bureau.isin(bureau.sk_id_bureau.unique())].shape"
   ]
  },
  {
   "cell_type": "code",
   "execution_count": 34,
   "metadata": {},
   "outputs": [
    {
     "data": {
      "text/plain": [
       "(24179741, 9)"
      ]
     },
     "execution_count": 34,
     "metadata": {},
     "output_type": "execute_result"
    }
   ],
   "source": [
    "bureau_balances = bureau_balances[bureau_balances.sk_id_bureau.isin(bureau.sk_id_bureau.unique())].reset_index(drop=True)\n",
    "bureau_balances.shape"
   ]
  },
  {
   "cell_type": "code",
   "execution_count": 53,
   "metadata": {},
   "outputs": [
    {
     "data": {
      "text/plain": [
       "(774354, 28)"
      ]
     },
     "execution_count": 53,
     "metadata": {},
     "output_type": "execute_result"
    }
   ],
   "source": [
    "# counts of statuses by date bin\n",
    "agg_stati = bureau_balances.groupby(['sk_id_bureau','balance_date_bin']).sum().unstack(1).fillna(0)\n",
    "agg_stati.shape"
   ]
  },
  {
   "cell_type": "code",
   "execution_count": 54,
   "metadata": {
    "collapsed": true
   },
   "outputs": [],
   "source": [
    "agg_stati.columns = [\n",
    "    '_'.join(tup) for tup in \n",
    "    zip(agg_stati.columns.get_level_values(0).tolist(), agg_stati.columns.get_level_values(1).tolist())\n",
    "]\n",
    "\n",
    "agg_stati.reset_index(inplace=True)"
   ]
  },
  {
   "cell_type": "code",
   "execution_count": 56,
   "metadata": {},
   "outputs": [
    {
     "data": {
      "text/plain": [
       "((1716428, 43), (774354, 29))"
      ]
     },
     "execution_count": 56,
     "metadata": {},
     "output_type": "execute_result"
    }
   ],
   "source": [
    "bureau.shape, agg_stati.shape"
   ]
  },
  {
   "cell_type": "code",
   "execution_count": 58,
   "metadata": {},
   "outputs": [
    {
     "data": {
      "text/plain": [
       "(942074, 43)"
      ]
     },
     "execution_count": 58,
     "metadata": {},
     "output_type": "execute_result"
    }
   ],
   "source": [
    "# this sucks... \n",
    "bureau[~bureau.sk_id_bureau.isin(agg_stati.sk_id_bureau)].shape"
   ]
  },
  {
   "cell_type": "code",
   "execution_count": 63,
   "metadata": {},
   "outputs": [
    {
     "data": {
      "text/plain": [
       "(1716428, 71)"
      ]
     },
     "execution_count": 63,
     "metadata": {},
     "output_type": "execute_result"
    }
   ],
   "source": [
    "# Merge\n",
    "bureau_mrgd = bureau.merge(agg_stati, 'left', ['sk_id_bureau'])\n",
    "bureau_mrgd.shape"
   ]
  },
  {
   "cell_type": "markdown",
   "metadata": {},
   "source": [
    "Take care of Nas"
   ]
  },
  {
   "cell_type": "code",
   "execution_count": 64,
   "metadata": {
    "scrolled": true
   },
   "outputs": [
    {
     "data": {
      "text/plain": [
       "sk_id_bureau                             0\n",
       "sk_id_curr                               0\n",
       "cnt_credit_prolong                       0\n",
       "credit_day_overdue                       0\n",
       "days_credit                              0\n",
       "days_credit_update                       0\n",
       "amt_annuity                              0\n",
       "amt_credit_max_overdue                   0\n",
       "amt_credit_sum                           0\n",
       "amt_credit_sum_debt                      0\n",
       "amt_credit_sum_limit                     0\n",
       "amt_credit_sum_overdue                   0\n",
       "days_credit_enddate                      0\n",
       "days_enddate_fact                        0\n",
       "days_credit_update_anom                  0\n",
       "days_credit_enddate_anom                 0\n",
       "days_enddate_fact_anom                   0\n",
       "amt_credit_max_overdue_anom              0\n",
       "amt_annuity_anom                         0\n",
       "amt_credit_sum_anom                      0\n",
       "amt_credit_sum_debt_anom                 0\n",
       "amt_credit_sum_limit_anom                0\n",
       "amt_credit_sum_overdue_anom              0\n",
       "credit_active_Bad debt                   0\n",
       "credit_active_Closed                     0\n",
       "credit_active_Sold                       0\n",
       "credit_currency_currency 2               0\n",
       "credit_currency_currency 3               0\n",
       "credit_currency_currency 4               0\n",
       "credit_type_Car loan                     0\n",
       "                                     ...  \n",
       "credit_type_Real estate loan             0\n",
       "credit_type_Unknown type of loan         0\n",
       "balance_status_0_lt1yr              942074\n",
       "balance_status_0_yr1_5              942074\n",
       "balance_status_0_yr5_10             942074\n",
       "balance_status_0_gt10yr             942074\n",
       "balance_status_1_lt1yr              942074\n",
       "balance_status_1_yr1_5              942074\n",
       "balance_status_1_yr5_10             942074\n",
       "balance_status_1_gt10yr             942074\n",
       "balance_status_2_lt1yr              942074\n",
       "balance_status_2_yr1_5              942074\n",
       "balance_status_2_yr5_10             942074\n",
       "balance_status_2_gt10yr             942074\n",
       "balance_status_3_lt1yr              942074\n",
       "balance_status_3_yr1_5              942074\n",
       "balance_status_3_yr5_10             942074\n",
       "balance_status_3_gt10yr             942074\n",
       "balance_status_4_lt1yr              942074\n",
       "balance_status_4_yr1_5              942074\n",
       "balance_status_4_yr5_10             942074\n",
       "balance_status_4_gt10yr             942074\n",
       "balance_status_5_lt1yr              942074\n",
       "balance_status_5_yr1_5              942074\n",
       "balance_status_5_yr5_10             942074\n",
       "balance_status_5_gt10yr             942074\n",
       "balance_status_C_lt1yr              942074\n",
       "balance_status_C_yr1_5              942074\n",
       "balance_status_C_yr5_10             942074\n",
       "balance_status_C_gt10yr             942074\n",
       "Length: 71, dtype: int64"
      ]
     },
     "execution_count": 64,
     "metadata": {},
     "output_type": "execute_result"
    }
   ],
   "source": [
    "bureau_mrgd.isnull().sum()"
   ]
  },
  {
   "cell_type": "code",
   "execution_count": 73,
   "metadata": {
    "collapsed": true,
    "scrolled": true
   },
   "outputs": [],
   "source": [
    "# medians of balance statuses to fill nas\n",
    "status_medians = bureau_mrgd[bureau_mrgd.isnull().sum()[bureau_mrgd.isnull().sum()>0].index.tolist()].median()\n",
    "bureau_mrgd.fillna(status_medians,inplace=True)"
   ]
  },
  {
   "cell_type": "code",
   "execution_count": 74,
   "metadata": {},
   "outputs": [
    {
     "data": {
      "text/html": [
       "<div>\n",
       "<style scoped>\n",
       "    .dataframe tbody tr th:only-of-type {\n",
       "        vertical-align: middle;\n",
       "    }\n",
       "\n",
       "    .dataframe tbody tr th {\n",
       "        vertical-align: top;\n",
       "    }\n",
       "\n",
       "    .dataframe thead th {\n",
       "        text-align: right;\n",
       "    }\n",
       "</style>\n",
       "<table border=\"1\" class=\"dataframe\">\n",
       "  <thead>\n",
       "    <tr style=\"text-align: right;\">\n",
       "      <th></th>\n",
       "      <th>sk_id_bureau</th>\n",
       "      <th>sk_id_curr</th>\n",
       "      <th>cnt_credit_prolong</th>\n",
       "      <th>credit_day_overdue</th>\n",
       "      <th>days_credit</th>\n",
       "      <th>days_credit_update</th>\n",
       "      <th>amt_annuity</th>\n",
       "      <th>amt_credit_max_overdue</th>\n",
       "      <th>amt_credit_sum</th>\n",
       "      <th>amt_credit_sum_debt</th>\n",
       "      <th>amt_credit_sum_limit</th>\n",
       "      <th>amt_credit_sum_overdue</th>\n",
       "      <th>days_credit_enddate</th>\n",
       "      <th>days_enddate_fact</th>\n",
       "      <th>days_credit_update_anom</th>\n",
       "      <th>days_credit_enddate_anom</th>\n",
       "      <th>days_enddate_fact_anom</th>\n",
       "      <th>amt_credit_max_overdue_anom</th>\n",
       "      <th>amt_annuity_anom</th>\n",
       "      <th>amt_credit_sum_anom</th>\n",
       "      <th>amt_credit_sum_debt_anom</th>\n",
       "      <th>amt_credit_sum_limit_anom</th>\n",
       "      <th>amt_credit_sum_overdue_anom</th>\n",
       "      <th>credit_active_Bad debt</th>\n",
       "      <th>credit_active_Closed</th>\n",
       "      <th>credit_active_Sold</th>\n",
       "      <th>credit_currency_currency 2</th>\n",
       "      <th>credit_currency_currency 3</th>\n",
       "      <th>credit_currency_currency 4</th>\n",
       "      <th>credit_type_Car loan</th>\n",
       "      <th>credit_type_Cash loan (non-earmarked)</th>\n",
       "      <th>credit_type_Consumer credit</th>\n",
       "      <th>credit_type_Credit card</th>\n",
       "      <th>credit_type_Interbank credit</th>\n",
       "      <th>credit_type_Loan for business development</th>\n",
       "      <th>credit_type_Loan for purchase of shares (margin lending)</th>\n",
       "      <th>credit_type_Loan for the purchase of equipment</th>\n",
       "      <th>credit_type_Loan for working capital replenishment</th>\n",
       "      <th>credit_type_Microloan</th>\n",
       "      <th>credit_type_Mobile operator loan</th>\n",
       "      <th>credit_type_Mortgage</th>\n",
       "      <th>credit_type_Real estate loan</th>\n",
       "      <th>credit_type_Unknown type of loan</th>\n",
       "      <th>balance_status_0_lt1yr</th>\n",
       "      <th>balance_status_0_yr1_5</th>\n",
       "      <th>balance_status_0_yr5_10</th>\n",
       "      <th>balance_status_0_gt10yr</th>\n",
       "      <th>balance_status_1_lt1yr</th>\n",
       "      <th>balance_status_1_yr1_5</th>\n",
       "      <th>balance_status_1_yr5_10</th>\n",
       "      <th>balance_status_1_gt10yr</th>\n",
       "      <th>balance_status_2_lt1yr</th>\n",
       "      <th>balance_status_2_yr1_5</th>\n",
       "      <th>balance_status_2_yr5_10</th>\n",
       "      <th>balance_status_2_gt10yr</th>\n",
       "      <th>balance_status_3_lt1yr</th>\n",
       "      <th>balance_status_3_yr1_5</th>\n",
       "      <th>balance_status_3_yr5_10</th>\n",
       "      <th>balance_status_3_gt10yr</th>\n",
       "      <th>balance_status_4_lt1yr</th>\n",
       "      <th>balance_status_4_yr1_5</th>\n",
       "      <th>balance_status_4_yr5_10</th>\n",
       "      <th>balance_status_4_gt10yr</th>\n",
       "      <th>balance_status_5_lt1yr</th>\n",
       "      <th>balance_status_5_yr1_5</th>\n",
       "      <th>balance_status_5_yr5_10</th>\n",
       "      <th>balance_status_5_gt10yr</th>\n",
       "      <th>balance_status_C_lt1yr</th>\n",
       "      <th>balance_status_C_yr1_5</th>\n",
       "      <th>balance_status_C_yr5_10</th>\n",
       "      <th>balance_status_C_gt10yr</th>\n",
       "    </tr>\n",
       "  </thead>\n",
       "  <tbody>\n",
       "    <tr>\n",
       "      <th>0</th>\n",
       "      <td>5714462</td>\n",
       "      <td>215354</td>\n",
       "      <td>0</td>\n",
       "      <td>0</td>\n",
       "      <td>497</td>\n",
       "      <td>131.0</td>\n",
       "      <td>0.0</td>\n",
       "      <td>0.0</td>\n",
       "      <td>91323.0</td>\n",
       "      <td>0.0</td>\n",
       "      <td>0.0</td>\n",
       "      <td>0.0</td>\n",
       "      <td>153.0</td>\n",
       "      <td>153.0</td>\n",
       "      <td>0</td>\n",
       "      <td>0</td>\n",
       "      <td>0</td>\n",
       "      <td>0</td>\n",
       "      <td>0</td>\n",
       "      <td>0</td>\n",
       "      <td>0</td>\n",
       "      <td>0</td>\n",
       "      <td>0</td>\n",
       "      <td>0</td>\n",
       "      <td>1</td>\n",
       "      <td>0</td>\n",
       "      <td>0</td>\n",
       "      <td>0</td>\n",
       "      <td>0</td>\n",
       "      <td>0</td>\n",
       "      <td>0</td>\n",
       "      <td>1</td>\n",
       "      <td>0</td>\n",
       "      <td>0</td>\n",
       "      <td>0</td>\n",
       "      <td>0</td>\n",
       "      <td>0</td>\n",
       "      <td>0</td>\n",
       "      <td>0</td>\n",
       "      <td>0</td>\n",
       "      <td>0</td>\n",
       "      <td>0</td>\n",
       "      <td>0</td>\n",
       "      <td>0.0</td>\n",
       "      <td>3.0</td>\n",
       "      <td>0.0</td>\n",
       "      <td>0.0</td>\n",
       "      <td>0.0</td>\n",
       "      <td>0.0</td>\n",
       "      <td>0.0</td>\n",
       "      <td>0.0</td>\n",
       "      <td>0.0</td>\n",
       "      <td>0.0</td>\n",
       "      <td>0.0</td>\n",
       "      <td>0.0</td>\n",
       "      <td>0.0</td>\n",
       "      <td>0.0</td>\n",
       "      <td>0.0</td>\n",
       "      <td>0.0</td>\n",
       "      <td>0.0</td>\n",
       "      <td>0.0</td>\n",
       "      <td>0.0</td>\n",
       "      <td>0.0</td>\n",
       "      <td>0.0</td>\n",
       "      <td>0.0</td>\n",
       "      <td>0.0</td>\n",
       "      <td>0.0</td>\n",
       "      <td>0.0</td>\n",
       "      <td>0.0</td>\n",
       "      <td>0.0</td>\n",
       "      <td>0.0</td>\n",
       "    </tr>\n",
       "    <tr>\n",
       "      <th>1</th>\n",
       "      <td>5714463</td>\n",
       "      <td>215354</td>\n",
       "      <td>0</td>\n",
       "      <td>0</td>\n",
       "      <td>208</td>\n",
       "      <td>20.0</td>\n",
       "      <td>0.0</td>\n",
       "      <td>0.0</td>\n",
       "      <td>225000.0</td>\n",
       "      <td>171342.0</td>\n",
       "      <td>0.0</td>\n",
       "      <td>0.0</td>\n",
       "      <td>1075.0</td>\n",
       "      <td>897.0</td>\n",
       "      <td>0</td>\n",
       "      <td>0</td>\n",
       "      <td>0</td>\n",
       "      <td>0</td>\n",
       "      <td>0</td>\n",
       "      <td>0</td>\n",
       "      <td>0</td>\n",
       "      <td>0</td>\n",
       "      <td>0</td>\n",
       "      <td>0</td>\n",
       "      <td>0</td>\n",
       "      <td>0</td>\n",
       "      <td>0</td>\n",
       "      <td>0</td>\n",
       "      <td>0</td>\n",
       "      <td>0</td>\n",
       "      <td>0</td>\n",
       "      <td>0</td>\n",
       "      <td>1</td>\n",
       "      <td>0</td>\n",
       "      <td>0</td>\n",
       "      <td>0</td>\n",
       "      <td>0</td>\n",
       "      <td>0</td>\n",
       "      <td>0</td>\n",
       "      <td>0</td>\n",
       "      <td>0</td>\n",
       "      <td>0</td>\n",
       "      <td>0</td>\n",
       "      <td>0.0</td>\n",
       "      <td>3.0</td>\n",
       "      <td>0.0</td>\n",
       "      <td>0.0</td>\n",
       "      <td>0.0</td>\n",
       "      <td>0.0</td>\n",
       "      <td>0.0</td>\n",
       "      <td>0.0</td>\n",
       "      <td>0.0</td>\n",
       "      <td>0.0</td>\n",
       "      <td>0.0</td>\n",
       "      <td>0.0</td>\n",
       "      <td>0.0</td>\n",
       "      <td>0.0</td>\n",
       "      <td>0.0</td>\n",
       "      <td>0.0</td>\n",
       "      <td>0.0</td>\n",
       "      <td>0.0</td>\n",
       "      <td>0.0</td>\n",
       "      <td>0.0</td>\n",
       "      <td>0.0</td>\n",
       "      <td>0.0</td>\n",
       "      <td>0.0</td>\n",
       "      <td>0.0</td>\n",
       "      <td>0.0</td>\n",
       "      <td>0.0</td>\n",
       "      <td>0.0</td>\n",
       "      <td>0.0</td>\n",
       "    </tr>\n",
       "    <tr>\n",
       "      <th>2</th>\n",
       "      <td>5714464</td>\n",
       "      <td>215354</td>\n",
       "      <td>0</td>\n",
       "      <td>0</td>\n",
       "      <td>203</td>\n",
       "      <td>16.0</td>\n",
       "      <td>0.0</td>\n",
       "      <td>0.0</td>\n",
       "      <td>464323.5</td>\n",
       "      <td>0.0</td>\n",
       "      <td>0.0</td>\n",
       "      <td>0.0</td>\n",
       "      <td>528.0</td>\n",
       "      <td>897.0</td>\n",
       "      <td>0</td>\n",
       "      <td>0</td>\n",
       "      <td>0</td>\n",
       "      <td>0</td>\n",
       "      <td>0</td>\n",
       "      <td>0</td>\n",
       "      <td>0</td>\n",
       "      <td>0</td>\n",
       "      <td>0</td>\n",
       "      <td>0</td>\n",
       "      <td>0</td>\n",
       "      <td>0</td>\n",
       "      <td>0</td>\n",
       "      <td>0</td>\n",
       "      <td>0</td>\n",
       "      <td>0</td>\n",
       "      <td>0</td>\n",
       "      <td>1</td>\n",
       "      <td>0</td>\n",
       "      <td>0</td>\n",
       "      <td>0</td>\n",
       "      <td>0</td>\n",
       "      <td>0</td>\n",
       "      <td>0</td>\n",
       "      <td>0</td>\n",
       "      <td>0</td>\n",
       "      <td>0</td>\n",
       "      <td>0</td>\n",
       "      <td>0</td>\n",
       "      <td>0.0</td>\n",
       "      <td>3.0</td>\n",
       "      <td>0.0</td>\n",
       "      <td>0.0</td>\n",
       "      <td>0.0</td>\n",
       "      <td>0.0</td>\n",
       "      <td>0.0</td>\n",
       "      <td>0.0</td>\n",
       "      <td>0.0</td>\n",
       "      <td>0.0</td>\n",
       "      <td>0.0</td>\n",
       "      <td>0.0</td>\n",
       "      <td>0.0</td>\n",
       "      <td>0.0</td>\n",
       "      <td>0.0</td>\n",
       "      <td>0.0</td>\n",
       "      <td>0.0</td>\n",
       "      <td>0.0</td>\n",
       "      <td>0.0</td>\n",
       "      <td>0.0</td>\n",
       "      <td>0.0</td>\n",
       "      <td>0.0</td>\n",
       "      <td>0.0</td>\n",
       "      <td>0.0</td>\n",
       "      <td>0.0</td>\n",
       "      <td>0.0</td>\n",
       "      <td>0.0</td>\n",
       "      <td>0.0</td>\n",
       "    </tr>\n",
       "    <tr>\n",
       "      <th>3</th>\n",
       "      <td>5714465</td>\n",
       "      <td>215354</td>\n",
       "      <td>0</td>\n",
       "      <td>0</td>\n",
       "      <td>203</td>\n",
       "      <td>16.0</td>\n",
       "      <td>0.0</td>\n",
       "      <td>0.0</td>\n",
       "      <td>90000.0</td>\n",
       "      <td>0.0</td>\n",
       "      <td>0.0</td>\n",
       "      <td>0.0</td>\n",
       "      <td>862.0</td>\n",
       "      <td>897.0</td>\n",
       "      <td>0</td>\n",
       "      <td>0</td>\n",
       "      <td>0</td>\n",
       "      <td>0</td>\n",
       "      <td>0</td>\n",
       "      <td>0</td>\n",
       "      <td>0</td>\n",
       "      <td>0</td>\n",
       "      <td>0</td>\n",
       "      <td>0</td>\n",
       "      <td>0</td>\n",
       "      <td>0</td>\n",
       "      <td>0</td>\n",
       "      <td>0</td>\n",
       "      <td>0</td>\n",
       "      <td>0</td>\n",
       "      <td>0</td>\n",
       "      <td>0</td>\n",
       "      <td>1</td>\n",
       "      <td>0</td>\n",
       "      <td>0</td>\n",
       "      <td>0</td>\n",
       "      <td>0</td>\n",
       "      <td>0</td>\n",
       "      <td>0</td>\n",
       "      <td>0</td>\n",
       "      <td>0</td>\n",
       "      <td>0</td>\n",
       "      <td>0</td>\n",
       "      <td>0.0</td>\n",
       "      <td>3.0</td>\n",
       "      <td>0.0</td>\n",
       "      <td>0.0</td>\n",
       "      <td>0.0</td>\n",
       "      <td>0.0</td>\n",
       "      <td>0.0</td>\n",
       "      <td>0.0</td>\n",
       "      <td>0.0</td>\n",
       "      <td>0.0</td>\n",
       "      <td>0.0</td>\n",
       "      <td>0.0</td>\n",
       "      <td>0.0</td>\n",
       "      <td>0.0</td>\n",
       "      <td>0.0</td>\n",
       "      <td>0.0</td>\n",
       "      <td>0.0</td>\n",
       "      <td>0.0</td>\n",
       "      <td>0.0</td>\n",
       "      <td>0.0</td>\n",
       "      <td>0.0</td>\n",
       "      <td>0.0</td>\n",
       "      <td>0.0</td>\n",
       "      <td>0.0</td>\n",
       "      <td>0.0</td>\n",
       "      <td>0.0</td>\n",
       "      <td>0.0</td>\n",
       "      <td>0.0</td>\n",
       "    </tr>\n",
       "    <tr>\n",
       "      <th>4</th>\n",
       "      <td>5714466</td>\n",
       "      <td>215354</td>\n",
       "      <td>0</td>\n",
       "      <td>0</td>\n",
       "      <td>629</td>\n",
       "      <td>21.0</td>\n",
       "      <td>0.0</td>\n",
       "      <td>77674.5</td>\n",
       "      <td>2700000.0</td>\n",
       "      <td>0.0</td>\n",
       "      <td>0.0</td>\n",
       "      <td>0.0</td>\n",
       "      <td>1197.0</td>\n",
       "      <td>897.0</td>\n",
       "      <td>0</td>\n",
       "      <td>0</td>\n",
       "      <td>0</td>\n",
       "      <td>0</td>\n",
       "      <td>0</td>\n",
       "      <td>0</td>\n",
       "      <td>0</td>\n",
       "      <td>0</td>\n",
       "      <td>0</td>\n",
       "      <td>0</td>\n",
       "      <td>0</td>\n",
       "      <td>0</td>\n",
       "      <td>0</td>\n",
       "      <td>0</td>\n",
       "      <td>0</td>\n",
       "      <td>0</td>\n",
       "      <td>0</td>\n",
       "      <td>1</td>\n",
       "      <td>0</td>\n",
       "      <td>0</td>\n",
       "      <td>0</td>\n",
       "      <td>0</td>\n",
       "      <td>0</td>\n",
       "      <td>0</td>\n",
       "      <td>0</td>\n",
       "      <td>0</td>\n",
       "      <td>0</td>\n",
       "      <td>0</td>\n",
       "      <td>0</td>\n",
       "      <td>0.0</td>\n",
       "      <td>3.0</td>\n",
       "      <td>0.0</td>\n",
       "      <td>0.0</td>\n",
       "      <td>0.0</td>\n",
       "      <td>0.0</td>\n",
       "      <td>0.0</td>\n",
       "      <td>0.0</td>\n",
       "      <td>0.0</td>\n",
       "      <td>0.0</td>\n",
       "      <td>0.0</td>\n",
       "      <td>0.0</td>\n",
       "      <td>0.0</td>\n",
       "      <td>0.0</td>\n",
       "      <td>0.0</td>\n",
       "      <td>0.0</td>\n",
       "      <td>0.0</td>\n",
       "      <td>0.0</td>\n",
       "      <td>0.0</td>\n",
       "      <td>0.0</td>\n",
       "      <td>0.0</td>\n",
       "      <td>0.0</td>\n",
       "      <td>0.0</td>\n",
       "      <td>0.0</td>\n",
       "      <td>0.0</td>\n",
       "      <td>0.0</td>\n",
       "      <td>0.0</td>\n",
       "      <td>0.0</td>\n",
       "    </tr>\n",
       "  </tbody>\n",
       "</table>\n",
       "</div>"
      ],
      "text/plain": [
       "  sk_id_bureau sk_id_curr  cnt_credit_prolong  credit_day_overdue  \\\n",
       "0      5714462     215354                   0                   0   \n",
       "1      5714463     215354                   0                   0   \n",
       "2      5714464     215354                   0                   0   \n",
       "3      5714465     215354                   0                   0   \n",
       "4      5714466     215354                   0                   0   \n",
       "\n",
       "   days_credit  days_credit_update  amt_annuity  amt_credit_max_overdue  \\\n",
       "0          497               131.0          0.0                     0.0   \n",
       "1          208                20.0          0.0                     0.0   \n",
       "2          203                16.0          0.0                     0.0   \n",
       "3          203                16.0          0.0                     0.0   \n",
       "4          629                21.0          0.0                 77674.5   \n",
       "\n",
       "   amt_credit_sum  amt_credit_sum_debt  amt_credit_sum_limit  \\\n",
       "0         91323.0                  0.0                   0.0   \n",
       "1        225000.0             171342.0                   0.0   \n",
       "2        464323.5                  0.0                   0.0   \n",
       "3         90000.0                  0.0                   0.0   \n",
       "4       2700000.0                  0.0                   0.0   \n",
       "\n",
       "   amt_credit_sum_overdue  days_credit_enddate  days_enddate_fact  \\\n",
       "0                     0.0                153.0              153.0   \n",
       "1                     0.0               1075.0              897.0   \n",
       "2                     0.0                528.0              897.0   \n",
       "3                     0.0                862.0              897.0   \n",
       "4                     0.0               1197.0              897.0   \n",
       "\n",
       "   days_credit_update_anom  days_credit_enddate_anom  days_enddate_fact_anom  \\\n",
       "0                        0                         0                       0   \n",
       "1                        0                         0                       0   \n",
       "2                        0                         0                       0   \n",
       "3                        0                         0                       0   \n",
       "4                        0                         0                       0   \n",
       "\n",
       "   amt_credit_max_overdue_anom  amt_annuity_anom  amt_credit_sum_anom  \\\n",
       "0                            0                 0                    0   \n",
       "1                            0                 0                    0   \n",
       "2                            0                 0                    0   \n",
       "3                            0                 0                    0   \n",
       "4                            0                 0                    0   \n",
       "\n",
       "   amt_credit_sum_debt_anom  amt_credit_sum_limit_anom  \\\n",
       "0                         0                          0   \n",
       "1                         0                          0   \n",
       "2                         0                          0   \n",
       "3                         0                          0   \n",
       "4                         0                          0   \n",
       "\n",
       "   amt_credit_sum_overdue_anom  credit_active_Bad debt  credit_active_Closed  \\\n",
       "0                            0                       0                     1   \n",
       "1                            0                       0                     0   \n",
       "2                            0                       0                     0   \n",
       "3                            0                       0                     0   \n",
       "4                            0                       0                     0   \n",
       "\n",
       "   credit_active_Sold  credit_currency_currency 2  credit_currency_currency 3  \\\n",
       "0                   0                           0                           0   \n",
       "1                   0                           0                           0   \n",
       "2                   0                           0                           0   \n",
       "3                   0                           0                           0   \n",
       "4                   0                           0                           0   \n",
       "\n",
       "   credit_currency_currency 4  credit_type_Car loan  \\\n",
       "0                           0                     0   \n",
       "1                           0                     0   \n",
       "2                           0                     0   \n",
       "3                           0                     0   \n",
       "4                           0                     0   \n",
       "\n",
       "   credit_type_Cash loan (non-earmarked)  credit_type_Consumer credit  \\\n",
       "0                                      0                            1   \n",
       "1                                      0                            0   \n",
       "2                                      0                            1   \n",
       "3                                      0                            0   \n",
       "4                                      0                            1   \n",
       "\n",
       "   credit_type_Credit card  credit_type_Interbank credit  \\\n",
       "0                        0                             0   \n",
       "1                        1                             0   \n",
       "2                        0                             0   \n",
       "3                        1                             0   \n",
       "4                        0                             0   \n",
       "\n",
       "   credit_type_Loan for business development  \\\n",
       "0                                          0   \n",
       "1                                          0   \n",
       "2                                          0   \n",
       "3                                          0   \n",
       "4                                          0   \n",
       "\n",
       "   credit_type_Loan for purchase of shares (margin lending)  \\\n",
       "0                                                  0          \n",
       "1                                                  0          \n",
       "2                                                  0          \n",
       "3                                                  0          \n",
       "4                                                  0          \n",
       "\n",
       "   credit_type_Loan for the purchase of equipment  \\\n",
       "0                                               0   \n",
       "1                                               0   \n",
       "2                                               0   \n",
       "3                                               0   \n",
       "4                                               0   \n",
       "\n",
       "   credit_type_Loan for working capital replenishment  credit_type_Microloan  \\\n",
       "0                                                  0                       0   \n",
       "1                                                  0                       0   \n",
       "2                                                  0                       0   \n",
       "3                                                  0                       0   \n",
       "4                                                  0                       0   \n",
       "\n",
       "   credit_type_Mobile operator loan  credit_type_Mortgage  \\\n",
       "0                                 0                     0   \n",
       "1                                 0                     0   \n",
       "2                                 0                     0   \n",
       "3                                 0                     0   \n",
       "4                                 0                     0   \n",
       "\n",
       "   credit_type_Real estate loan  credit_type_Unknown type of loan  \\\n",
       "0                             0                                 0   \n",
       "1                             0                                 0   \n",
       "2                             0                                 0   \n",
       "3                             0                                 0   \n",
       "4                             0                                 0   \n",
       "\n",
       "   balance_status_0_lt1yr  balance_status_0_yr1_5  balance_status_0_yr5_10  \\\n",
       "0                     0.0                     3.0                      0.0   \n",
       "1                     0.0                     3.0                      0.0   \n",
       "2                     0.0                     3.0                      0.0   \n",
       "3                     0.0                     3.0                      0.0   \n",
       "4                     0.0                     3.0                      0.0   \n",
       "\n",
       "   balance_status_0_gt10yr  balance_status_1_lt1yr  balance_status_1_yr1_5  \\\n",
       "0                      0.0                     0.0                     0.0   \n",
       "1                      0.0                     0.0                     0.0   \n",
       "2                      0.0                     0.0                     0.0   \n",
       "3                      0.0                     0.0                     0.0   \n",
       "4                      0.0                     0.0                     0.0   \n",
       "\n",
       "   balance_status_1_yr5_10  balance_status_1_gt10yr  balance_status_2_lt1yr  \\\n",
       "0                      0.0                      0.0                     0.0   \n",
       "1                      0.0                      0.0                     0.0   \n",
       "2                      0.0                      0.0                     0.0   \n",
       "3                      0.0                      0.0                     0.0   \n",
       "4                      0.0                      0.0                     0.0   \n",
       "\n",
       "   balance_status_2_yr1_5  balance_status_2_yr5_10  balance_status_2_gt10yr  \\\n",
       "0                     0.0                      0.0                      0.0   \n",
       "1                     0.0                      0.0                      0.0   \n",
       "2                     0.0                      0.0                      0.0   \n",
       "3                     0.0                      0.0                      0.0   \n",
       "4                     0.0                      0.0                      0.0   \n",
       "\n",
       "   balance_status_3_lt1yr  balance_status_3_yr1_5  balance_status_3_yr5_10  \\\n",
       "0                     0.0                     0.0                      0.0   \n",
       "1                     0.0                     0.0                      0.0   \n",
       "2                     0.0                     0.0                      0.0   \n",
       "3                     0.0                     0.0                      0.0   \n",
       "4                     0.0                     0.0                      0.0   \n",
       "\n",
       "   balance_status_3_gt10yr  balance_status_4_lt1yr  balance_status_4_yr1_5  \\\n",
       "0                      0.0                     0.0                     0.0   \n",
       "1                      0.0                     0.0                     0.0   \n",
       "2                      0.0                     0.0                     0.0   \n",
       "3                      0.0                     0.0                     0.0   \n",
       "4                      0.0                     0.0                     0.0   \n",
       "\n",
       "   balance_status_4_yr5_10  balance_status_4_gt10yr  balance_status_5_lt1yr  \\\n",
       "0                      0.0                      0.0                     0.0   \n",
       "1                      0.0                      0.0                     0.0   \n",
       "2                      0.0                      0.0                     0.0   \n",
       "3                      0.0                      0.0                     0.0   \n",
       "4                      0.0                      0.0                     0.0   \n",
       "\n",
       "   balance_status_5_yr1_5  balance_status_5_yr5_10  balance_status_5_gt10yr  \\\n",
       "0                     0.0                      0.0                      0.0   \n",
       "1                     0.0                      0.0                      0.0   \n",
       "2                     0.0                      0.0                      0.0   \n",
       "3                     0.0                      0.0                      0.0   \n",
       "4                     0.0                      0.0                      0.0   \n",
       "\n",
       "   balance_status_C_lt1yr  balance_status_C_yr1_5  balance_status_C_yr5_10  \\\n",
       "0                     0.0                     0.0                      0.0   \n",
       "1                     0.0                     0.0                      0.0   \n",
       "2                     0.0                     0.0                      0.0   \n",
       "3                     0.0                     0.0                      0.0   \n",
       "4                     0.0                     0.0                      0.0   \n",
       "\n",
       "   balance_status_C_gt10yr  \n",
       "0                      0.0  \n",
       "1                      0.0  \n",
       "2                      0.0  \n",
       "3                      0.0  \n",
       "4                      0.0  "
      ]
     },
     "execution_count": 74,
     "metadata": {},
     "output_type": "execute_result"
    }
   ],
   "source": [
    "bureau_mrgd.head()"
   ]
  },
  {
   "cell_type": "code",
   "execution_count": 75,
   "metadata": {
    "collapsed": true
   },
   "outputs": [],
   "source": [
    "bureau_mrgd.to_csv('clean_data/bureau_mrgd.csv', index=False)"
   ]
  },
  {
   "cell_type": "code",
   "execution_count": null,
   "metadata": {
    "collapsed": true
   },
   "outputs": [],
   "source": []
  },
  {
   "cell_type": "code",
   "execution_count": null,
   "metadata": {
    "collapsed": true
   },
   "outputs": [],
   "source": []
  },
  {
   "cell_type": "code",
   "execution_count": null,
   "metadata": {
    "collapsed": true
   },
   "outputs": [],
   "source": []
  },
  {
   "cell_type": "code",
   "execution_count": null,
   "metadata": {
    "collapsed": true
   },
   "outputs": [],
   "source": []
  }
 ],
 "metadata": {
  "kernelspec": {
   "display_name": "Python 3",
   "language": "python",
   "name": "python3"
  },
  "language_info": {
   "codemirror_mode": {
    "name": "ipython",
    "version": 3
   },
   "file_extension": ".py",
   "mimetype": "text/x-python",
   "name": "python",
   "nbconvert_exporter": "python",
   "pygments_lexer": "ipython3",
   "version": "3.6.1"
  }
 },
 "nbformat": 4,
 "nbformat_minor": 2
}
